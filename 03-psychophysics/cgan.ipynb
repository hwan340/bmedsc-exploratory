{
 "cells": [
  {
   "cell_type": "markdown",
   "metadata": {},
   "source": [
    "# Description"
   ]
  },
  {
   "cell_type": "markdown",
   "metadata": {},
   "source": [
    "In this conditional GAN:\n",
    "\n",
    "1. The encoder will take a 110-element vector (a 100-element noise vector concatenated with a one-hot 10-depth vector indicating a digit class) and output a one-dimensional vector with a size equal to the number of phosphenes in the grid to be tested.\n",
    "\n",
    "2. The decoder will take a 3-dimensional matrix (a rendered 2D image with a replicated one-hot 10-depth vector indicating a digit class, concatenated on the last axis) and output a binary class indicating whether it believes the digit is fake or not. "
   ]
  },
  {
   "cell_type": "markdown",
   "metadata": {},
   "source": [
    "# Imports"
   ]
  },
  {
   "cell_type": "code",
   "execution_count": 1,
   "metadata": {},
   "outputs": [],
   "source": [
    "import matplotlib.pyplot as plt\n",
    "import numpy as np\n",
    "import pandas as pd\n",
    "import tensorflow as tf\n",
    "import cv2\n",
    "import time\n",
    "import glob\n",
    "import PIL\n",
    "import pickle\n",
    "from datetime import datetime\n",
    "from tensorflow.keras import layers, Sequential, Model\n",
    "from tensorflow.keras.layers import * \n",
    "from matplotlib.backends.backend_agg import FigureCanvasAgg as FigureCanvas\n",
    "from scipy.ndimage import gaussian_filter\n",
    "from IPython import display"
   ]
  },
  {
   "cell_type": "code",
   "execution_count": 2,
   "metadata": {},
   "outputs": [
    {
     "name": "stderr",
     "output_type": "stream",
     "text": [
      "Using TensorFlow backend.\n"
     ]
    }
   ],
   "source": [
    "from phosphenes import *"
   ]
  },
  {
   "cell_type": "markdown",
   "metadata": {},
   "source": [
    "#  Initialising a Grid\n"
   ]
  },
  {
   "cell_type": "markdown",
   "metadata": {},
   "source": [
    "These parameters set the grid for testing."
   ]
  },
  {
   "cell_type": "code",
   "execution_count": 10,
   "metadata": {},
   "outputs": [],
   "source": [
    "gridType= DistortedPolarGrid\n",
    "gridParam1 = 8\n",
    "gridParam2 = 8\n",
    "gridVectorLength = gridParam1 * gridParam2\n",
    "renderSize1 = 48\n",
    "renderSize2 = 48"
   ]
  },
  {
   "cell_type": "markdown",
   "metadata": {},
   "source": [
    "We then initialise the grid."
   ]
  },
  {
   "cell_type": "code",
   "execution_count": 11,
   "metadata": {},
   "outputs": [],
   "source": [
    "grid = gridType(gridParam1, gridParam2, renderSize1, renderSize2)"
   ]
  },
  {
   "cell_type": "markdown",
   "metadata": {},
   "source": [
    "Here is a plot depicting the relative locations and sizes of phosphenes on the grid."
   ]
  },
  {
   "cell_type": "code",
   "execution_count": 12,
   "metadata": {},
   "outputs": [
    {
     "data": {
      "text/plain": [
       "<matplotlib.image.AxesImage at 0x228ee202d30>"
      ]
     },
     "execution_count": 12,
     "metadata": {},
     "output_type": "execute_result"
    },
    {
     "data": {
      "image/png": "[encoded data removed]",
      "text/plain": [
       "<Figure size 432x288 with 1 Axes>"
      ]
     },
     "metadata": {
      "needs_background": "light"
     },
     "output_type": "display_data"
    }
   ],
   "source": [
    "plt.imshow(grid.show_locations(), cmap='gray', vmin=0, vmax=1)"
   ]
  },
  {
   "cell_type": "markdown",
   "metadata": {},
   "source": [
    "And here is a plot depicting the grid with all the phosphenes on at a brightness of 1 (the maximum brightness expected to be input into the renderer)."
   ]
  },
  {
   "cell_type": "code",
   "execution_count": 13,
   "metadata": {},
   "outputs": [
    {
     "data": {
      "text/plain": [
       "<matplotlib.image.AxesImage at 0x228ee615278>"
      ]
     },
     "execution_count": 13,
     "metadata": {},
     "output_type": "execute_result"
    },
    {
     "data": {
      "image/png": "[encoded data removed]",
      "text/plain": [
       "<Figure size 432x288 with 1 Axes>"
      ]
     },
     "metadata": {
      "needs_background": "light"
     },
     "output_type": "display_data"
    }
   ],
   "source": [
    "plt.imshow(grid.render(np.array([1 for i in range(gridVectorLength)])), cmap='gray', vmin=-1, vmax=1)"
   ]
  },
  {
   "cell_type": "markdown",
   "metadata": {},
   "source": [
    "To visualise what the directly processed images look like, we first make a convenience function for generating digit images below."
   ]
  },
  {
   "cell_type": "code",
   "execution_count": 14,
   "metadata": {
    "code_folding": [
     0
    ]
   },
   "outputs": [],
   "source": [
    "def digit_to_image(digit : int, xpos : float, ypos : float):\n",
    "    \n",
    "    # Create a figure\n",
    "    fig = plt.figure(figsize=(1,1))\n",
    "    canvas = FigureCanvas(fig)\n",
    "    ax = plt.gca()\n",
    "    \n",
    "    # Remove axes and labels\n",
    "    fig.patch.set_facecolor('black')\n",
    "    plt.axis('off')\n",
    "    ax.xaxis.set_major_locator(plt.NullLocator())\n",
    "    ax.yaxis.set_major_locator(plt.NullLocator())\n",
    "    ax.xaxis.set_visible(False)\n",
    "    ax.yaxis.set_visible(False)\n",
    "    \n",
    "    # Tighten \n",
    "    plt.subplots_adjust(top = 1, bottom = 0, right = 1, left = 0, hspace = 0, wspace = 0)\n",
    "\n",
    "    # Plot text\n",
    "    plt.text(xpos, ypos, str(int(digit)),\n",
    "             size=48,\n",
    "             color='white',\n",
    "             clip_box=ax.clipbox,\n",
    "             clip_on=True,\n",
    "             horizontalalignment = 'center',\n",
    "             verticalalignment = 'center',\n",
    "             linespacing = 0,\n",
    "             transform=ax.transAxes)\n",
    "    \n",
    "    # Draw canvas\n",
    "    canvas.draw()\n",
    "    \n",
    "    # Convert to numpy buffer\n",
    "    width, height = fig.get_size_inches() * fig.get_dpi()\n",
    "    image = np.frombuffer(canvas.tostring_rgb(), dtype='uint8').reshape(int(height), int(width), 3)\n",
    "    image = (image - 127.5) / 127.5\n",
    "    \n",
    "    # Close figure\n",
    "    plt.close(fig)\n",
    "    \n",
    "    # Resize\n",
    "    resized = cv2.resize(image, dsize=(renderSize1, renderSize2)).astype(np.float32)\n",
    "    \n",
    "    return resized"
   ]
  },
  {
   "cell_type": "markdown",
   "metadata": {},
   "source": [
    "This function returns 2D images with values in the range [-1, 1]."
   ]
  },
  {
   "cell_type": "markdown",
   "metadata": {},
   "source": [
    "Here's the original digits (deviated to the right to accommodate the fact that the output renders will only show in the right hemisphere)."
   ]
  },
  {
   "cell_type": "code",
   "execution_count": 15,
   "metadata": {},
   "outputs": [
    {
     "data": {
      "image/png": "[encoded data removed]",
      "text/plain": [
       "<Figure size 360x216 with 10 Axes>"
      ]
     },
     "metadata": {
      "needs_background": "light"
     },
     "output_type": "display_data"
    }
   ],
   "source": [
    "# Create the figure\n",
    "fig = plt.figure(figsize=(5,3))\n",
    "\n",
    "# Loop through the digits\n",
    "for i in range(10):\n",
    "    plt.subplot(2, 5, i+1)\n",
    "    stimulus = Stimulus(digit_to_image(i, 0.7, 0.45), grid)\n",
    "    plt.imshow((digit_to_image(i, 0.7, 0.45) + 1) / 2)\n",
    "    plt.title(i)\n",
    "    plt.axis('off')"
   ]
  },
  {
   "cell_type": "markdown",
   "metadata": {},
   "source": [
    "And here they are when processed with the direct renderer for this grid."
   ]
  },
  {
   "cell_type": "code",
   "execution_count": 16,
   "metadata": {
    "scrolled": false
   },
   "outputs": [
    {
     "data": {
      "text/plain": [
       "Text(0.5, 0.98, 'Comparison (Direct, Brightness-Based)')"
      ]
     },
     "execution_count": 16,
     "metadata": {},
     "output_type": "execute_result"
    },
    {
     "data": {
      "image/png": "[encoded data removed]",
      "text/plain": [
       "<Figure size 360x216 with 10 Axes>"
      ]
     },
     "metadata": {
      "needs_background": "light"
     },
     "output_type": "display_data"
    }
   ],
   "source": [
    "# COMPARISON\n",
    "fig = plt.figure(figsize=(5,3))\n",
    "\n",
    "for i in range(10):\n",
    "    plt.subplot(2, 5, i+1)\n",
    "    stimulus = Stimulus(digit_to_image(i, 0.7, 0.45), grid)\n",
    "    plt.imshow(grid.render(stimulus.vector), cmap='gray', vmin=-1, vmax=1)\n",
    "    plt.title(i)\n",
    "    plt.axis('off')\n",
    "\n",
    "plt.suptitle(f\"Comparison (Direct, Brightness-Based)\")"
   ]
  },
  {
   "cell_type": "markdown",
   "metadata": {},
   "source": [
    "We also define a wrapper around `grid.render_tensor`."
   ]
  },
  {
   "cell_type": "markdown",
   "metadata": {},
   "source": [
    "# Preprocessing the Real Data"
   ]
  },
  {
   "cell_type": "markdown",
   "metadata": {},
   "source": [
    "To train the decoder, we will have it distinguish between \"real\" digit images, and \"fake\" (i.e. the encoded) digit images."
   ]
  },
  {
   "cell_type": "markdown",
   "metadata": {},
   "source": [
    "The real digit images we will use are the MNIST digits. We will have to translate and rescale them to accommodate the grids we are using for the phosphenes. "
   ]
  },
  {
   "cell_type": "markdown",
   "metadata": {},
   "source": [
    "First, we load the digit data."
   ]
  },
  {
   "cell_type": "code",
   "execution_count": 302,
   "metadata": {},
   "outputs": [],
   "source": [
    "(train_images, train_labels), (test_images, test_labels) = tf.keras.datasets.mnist.load_data()"
   ]
  },
  {
   "cell_type": "markdown",
   "metadata": {},
   "source": [
    "Here's the first image."
   ]
  },
  {
   "cell_type": "code",
   "execution_count": 303,
   "metadata": {},
   "outputs": [
    {
     "data": {
      "text/plain": [
       "<matplotlib.image.AxesImage at 0x1d3be69ce48>"
      ]
     },
     "execution_count": 303,
     "metadata": {},
     "output_type": "execute_result"
    },
    {
     "data": {
      "image/png": "[encoded data removed]",
      "text/plain": [
       "<Figure size 432x288 with 1 Axes>"
      ]
     },
     "metadata": {
      "needs_background": "light"
     },
     "output_type": "display_data"
    }
   ],
   "source": [
    "plt.imshow(train_images[0], cmap='gray')"
   ]
  },
  {
   "cell_type": "markdown",
   "metadata": {},
   "source": [
    "Next, we determine their shape (the first dimension indicates how much data we have). "
   ]
  },
  {
   "cell_type": "code",
   "execution_count": 304,
   "metadata": {},
   "outputs": [],
   "source": [
    "num_real, original_y, original_x = train_images.shape"
   ]
  },
  {
   "cell_type": "markdown",
   "metadata": {},
   "source": [
    "Below is a convenience function to process these images so that:\n",
    "    \n",
    "1. Their values are scaled between -1 and 1 (as opposed to 0 to 255 as they are now)\n",
    "2. They are translated towards the right to accommodate the half-grid of phosphenes\n",
    "3. They are scaled up in size to match the dimensions of the encoder renders"
   ]
  },
  {
   "cell_type": "code",
   "execution_count": 305,
   "metadata": {
    "code_folding": []
   },
   "outputs": [],
   "source": [
    "def process_images(images):\n",
    "    \n",
    "    # Upscale only to 80% of the render, to leave some padding around the digit\n",
    "    up_x, up_y = int(renderSize1 * (3/4)), int(renderSize2 * (3/4))\n",
    "    pad_y = (renderSize1 - up_y) // 2\n",
    "    pad_x = (renderSize2 - up_x) // 2\n",
    "    pad_widths = ((pad_y, pad_y), (pad_x, pad_x))\n",
    "\n",
    "    processed = np.array([\n",
    "        np.roll(\n",
    "            \n",
    "            # Pad and resize up to the render dimensions\n",
    "            np.pad(\n",
    "                cv2.resize(\n",
    "                    image, \n",
    "                    dsize=(up_y, up_x)\n",
    "                ), \n",
    "                pad_widths,\n",
    "                'constant',\n",
    "                constant_values=0\n",
    "            ),\n",
    "            \n",
    "            # Shift along the X-axis to the right\n",
    "            shift=(renderSize2 // 5),\n",
    "            axis=1,\n",
    "            \n",
    "        )\n",
    "        for image in train_images\n",
    "    ])\n",
    "    \n",
    "    # Scale the values from 0-255 to -1-1\n",
    "    processed = (processed - 127.5) / 127.5\n",
    "    \n",
    "    return processed"
   ]
  },
  {
   "cell_type": "markdown",
   "metadata": {},
   "source": [
    "We then process both the training images and the test images."
   ]
  },
  {
   "cell_type": "code",
   "execution_count": 306,
   "metadata": {},
   "outputs": [],
   "source": [
    "train_images = process_images(train_images)"
   ]
  },
  {
   "cell_type": "markdown",
   "metadata": {},
   "source": [
    "These aren't perfectly aligned, but it will do. (The MNIST digits are not bounding boxed, so there are some heuristic compromises in the code above). "
   ]
  },
  {
   "cell_type": "markdown",
   "metadata": {},
   "source": [
    "Here's an example of some of the digits."
   ]
  },
  {
   "cell_type": "code",
   "execution_count": 307,
   "metadata": {},
   "outputs": [
    {
     "data": {
      "image/png": "[encoded data removed]",
      "text/plain": [
       "<Figure size 720x72 with 10 Axes>"
      ]
     },
     "metadata": {
      "needs_background": "light"
     },
     "output_type": "display_data"
    }
   ],
   "source": [
    "fig, ax = plt.subplots(1, 10, figsize=(10,1))\n",
    "\n",
    "for i in range(10):\n",
    "    ax[i].imshow(train_images[i], cmap='gray')\n",
    "    ax[i].axis('off')"
   ]
  },
  {
   "cell_type": "markdown",
   "metadata": {},
   "source": [
    "It will be useful to make the decoder's job a little harder to distinguish the real digits from the fake digits, given that the encoder will never be able to produce clean digits with certain grid configurations. Here's a function that will add random dropout and Gaussian blur to the real digits. Some proportion of the time, the original images should be returned."
   ]
  },
  {
   "cell_type": "code",
   "execution_count": 308,
   "metadata": {},
   "outputs": [],
   "source": [
    "@tf.function\n",
    "def gauss2d(sigma, truncate=3.0):\n",
    "    radius = tf.cast(sigma * truncate, tf.int32)\n",
    "    x = tf.cast(tf.range(-radius, radius + 1), tf.float32)\n",
    "    k = tf.exp(-0.5 * tf.square(x / sigma))\n",
    "    k = k / tf.reduce_sum(k)\n",
    "    return tf.expand_dims(k, 1) * k"
   ]
  },
  {
   "cell_type": "code",
   "execution_count": 309,
   "metadata": {
    "code_folding": []
   },
   "outputs": [],
   "source": [
    "@tf.function\n",
    "def add_dropout(images):\n",
    "    \n",
    "    min_dropout_unit = 2\n",
    "    max_dropout_unit = 4\n",
    "    num_dropout_unit = max_dropout_unit - min_dropout_unit + 1\n",
    "    \n",
    "    # A small proportion of the time, do not modify the images\n",
    "    if tf.random.uniform((1,), dtype=tf.float32)[0] < (1 / (num_dropout_unit + 1)):\n",
    "        return images\n",
    "    \n",
    "    # Else, modify the images\n",
    "    else:\n",
    "        unit_divisor = tf.random.uniform((1,), min_dropout_unit, max_dropout_unit, tf.int32)[0]\n",
    "        kernel_width = tf.random.uniform((1,), 2, 4, tf.float32)[0]\n",
    "        kernel = tf.expand_dims(gauss2d(kernel_width), -1)\n",
    "\n",
    "        # Create a batch of random masks\n",
    "        mask = tf.random.uniform((len(images),\n",
    "                                  renderSize1 // unit_divisor,\n",
    "                                  renderSize2 // unit_divisor),\n",
    "                                  minval=0,\n",
    "                                  maxval=2,\n",
    "                                  dtype=tf.int32)\n",
    "        mask = tf.dtypes.cast(mask, tf.float32)\n",
    "\n",
    "        # Expand the dimensions of the mask \n",
    "        expanded = tf.expand_dims(mask, -1)\n",
    "        resized = tf.image.resize(expanded, (renderSize1, renderSize2))\n",
    "        squeezed = tf.squeeze(resized)\n",
    "\n",
    "        # Rescale image if source is -1 to 1\n",
    "        rescaled = (images + 1) / 2\n",
    "\n",
    "        # Masked\n",
    "        masked = rescaled * squeezed\n",
    "\n",
    "        # Blurred\n",
    "        blurred = tf.nn.conv2d(tf.expand_dims(masked, -1),\n",
    "                               tf.expand_dims(kernel, -1),\n",
    "                               strides=[1,1,1,1],\n",
    "                               padding='SAME')\n",
    "\n",
    "        blurred = tf.squeeze(blurred)\n",
    "\n",
    "        # Scale back to between -1 and 1\n",
    "        maxval = tf.reduce_max(blurred)\n",
    "        minval = tf.reduce_min(blurred)\n",
    "\n",
    "        return (((blurred - minval) / maxval) * 2) - 1\n",
    "        "
   ]
  },
  {
   "cell_type": "markdown",
   "metadata": {},
   "source": [
    "Here's a test of the dropout on the first ten training images."
   ]
  },
  {
   "cell_type": "code",
   "execution_count": 316,
   "metadata": {
    "scrolled": true
   },
   "outputs": [
    {
     "data": {
      "image/png": "[encoded data removed]",
      "text/plain": [
       "<Figure size 720x72 with 10 Axes>"
      ]
     },
     "metadata": {
      "needs_background": "light"
     },
     "output_type": "display_data"
    }
   ],
   "source": [
    "train_images_slice = add_dropout(tf.cast(train_images[:10], tf.float32))\n",
    "\n",
    "fig, ax = plt.subplots(1, 10, figsize=(10,1))\n",
    "\n",
    "for i in range(10):\n",
    "    ax[i].imshow(train_images_slice[i], cmap='gray')\n",
    "    ax[i].axis('off')"
   ]
  },
  {
   "cell_type": "markdown",
   "metadata": {},
   "source": [
    "For efficiency, each batch of processed images will have the same dropout radius, but the dropout radius for the batch is randomised."
   ]
  },
  {
   "cell_type": "markdown",
   "metadata": {},
   "source": [
    "# Creating an Encoder"
   ]
  },
  {
   "cell_type": "code",
   "execution_count": 383,
   "metadata": {},
   "outputs": [],
   "source": [
    "SEED_SIZE = 32"
   ]
  },
  {
   "cell_type": "code",
   "execution_count": 384,
   "metadata": {},
   "outputs": [],
   "source": [
    "# def make_encoder():\n",
    "\n",
    "    \n",
    "#     # Input labels\n",
    "#     in_labels       = Input(shape=(10,))\n",
    "    \n",
    "#     # Layers for labels\n",
    "#     #l_labels        = Embedding(10, 32)(in_labels)\n",
    "#     #l_labels        = Flatten()(l_labels)\n",
    "#     #l_labels        = Dense(gridVectorLength // 4)(in_labels)\n",
    "    \n",
    "#     # Concatenate\n",
    "#     #concat          = Concatenate()([l_noise, l_labels])\n",
    "#     #concat          = Flatten()(concat)\n",
    "#     #concat          = Dense(gridVectorLength // 2)(concat)\n",
    "#     #concat          = LeakyReLU()(concat)\n",
    "#     concat          = Dense(gridVectorLength, activation=tf.nn.sigmoid)(in_labels)\n",
    "    \n",
    "#     # Model\n",
    "#     model           = Model([in_labels], concat)\n",
    "    \n",
    "#     return model"
   ]
  },
  {
   "cell_type": "code",
   "execution_count": 385,
   "metadata": {},
   "outputs": [],
   "source": [
    "def make_encoder():\n",
    "\n",
    "    # Input noise\n",
    "    in_noise        = Input(shape=(SEED_SIZE,))\n",
    "    \n",
    "    # Layers for noise\n",
    "    l_noise         = Dense(gridVectorLength // 4)(in_noise)\n",
    "    l_noise         = BatchNormalization()(l_noise)\n",
    "    l_noise         = LeakyReLU()(l_noise)\n",
    "    \n",
    "    # Input labels\n",
    "    in_labels       = Input(shape=(1,))\n",
    "    \n",
    "    # Layers for labels\n",
    "    l_labels        = Embedding(10, gridVectorLength // 4)(in_labels)\n",
    "    l_labels        = Flatten()(l_labels)\n",
    "    l_labels        = BatchNormalization()(l_labels)\n",
    "    l_labels        = LeakyReLU()(l_labels)\n",
    "    #l_labels        = Dense(gridVectorLength // 4)(l_labels)\n",
    "    \n",
    "    # Concatenate\n",
    "    concat          = Concatenate()([l_noise, l_labels])\n",
    "    concat          = Flatten()(concat)\n",
    "    #concat          = Dense(gridVectorLength // 2)(concat)\n",
    "    #concat          = LeakyReLU()(concat)\n",
    "    #concat          = Concatenate()([concat, l_labels])\n",
    "    #concat          = Dense(gridVectorLength // 2)(concat)\n",
    "    #concat          = LeakyReLU()(concat)\n",
    "    #concat          = Concatenate()([concat, l_labels])\n",
    "    concat          = Dense(gridVectorLength, activation=tf.nn.sigmoid)(concat)\n",
    "    \n",
    "    # Model\n",
    "    model           = Model([in_noise, in_labels], concat)\n",
    "    \n",
    "    return model"
   ]
  },
  {
   "cell_type": "code",
   "execution_count": 386,
   "metadata": {},
   "outputs": [],
   "source": [
    "encoder = make_encoder()"
   ]
  },
  {
   "cell_type": "markdown",
   "metadata": {},
   "source": [
    "Below is a convenience function that will take a tensor of digit labels and convert it into a noise vector concatenated with a one-hot encoded class. "
   ]
  },
  {
   "cell_type": "code",
   "execution_count": 387,
   "metadata": {},
   "outputs": [],
   "source": [
    "@tf.function\n",
    "def make_inputs(labels):\n",
    "    \n",
    "    batch_size = len(labels)\n",
    "    \n",
    "    noise = tf.random.uniform((batch_size, SEED_SIZE))\n",
    "    one_hot = tf.one_hot(labels, depth=10, dtype=tf.float32)\n",
    "    \n",
    "    return (noise, one_hot)"
   ]
  },
  {
   "cell_type": "code",
   "execution_count": 388,
   "metadata": {},
   "outputs": [],
   "source": [
    "# @tf.function\n",
    "# def make_inputs(labels):\n",
    "    \n",
    "#     batch_size = len(labels)\n",
    "    \n",
    "#     #noise = tf.random.uniform((batch_size, SEED_SIZE))\n",
    "#     one_hot = tf.one_hot(labels, depth=10, dtype=tf.float32)\n",
    "    \n",
    "#     return one_hot"
   ]
  },
  {
   "cell_type": "markdown",
   "metadata": {},
   "source": [
    "Here's an example of the encoder without any training."
   ]
  },
  {
   "cell_type": "code",
   "execution_count": 389,
   "metadata": {},
   "outputs": [],
   "source": [
    "test_labels = tf.convert_to_tensor(np.array([random.randint(0, 9) for i in range(100)]))"
   ]
  },
  {
   "cell_type": "code",
   "execution_count": 390,
   "metadata": {},
   "outputs": [],
   "source": [
    "test_seeds, test_one_hot = make_inputs(test_labels)"
   ]
  },
  {
   "cell_type": "code",
   "execution_count": 391,
   "metadata": {
    "scrolled": true
   },
   "outputs": [
    {
     "data": {
      "text/plain": [
       "<matplotlib.image.AxesImage at 0x1d3d79f6d68>"
      ]
     },
     "execution_count": 391,
     "metadata": {},
     "output_type": "execute_result"
    },
    {
     "data": {
      "image/png": "[encoded data removed]",
      "text/plain": [
       "<Figure size 432x288 with 1 Axes>"
      ]
     },
     "metadata": {
      "needs_background": "light"
     },
     "output_type": "display_data"
    }
   ],
   "source": [
    "plt.imshow(\n",
    "    grid.render_tensor(encoder((test_seeds, test_labels))[0].numpy()),\n",
    "    cmap='gray',\n",
    "    vmin=-1,\n",
    "    vmax=1\n",
    ")"
   ]
  },
  {
   "cell_type": "markdown",
   "metadata": {},
   "source": [
    "We'll set the loss of the encoder to a binary cross entropy between the decoder's judgement of the encoded images, and a vector full of ones. The encoder should be aiming to get the decoder to judge it's outputs as 1s."
   ]
  },
  {
   "cell_type": "code",
   "execution_count": 392,
   "metadata": {},
   "outputs": [],
   "source": [
    "# cross_entropy = tf.keras.losses.BinaryCrossentropy()"
   ]
  },
  {
   "cell_type": "code",
   "execution_count": 393,
   "metadata": {},
   "outputs": [],
   "source": [
    "# def encoder_loss(decoded_fake):\n",
    "#     loss = cross_entropy(tf.ones_like(decoded_fake), decoded_fake)\n",
    "#     return loss"
   ]
  },
  {
   "cell_type": "code",
   "execution_count": 394,
   "metadata": {},
   "outputs": [],
   "source": [
    "cross_entropy = tf.keras.losses.CategoricalCrossentropy()"
   ]
  },
  {
   "cell_type": "code",
   "execution_count": 395,
   "metadata": {},
   "outputs": [],
   "source": [
    "def encoder_loss(real_labels, decoded_fake):\n",
    "    real_one_hot = tf.one_hot(real_labels, depth=11)\n",
    "    loss = cross_entropy(real_one_hot, decoded_fake)\n",
    "    return loss"
   ]
  },
  {
   "cell_type": "markdown",
   "metadata": {},
   "source": [
    "And we'll set the optimiser to `Adam`."
   ]
  },
  {
   "cell_type": "code",
   "execution_count": 396,
   "metadata": {},
   "outputs": [],
   "source": [
    "encoder_optimizer = tf.keras.optimizers.Adam(learning_rate=1e-4)"
   ]
  },
  {
   "cell_type": "markdown",
   "metadata": {},
   "source": [
    "# Creating a Decoder"
   ]
  },
  {
   "cell_type": "code",
   "execution_count": 397,
   "metadata": {},
   "outputs": [],
   "source": [
    "def make_decoder():\n",
    "    \n",
    "    # Image input\n",
    "    in_images     = Input(shape=(renderSize1, renderSize2))\n",
    "    l_images      = Reshape((renderSize1, renderSize2, 1))(in_images)\n",
    "    \n",
    "    # Convolution\n",
    "    concat        = Conv2D(64, (8,8), padding='same', strides=(2,2))(l_images)\n",
    "    concat        = LeakyReLU()(concat)\n",
    "    concat        = Dropout(0.25)(concat)\n",
    "    \n",
    "    concat        = Conv2D(128, (4,4), padding='same', strides=(2,2))(concat)\n",
    "    concat        = LeakyReLU()(concat)\n",
    "    concat        = Dropout(0.25)(concat)\n",
    "    \n",
    "    concat        = Flatten()(concat)\n",
    "    concat        = Dense(11, activation=tf.nn.softmax)(concat)\n",
    "    \n",
    "    # Model \n",
    "    model         = Model([in_images], concat)\n",
    "    \n",
    "    return model    "
   ]
  },
  {
   "cell_type": "code",
   "execution_count": 398,
   "metadata": {},
   "outputs": [],
   "source": [
    "# def make_decoder():\n",
    "    \n",
    "#     # Image input\n",
    "#     in_images     = Input(shape=(renderSize1, renderSize2))\n",
    "#     l_images      = Reshape((renderSize1, renderSize2, 1))(in_images)\n",
    "    \n",
    "#     # Digit label input\n",
    "#     in_labels     = Input(shape=(10,))\n",
    "#     l_labels      = Embedding(10, 32)(in_labels)\n",
    "#     l_labels      = Flatten()(l_labels)\n",
    "#     l_labels      = BatchNormalization()(l_labels)\n",
    "#     l_labels      = LeakyReLU()(l_labels)\n",
    "    \n",
    "#     l_labels      = Dense(renderSize1 * renderSize2)(in_labels)\n",
    "#     l_labels      = BatchNormalization()(l_labels)\n",
    "#     l_labels      = LeakyReLU()(l_labels)\n",
    "#     l_labels      = Reshape((renderSize1, renderSize2, 1))(l_labels)\n",
    "    \n",
    "#     # Concatenated\n",
    "#     concat        = Concatenate()([l_images, l_labels])\n",
    "    \n",
    "#     # Convolution\n",
    "#     concat        = Conv2D(64, (8,8), padding='same', strides=(2,2))(concat)\n",
    "#     concat        = LeakyReLU()(concat)\n",
    "#     concat        = Dropout(0.25)(concat)\n",
    "    \n",
    "#     concat        = Conv2D(128, (4,4), padding='same', strides=(2,2))(concat)\n",
    "#     concat        = LeakyReLU()(concat)\n",
    "#     concat        = Dropout(0.25)(concat)\n",
    "    \n",
    "#     concat        = Flatten()(concat)\n",
    "#     concat        = Dense(1, activation=tf.nn.sigmoid)(concat)\n",
    "    \n",
    "#     # Model \n",
    "#     model         = Model([in_images, in_labels], concat)\n",
    "    \n",
    "#     return model    "
   ]
  },
  {
   "cell_type": "code",
   "execution_count": 399,
   "metadata": {},
   "outputs": [],
   "source": [
    "decoder = make_decoder()"
   ]
  },
  {
   "cell_type": "markdown",
   "metadata": {},
   "source": [
    "Here's an example:"
   ]
  },
  {
   "cell_type": "code",
   "execution_count": 400,
   "metadata": {},
   "outputs": [],
   "source": [
    "test_images = tf.map_fn(lambda x: grid.render_tensor(x.numpy()), encoder((test_seeds, test_labels)))"
   ]
  },
  {
   "cell_type": "code",
   "execution_count": 401,
   "metadata": {},
   "outputs": [],
   "source": [
    "test_one_hot = tf.one_hot(test_labels, depth=10, dtype=tf.float32)"
   ]
  },
  {
   "cell_type": "code",
   "execution_count": 402,
   "metadata": {},
   "outputs": [],
   "source": [
    "# decoder([test_images, test_one_hot])[:5]"
   ]
  },
  {
   "cell_type": "code",
   "execution_count": 403,
   "metadata": {},
   "outputs": [
    {
     "data": {
      "text/plain": [
       "<tf.Tensor: id=199071, shape=(5, 11), dtype=float32, numpy=\n",
       "array([[0.09321417, 0.08918592, 0.10150988, 0.09545121, 0.09330951,\n",
       "        0.08867894, 0.09536491, 0.08072003, 0.08569451, 0.09367754,\n",
       "        0.08319343],\n",
       "       [0.09327257, 0.08868989, 0.10149746, 0.09531663, 0.09300855,\n",
       "        0.08891851, 0.0954737 , 0.08136081, 0.08549827, 0.09370626,\n",
       "        0.08325727],\n",
       "       [0.09308431, 0.088546  , 0.10127635, 0.09514463, 0.09386107,\n",
       "        0.08903626, 0.09524582, 0.0811578 , 0.08556794, 0.09373125,\n",
       "        0.08334863],\n",
       "       [0.09311677, 0.08900565, 0.10136262, 0.09534019, 0.09327946,\n",
       "        0.088756  , 0.09541316, 0.08108875, 0.08570872, 0.09370506,\n",
       "        0.08322368],\n",
       "       [0.09313806, 0.08876689, 0.10138883, 0.095209  , 0.09318172,\n",
       "        0.08903942, 0.0952143 , 0.08115745, 0.08570279, 0.09385352,\n",
       "        0.08334809]], dtype=float32)>"
      ]
     },
     "execution_count": 403,
     "metadata": {},
     "output_type": "execute_result"
    }
   ],
   "source": [
    "decoder([test_images])[:5]"
   ]
  },
  {
   "cell_type": "markdown",
   "metadata": {},
   "source": [
    "The decoder loss is also a binary cross entropy. It should try to classify all the real images as real (i.e. 1s) and all the fake images as fake (i.e. 0s). "
   ]
  },
  {
   "cell_type": "code",
   "execution_count": 404,
   "metadata": {},
   "outputs": [],
   "source": [
    "# def decoder_loss(decoded_real, decoded_fake):\n",
    "        \n",
    "#     real_loss = cross_entropy(tf.ones_like(decoded_real), decoded_real)\n",
    "#     fake_loss = cross_entropy(tf.zeros_like(decoded_fake), decoded_fake)\n",
    "#     loss = real_loss + fake_loss\n",
    "    \n",
    "#     return loss"
   ]
  },
  {
   "cell_type": "code",
   "execution_count": 405,
   "metadata": {},
   "outputs": [],
   "source": [
    "def decoder_loss(real_labels, decoded_real, decoded_fake):\n",
    "    \n",
    "    shape = real_labels.shape\n",
    "        \n",
    "    real_one_hot = tf.one_hot(real_labels, depth=11)\n",
    "    real_loss = cross_entropy(real_one_hot, decoded_real)\n",
    "    \n",
    "    fake_one_hot = tf.one_hot(tf.fill(shape, 10), depth=11)\n",
    "    fake_loss = cross_entropy(fake_one_hot, decoded_fake)\n",
    "    \n",
    "    loss = real_loss + fake_loss\n",
    "    \n",
    "    return loss"
   ]
  },
  {
   "cell_type": "markdown",
   "metadata": {},
   "source": [
    "We'll use an Adam optimizer for the decoder too."
   ]
  },
  {
   "cell_type": "code",
   "execution_count": 406,
   "metadata": {},
   "outputs": [],
   "source": [
    "decoder_optimizer = tf.keras.optimizers.Adam(learning_rate=1e-4)"
   ]
  },
  {
   "cell_type": "markdown",
   "metadata": {},
   "source": [
    "# Preparing for Data Storage"
   ]
  },
  {
   "cell_type": "markdown",
   "metadata": {},
   "source": [
    "For convenience, we define the filepaths for datastorage below."
   ]
  },
  {
   "cell_type": "markdown",
   "metadata": {},
   "source": [
    "We first put the datetime and grid parameters as part of the filepath."
   ]
  },
  {
   "cell_type": "code",
   "execution_count": 367,
   "metadata": {
    "scrolled": true
   },
   "outputs": [],
   "source": [
    "save_dir = \"./data/training-intermediate-data/\"\n",
    "base     = \"{dir}/{time}_{type}_{gridType}_{gridParam1}-{gridParam2}_{gridSize1}-{gridSize2}.{ext}\"\n",
    "now      = datetime.now().strftime('%Y-%m-%d_%H-%M')"
   ]
  },
  {
   "cell_type": "markdown",
   "metadata": {},
   "source": [
    "We define a common format for the base string."
   ]
  },
  {
   "cell_type": "code",
   "execution_count": 368,
   "metadata": {},
   "outputs": [],
   "source": [
    "common_format = {\n",
    "    'time': now,\n",
    "    'gridType': gridType.__name__,\n",
    "    'gridParam1': gridParam1,\n",
    "    'gridParam2': gridParam2,\n",
    "    'gridSize1': renderSize1,\n",
    "    'gridSize2': renderSize2,\n",
    "}"
   ]
  },
  {
   "cell_type": "markdown",
   "metadata": {},
   "source": [
    "Then we specify each path."
   ]
  },
  {
   "cell_type": "code",
   "execution_count": 369,
   "metadata": {},
   "outputs": [],
   "source": [
    "loss_filepath = save_dir + base.format(\n",
    "    dir=\"training-losses\",\n",
    "    type='loss',\n",
    "    ext='log',\n",
    "    **common_format\n",
    ")\n",
    "\n",
    "gif_filepath = save_dir + base.format(\n",
    "    dir=\"training-gifs\",\n",
    "    type='evolution',\n",
    "    ext='gif',\n",
    "    **common_format\n",
    ")\n",
    "\n",
    "grid_filepath = save_dir + base.format(\n",
    "    dir='training-grids',\n",
    "    type='grid',\n",
    "    ext='pkl',\n",
    "    **common_format\n",
    ")\n",
    "\n",
    "encoder_filepath = save_dir + base.format(\n",
    "    dir='training-encoders',\n",
    "    type='encoder',\n",
    "    ext='h5',\n",
    "    **common_format\n",
    ")"
   ]
  },
  {
   "cell_type": "markdown",
   "metadata": {},
   "source": [
    "# Training"
   ]
  },
  {
   "cell_type": "markdown",
   "metadata": {},
   "source": [
    "Now that the encoder and decoder are prepared, we can begin to start training. "
   ]
  },
  {
   "cell_type": "markdown",
   "metadata": {},
   "source": [
    "We first define a function that will be run each training step."
   ]
  },
  {
   "cell_type": "code",
   "execution_count": 407,
   "metadata": {},
   "outputs": [],
   "source": [
    "@tf.function\n",
    "def train_step(real_dropout, real_labels):\n",
    "    \n",
    "    with tf.GradientTape() as enc_tape, tf.GradientTape() as dec_tape:\n",
    "        \n",
    "        # Generate the encoder inputs with a random seed\n",
    "        seeds, one_hot_labels = make_inputs(real_labels)\n",
    "        # one_hot_labels = make_inputs(real_labels)\n",
    "        \n",
    "        # Produce encodings from the encoder inputs\n",
    "        # encodings = encoder((one_hot_labels,), training=True)\n",
    "        encodings = encoder((seeds, real_labels), training=True)\n",
    "\n",
    "        # Render the encodings\n",
    "        encoded_renders = tf.map_fn(grid.render_tensor, encodings)\n",
    "        \n",
    "        # Decode the rendered images\n",
    "        # decoded_fake = decoder((encoded_renders, one_hot_labels))\n",
    "        decoded_fake = decoder((encoded_renders,))\n",
    "        \n",
    "        # Decode the real images\n",
    "        decoded_real = decoder((real_dropout, one_hot_labels))\n",
    "        decoded_real = decoder((real_dropout,))\n",
    "\n",
    "        # Calculate the losses for the encoder and decoder\n",
    "        enc_loss = encoder_loss(real_labels, decoded_fake)\n",
    "        dec_loss = decoder_loss(real_labels, decoded_real, decoded_fake)\n",
    "\n",
    "    # Output the losses to the log files\n",
    "    tf.print(enc_loss, output_stream=enc_logfile)\n",
    "    tf.print(dec_loss, output_stream=dec_logfile)\n",
    "    \n",
    "    # Calculate and apply the gradients to the encoder and decoder\n",
    "    gradients_of_encoder = enc_tape.gradient(enc_loss, encoder.trainable_variables)\n",
    "    gradients_of_decoder = dec_tape.gradient(dec_loss, decoder.trainable_variables)\n",
    "\n",
    "    encoder_optimizer.apply_gradients(zip(gradients_of_encoder, encoder.trainable_variables))\n",
    "    decoder_optimizer.apply_gradients(zip(gradients_of_decoder, decoder.trainable_variables))"
   ]
  },
  {
   "cell_type": "markdown",
   "metadata": {},
   "source": [
    "It will be useful to visualise the progression during training, so we will define a convenience function to visualise some sample digits."
   ]
  },
  {
   "cell_type": "markdown",
   "metadata": {},
   "source": [
    "First, we initiate some sample data - one for each digit."
   ]
  },
  {
   "cell_type": "code",
   "execution_count": 408,
   "metadata": {},
   "outputs": [],
   "source": [
    "display_labels = tf.convert_to_tensor(range(10))\n",
    "display_seeds, display_one_hot = make_inputs(display_labels)"
   ]
  },
  {
   "cell_type": "markdown",
   "metadata": {},
   "source": [
    "We then define the image directory to save progressive images to."
   ]
  },
  {
   "cell_type": "code",
   "execution_count": 409,
   "metadata": {},
   "outputs": [],
   "source": [
    "image_directory = \"./data/training-intermediate-data/training-images/\""
   ]
  },
  {
   "cell_type": "markdown",
   "metadata": {},
   "source": [
    "We then define a function to show the encoded renders for each digit."
   ]
  },
  {
   "cell_type": "code",
   "execution_count": 410,
   "metadata": {
    "code_folding": []
   },
   "outputs": [],
   "source": [
    "def generate_and_save_images(encoder, epoch):\n",
    "    \n",
    "    encodings = encoder((display_seeds, display_labels), training=False)\n",
    "\n",
    "    fig = plt.figure(figsize=(5,3))\n",
    "\n",
    "    for i in range(10):\n",
    "        plt.subplot(2, 5, i+1)\n",
    "        plt.imshow(grid.render_tensor(encodings[i].numpy()),\n",
    "                   cmap='gray',\n",
    "                   vmin=-1,\n",
    "                   vmax=1)\n",
    "        plt.title(i)\n",
    "        plt.axis('off')\n",
    "        \n",
    "    plt.suptitle(f\"Epoch {epoch}\")\n",
    "\n",
    "    plt.savefig(image_directory + 'generated-epoch-{0:02d}.png'.format(epoch))\n",
    "    plt.show()"
   ]
  },
  {
   "cell_type": "markdown",
   "metadata": {},
   "source": [
    "Here's the example at the first epoch."
   ]
  },
  {
   "cell_type": "code",
   "execution_count": 411,
   "metadata": {
    "scrolled": true
   },
   "outputs": [
    {
     "data": {
      "image/png": "[encoded data removed]",
      "text/plain": [
       "<Figure size 360x216 with 10 Axes>"
      ]
     },
     "metadata": {
      "needs_background": "light"
     },
     "output_type": "display_data"
    }
   ],
   "source": [
    "generate_and_save_images(encoder, 0)"
   ]
  },
  {
   "cell_type": "markdown",
   "metadata": {},
   "source": [
    "We'll next define a batch size for training, and the total amount of data for training. We'll use all the MNIST training data for each epoch."
   ]
  },
  {
   "cell_type": "code",
   "execution_count": 412,
   "metadata": {},
   "outputs": [],
   "source": [
    "BATCH_SIZE = 250\n",
    "EPOCH_SIZE = num_real // 2\n",
    "NUM_BATCHES = EPOCH_SIZE // BATCH_SIZE"
   ]
  },
  {
   "cell_type": "code",
   "execution_count": 413,
   "metadata": {},
   "outputs": [
    {
     "name": "stdout",
     "output_type": "stream",
     "text": [
      "120\n"
     ]
    }
   ],
   "source": [
    "print(NUM_BATCHES)"
   ]
  },
  {
   "cell_type": "markdown",
   "metadata": {},
   "source": [
    "We'll initialise the loss now, when the encoder has not been trained."
   ]
  },
  {
   "cell_type": "markdown",
   "metadata": {},
   "source": [
    "First defining the logpaths:"
   ]
  },
  {
   "cell_type": "code",
   "execution_count": 414,
   "metadata": {},
   "outputs": [],
   "source": [
    "# Define the encoder and decoder log paths\n",
    "enc_logpath = loss_filepath.replace(\"_loss_\", \"_enc_loss_cgan_\")\n",
    "dec_logpath = loss_filepath.replace(\"_loss_\", \"_dec_loss_cgan_\")\n",
    "\n",
    "# Format for tensorflow's print function\n",
    "enc_logfile = \"file://\" + enc_logpath\n",
    "dec_logfile = \"file://\" + dec_logpath"
   ]
  },
  {
   "cell_type": "markdown",
   "metadata": {},
   "source": [
    "Then calculating an initial loss:"
   ]
  },
  {
   "cell_type": "code",
   "execution_count": 415,
   "metadata": {},
   "outputs": [],
   "source": [
    "initial_labels = train_labels[:BATCH_SIZE]\n",
    "initial_real = tf.cast(train_images[:BATCH_SIZE], tf.float32)\n",
    "initial_dropout = add_dropout(initial_real)\n",
    "\n",
    "initial_seeds, initial_one_hot = make_inputs(initial_labels)\n",
    "# initial_one_hot = make_inputs(initial_labels)\n",
    "initial_encodings = encoder((initial_seeds, initial_labels))\n",
    "# initial_encodings = encoder((initial_one_hot,))\n",
    "initial_renders = tf.map_fn(lambda x: grid.render_tensor(x.numpy()), (initial_encodings))\n",
    "\n",
    "initial_decoded_fake = decoder((initial_renders, initial_one_hot))\n",
    "initial_decoded_real = decoder((initial_dropout, initial_one_hot))"
   ]
  },
  {
   "cell_type": "markdown",
   "metadata": {},
   "source": [
    "Then clearing the logs and writing the first loss values."
   ]
  },
  {
   "cell_type": "code",
   "execution_count": 416,
   "metadata": {},
   "outputs": [],
   "source": [
    "with open(enc_logpath, 'w') as outfile:\n",
    "    # encoder_loss_value = encoder_loss(initial_decoded_fake)\n",
    "    encoder_loss_value = encoder_loss(initial_labels, initial_decoded_fake)\n",
    "    outfile.write(str(encoder_loss_value.numpy()))\n",
    "    outfile.write('\\n')\n",
    "    \n",
    "with open(dec_logpath, 'w') as outfile:\n",
    "    # decoder_loss_value = decoder_loss(initial_decoded_real, initial_decoded_fake)\n",
    "    decoder_loss_value = decoder_loss(initial_labels, initial_decoded_real, initial_decoded_fake)\n",
    "    outfile.write(str(decoder_loss_value.numpy()))\n",
    "    outfile.write('\\n')"
   ]
  },
  {
   "cell_type": "markdown",
   "metadata": {},
   "source": [
    "We then define a training loop."
   ]
  },
  {
   "cell_type": "code",
   "execution_count": 417,
   "metadata": {},
   "outputs": [],
   "source": [
    "def train(epochs):\n",
    "    \n",
    "    for epoch in range(epochs):\n",
    "        start = time.time()\n",
    "\n",
    "        for i in range(NUM_BATCHES):\n",
    "            imin = i * BATCH_SIZE\n",
    "            imax = (i+1) * BATCH_SIZE\n",
    "            \n",
    "            real_images_slice = tf.cast(train_images[imin:imax], tf.float32)\n",
    "            real_labels_slice = tf.cast(train_labels[imin:imax], tf.int32)\n",
    "                    \n",
    "            # Add dropout to the real images\n",
    "            # real_dropout_slice = add_dropout(real_images_slice)\n",
    "            real_dropout_slice = real_images_slice\n",
    "            \n",
    "            train_step(real_dropout_slice, real_labels_slice)\n",
    "\n",
    "        # Generate and save progressive images\n",
    "        display.clear_output(wait=True)\n",
    "        generate_and_save_images(encoder, epoch + 1)\n",
    "\n",
    "        print(f'Time for epoch {epoch+1} is {time.time()-start} sec.')"
   ]
  },
  {
   "cell_type": "markdown",
   "metadata": {},
   "source": [
    "# Running the Training Loop"
   ]
  },
  {
   "cell_type": "markdown",
   "metadata": {},
   "source": [
    "Finally, we can run the training loop."
   ]
  },
  {
   "cell_type": "markdown",
   "metadata": {},
   "source": [
    "We'll first define the number of epochs - we'll set an upper limit at 50, though we can halt it at any time."
   ]
  },
  {
   "cell_type": "code",
   "execution_count": 418,
   "metadata": {},
   "outputs": [],
   "source": [
    "EPOCHS = 50"
   ]
  },
  {
   "cell_type": "markdown",
   "metadata": {},
   "source": [
    "Next, we run the training loop."
   ]
  },
  {
   "cell_type": "code",
   "execution_count": 419,
   "metadata": {
    "scrolled": true
   },
   "outputs": [
    {
     "data": {
      "image/png": "[encoded data removed]",
      "text/plain": [
       "<Figure size 360x216 with 10 Axes>"
      ]
     },
     "metadata": {
      "needs_background": "light"
     },
     "output_type": "display_data"
    },
    {
     "name": "stdout",
     "output_type": "stream",
     "text": [
      "Time for epoch 50 is 149.69730401039124 sec.\n"
     ]
    }
   ],
   "source": [
    "train(EPOCHS)"
   ]
  },
  {
   "cell_type": "code",
   "execution_count": null,
   "metadata": {},
   "outputs": [],
   "source": [
    "test_labels = np.array([8] * 10)\n",
    "\n",
    "test_seeds, test_one_hot = make_inputs(test_labels)\n",
    "# test_one_hot = make_inputs(test_labels)\n",
    "test_encodings = encoder((test_seeds, test_labels))\n",
    "# test_encodings = encoder((test_one_hot,))\n",
    "test_renders = tf.map_fn(lambda x: grid.render_tensor(x.numpy()), (test_encodings))\n",
    "\n",
    "fix, axes = plt.subplots(1, 10, figsize=(10, 1))\n",
    "\n",
    "for i, render in enumerate(test_renders):\n",
    "    axes[i].imshow(render, cmap='gray', vmin=-1, vmax=1)\n",
    "    axes[i].axis('off')"
   ]
  },
  {
   "cell_type": "markdown",
   "metadata": {},
   "source": [
    "# Viewing Results"
   ]
  },
  {
   "cell_type": "markdown",
   "metadata": {},
   "source": [
    "Plotting the loss:"
   ]
  },
  {
   "cell_type": "code",
   "execution_count": null,
   "metadata": {},
   "outputs": [],
   "source": [
    "def plot_loss(logpath):\n",
    "    \n",
    "    enc_logpath = logpath.replace(\"_loss_\", \"_enc_loss_cgan_\")\n",
    "    dec_logpath = logpath.replace(\"_loss_\", \"_dec_loss_cgan_\")\n",
    "    \n",
    "    with open(enc_logpath) as infile:\n",
    "        enc_loss_raw = infile.readlines()\n",
    "        \n",
    "    with open(dec_logpath) as infile:\n",
    "        dec_loss_raw = infile.readlines()\n",
    "\n",
    "    enc_loss_data = np.array(list(map(float, enc_loss_raw)))\n",
    "    dec_loss_data = np.array(list(map(float, dec_loss_raw)))\n",
    "\n",
    "    plt.plot(range(enc_loss_data.shape[0]), enc_loss_data, color='teal', label='Loss for encoder training')\n",
    "    plt.plot(range(dec_loss_data.shape[0]), dec_loss_data, color='tomato', label='Loss for decoder training')\n",
    "    plt.ylabel(\"Categorical Cross Entropy Loss\")\n",
    "    plt.xlabel(\"Training Batch (each containing 500 images)\")\n",
    "    plt.title(\"Loss per Epoch\")\n",
    "    plt.legend()\n",
    "\n",
    "    plot_file = logpath.replace(\"losses\", \"graphs\").replace(\".log\", \".png\")\n",
    "    plt.savefig(plot_file)\n",
    "    print(\"./03-psychophysics/\" + plot_file)\n",
    "    return plot_file"
   ]
  },
  {
   "cell_type": "code",
   "execution_count": null,
   "metadata": {},
   "outputs": [],
   "source": [
    "plot_loss(loss_filepath)"
   ]
  },
  {
   "cell_type": "code",
   "execution_count": null,
   "metadata": {},
   "outputs": [],
   "source": [
    "generated_images = glob.glob(image_directory + (\"*.png\"))\n",
    "images = [PIL.Image.open(image) for image in generated_images]\n",
    "\n",
    "# save the first image 10 times\n",
    "images[0].save(gif_filepath,\n",
    "               save_all=True,\n",
    "               append_images=[images[0]] * 10 + images + [images[-1]]*10,\n",
    "               duration=100,\n",
    "               loop=0)"
   ]
  },
  {
   "cell_type": "code",
   "execution_count": null,
   "metadata": {},
   "outputs": [],
   "source": [
    "with open(grid_filepath, 'wb') as outfile:\n",
    "    pickle.dump(grid, outfile)\n",
    "encoder.save(encoder_filepath)\n",
    "# encoder = tf.keras.models.load_model(encoder_filepath)"
   ]
  },
  {
   "cell_type": "code",
   "execution_count": null,
   "metadata": {},
   "outputs": [],
   "source": []
  },
  {
   "cell_type": "code",
   "execution_count": null,
   "metadata": {},
   "outputs": [],
   "source": []
  }
 ],
 "metadata": {
  "kernelspec": {
   "display_name": "Python 3",
   "language": "python",
   "name": "python3"
  },
  "language_info": {
   "codemirror_mode": {
    "name": "ipython",
    "version": 3
   },
   "file_extension": ".py",
   "mimetype": "text/x-python",
   "name": "python",
   "nbconvert_exporter": "python",
   "pygments_lexer": "ipython3",
   "version": "3.7.3"
  },
  "toc": {
   "base_numbering": 1,
   "nav_menu": {},
   "number_sections": true,
   "sideBar": true,
   "skip_h1_title": false,
   "title_cell": "Table of Contents",
   "title_sidebar": "Contents",
   "toc_cell": false,
   "toc_position": {
    "height": "calc(100% - 180px)",
    "left": "10px",
    "top": "150px",
    "width": "480px"
   },
   "toc_section_display": true,
   "toc_window_display": true
  }
 },
 "nbformat": 4,
 "nbformat_minor": 2
}
