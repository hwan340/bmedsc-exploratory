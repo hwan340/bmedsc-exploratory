{
 "cells": [
  {
   "cell_type": "markdown",
   "metadata": {},
   "source": [
    "# Description"
   ]
  },
  {
   "cell_type": "markdown",
   "metadata": {},
   "source": [
    "In this conditional GAN:\n",
    "\n",
    "1. The encoder will take a 110-element vector (a 100-element noise vector concatenated with a one-hot 10-depth vector indicating a digit class) and output a one-dimensional vector with a size equal to the number of phosphenes in the grid to be tested.\n",
    "\n",
    "2. The decoder will take a 3-dimensional matrix (a rendered 2D image with a replicated one-hot 10-depth vector indicating a digit class, concatenated on the last axis) and output a binary class indicating whether it believes the digit is fake or not. "
   ]
  },
  {
   "cell_type": "markdown",
   "metadata": {},
   "source": [
    "# Imports"
   ]
  },
  {
   "cell_type": "code",
   "execution_count": 1,
   "metadata": {},
   "outputs": [],
   "source": [
    "import matplotlib.pyplot as plt\n",
    "import numpy as np\n",
    "import pandas as pd\n",
    "import tensorflow as tf\n",
    "import cv2\n",
    "import time\n",
    "import glob\n",
    "import PIL\n",
    "import pickle\n",
    "from datetime import datetime\n",
    "from tensorflow.keras import layers, Sequential, Model\n",
    "from tensorflow.keras.layers import * \n",
    "from matplotlib.backends.backend_agg import FigureCanvasAgg as FigureCanvas\n",
    "from scipy.ndimage import gaussian_filter\n",
    "from IPython import display"
   ]
  },
  {
   "cell_type": "code",
   "execution_count": 2,
   "metadata": {},
   "outputs": [
    {
     "name": "stderr",
     "output_type": "stream",
     "text": [
      "Using TensorFlow backend.\n"
     ]
    }
   ],
   "source": [
    "from phosphenes import *"
   ]
  },
  {
   "cell_type": "markdown",
   "metadata": {},
   "source": [
    "#  Initialising a Grid\n"
   ]
  },
  {
   "cell_type": "markdown",
   "metadata": {},
   "source": [
    "These parameters set the grid for testing."
   ]
  },
  {
   "cell_type": "code",
   "execution_count": 3,
   "metadata": {},
   "outputs": [],
   "source": [
    "gridType= PolarGrid\n",
    "gridParam1 = 8\n",
    "gridParam2 = 8\n",
    "gridVectorLength = gridParam1 * gridParam2\n",
    "renderSize1 = 48\n",
    "renderSize2 = 48"
   ]
  },
  {
   "cell_type": "markdown",
   "metadata": {},
   "source": [
    "We then initialise the grid."
   ]
  },
  {
   "cell_type": "code",
   "execution_count": 4,
   "metadata": {},
   "outputs": [],
   "source": [
    "grid = gridType(gridParam1, gridParam2, renderSize1, renderSize2)"
   ]
  },
  {
   "cell_type": "markdown",
   "metadata": {},
   "source": [
    "Here is a plot depicting the relative locations and sizes of phosphenes on the grid."
   ]
  },
  {
   "cell_type": "code",
   "execution_count": 5,
   "metadata": {
    "scrolled": true
   },
   "outputs": [
    {
     "data": {
      "text/plain": [
       "<matplotlib.image.AxesImage at 0x2d94d1444a8>"
      ]
     },
     "execution_count": 5,
     "metadata": {},
     "output_type": "execute_result"
    },
    {
     "data": {
      "image/png": "[encoded data removed]",
      "text/plain": [
       "<Figure size 432x288 with 1 Axes>"
      ]
     },
     "metadata": {
      "needs_background": "light"
     },
     "output_type": "display_data"
    }
   ],
   "source": [
    "plt.imshow(grid.show_locations(), cmap='gray', vmin=0, vmax=1)"
   ]
  },
  {
   "cell_type": "markdown",
   "metadata": {},
   "source": [
    "And here is a plot depicting the grid with all the phosphenes on at a brightness of 1 (the maximum brightness expected to be input into the renderer)."
   ]
  },
  {
   "cell_type": "code",
   "execution_count": 6,
   "metadata": {},
   "outputs": [
    {
     "data": {
      "text/plain": [
       "<matplotlib.image.AxesImage at 0x2d94d1df6d8>"
      ]
     },
     "execution_count": 6,
     "metadata": {},
     "output_type": "execute_result"
    },
    {
     "data": {
      "image/png": "[encoded data removed]",
      "text/plain": [
       "<Figure size 432x288 with 1 Axes>"
      ]
     },
     "metadata": {
      "needs_background": "light"
     },
     "output_type": "display_data"
    }
   ],
   "source": [
    "plt.imshow(grid.render(np.array([1 for i in range(gridVectorLength)])), cmap='gray', vmin=-1, vmax=1)"
   ]
  },
  {
   "cell_type": "markdown",
   "metadata": {},
   "source": [
    "To visualise what the directly processed images look like, we first make a convenience function for generating digit images below."
   ]
  },
  {
   "cell_type": "code",
   "execution_count": 7,
   "metadata": {
    "code_folding": [
     0
    ]
   },
   "outputs": [],
   "source": [
    "def digit_to_image(digit : int, xpos : float, ypos : float):\n",
    "    \n",
    "    # Create a figure\n",
    "    fig = plt.figure(figsize=(1,1))\n",
    "    canvas = FigureCanvas(fig)\n",
    "    ax = plt.gca()\n",
    "    \n",
    "    # Remove axes and labels\n",
    "    fig.patch.set_facecolor('black')\n",
    "    plt.axis('off')\n",
    "    ax.xaxis.set_major_locator(plt.NullLocator())\n",
    "    ax.yaxis.set_major_locator(plt.NullLocator())\n",
    "    ax.xaxis.set_visible(False)\n",
    "    ax.yaxis.set_visible(False)\n",
    "    \n",
    "    # Tighten \n",
    "    plt.subplots_adjust(top = 1, bottom = 0, right = 1, left = 0, hspace = 0, wspace = 0)\n",
    "\n",
    "    # Plot text\n",
    "    plt.text(xpos, ypos, str(int(digit)),\n",
    "             size=48,\n",
    "             color='white',\n",
    "             clip_box=ax.clipbox,\n",
    "             clip_on=True,\n",
    "             horizontalalignment = 'center',\n",
    "             verticalalignment = 'center',\n",
    "             linespacing = 0,\n",
    "             transform=ax.transAxes)\n",
    "    \n",
    "    # Draw canvas\n",
    "    canvas.draw()\n",
    "    \n",
    "    # Convert to numpy buffer\n",
    "    width, height = fig.get_size_inches() * fig.get_dpi()\n",
    "    image = np.frombuffer(canvas.tostring_rgb(), dtype='uint8').reshape(int(height), int(width), 3)\n",
    "    image = (image - 127.5) / 127.5\n",
    "    \n",
    "    # Close figure\n",
    "    plt.close(fig)\n",
    "    \n",
    "    # Resize\n",
    "    resized = cv2.resize(image, dsize=(renderSize1, renderSize2)).astype(np.float32)\n",
    "    \n",
    "    return resized"
   ]
  },
  {
   "cell_type": "markdown",
   "metadata": {},
   "source": [
    "This function returns 2D images with values in the range [-1, 1]."
   ]
  },
  {
   "cell_type": "markdown",
   "metadata": {},
   "source": [
    "Here's the original digits (deviated to the right to accommodate the fact that the output renders will only show in the right hemisphere)."
   ]
  },
  {
   "cell_type": "code",
   "execution_count": 8,
   "metadata": {},
   "outputs": [
    {
     "data": {
      "image/png": "[encoded data removed]",
      "text/plain": [
       "<Figure size 360x216 with 10 Axes>"
      ]
     },
     "metadata": {
      "needs_background": "light"
     },
     "output_type": "display_data"
    }
   ],
   "source": [
    "# Create the figure\n",
    "fig = plt.figure(figsize=(5,3))\n",
    "\n",
    "# Loop through the digits\n",
    "for i in range(10):\n",
    "    plt.subplot(2, 5, i+1)\n",
    "    stimulus = Stimulus(digit_to_image(i, 0.7, 0.45), grid)\n",
    "    plt.imshow((digit_to_image(i, 0.7, 0.45) + 1) / 2)\n",
    "    plt.title(i)\n",
    "    plt.axis('off')"
   ]
  },
  {
   "cell_type": "markdown",
   "metadata": {},
   "source": [
    "And here they are when processed with the direct renderer for this grid."
   ]
  },
  {
   "cell_type": "code",
   "execution_count": 10,
   "metadata": {
    "scrolled": false
   },
   "outputs": [
    {
     "data": {
      "text/plain": [
       "Text(0.5, 0.98, 'Comparison (Direct, Brightness-Based)')"
      ]
     },
     "execution_count": 10,
     "metadata": {},
     "output_type": "execute_result"
    },
    {
     "data": {
      "image/png": "[encoded data removed]",
      "text/plain": [
       "<Figure size 360x216 with 10 Axes>"
      ]
     },
     "metadata": {
      "needs_background": "light"
     },
     "output_type": "display_data"
    }
   ],
   "source": [
    "# COMPARISON\n",
    "fig = plt.figure(figsize=(5,3))\n",
    "\n",
    "for i in range(10):\n",
    "    plt.subplot(2, 5, i+1)\n",
    "    stimulus = Stimulus(digit_to_image(i, 0.7, 0.45), grid)\n",
    "    plt.imshow(grid.render(stimulus.vector), cmap='gray', vmin=-1, vmax=1)\n",
    "    plt.title(i)\n",
    "    plt.axis('off')\n",
    "\n",
    "plt.suptitle(f\"Comparison (Direct, Brightness-Based)\")"
   ]
  },
  {
   "cell_type": "markdown",
   "metadata": {},
   "source": [
    "We also define a wrapper around `grid.render_tensor`."
   ]
  },
  {
   "cell_type": "markdown",
   "metadata": {},
   "source": [
    "# Preprocessing the Real Data"
   ]
  },
  {
   "cell_type": "markdown",
   "metadata": {},
   "source": [
    "To train the decoder, we will have it distinguish between \"real\" digit images, and \"fake\" (i.e. the encoded) digit images."
   ]
  },
  {
   "cell_type": "markdown",
   "metadata": {},
   "source": [
    "The real digit images we will use are the MNIST digits. We will have to translate and rescale them to accommodate the grids we are using for the phosphenes. "
   ]
  },
  {
   "cell_type": "markdown",
   "metadata": {},
   "source": [
    "First, we load the digit data."
   ]
  },
  {
   "cell_type": "code",
   "execution_count": 11,
   "metadata": {},
   "outputs": [],
   "source": [
    "(train_images, train_labels), (test_images, test_labels) = tf.keras.datasets.mnist.load_data()"
   ]
  },
  {
   "cell_type": "markdown",
   "metadata": {},
   "source": [
    "Here's the first image."
   ]
  },
  {
   "cell_type": "code",
   "execution_count": 12,
   "metadata": {},
   "outputs": [
    {
     "data": {
      "text/plain": [
       "<matplotlib.image.AxesImage at 0x2d94d8451d0>"
      ]
     },
     "execution_count": 12,
     "metadata": {},
     "output_type": "execute_result"
    },
    {
     "data": {
      "image/png": "[encoded data removed]",
      "text/plain": [
       "<Figure size 432x288 with 1 Axes>"
      ]
     },
     "metadata": {
      "needs_background": "light"
     },
     "output_type": "display_data"
    }
   ],
   "source": [
    "plt.imshow(train_images[0], cmap='gray')"
   ]
  },
  {
   "cell_type": "markdown",
   "metadata": {},
   "source": [
    "Next, we determine their shape (the first dimension indicates how much data we have). "
   ]
  },
  {
   "cell_type": "code",
   "execution_count": 13,
   "metadata": {},
   "outputs": [],
   "source": [
    "num_real, original_y, original_x = train_images.shape"
   ]
  },
  {
   "cell_type": "markdown",
   "metadata": {},
   "source": [
    "Below is a convenience function to process these images so that:\n",
    "    \n",
    "1. Their values are scaled between -1 and 1 (as opposed to 0 to 255 as they are now)\n",
    "2. They are translated towards the right to accommodate the half-grid of phosphenes\n",
    "3. They are scaled up in size to match the dimensions of the encoder renders"
   ]
  },
  {
   "cell_type": "code",
   "execution_count": 14,
   "metadata": {
    "code_folding": []
   },
   "outputs": [],
   "source": [
    "def process_images(images):\n",
    "    \n",
    "    # Upscale only to 80% of the render, to leave some padding around the digit\n",
    "    up_x, up_y = int(renderSize1 * (3/4)), int(renderSize2 * (3/4))\n",
    "    pad_y = (renderSize1 - up_y) // 2\n",
    "    pad_x = (renderSize2 - up_x) // 2\n",
    "    pad_widths = ((pad_y, pad_y), (pad_x, pad_x))\n",
    "\n",
    "    processed = np.array([\n",
    "        np.roll(\n",
    "            \n",
    "            # Pad and resize up to the render dimensions\n",
    "            np.pad(\n",
    "                cv2.resize(\n",
    "                    image, \n",
    "                    dsize=(up_y, up_x)\n",
    "                ), \n",
    "                pad_widths,\n",
    "                'constant',\n",
    "                constant_values=0\n",
    "            ),\n",
    "            \n",
    "            # Shift along the X-axis to the right\n",
    "            shift=(renderSize2 // 5),\n",
    "            axis=1,\n",
    "            \n",
    "        )\n",
    "        for image in train_images\n",
    "    ])\n",
    "    \n",
    "    # Scale the values from 0-255 to -1-1\n",
    "    processed = (processed - 127.5) / 127.5\n",
    "    \n",
    "    return processed"
   ]
  },
  {
   "cell_type": "markdown",
   "metadata": {},
   "source": [
    "We then process both the training images and the test images."
   ]
  },
  {
   "cell_type": "code",
   "execution_count": 15,
   "metadata": {},
   "outputs": [],
   "source": [
    "train_images = process_images(train_images)"
   ]
  },
  {
   "cell_type": "markdown",
   "metadata": {},
   "source": [
    "These aren't perfectly aligned, but it will do. (The MNIST digits are not bounding boxed, so there are some heuristic compromises in the code above). "
   ]
  },
  {
   "cell_type": "markdown",
   "metadata": {},
   "source": [
    "Here's an example of some of the digits."
   ]
  },
  {
   "cell_type": "code",
   "execution_count": 16,
   "metadata": {},
   "outputs": [
    {
     "data": {
      "image/png": "[encoded data removed]",
      "text/plain": [
       "<Figure size 720x72 with 10 Axes>"
      ]
     },
     "metadata": {
      "needs_background": "light"
     },
     "output_type": "display_data"
    }
   ],
   "source": [
    "fig, ax = plt.subplots(1, 10, figsize=(10,1))\n",
    "\n",
    "for i in range(10):\n",
    "    ax[i].imshow(train_images[i], cmap='gray')\n",
    "    ax[i].axis('off')"
   ]
  },
  {
   "cell_type": "markdown",
   "metadata": {},
   "source": [
    "# Loading the Hole-Filler"
   ]
  },
  {
   "cell_type": "code",
   "execution_count": 17,
   "metadata": {},
   "outputs": [],
   "source": [
    "filler_path = \"./data/training-hole-filling/training-encoders/2019-07-18_13-57_encoder_48_48.h5\""
   ]
  },
  {
   "cell_type": "code",
   "execution_count": 18,
   "metadata": {},
   "outputs": [
    {
     "name": "stderr",
     "output_type": "stream",
     "text": [
      "WARNING: Logging before flag parsing goes to stderr.\n",
      "W0722 11:42:11.334687 13696 hdf5_format.py:171] No training configuration found in save file: the model was *not* compiled. Compile it manually.\n"
     ]
    }
   ],
   "source": [
    "filler = tf.keras.models.load_model(filler_path)"
   ]
  },
  {
   "cell_type": "code",
   "execution_count": 19,
   "metadata": {},
   "outputs": [],
   "source": [
    "test_stimuli = [Stimulus(digit_to_image(i, 0.7, 0.45), grid) for i in range(10)]\n",
    "test_renders = [grid.render(stimulus.vector) for stimulus in test_stimuli]\n",
    "test_digits = tf.cast(np.array(test_renders), tf.float32)"
   ]
  },
  {
   "cell_type": "code",
   "execution_count": 20,
   "metadata": {},
   "outputs": [
    {
     "data": {
      "image/png": "[encoded data removed]",
      "text/plain": [
       "<Figure size 720x72 with 10 Axes>"
      ]
     },
     "metadata": {
      "needs_background": "light"
     },
     "output_type": "display_data"
    }
   ],
   "source": [
    "test_filled = filler(test_digits)\n",
    "\n",
    "fig, ax = plt.subplots(1, 10, figsize=(10,1))\n",
    "\n",
    "for i in range(10):\n",
    "    ax[i].imshow(test_filled[i], cmap='gray')\n",
    "    ax[i].axis('off')"
   ]
  },
  {
   "cell_type": "markdown",
   "metadata": {},
   "source": [
    "# Creating an Encoder"
   ]
  },
  {
   "cell_type": "code",
   "execution_count": 21,
   "metadata": {},
   "outputs": [],
   "source": [
    "SEED_SIZE = 32"
   ]
  },
  {
   "cell_type": "code",
   "execution_count": 22,
   "metadata": {},
   "outputs": [],
   "source": [
    "def make_encoder():\n",
    "\n",
    "    # Input noise\n",
    "    in_noise        = Input(shape=(SEED_SIZE,))\n",
    "    \n",
    "    # Layers for noise\n",
    "    l_noise         = Dense(gridVectorLength // 4)(in_noise)\n",
    "    l_noise         = BatchNormalization()(l_noise)\n",
    "    l_noise         = LeakyReLU()(l_noise)\n",
    "    \n",
    "    # Input labels\n",
    "    in_labels       = Input(shape=(1,))\n",
    "    \n",
    "    # Layers for labels\n",
    "    l_labels        = Embedding(10, gridVectorLength // 4)(in_labels)\n",
    "    l_labels        = Flatten()(l_labels)\n",
    "    l_labels        = BatchNormalization()(l_labels)\n",
    "    l_labels        = LeakyReLU()(l_labels)\n",
    "    #l_labels        = Dense(gridVectorLength // 4)(l_labels)\n",
    "    \n",
    "    # Concatenate\n",
    "    concat          = Concatenate()([l_noise, l_labels])\n",
    "    concat          = Flatten()(concat)\n",
    "    concat          = Dense(gridVectorLength // 2)(concat)\n",
    "    concat          = LeakyReLU()(concat)\n",
    "    #concat          = Concatenate()([concat, l_labels])\n",
    "    #concat          = Dense(gridVectorLength // 2)(concat)\n",
    "    #concat          = LeakyReLU()(concat)\n",
    "    #concat          = Concatenate()([concat, l_labels])\n",
    "    concat          = Dense(gridVectorLength, activation=tf.nn.sigmoid)(concat)\n",
    "    \n",
    "    # Model\n",
    "    model           = Model([in_noise, in_labels], concat)\n",
    "    \n",
    "    return model"
   ]
  },
  {
   "cell_type": "code",
   "execution_count": 23,
   "metadata": {},
   "outputs": [],
   "source": [
    "encoder = make_encoder()"
   ]
  },
  {
   "cell_type": "markdown",
   "metadata": {},
   "source": [
    "Below is a convenience function that will take a tensor of digit labels and convert it into a noise vector concatenated with a one-hot encoded class. "
   ]
  },
  {
   "cell_type": "code",
   "execution_count": 24,
   "metadata": {},
   "outputs": [],
   "source": [
    "@tf.function\n",
    "def make_inputs(labels):\n",
    "    \n",
    "    batch_size = len(labels)\n",
    "    \n",
    "    noise = tf.random.uniform((batch_size, SEED_SIZE))\n",
    "    one_hot = tf.one_hot(labels, depth=10, dtype=tf.float32)\n",
    "    \n",
    "    return (noise, one_hot)"
   ]
  },
  {
   "cell_type": "code",
   "execution_count": 25,
   "metadata": {},
   "outputs": [],
   "source": [
    "# @tf.function\n",
    "# def make_inputs(labels):\n",
    "    \n",
    "#     batch_size = len(labels)\n",
    "    \n",
    "#     #noise = tf.random.uniform((batch_size, SEED_SIZE))\n",
    "#     one_hot = tf.one_hot(labels, depth=10, dtype=tf.float32)\n",
    "    \n",
    "#     return one_hot"
   ]
  },
  {
   "cell_type": "markdown",
   "metadata": {},
   "source": [
    "Here's an example of the encoder without any training."
   ]
  },
  {
   "cell_type": "code",
   "execution_count": 26,
   "metadata": {},
   "outputs": [],
   "source": [
    "test_labels = tf.convert_to_tensor(np.array([random.randint(0, 9) for i in range(100)]))"
   ]
  },
  {
   "cell_type": "code",
   "execution_count": 27,
   "metadata": {},
   "outputs": [],
   "source": [
    "test_seeds, test_one_hot = make_inputs(test_labels)"
   ]
  },
  {
   "cell_type": "code",
   "execution_count": 28,
   "metadata": {
    "scrolled": true
   },
   "outputs": [
    {
     "data": {
      "text/plain": [
       "<matplotlib.image.AxesImage at 0x2d94f239908>"
      ]
     },
     "execution_count": 28,
     "metadata": {},
     "output_type": "execute_result"
    },
    {
     "data": {
      "image/png": "[encoded data removed]",
      "text/plain": [
       "<Figure size 432x288 with 1 Axes>"
      ]
     },
     "metadata": {
      "needs_background": "light"
     },
     "output_type": "display_data"
    }
   ],
   "source": [
    "plt.imshow(\n",
    "    grid.render_tensor(encoder((test_seeds, test_labels))[0].numpy()),\n",
    "    cmap='gray',\n",
    "    vmin=-1,\n",
    "    vmax=1\n",
    ")"
   ]
  },
  {
   "cell_type": "markdown",
   "metadata": {},
   "source": [
    "Testing the filler (though this is garbage, so it should look like garbage):"
   ]
  },
  {
   "cell_type": "code",
   "execution_count": 29,
   "metadata": {},
   "outputs": [
    {
     "data": {
      "text/plain": [
       "<matplotlib.image.AxesImage at 0x2d94f2e0978>"
      ]
     },
     "execution_count": 29,
     "metadata": {},
     "output_type": "execute_result"
    },
    {
     "data": {
      "image/png": "[encoded data removed]",
      "text/plain": [
       "<Figure size 432x288 with 1 Axes>"
      ]
     },
     "metadata": {
      "needs_background": "light"
     },
     "output_type": "display_data"
    }
   ],
   "source": [
    "plt.imshow(filler(np.array([grid.render_tensor(encoder((test_seeds, test_labels))[0])]))[0], cmap='gray')"
   ]
  },
  {
   "cell_type": "markdown",
   "metadata": {},
   "source": [
    "Looks like garbage to me!"
   ]
  },
  {
   "cell_type": "markdown",
   "metadata": {},
   "source": [
    "We'll set the loss of the encoder to a binary cross entropy between the decoder's judgement of the encoded images, and a vector full of ones. The encoder should be aiming to get the decoder to judge it's outputs as 1s."
   ]
  },
  {
   "cell_type": "code",
   "execution_count": 30,
   "metadata": {},
   "outputs": [],
   "source": [
    "binary_cross_entropy = tf.keras.losses.BinaryCrossentropy()"
   ]
  },
  {
   "cell_type": "code",
   "execution_count": 31,
   "metadata": {},
   "outputs": [],
   "source": [
    "categorical_cross_entropy = tf.keras.losses.CategoricalCrossentropy()"
   ]
  },
  {
   "cell_type": "code",
   "execution_count": 32,
   "metadata": {},
   "outputs": [],
   "source": [
    "def encoder_loss(real_labels, decoded_one_hot):\n",
    "    \n",
    "    real_one_hot = tf.one_hot(real_labels, depth=11)\n",
    "    label_loss = categorical_cross_entropy(real_one_hot, decoded_one_hot)\n",
    "    \n",
    "    return label_loss"
   ]
  },
  {
   "cell_type": "markdown",
   "metadata": {},
   "source": [
    "And we'll set the optimiser to `Adam`."
   ]
  },
  {
   "cell_type": "code",
   "execution_count": 33,
   "metadata": {},
   "outputs": [],
   "source": [
    "encoder_optimizer = tf.keras.optimizers.Adam(learning_rate=1e-4)"
   ]
  },
  {
   "cell_type": "markdown",
   "metadata": {},
   "source": [
    "# Creating a Decoder"
   ]
  },
  {
   "cell_type": "code",
   "execution_count": 34,
   "metadata": {},
   "outputs": [],
   "source": [
    "def make_decoder():\n",
    "    \n",
    "    # Image input\n",
    "    in_images     = Input(shape=(renderSize1, renderSize2))\n",
    "    l_images      = Reshape((renderSize1, renderSize2, 1))(in_images)\n",
    "    \n",
    "    # Convolution\n",
    "    concat        = Conv2D(64, (8,8), padding='same', strides=(2,2))(l_images)\n",
    "    concat        = LeakyReLU()(concat)\n",
    "    concat        = Dropout(0.25)(concat)\n",
    "    \n",
    "    label_out     = Conv2D(128, (4,4), padding='same', strides=(2,2))(concat)\n",
    "    label_out     = LeakyReLU()(label_out)\n",
    "    label_out     = Dropout(0.25)(label_out)\n",
    "    label_out     = Flatten()(label_out)\n",
    "    label_out     = Dense(11, activation=tf.nn.softmax)(label_out)\n",
    "    \n",
    "    # Model \n",
    "    model         = Model(inputs=[in_images], outputs=label_out)\n",
    "    \n",
    "    return model    "
   ]
  },
  {
   "cell_type": "code",
   "execution_count": 35,
   "metadata": {},
   "outputs": [],
   "source": [
    "decoder = make_decoder()"
   ]
  },
  {
   "cell_type": "markdown",
   "metadata": {},
   "source": [
    "Here's an example:"
   ]
  },
  {
   "cell_type": "code",
   "execution_count": 36,
   "metadata": {},
   "outputs": [],
   "source": [
    "test_images = tf.map_fn(lambda x: grid.render_tensor(x.numpy()), encoder((test_seeds, test_labels)))"
   ]
  },
  {
   "cell_type": "code",
   "execution_count": 37,
   "metadata": {},
   "outputs": [],
   "source": [
    "test_one_hot = tf.one_hot(test_labels, depth=10, dtype=tf.float32)"
   ]
  },
  {
   "cell_type": "code",
   "execution_count": 38,
   "metadata": {},
   "outputs": [
    {
     "data": {
      "text/plain": [
       "<tf.Tensor: id=16556, shape=(5, 11), dtype=float32, numpy=\n",
       "array([[0.07752259, 0.09957568, 0.0843158 , 0.08867568, 0.09535678,\n",
       "        0.08895545, 0.08221749, 0.10176688, 0.08175378, 0.10392641,\n",
       "        0.09593344],\n",
       "       [0.07751138, 0.09938931, 0.08433544, 0.08862742, 0.09508907,\n",
       "        0.0889516 , 0.08229367, 0.10220072, 0.08173849, 0.10384165,\n",
       "        0.09602125],\n",
       "       [0.07716305, 0.09970189, 0.08468018, 0.08836255, 0.09527617,\n",
       "        0.08890505, 0.08241973, 0.10150381, 0.0815197 , 0.1042162 ,\n",
       "        0.0962517 ],\n",
       "       [0.07710514, 0.09957884, 0.08431792, 0.0887955 , 0.09522435,\n",
       "        0.08916426, 0.0822796 , 0.10195173, 0.08196777, 0.10378636,\n",
       "        0.09582847],\n",
       "       [0.07740884, 0.09947246, 0.08442914, 0.08875924, 0.09514462,\n",
       "        0.08905574, 0.08228696, 0.10208205, 0.08167232, 0.10385914,\n",
       "        0.0958294 ]], dtype=float32)>"
      ]
     },
     "execution_count": 38,
     "metadata": {},
     "output_type": "execute_result"
    }
   ],
   "source": [
    "decoder([test_images[:5]])"
   ]
  },
  {
   "cell_type": "markdown",
   "metadata": {},
   "source": [
    "The decoder loss is also a binary cross entropy. It should try to classify all the real images as real (i.e. 1s) and all the fake images as fake (i.e. 0s). "
   ]
  },
  {
   "cell_type": "code",
   "execution_count": 39,
   "metadata": {},
   "outputs": [],
   "source": [
    "def decoder_loss(real_labels, decoded_real_one_hot, decoded_fake_one_hot):\n",
    "    \n",
    "    shape = real_labels.shape\n",
    "        \n",
    "    real_one_hot = tf.one_hot(real_labels, depth=11)\n",
    "    real_loss = categorical_cross_entropy(real_one_hot, decoded_real_one_hot)\n",
    "    \n",
    "    all_fake_one_hot = tf.one_hot(tf.fill(shape, 10), depth=11)\n",
    "    fake_loss = categorical_cross_entropy(all_fake_one_hot, decoded_fake_one_hot)\n",
    "    \n",
    "    loss = real_loss + fake_loss\n",
    "    \n",
    "    return loss"
   ]
  },
  {
   "cell_type": "markdown",
   "metadata": {},
   "source": [
    "We'll use an Adam optimizer for the decoder too."
   ]
  },
  {
   "cell_type": "code",
   "execution_count": 40,
   "metadata": {},
   "outputs": [],
   "source": [
    "decoder_optimizer = tf.keras.optimizers.Adam(learning_rate=1e-4)"
   ]
  },
  {
   "cell_type": "markdown",
   "metadata": {},
   "source": [
    "# Preparing for Data Storage"
   ]
  },
  {
   "cell_type": "markdown",
   "metadata": {},
   "source": [
    "For convenience, we define the filepaths for datastorage below."
   ]
  },
  {
   "cell_type": "markdown",
   "metadata": {},
   "source": [
    "We first put the datetime and grid parameters as part of the filepath."
   ]
  },
  {
   "cell_type": "code",
   "execution_count": 41,
   "metadata": {
    "scrolled": true
   },
   "outputs": [],
   "source": [
    "save_dir = \"./data/training-intermediate-data/\"\n",
    "base     = \"{dir}/{time}_{type}_{gridType}_{gridParam1}-{gridParam2}_{gridSize1}-{gridSize2}.{ext}\"\n",
    "now      = datetime.now().strftime('%Y-%m-%d_%H-%M')"
   ]
  },
  {
   "cell_type": "markdown",
   "metadata": {},
   "source": [
    "We define a common format for the base string."
   ]
  },
  {
   "cell_type": "code",
   "execution_count": 42,
   "metadata": {},
   "outputs": [],
   "source": [
    "common_format = {\n",
    "    'time': now,\n",
    "    'gridType': gridType.__name__,\n",
    "    'gridParam1': gridParam1,\n",
    "    'gridParam2': gridParam2,\n",
    "    'gridSize1': renderSize1,\n",
    "    'gridSize2': renderSize2,\n",
    "}"
   ]
  },
  {
   "cell_type": "markdown",
   "metadata": {},
   "source": [
    "Then we specify each path."
   ]
  },
  {
   "cell_type": "code",
   "execution_count": 43,
   "metadata": {},
   "outputs": [],
   "source": [
    "loss_filepath = save_dir + base.format(\n",
    "    dir=\"training-losses\",\n",
    "    type='loss',\n",
    "    ext='log',\n",
    "    **common_format\n",
    ")\n",
    "\n",
    "gif_filepath = save_dir + base.format(\n",
    "    dir=\"training-gifs\",\n",
    "    type='evolution',\n",
    "    ext='gif',\n",
    "    **common_format\n",
    ")\n",
    "\n",
    "grid_filepath = save_dir + base.format(\n",
    "    dir='training-grids',\n",
    "    type='grid',\n",
    "    ext='pkl',\n",
    "    **common_format\n",
    ")\n",
    "\n",
    "encoder_filepath = save_dir + base.format(\n",
    "    dir='training-encoders',\n",
    "    type='encoder',\n",
    "    ext='h5',\n",
    "    **common_format\n",
    ")"
   ]
  },
  {
   "cell_type": "markdown",
   "metadata": {},
   "source": [
    "# Training"
   ]
  },
  {
   "cell_type": "markdown",
   "metadata": {},
   "source": [
    "Now that the encoder and decoder are prepared, we can begin to start training. "
   ]
  },
  {
   "cell_type": "markdown",
   "metadata": {},
   "source": [
    "We first define a function that will be run each training step."
   ]
  },
  {
   "cell_type": "code",
   "execution_count": 44,
   "metadata": {},
   "outputs": [],
   "source": [
    "@tf.function\n",
    "def train_step(real_images, real_labels):\n",
    "    \n",
    "    with tf.GradientTape() as enc_tape, tf.GradientTape() as dec_tape:\n",
    "        \n",
    "        # Generate the encoder inputs with a random seed\n",
    "        seeds, one_hot_labels = make_inputs(real_labels)\n",
    "        # one_hot_labels = make_inputs(real_labels)\n",
    "        \n",
    "        # Produce encodings from the encoder inputs\n",
    "        # encodings = encoder((one_hot_labels,), training=True)\n",
    "        encodings = encoder((seeds, real_labels), training=True)\n",
    "\n",
    "        # Render the encodings\n",
    "        encoded_renders = tf.map_fn(grid.render_tensor, encodings)\n",
    "        \n",
    "        # Fill holes in encoded renders\n",
    "        filled_renders = filler(encoded_renders)\n",
    "        \n",
    "        # Decode the rendered images\n",
    "        # decoded_fake = decoder((encoded_renders, one_hot_labels))\n",
    "        decoded_fake_one_hot = decoder((filled_renders,))\n",
    "        \n",
    "        # Decode the real images\n",
    "        # decoded_real = decoder((real_dropout, one_hot_labels))\n",
    "        decoded_real_one_hot = decoder((real_images,))\n",
    "\n",
    "        # Calculate the losses for the encoder and decoder\n",
    "        enc_loss = encoder_loss(real_labels, decoded_fake_one_hot)\n",
    "        dec_loss = decoder_loss(real_labels, decoded_real_one_hot, decoded_fake_one_hot)\n",
    "\n",
    "    # Output the losses to the log files\n",
    "    tf.print(enc_loss, output_stream=enc_logfile)\n",
    "    tf.print(dec_loss, output_stream=dec_logfile)\n",
    "    \n",
    "    # Calculate and apply the gradients to the encoder and decoder\n",
    "    gradients_of_encoder = enc_tape.gradient(enc_loss, encoder.trainable_variables)\n",
    "    gradients_of_decoder = dec_tape.gradient(dec_loss, decoder.trainable_variables)\n",
    "\n",
    "    encoder_optimizer.apply_gradients(zip(gradients_of_encoder, encoder.trainable_variables))\n",
    "    decoder_optimizer.apply_gradients(zip(gradients_of_decoder, decoder.trainable_variables))"
   ]
  },
  {
   "cell_type": "markdown",
   "metadata": {},
   "source": [
    "It will be useful to visualise the progression during training, so we will define a convenience function to visualise some sample digits."
   ]
  },
  {
   "cell_type": "markdown",
   "metadata": {},
   "source": [
    "First, we initiate some sample data - one for each digit."
   ]
  },
  {
   "cell_type": "code",
   "execution_count": 45,
   "metadata": {},
   "outputs": [],
   "source": [
    "display_labels = tf.convert_to_tensor(range(10))\n",
    "display_seeds, display_one_hot = make_inputs(display_labels)"
   ]
  },
  {
   "cell_type": "markdown",
   "metadata": {},
   "source": [
    "We then define the image directory to save progressive images to."
   ]
  },
  {
   "cell_type": "code",
   "execution_count": 46,
   "metadata": {},
   "outputs": [],
   "source": [
    "image_directory = \"./data/training-intermediate-data/training-images/\""
   ]
  },
  {
   "cell_type": "markdown",
   "metadata": {},
   "source": [
    "We then define a function to show the encoded renders for each digit."
   ]
  },
  {
   "cell_type": "code",
   "execution_count": 47,
   "metadata": {
    "code_folding": []
   },
   "outputs": [],
   "source": [
    "def generate_and_save_images(encoder, epoch):\n",
    "    \n",
    "    encodings = encoder((display_seeds, display_labels), training=False)\n",
    "\n",
    "    fig = plt.figure(figsize=(5,3))\n",
    "\n",
    "    for i in range(10):\n",
    "        plt.subplot(2, 5, i+1)\n",
    "        plt.imshow(grid.render_tensor(encodings[i].numpy()),\n",
    "                   cmap='gray',\n",
    "                   vmin=-1,\n",
    "                   vmax=1)\n",
    "        plt.title(i)\n",
    "        plt.axis('off')\n",
    "        \n",
    "    plt.suptitle(f\"Epoch {epoch}\")\n",
    "\n",
    "    plt.savefig(image_directory + 'generated-epoch-{0:02d}.png'.format(epoch))\n",
    "    plt.show()"
   ]
  },
  {
   "cell_type": "markdown",
   "metadata": {},
   "source": [
    "Here's the example at the first epoch."
   ]
  },
  {
   "cell_type": "code",
   "execution_count": 48,
   "metadata": {
    "scrolled": true
   },
   "outputs": [
    {
     "data": {
      "image/png": "[encoded data removed]",
      "text/plain": [
       "<Figure size 360x216 with 10 Axes>"
      ]
     },
     "metadata": {
      "needs_background": "light"
     },
     "output_type": "display_data"
    }
   ],
   "source": [
    "generate_and_save_images(encoder, 0)"
   ]
  },
  {
   "cell_type": "markdown",
   "metadata": {},
   "source": [
    "We'll next define a batch size for training, and the total amount of data for training. We'll use all the MNIST training data for each epoch."
   ]
  },
  {
   "cell_type": "code",
   "execution_count": 49,
   "metadata": {},
   "outputs": [],
   "source": [
    "BATCH_SIZE = 250\n",
    "EPOCH_SIZE = num_real // 2\n",
    "NUM_BATCHES = EPOCH_SIZE // BATCH_SIZE"
   ]
  },
  {
   "cell_type": "code",
   "execution_count": 50,
   "metadata": {},
   "outputs": [
    {
     "name": "stdout",
     "output_type": "stream",
     "text": [
      "120\n"
     ]
    }
   ],
   "source": [
    "print(NUM_BATCHES)"
   ]
  },
  {
   "cell_type": "markdown",
   "metadata": {},
   "source": [
    "We'll initialise the loss now, when the encoder has not been trained."
   ]
  },
  {
   "cell_type": "markdown",
   "metadata": {},
   "source": [
    "First defining the logpaths:"
   ]
  },
  {
   "cell_type": "code",
   "execution_count": 51,
   "metadata": {},
   "outputs": [],
   "source": [
    "# Define the encoder and decoder log paths\n",
    "enc_logpath = loss_filepath.replace(\"_loss_\", \"_enc_loss_cgan_\")\n",
    "dec_logpath = loss_filepath.replace(\"_loss_\", \"_dec_loss_cgan_\")\n",
    "\n",
    "# Format for tensorflow's print function\n",
    "enc_logfile = \"file://\" + enc_logpath\n",
    "dec_logfile = \"file://\" + dec_logpath"
   ]
  },
  {
   "cell_type": "markdown",
   "metadata": {},
   "source": [
    "Then calculating an initial loss:"
   ]
  },
  {
   "cell_type": "code",
   "execution_count": 52,
   "metadata": {},
   "outputs": [],
   "source": [
    "initial_labels = train_labels[:BATCH_SIZE]\n",
    "initial_real = tf.cast(train_images[:BATCH_SIZE], tf.float32)\n",
    "\n",
    "initial_seeds, initial_one_hot = make_inputs(initial_labels)\n",
    "initial_encodings = encoder((initial_seeds, initial_labels))\n",
    "initial_renders = tf.map_fn(lambda x: grid.render_tensor(x.numpy()), (initial_encodings))\n",
    "initial_filled = filler(initial_renders)\n",
    "\n",
    "initial_decoded_fake = decoder((initial_filled,))\n",
    "initial_decoded_real = decoder((initial_real,))"
   ]
  },
  {
   "cell_type": "markdown",
   "metadata": {},
   "source": [
    "Then clearing the logs and writing the first loss values."
   ]
  },
  {
   "cell_type": "code",
   "execution_count": 53,
   "metadata": {},
   "outputs": [],
   "source": [
    "with open(enc_logpath, 'w') as outfile:\n",
    "    # encoder_loss_value = encoder_loss(initial_decoded_fake)\n",
    "    encoder_loss_value = encoder_loss(initial_labels, initial_decoded_fake)\n",
    "    outfile.write(str(encoder_loss_value.numpy()))\n",
    "    outfile.write('\\n')\n",
    "    \n",
    "with open(dec_logpath, 'w') as outfile:\n",
    "    # decoder_loss_value = decoder_loss(initial_decoded_real, initial_decoded_fake)\n",
    "    decoder_loss_value = decoder_loss(\n",
    "        initial_labels, \n",
    "        initial_decoded_real,\n",
    "        initial_decoded_fake\n",
    "    )\n",
    "    outfile.write(str(decoder_loss_value.numpy()))\n",
    "    outfile.write('\\n')"
   ]
  },
  {
   "cell_type": "markdown",
   "metadata": {},
   "source": [
    "We then define a training loop."
   ]
  },
  {
   "cell_type": "code",
   "execution_count": 54,
   "metadata": {},
   "outputs": [],
   "source": [
    "def train(epochs):\n",
    "    \n",
    "    for epoch in range(epochs):\n",
    "        start = time.time()\n",
    "\n",
    "        for i in range(NUM_BATCHES):\n",
    "            imin = i * BATCH_SIZE\n",
    "            imax = (i+1) * BATCH_SIZE\n",
    "            \n",
    "            real_images_slice = tf.cast(train_images[imin:imax], tf.float32)\n",
    "            real_labels_slice = tf.cast(train_labels[imin:imax], tf.int32)\n",
    "            \n",
    "            train_step(real_images_slice, real_labels_slice)\n",
    "\n",
    "        # Generate and save progressive images\n",
    "        display.clear_output(wait=True)\n",
    "        generate_and_save_images(encoder, epoch + 1)\n",
    "\n",
    "        print(f'Time for epoch {epoch+1} is {time.time()-start} sec.')"
   ]
  },
  {
   "cell_type": "markdown",
   "metadata": {},
   "source": [
    "# Running the Training Loop"
   ]
  },
  {
   "cell_type": "markdown",
   "metadata": {},
   "source": [
    "Finally, we can run the training loop."
   ]
  },
  {
   "cell_type": "markdown",
   "metadata": {},
   "source": [
    "We'll first define the number of epochs - we'll set an upper limit at 50, though we can halt it at any time."
   ]
  },
  {
   "cell_type": "code",
   "execution_count": 55,
   "metadata": {},
   "outputs": [],
   "source": [
    "EPOCHS = 50"
   ]
  },
  {
   "cell_type": "markdown",
   "metadata": {},
   "source": [
    "Next, we run the training loop."
   ]
  },
  {
   "cell_type": "code",
   "execution_count": 56,
   "metadata": {
    "scrolled": false
   },
   "outputs": [
    {
     "data": {
      "image/png": "[encoded data removed]",
      "text/plain": [
       "<Figure size 360x216 with 10 Axes>"
      ]
     },
     "metadata": {
      "needs_background": "light"
     },
     "output_type": "display_data"
    },
    {
     "name": "stdout",
     "output_type": "stream",
     "text": [
      "Time for epoch 15 is 699.9784553050995 sec.\n"
     ]
    },
    {
     "ename": "KeyboardInterrupt",
     "evalue": "",
     "output_type": "error",
     "traceback": [
      "\u001b[1;31m---------------------------------------------------------------------------\u001b[0m",
      "\u001b[1;31mKeyboardInterrupt\u001b[0m                         Traceback (most recent call last)",
      "\u001b[1;32m<ipython-input-56-93316e7e9b3e>\u001b[0m in \u001b[0;36m<module>\u001b[1;34m\u001b[0m\n\u001b[1;32m----> 1\u001b[1;33m \u001b[0mtrain\u001b[0m\u001b[1;33m(\u001b[0m\u001b[0mEPOCHS\u001b[0m\u001b[1;33m)\u001b[0m\u001b[1;33m\u001b[0m\u001b[1;33m\u001b[0m\u001b[0m\n\u001b[0m",
      "\u001b[1;32m<ipython-input-54-c6735f4e05fc>\u001b[0m in \u001b[0;36mtrain\u001b[1;34m(epochs)\u001b[0m\n\u001b[0;32m     11\u001b[0m             \u001b[0mreal_labels_slice\u001b[0m \u001b[1;33m=\u001b[0m \u001b[0mtf\u001b[0m\u001b[1;33m.\u001b[0m\u001b[0mcast\u001b[0m\u001b[1;33m(\u001b[0m\u001b[0mtrain_labels\u001b[0m\u001b[1;33m[\u001b[0m\u001b[0mimin\u001b[0m\u001b[1;33m:\u001b[0m\u001b[0mimax\u001b[0m\u001b[1;33m]\u001b[0m\u001b[1;33m,\u001b[0m \u001b[0mtf\u001b[0m\u001b[1;33m.\u001b[0m\u001b[0mint32\u001b[0m\u001b[1;33m)\u001b[0m\u001b[1;33m\u001b[0m\u001b[1;33m\u001b[0m\u001b[0m\n\u001b[0;32m     12\u001b[0m \u001b[1;33m\u001b[0m\u001b[0m\n\u001b[1;32m---> 13\u001b[1;33m             \u001b[0mtrain_step\u001b[0m\u001b[1;33m(\u001b[0m\u001b[0mreal_images_slice\u001b[0m\u001b[1;33m,\u001b[0m \u001b[0mreal_labels_slice\u001b[0m\u001b[1;33m)\u001b[0m\u001b[1;33m\u001b[0m\u001b[1;33m\u001b[0m\u001b[0m\n\u001b[0m\u001b[0;32m     14\u001b[0m \u001b[1;33m\u001b[0m\u001b[0m\n\u001b[0;32m     15\u001b[0m         \u001b[1;31m# Generate and save progressive images\u001b[0m\u001b[1;33m\u001b[0m\u001b[1;33m\u001b[0m\u001b[1;33m\u001b[0m\u001b[0m\n",
      "\u001b[1;32m~\\AppData\\Local\\Continuum\\anaconda3\\lib\\site-packages\\tensorflow\\python\\eager\\def_function.py\u001b[0m in \u001b[0;36m__call__\u001b[1;34m(self, *args, **kwds)\u001b[0m\n\u001b[0;32m    402\u001b[0m       \u001b[1;31m# In this case we have created variables on the first call, so we run the\u001b[0m\u001b[1;33m\u001b[0m\u001b[1;33m\u001b[0m\u001b[1;33m\u001b[0m\u001b[0m\n\u001b[0;32m    403\u001b[0m       \u001b[1;31m# defunned version which is guaranteed to never create variables.\u001b[0m\u001b[1;33m\u001b[0m\u001b[1;33m\u001b[0m\u001b[1;33m\u001b[0m\u001b[0m\n\u001b[1;32m--> 404\u001b[1;33m       \u001b[1;32mreturn\u001b[0m \u001b[0mself\u001b[0m\u001b[1;33m.\u001b[0m\u001b[0m_stateless_fn\u001b[0m\u001b[1;33m(\u001b[0m\u001b[1;33m*\u001b[0m\u001b[0margs\u001b[0m\u001b[1;33m,\u001b[0m \u001b[1;33m**\u001b[0m\u001b[0mkwds\u001b[0m\u001b[1;33m)\u001b[0m  \u001b[1;31m# pylint: disable=not-callable\u001b[0m\u001b[1;33m\u001b[0m\u001b[1;33m\u001b[0m\u001b[0m\n\u001b[0m\u001b[0;32m    405\u001b[0m     \u001b[1;32melif\u001b[0m \u001b[0mself\u001b[0m\u001b[1;33m.\u001b[0m\u001b[0m_stateful_fn\u001b[0m \u001b[1;32mis\u001b[0m \u001b[1;32mnot\u001b[0m \u001b[1;32mNone\u001b[0m\u001b[1;33m:\u001b[0m\u001b[1;33m\u001b[0m\u001b[1;33m\u001b[0m\u001b[0m\n\u001b[0;32m    406\u001b[0m       \u001b[1;31m# In this case we have not created variables on the first call. So we can\u001b[0m\u001b[1;33m\u001b[0m\u001b[1;33m\u001b[0m\u001b[1;33m\u001b[0m\u001b[0m\n",
      "\u001b[1;32m~\\AppData\\Local\\Continuum\\anaconda3\\lib\\site-packages\\tensorflow\\python\\eager\\function.py\u001b[0m in \u001b[0;36m__call__\u001b[1;34m(self, *args, **kwargs)\u001b[0m\n\u001b[0;32m   1333\u001b[0m     \u001b[1;34m\"\"\"Calls a graph function specialized to the inputs.\"\"\"\u001b[0m\u001b[1;33m\u001b[0m\u001b[1;33m\u001b[0m\u001b[0m\n\u001b[0;32m   1334\u001b[0m     \u001b[0mgraph_function\u001b[0m\u001b[1;33m,\u001b[0m \u001b[0margs\u001b[0m\u001b[1;33m,\u001b[0m \u001b[0mkwargs\u001b[0m \u001b[1;33m=\u001b[0m \u001b[0mself\u001b[0m\u001b[1;33m.\u001b[0m\u001b[0m_maybe_define_function\u001b[0m\u001b[1;33m(\u001b[0m\u001b[0margs\u001b[0m\u001b[1;33m,\u001b[0m \u001b[0mkwargs\u001b[0m\u001b[1;33m)\u001b[0m\u001b[1;33m\u001b[0m\u001b[1;33m\u001b[0m\u001b[0m\n\u001b[1;32m-> 1335\u001b[1;33m     \u001b[1;32mreturn\u001b[0m \u001b[0mgraph_function\u001b[0m\u001b[1;33m.\u001b[0m\u001b[0m_filtered_call\u001b[0m\u001b[1;33m(\u001b[0m\u001b[0margs\u001b[0m\u001b[1;33m,\u001b[0m \u001b[0mkwargs\u001b[0m\u001b[1;33m)\u001b[0m  \u001b[1;31m# pylint: disable=protected-access\u001b[0m\u001b[1;33m\u001b[0m\u001b[1;33m\u001b[0m\u001b[0m\n\u001b[0m\u001b[0;32m   1336\u001b[0m \u001b[1;33m\u001b[0m\u001b[0m\n\u001b[0;32m   1337\u001b[0m   \u001b[1;33m@\u001b[0m\u001b[0mproperty\u001b[0m\u001b[1;33m\u001b[0m\u001b[1;33m\u001b[0m\u001b[0m\n",
      "\u001b[1;32m~\\AppData\\Local\\Continuum\\anaconda3\\lib\\site-packages\\tensorflow\\python\\eager\\function.py\u001b[0m in \u001b[0;36m_filtered_call\u001b[1;34m(self, args, kwargs)\u001b[0m\n\u001b[0;32m    587\u001b[0m     \"\"\"\n\u001b[0;32m    588\u001b[0m     return self._call_flat(\n\u001b[1;32m--> 589\u001b[1;33m         (t for t in nest.flatten((args, kwargs), expand_composites=True)\n\u001b[0m\u001b[0;32m    590\u001b[0m          if isinstance(t, (ops.Tensor,\n\u001b[0;32m    591\u001b[0m                            resource_variable_ops.ResourceVariable))))\n",
      "\u001b[1;32m~\\AppData\\Local\\Continuum\\anaconda3\\lib\\site-packages\\tensorflow\\python\\eager\\function.py\u001b[0m in \u001b[0;36m_call_flat\u001b[1;34m(self, args)\u001b[0m\n\u001b[0;32m    669\u001b[0m     \u001b[1;31m# Only need to override the gradient in graph mode and when we have outputs.\u001b[0m\u001b[1;33m\u001b[0m\u001b[1;33m\u001b[0m\u001b[1;33m\u001b[0m\u001b[0m\n\u001b[0;32m    670\u001b[0m     \u001b[1;32mif\u001b[0m \u001b[0mcontext\u001b[0m\u001b[1;33m.\u001b[0m\u001b[0mexecuting_eagerly\u001b[0m\u001b[1;33m(\u001b[0m\u001b[1;33m)\u001b[0m \u001b[1;32mor\u001b[0m \u001b[1;32mnot\u001b[0m \u001b[0mself\u001b[0m\u001b[1;33m.\u001b[0m\u001b[0moutputs\u001b[0m\u001b[1;33m:\u001b[0m\u001b[1;33m\u001b[0m\u001b[1;33m\u001b[0m\u001b[0m\n\u001b[1;32m--> 671\u001b[1;33m       \u001b[0moutputs\u001b[0m \u001b[1;33m=\u001b[0m \u001b[0mself\u001b[0m\u001b[1;33m.\u001b[0m\u001b[0m_inference_function\u001b[0m\u001b[1;33m.\u001b[0m\u001b[0mcall\u001b[0m\u001b[1;33m(\u001b[0m\u001b[0mctx\u001b[0m\u001b[1;33m,\u001b[0m \u001b[0margs\u001b[0m\u001b[1;33m)\u001b[0m\u001b[1;33m\u001b[0m\u001b[1;33m\u001b[0m\u001b[0m\n\u001b[0m\u001b[0;32m    672\u001b[0m     \u001b[1;32melse\u001b[0m\u001b[1;33m:\u001b[0m\u001b[1;33m\u001b[0m\u001b[1;33m\u001b[0m\u001b[0m\n\u001b[0;32m    673\u001b[0m       \u001b[0mself\u001b[0m\u001b[1;33m.\u001b[0m\u001b[0m_register_gradient\u001b[0m\u001b[1;33m(\u001b[0m\u001b[1;33m)\u001b[0m\u001b[1;33m\u001b[0m\u001b[1;33m\u001b[0m\u001b[0m\n",
      "\u001b[1;32m~\\AppData\\Local\\Continuum\\anaconda3\\lib\\site-packages\\tensorflow\\python\\eager\\function.py\u001b[0m in \u001b[0;36mcall\u001b[1;34m(self, ctx, args)\u001b[0m\n\u001b[0;32m    443\u001b[0m             attrs=(\"executor_type\", executor_type,\n\u001b[0;32m    444\u001b[0m                    \"config_proto\", config),\n\u001b[1;32m--> 445\u001b[1;33m             ctx=ctx)\n\u001b[0m\u001b[0;32m    446\u001b[0m       \u001b[1;31m# Replace empty list with None\u001b[0m\u001b[1;33m\u001b[0m\u001b[1;33m\u001b[0m\u001b[1;33m\u001b[0m\u001b[0m\n\u001b[0;32m    447\u001b[0m       \u001b[0moutputs\u001b[0m \u001b[1;33m=\u001b[0m \u001b[0moutputs\u001b[0m \u001b[1;32mor\u001b[0m \u001b[1;32mNone\u001b[0m\u001b[1;33m\u001b[0m\u001b[1;33m\u001b[0m\u001b[0m\n",
      "\u001b[1;32m~\\AppData\\Local\\Continuum\\anaconda3\\lib\\site-packages\\tensorflow\\python\\eager\\execute.py\u001b[0m in \u001b[0;36mquick_execute\u001b[1;34m(op_name, num_outputs, inputs, attrs, ctx, name)\u001b[0m\n\u001b[0;32m     59\u001b[0m     tensors = pywrap_tensorflow.TFE_Py_Execute(ctx._handle, device_name,\n\u001b[0;32m     60\u001b[0m                                                \u001b[0mop_name\u001b[0m\u001b[1;33m,\u001b[0m \u001b[0minputs\u001b[0m\u001b[1;33m,\u001b[0m \u001b[0mattrs\u001b[0m\u001b[1;33m,\u001b[0m\u001b[1;33m\u001b[0m\u001b[1;33m\u001b[0m\u001b[0m\n\u001b[1;32m---> 61\u001b[1;33m                                                num_outputs)\n\u001b[0m\u001b[0;32m     62\u001b[0m   \u001b[1;32mexcept\u001b[0m \u001b[0mcore\u001b[0m\u001b[1;33m.\u001b[0m\u001b[0m_NotOkStatusException\u001b[0m \u001b[1;32mas\u001b[0m \u001b[0me\u001b[0m\u001b[1;33m:\u001b[0m\u001b[1;33m\u001b[0m\u001b[1;33m\u001b[0m\u001b[0m\n\u001b[0;32m     63\u001b[0m     \u001b[1;32mif\u001b[0m \u001b[0mname\u001b[0m \u001b[1;32mis\u001b[0m \u001b[1;32mnot\u001b[0m \u001b[1;32mNone\u001b[0m\u001b[1;33m:\u001b[0m\u001b[1;33m\u001b[0m\u001b[1;33m\u001b[0m\u001b[0m\n",
      "\u001b[1;31mKeyboardInterrupt\u001b[0m: "
     ]
    }
   ],
   "source": [
    "train(EPOCHS)"
   ]
  },
  {
   "cell_type": "code",
   "execution_count": 165,
   "metadata": {},
   "outputs": [],
   "source": [
    "def brighten(values: np.ndarray) -> np.ndarray:\n",
    "    return np.where(values > 0.12, 1.0, 0.0).astype(np.float32)"
   ]
  },
  {
   "cell_type": "code",
   "execution_count": 166,
   "metadata": {},
   "outputs": [
    {
     "data": {
      "image/png": "[encoded data removed]",
      "text/plain": [
       "<Figure size 720x72 with 10 Axes>"
      ]
     },
     "metadata": {
      "needs_background": "light"
     },
     "output_type": "display_data"
    }
   ],
   "source": [
    "test_labels = np.array([4] * 10)\n",
    "\n",
    "test_seeds, test_one_hot = make_inputs(test_labels)\n",
    "# test_one_hot = make_inputs(test_labels)\n",
    "test_encodings = encoder((test_seeds, test_labels))\n",
    "# test_encodings = encoder((test_one_hot,))\n",
    "#test_renders = tf.map_fn(lambda x: grid.render_tensor(x.numpy()), (test_encodings))\n",
    "test_renders = tf.map_fn(lambda x: grid.render_tensor(brighten(x.numpy())), (test_encodings))\n",
    "\n",
    "\n",
    "fix, axes = plt.subplots(1, 10, figsize=(10, 1))\n",
    "\n",
    "for i, render in enumerate(test_renders):\n",
    "    axes[i].imshow(render, cmap='gray', vmin=-1, vmax=1)\n",
    "    axes[i].axis('off')"
   ]
  },
  {
   "cell_type": "code",
   "execution_count": 167,
   "metadata": {},
   "outputs": [
    {
     "data": {
      "image/png": "[encoded data removed]",
      "text/plain": [
       "<Figure size 720x72 with 10 Axes>"
      ]
     },
     "metadata": {
      "needs_background": "light"
     },
     "output_type": "display_data"
    }
   ],
   "source": [
    "test_encodings = encoder((display_seeds, display_labels))\n",
    "test_renders = tf.map_fn(lambda x: grid.render_tensor(x.numpy()), (test_encodings))\n",
    "\n",
    "fix, axes = plt.subplots(1, 10, figsize=(10, 1))\n",
    "\n",
    "for i, filled in enumerate(test_renders):\n",
    "    axes[i].imshow(filled, cmap='gray')\n",
    "    axes[i].axis('off')"
   ]
  },
  {
   "cell_type": "code",
   "execution_count": 168,
   "metadata": {},
   "outputs": [
    {
     "data": {
      "image/png": "[encoded data removed]",
      "text/plain": [
       "<Figure size 720x72 with 10 Axes>"
      ]
     },
     "metadata": {
      "needs_background": "light"
     },
     "output_type": "display_data"
    }
   ],
   "source": [
    "test_filled = filler(test_renders)\n",
    "\n",
    "fix, axes = plt.subplots(1, 10, figsize=(10, 1))\n",
    "\n",
    "for i, filled in enumerate(test_filled):\n",
    "    axes[i].imshow(filled, cmap='gray')\n",
    "    axes[i].axis('off')"
   ]
  },
  {
   "cell_type": "code",
   "execution_count": 169,
   "metadata": {},
   "outputs": [
    {
     "data": {
      "image/png": "[encoded data removed]",
      "text/plain": [
       "<Figure size 720x72 with 10 Axes>"
      ]
     },
     "metadata": {
      "needs_background": "light"
     },
     "output_type": "display_data"
    }
   ],
   "source": [
    "test_renders = tf.map_fn(lambda x: grid.render_tensor(brighten(x.numpy())), (test_encodings))\n",
    "\n",
    "fix, axes = plt.subplots(1, 10, figsize=(10, 1))\n",
    "\n",
    "for i, filled in enumerate(test_renders):\n",
    "    axes[i].imshow(filled, cmap='gray')\n",
    "    axes[i].axis('off')"
   ]
  },
  {
   "cell_type": "code",
   "execution_count": 149,
   "metadata": {},
   "outputs": [
    {
     "name": "stdout",
     "output_type": "stream",
     "text": [
      "tf.Tensor([5 0 4 1 9 2 1 3 1 4], shape=(10,), dtype=int64)\n"
     ]
    }
   ],
   "source": [
    "test_real = tf.cast(train_images[:10], tf.float32)\n",
    "\n",
    "class_real  = decoder(test_real)\n",
    "\n",
    "print(tf.argmax(class_real, axis=1))"
   ]
  },
  {
   "cell_type": "code",
   "execution_count": 150,
   "metadata": {},
   "outputs": [
    {
     "name": "stdout",
     "output_type": "stream",
     "text": [
      "tf.Tensor([10 10 10 10 10 10 10 10 10  9], shape=(10,), dtype=int64)\n"
     ]
    }
   ],
   "source": [
    "class_fake = decoder(test_filled)\n",
    "\n",
    "print(tf.argmax(class_fake, axis=1))"
   ]
  },
  {
   "cell_type": "markdown",
   "metadata": {},
   "source": [
    "# Viewing Results"
   ]
  },
  {
   "cell_type": "markdown",
   "metadata": {},
   "source": [
    "Plotting the loss:"
   ]
  },
  {
   "cell_type": "code",
   "execution_count": 151,
   "metadata": {},
   "outputs": [],
   "source": [
    "def plot_loss(logpath):\n",
    "    \n",
    "    enc_logpath = logpath.replace(\"_loss_\", \"_enc_loss_cgan_\")\n",
    "    dec_logpath = logpath.replace(\"_loss_\", \"_dec_loss_cgan_\")\n",
    "    \n",
    "    with open(enc_logpath) as infile:\n",
    "        enc_loss_raw = infile.readlines()\n",
    "        \n",
    "    with open(dec_logpath) as infile:\n",
    "        dec_loss_raw = infile.readlines()\n",
    "\n",
    "    enc_loss_data = np.array(list(map(float, enc_loss_raw)))\n",
    "    dec_loss_data = np.array(list(map(float, dec_loss_raw)))\n",
    "\n",
    "    plt.plot(range(enc_loss_data.shape[0]), enc_loss_data, color='teal', label='Loss for encoder training')\n",
    "    plt.plot(range(dec_loss_data.shape[0]), dec_loss_data, color='tomato', label='Loss for decoder training')\n",
    "    plt.ylabel(\"Categorical Cross Entropy Loss\")\n",
    "    plt.xlabel(\"Training Batch (each containing 500 images)\")\n",
    "    plt.title(\"Loss per Epoch\")\n",
    "    plt.legend()\n",
    "\n",
    "    plot_file = logpath.replace(\"losses\", \"graphs\").replace(\".log\", \".png\")\n",
    "    plt.savefig(plot_file)\n",
    "    print(\"./03-psychophysics/\" + plot_file)\n",
    "    return plot_file"
   ]
  },
  {
   "cell_type": "code",
   "execution_count": 152,
   "metadata": {},
   "outputs": [
    {
     "name": "stdout",
     "output_type": "stream",
     "text": [
      "./03-psychophysics/./data/training-intermediate-data/training-graphs/2019-07-22_11-42_loss_PolarGrid_8-8_48-48.png\n"
     ]
    },
    {
     "data": {
      "text/plain": [
       "'./data/training-intermediate-data/training-graphs/2019-07-22_11-42_loss_PolarGrid_8-8_48-48.png'"
      ]
     },
     "execution_count": 152,
     "metadata": {},
     "output_type": "execute_result"
    },
    {
     "data": {
      "image/png": "[encoded data removed]",
      "text/plain": [
       "<Figure size 432x288 with 1 Axes>"
      ]
     },
     "metadata": {
      "needs_background": "light"
     },
     "output_type": "display_data"
    }
   ],
   "source": [
    "plot_loss(loss_filepath)"
   ]
  },
  {
   "cell_type": "code",
   "execution_count": null,
   "metadata": {},
   "outputs": [],
   "source": [
    "generated_images = glob.glob(image_directory + (\"*.png\"))\n",
    "images = [PIL.Image.open(image) for image in generated_images]\n",
    "\n",
    "# save the first image 10 times\n",
    "images[0].save(gif_filepath,\n",
    "               save_all=True,\n",
    "               append_images=[images[0]] * 10 + images + [images[-1]]*10,\n",
    "               duration=100,\n",
    "               loop=0)"
   ]
  },
  {
   "cell_type": "code",
   "execution_count": null,
   "metadata": {},
   "outputs": [],
   "source": [
    "#with open(grid_filepath, 'wb') as outfile:\n",
    "#    pickle.dump(grid, outfile)\n",
    "#encoder.save(encoder_filepath)\n",
    "# encoder = tf.keras.models.load_model(encoder_filepath)"
   ]
  },
  {
   "cell_type": "code",
   "execution_count": null,
   "metadata": {},
   "outputs": [],
   "source": []
  },
  {
   "cell_type": "code",
   "execution_count": null,
   "metadata": {},
   "outputs": [],
   "source": []
  }
 ],
 "metadata": {
  "kernelspec": {
   "display_name": "Python 3",
   "language": "python",
   "name": "python3"
  },
  "language_info": {
   "codemirror_mode": {
    "name": "ipython",
    "version": 3
   },
   "file_extension": ".py",
   "mimetype": "text/x-python",
   "name": "python",
   "nbconvert_exporter": "python",
   "pygments_lexer": "ipython3",
   "version": "3.7.3"
  },
  "toc": {
   "base_numbering": 1,
   "nav_menu": {},
   "number_sections": true,
   "sideBar": true,
   "skip_h1_title": false,
   "title_cell": "Table of Contents",
   "title_sidebar": "Contents",
   "toc_cell": false,
   "toc_position": {
    "height": "calc(100% - 180px)",
    "left": "10px",
    "top": "150px",
    "width": "480px"
   },
   "toc_section_display": true,
   "toc_window_display": true
  }
 },
 "nbformat": 4,
 "nbformat_minor": 2
}
