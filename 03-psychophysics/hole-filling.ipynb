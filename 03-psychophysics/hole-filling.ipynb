{
 "cells": [
  {
   "cell_type": "markdown",
   "metadata": {},
   "source": [
    "# Imports"
   ]
  },
  {
   "cell_type": "code",
   "execution_count": 1,
   "metadata": {},
   "outputs": [],
   "source": [
    "import matplotlib.pyplot as plt\n",
    "import numpy as np\n",
    "import pandas as pd\n",
    "import tensorflow as tf\n",
    "import cv2\n",
    "import time\n",
    "import glob\n",
    "import PIL\n",
    "import pickle\n",
    "from datetime import datetime\n",
    "from tensorflow.keras import layers, Sequential, Model\n",
    "from tensorflow.keras.layers import * \n",
    "from matplotlib.backends.backend_agg import FigureCanvasAgg as FigureCanvas\n",
    "from scipy.ndimage import gaussian_filter\n",
    "from IPython import display"
   ]
  },
  {
   "cell_type": "code",
   "execution_count": 2,
   "metadata": {
    "scrolled": true
   },
   "outputs": [
    {
     "name": "stderr",
     "output_type": "stream",
     "text": [
      "Using TensorFlow backend.\n"
     ]
    }
   ],
   "source": [
    "from phosphenes import *"
   ]
  },
  {
   "cell_type": "markdown",
   "metadata": {},
   "source": [
    "# Grid Parameters"
   ]
  },
  {
   "cell_type": "code",
   "execution_count": 6,
   "metadata": {},
   "outputs": [],
   "source": [
    "gridType= RandomPolarGrid\n",
    "gridParam1 = 8\n",
    "gridParam2 = 8\n",
    "gridVectorLength = gridParam1 * gridParam2\n",
    "renderSize1 = 48\n",
    "renderSize2 = 48"
   ]
  },
  {
   "cell_type": "code",
   "execution_count": 7,
   "metadata": {},
   "outputs": [],
   "source": [
    "grid = gridType(gridParam1, gridParam2, renderSize1, renderSize2)"
   ]
  },
  {
   "cell_type": "code",
   "execution_count": 8,
   "metadata": {},
   "outputs": [
    {
     "data": {
      "text/plain": [
       "<matplotlib.image.AxesImage at 0x1e90fe09f60>"
      ]
     },
     "execution_count": 8,
     "metadata": {},
     "output_type": "execute_result"
    },
    {
     "data": {
      "image/png": "[encoded data removed]",
      "text/plain": [
       "<Figure size 432x288 with 1 Axes>"
      ]
     },
     "metadata": {
      "needs_background": "light"
     },
     "output_type": "display_data"
    }
   ],
   "source": [
    "plt.imshow(grid.render(np.array([1 for i in range(gridVectorLength)])), cmap='gray')"
   ]
  },
  {
   "cell_type": "markdown",
   "metadata": {},
   "source": [
    "# Initial MNIST Data"
   ]
  },
  {
   "cell_type": "code",
   "execution_count": 9,
   "metadata": {},
   "outputs": [],
   "source": [
    "(train_images, train_labels), (test_images, test_labels) = tf.keras.datasets.mnist.load_data()"
   ]
  },
  {
   "cell_type": "code",
   "execution_count": 10,
   "metadata": {},
   "outputs": [
    {
     "data": {
      "text/plain": [
       "<matplotlib.image.AxesImage at 0x1e90fc7eda0>"
      ]
     },
     "execution_count": 10,
     "metadata": {},
     "output_type": "execute_result"
    },
    {
     "data": {
      "image/png": "[encoded data removed]",
      "text/plain": [
       "<Figure size 432x288 with 1 Axes>"
      ]
     },
     "metadata": {
      "needs_background": "light"
     },
     "output_type": "display_data"
    }
   ],
   "source": [
    "plt.imshow(train_images[0], cmap='gray')"
   ]
  },
  {
   "cell_type": "code",
   "execution_count": 11,
   "metadata": {},
   "outputs": [],
   "source": [
    "num_real, original_y, original_x = train_images.shape"
   ]
  },
  {
   "cell_type": "code",
   "execution_count": 12,
   "metadata": {},
   "outputs": [],
   "source": [
    "def process_images(images):\n",
    "    \n",
    "    # Upscale only to 80% of the render, to leave some padding around the digit\n",
    "    up_x, up_y = int(renderSize1 * (3/4)), int(renderSize2 * (3/4))\n",
    "    pad_y = (renderSize1 - up_y) // 2\n",
    "    pad_x = (renderSize2 - up_x) // 2\n",
    "    pad_widths = ((pad_y, pad_y), (pad_x, pad_x))\n",
    "\n",
    "    processed = np.array([\n",
    "        np.roll(\n",
    "            \n",
    "            # Pad and resize up to the render dimensions\n",
    "            np.pad(\n",
    "                cv2.resize(\n",
    "                    image, \n",
    "                    dsize=(up_y, up_x)\n",
    "                ), \n",
    "                pad_widths,\n",
    "                'constant',\n",
    "                constant_values=0\n",
    "            ),\n",
    "            \n",
    "            # Shift along the X-axis to the right\n",
    "            shift=(renderSize2 // 5),\n",
    "            axis=1,\n",
    "            \n",
    "        )\n",
    "        for image in train_images\n",
    "    ])\n",
    "    \n",
    "    # Scale the values from 0-255 to -1-1\n",
    "    processed = (processed - 127.5) / 127.5\n",
    "    \n",
    "    return processed"
   ]
  },
  {
   "cell_type": "code",
   "execution_count": 13,
   "metadata": {},
   "outputs": [],
   "source": [
    "train_images = process_images(train_images)"
   ]
  },
  {
   "cell_type": "code",
   "execution_count": 14,
   "metadata": {},
   "outputs": [
    {
     "data": {
      "image/png": "[encoded data removed]",
      "text/plain": [
       "<Figure size 720x72 with 10 Axes>"
      ]
     },
     "metadata": {
      "needs_background": "light"
     },
     "output_type": "display_data"
    }
   ],
   "source": [
    "fig, ax = plt.subplots(1, 10, figsize=(10,1))\n",
    "\n",
    "for i in range(10):\n",
    "    ax[i].imshow(train_images[i], cmap='gray')\n",
    "    ax[i].axis('off')"
   ]
  },
  {
   "cell_type": "code",
   "execution_count": 15,
   "metadata": {},
   "outputs": [],
   "source": [
    "dropout_images = [grid.render(Stimulus(original, grid).vector) for original in train_images[:10]]"
   ]
  },
  {
   "cell_type": "code",
   "execution_count": 16,
   "metadata": {},
   "outputs": [],
   "source": [
    "dropout_tensor = tf.cast(dropout_images, tf.float32)"
   ]
  },
  {
   "cell_type": "code",
   "execution_count": 18,
   "metadata": {},
   "outputs": [
    {
     "data": {
      "image/png": "[encoded data removed]",
      "text/plain": [
       "<Figure size 720x72 with 10 Axes>"
      ]
     },
     "metadata": {
      "needs_background": "light"
     },
     "output_type": "display_data"
    }
   ],
   "source": [
    "train_images_slice = dropout_tensor[:10]\n",
    "\n",
    "fig, ax = plt.subplots(1, 10, figsize=(10,1))\n",
    "\n",
    "for i in range(10):\n",
    "    ax[i].imshow(train_images_slice[i], cmap='gray')\n",
    "    ax[i].axis('off')"
   ]
  },
  {
   "cell_type": "markdown",
   "metadata": {},
   "source": [
    "# Encoder"
   ]
  },
  {
   "cell_type": "markdown",
   "metadata": {},
   "source": [
    "Based loosely on the network architecture described in https://arxiv.org/pdf/1703.10593.pdf Appendix 7.2."
   ]
  },
  {
   "cell_type": "code",
   "execution_count": 26,
   "metadata": {},
   "outputs": [],
   "source": [
    "def make_encoder():\n",
    "\n",
    "    # Input noise\n",
    "    in_image = Input(shape=(renderSize1, renderSize2))\n",
    "    \n",
    "    # Layers\n",
    "    l_image  = Reshape((renderSize1, renderSize2, 1))(in_image)\n",
    "    \n",
    "    l_image  = Conv2D(48, (7,7), strides=(1,1), padding='same')(l_image)\n",
    "    l_image  = BatchNormalization()(l_image)\n",
    "    l_image  = LeakyReLU()(l_image)\n",
    "    \n",
    "    l_image  = Conv2D(96, (3,3), strides=(2,2), padding='same')(l_image)\n",
    "    l_image  = BatchNormalization()(l_image)\n",
    "    l_image  = LeakyReLU()(l_image)    \n",
    "\n",
    "    l_image  = Conv2D(128, (3,3), strides=(1,1), padding='same')(l_image)\n",
    "    l_image  = BatchNormalization()(l_image)\n",
    "    l_image  = LeakyReLU()(l_image)\n",
    "    \n",
    "    l_image  = Conv2D(128, (3,3), strides=(1,1), padding='same')(l_image)\n",
    "    l_image  = BatchNormalization()(l_image)\n",
    "    l_image  = LeakyReLU()(l_image)\n",
    "    \n",
    "    l_image  = Conv2DTranspose(48, (3,3), strides=(2,2), padding='same')(l_image)\n",
    "    l_image  = BatchNormalization()(l_image)\n",
    "    l_image  = LeakyReLU()(l_image)\n",
    "    \n",
    "    l_image  = Conv2DTranspose(1, (3,3), strides=(1,1), padding='same', activation=\"tanh\")(l_image)\n",
    "    l_image  = Reshape((renderSize1, renderSize2))(l_image)\n",
    "    \n",
    "    model    = Model([in_image], l_image)\n",
    "    \n",
    "    return model"
   ]
  },
  {
   "cell_type": "code",
   "execution_count": 27,
   "metadata": {},
   "outputs": [],
   "source": [
    "encoder = make_encoder()"
   ]
  },
  {
   "cell_type": "code",
   "execution_count": 28,
   "metadata": {},
   "outputs": [],
   "source": [
    "cross_entropy = tf.keras.losses.BinaryCrossentropy()"
   ]
  },
  {
   "cell_type": "code",
   "execution_count": 29,
   "metadata": {},
   "outputs": [],
   "source": [
    "def encoder_loss(decoded_fake):\n",
    "    loss = cross_entropy(tf.ones_like(decoded_fake), decoded_fake)\n",
    "    return loss"
   ]
  },
  {
   "cell_type": "code",
   "execution_count": 30,
   "metadata": {},
   "outputs": [],
   "source": [
    "encoder_optimizer = tf.keras.optimizers.Adam(learning_rate=1e-4)"
   ]
  },
  {
   "cell_type": "markdown",
   "metadata": {},
   "source": [
    "# Decoder"
   ]
  },
  {
   "cell_type": "code",
   "execution_count": 31,
   "metadata": {},
   "outputs": [],
   "source": [
    "def make_decoder():\n",
    "    \n",
    "    # Image input\n",
    "    in_image = Input(shape=(renderSize1, renderSize2))\n",
    "    l_image  = Reshape((renderSize1, renderSize2, 1))(in_image)\n",
    "    \n",
    "    # Convolution\n",
    "    l_image  = Conv2D(64, (4,4), padding='same', strides=(2,2))(l_image)\n",
    "    l_image  = BatchNormalization()(l_image)\n",
    "    l_image  = LeakyReLU()(l_image)\n",
    "    \n",
    "    l_image  = Conv2D(128, (4,4), padding='same', strides=(2,2))(l_image)\n",
    "    l_image  = BatchNormalization()(l_image)\n",
    "    l_image  = LeakyReLU()(l_image)\n",
    "    \n",
    "    l_image  = Flatten()(l_image)\n",
    "    l_image  = Dense(1, activation=tf.nn.sigmoid)(l_image)\n",
    "    \n",
    "    # Model \n",
    "    model         = Model([in_image], l_image)\n",
    "    \n",
    "    return model    "
   ]
  },
  {
   "cell_type": "code",
   "execution_count": 32,
   "metadata": {},
   "outputs": [],
   "source": [
    "decoder = make_decoder()"
   ]
  },
  {
   "cell_type": "code",
   "execution_count": 33,
   "metadata": {},
   "outputs": [],
   "source": [
    "def decoder_loss(decoded_real, decoded_fake):\n",
    "        \n",
    "    real_loss = cross_entropy(tf.ones_like(decoded_real), decoded_real)\n",
    "    fake_loss = cross_entropy(tf.zeros_like(decoded_fake), decoded_fake)\n",
    "    loss = real_loss + fake_loss\n",
    "    \n",
    "    return loss"
   ]
  },
  {
   "cell_type": "code",
   "execution_count": 34,
   "metadata": {},
   "outputs": [],
   "source": [
    "decoder_optimizer = tf.keras.optimizers.Adam(learning_rate=1e-4)"
   ]
  },
  {
   "cell_type": "markdown",
   "metadata": {},
   "source": [
    "# Data Storage"
   ]
  },
  {
   "cell_type": "code",
   "execution_count": 35,
   "metadata": {},
   "outputs": [],
   "source": [
    "save_dir = \"./data/training-hole-filling/\"\n",
    "base     = \"{dir}/{time}_{type}_{renderSize1}_{renderSize2}.{ext}\"\n",
    "now      = datetime.now().strftime('%Y-%m-%d_%H-%M')"
   ]
  },
  {
   "cell_type": "code",
   "execution_count": 36,
   "metadata": {},
   "outputs": [],
   "source": [
    "common_format = {\n",
    "    'time': now,\n",
    "    'renderSize1': renderSize1,\n",
    "    'renderSize2': renderSize2,\n",
    "}"
   ]
  },
  {
   "cell_type": "code",
   "execution_count": 37,
   "metadata": {},
   "outputs": [],
   "source": [
    "loss_filepath = save_dir + base.format(\n",
    "    dir=\"training-losses\",\n",
    "    type='loss',\n",
    "    ext='log',\n",
    "    **common_format\n",
    ")\n",
    "\n",
    "gif_filepath = save_dir + base.format(\n",
    "    dir=\"training-gifs\",\n",
    "    type='evolution',\n",
    "    ext='gif',\n",
    "    **common_format\n",
    ")\n",
    "\n",
    "encoder_filepath = save_dir + base.format(\n",
    "    dir='training-encoders',\n",
    "    type='encoder',\n",
    "    ext='h5',\n",
    "    **common_format\n",
    ")"
   ]
  },
  {
   "cell_type": "markdown",
   "metadata": {},
   "source": [
    "# Training"
   ]
  },
  {
   "cell_type": "code",
   "execution_count": 38,
   "metadata": {},
   "outputs": [],
   "source": [
    "@tf.function\n",
    "def train_step(real_images, dropout_images):\n",
    "    \n",
    "    with tf.GradientTape() as enc_tape, tf.GradientTape() as dec_tape:\n",
    "        \n",
    "        fake_images  = encoder(dropout_images, training=True)\n",
    "        decoded_real = decoder(real_images)\n",
    "        decoded_fake = decoder(fake_images)\n",
    "        \n",
    "        enc_loss = encoder_loss(decoded_fake)\n",
    "        dec_loss = decoder_loss(decoded_real, decoded_fake)\n",
    "\n",
    "    # Output the losses to the log files\n",
    "    tf.print(enc_loss, output_stream=enc_logfile)\n",
    "    tf.print(dec_loss, output_stream=dec_logfile)\n",
    "    \n",
    "    # Calculate and apply the gradients to the encoder and decoder\n",
    "    gradients_of_encoder = enc_tape.gradient(enc_loss, encoder.trainable_variables)\n",
    "    gradients_of_decoder = dec_tape.gradient(dec_loss, decoder.trainable_variables)\n",
    "\n",
    "    encoder_optimizer.apply_gradients(zip(gradients_of_encoder, encoder.trainable_variables))\n",
    "    decoder_optimizer.apply_gradients(zip(gradients_of_decoder, decoder.trainable_variables))"
   ]
  },
  {
   "cell_type": "code",
   "execution_count": 39,
   "metadata": {},
   "outputs": [],
   "source": [
    "image_directory = \"./data/training-hole-filling/training-images/\""
   ]
  },
  {
   "cell_type": "code",
   "execution_count": 40,
   "metadata": {},
   "outputs": [],
   "source": [
    "display_images = train_images_slice"
   ]
  },
  {
   "cell_type": "code",
   "execution_count": 41,
   "metadata": {},
   "outputs": [],
   "source": [
    "def generate_and_save_images(encoder, epoch):\n",
    "    \n",
    "    encodings = encoder(display_images, training=False)\n",
    "    \n",
    "    fig, ax = plt.subplots(1, 10, figsize=(10,1))\n",
    "\n",
    "    for i in range(10):\n",
    "        ax[i].imshow(encodings[i].numpy(), cmap='gray', vmin=-1, vmax=1)\n",
    "        ax[i].axis('off')\n",
    "        \n",
    "    plt.suptitle(f\"Epoch {epoch}\")\n",
    "\n",
    "    plt.savefig(image_directory + 'generated-epoch-{0:02d}.png'.format(epoch))\n",
    "    plt.show()"
   ]
  },
  {
   "cell_type": "code",
   "execution_count": 42,
   "metadata": {
    "scrolled": true
   },
   "outputs": [
    {
     "data": {
      "image/png": "[encoded data removed]",
      "text/plain": [
       "<Figure size 720x72 with 10 Axes>"
      ]
     },
     "metadata": {
      "needs_background": "light"
     },
     "output_type": "display_data"
    }
   ],
   "source": [
    "generate_and_save_images(encoder, 0)"
   ]
  },
  {
   "cell_type": "code",
   "execution_count": 43,
   "metadata": {},
   "outputs": [],
   "source": [
    "BATCH_SIZE = 250\n",
    "EPOCH_SIZE = num_real\n",
    "NUM_BATCHES = EPOCH_SIZE // BATCH_SIZE"
   ]
  },
  {
   "cell_type": "code",
   "execution_count": 44,
   "metadata": {},
   "outputs": [
    {
     "data": {
      "text/plain": [
       "240"
      ]
     },
     "execution_count": 44,
     "metadata": {},
     "output_type": "execute_result"
    }
   ],
   "source": [
    "NUM_BATCHES"
   ]
  },
  {
   "cell_type": "code",
   "execution_count": 45,
   "metadata": {},
   "outputs": [],
   "source": [
    "# Define the encoder and decoder log paths\n",
    "enc_logpath = loss_filepath.replace(\"_loss_\", \"_enc_loss_cgan_\")\n",
    "dec_logpath = loss_filepath.replace(\"_loss_\", \"_dec_loss_cgan_\")\n",
    "\n",
    "# Format for tensorflow's print function\n",
    "enc_logfile = \"file://\" + enc_logpath\n",
    "dec_logfile = \"file://\" + dec_logpath"
   ]
  },
  {
   "cell_type": "code",
   "execution_count": 46,
   "metadata": {},
   "outputs": [],
   "source": [
    "initial_fake_images = encoder(dropout_tensor[:BATCH_SIZE])"
   ]
  },
  {
   "cell_type": "code",
   "execution_count": 47,
   "metadata": {},
   "outputs": [],
   "source": [
    "initial_decoded_fake = decoder(initial_fake_images)"
   ]
  },
  {
   "cell_type": "code",
   "execution_count": 48,
   "metadata": {},
   "outputs": [],
   "source": [
    "initial_decoded_real = decoder(tf.cast(train_images[:BATCH_SIZE], tf.float32))"
   ]
  },
  {
   "cell_type": "code",
   "execution_count": 49,
   "metadata": {},
   "outputs": [],
   "source": [
    "with open(enc_logpath, 'w') as outfile:\n",
    "    encoder_loss_value = encoder_loss(initial_decoded_fake)\n",
    "    outfile.write(str(encoder_loss_value.numpy()))\n",
    "    outfile.write('\\n')\n",
    "    \n",
    "with open(dec_logpath, 'w') as outfile:\n",
    "    decoder_loss_value = decoder_loss(initial_decoded_real, initial_decoded_fake)\n",
    "    outfile.write(str(decoder_loss_value.numpy()))\n",
    "    outfile.write('\\n')"
   ]
  },
  {
   "cell_type": "code",
   "execution_count": 50,
   "metadata": {},
   "outputs": [],
   "source": [
    "def train(epochs):\n",
    "    \n",
    "    for epoch in range(epochs):\n",
    "        start = time.time()\n",
    "\n",
    "        for i in range(NUM_BATCHES):\n",
    "            imin = i * BATCH_SIZE\n",
    "            imax = (i+1) * BATCH_SIZE\n",
    "            \n",
    "            real_images_slice = tf.cast(train_images[imin:imax], tf.float32)\n",
    "                    \n",
    "            # Add dropout to the real images\n",
    "            grid = gridType(gridParam1, gridParam2, renderSize1, renderSize2)\n",
    "            dropout_images_slice = [grid.render(Stimulus(original, grid).vector) for original in train_images[imin:imax]]\n",
    "            dropout_images_slice = tf.cast(dropout_images_slice, tf.float32)\n",
    "            \n",
    "            train_step(real_images_slice, dropout_images_slice)\n",
    "\n",
    "        # Generate and save progressive images\n",
    "        display.clear_output(wait=True)\n",
    "        generate_and_save_images(encoder, epoch + 1)\n",
    "\n",
    "        print(f'Time for epoch {epoch+1} is {time.time()-start} sec.')"
   ]
  },
  {
   "cell_type": "markdown",
   "metadata": {},
   "source": [
    "# Running Training"
   ]
  },
  {
   "cell_type": "code",
   "execution_count": 51,
   "metadata": {},
   "outputs": [],
   "source": [
    "EPOCHS = 20"
   ]
  },
  {
   "cell_type": "code",
   "execution_count": 56,
   "metadata": {},
   "outputs": [
    {
     "data": {
      "image/png": "[encoded data removed]",
      "text/plain": [
       "<Figure size 720x72 with 10 Axes>"
      ]
     },
     "metadata": {
      "needs_background": "light"
     },
     "output_type": "display_data"
    },
    {
     "name": "stdout",
     "output_type": "stream",
     "text": [
      "Time for epoch 5 is 1837.100498199463 sec.\n"
     ]
    },
    {
     "ename": "KeyboardInterrupt",
     "evalue": "",
     "output_type": "error",
     "traceback": [
      "\u001b[1;31m---------------------------------------------------------------------------\u001b[0m",
      "\u001b[1;31mKeyboardInterrupt\u001b[0m                         Traceback (most recent call last)",
      "\u001b[1;32m<ipython-input-56-93316e7e9b3e>\u001b[0m in \u001b[0;36m<module>\u001b[1;34m\u001b[0m\n\u001b[1;32m----> 1\u001b[1;33m \u001b[0mtrain\u001b[0m\u001b[1;33m(\u001b[0m\u001b[0mEPOCHS\u001b[0m\u001b[1;33m)\u001b[0m\u001b[1;33m\u001b[0m\u001b[1;33m\u001b[0m\u001b[0m\n\u001b[0m",
      "\u001b[1;32m<ipython-input-50-ba0e123c8446>\u001b[0m in \u001b[0;36mtrain\u001b[1;34m(epochs)\u001b[0m\n\u001b[0;32m     15\u001b[0m             \u001b[0mdropout_images_slice\u001b[0m \u001b[1;33m=\u001b[0m \u001b[0mtf\u001b[0m\u001b[1;33m.\u001b[0m\u001b[0mcast\u001b[0m\u001b[1;33m(\u001b[0m\u001b[0mdropout_images_slice\u001b[0m\u001b[1;33m,\u001b[0m \u001b[0mtf\u001b[0m\u001b[1;33m.\u001b[0m\u001b[0mfloat32\u001b[0m\u001b[1;33m)\u001b[0m\u001b[1;33m\u001b[0m\u001b[1;33m\u001b[0m\u001b[0m\n\u001b[0;32m     16\u001b[0m \u001b[1;33m\u001b[0m\u001b[0m\n\u001b[1;32m---> 17\u001b[1;33m             \u001b[0mtrain_step\u001b[0m\u001b[1;33m(\u001b[0m\u001b[0mreal_images_slice\u001b[0m\u001b[1;33m,\u001b[0m \u001b[0mdropout_images_slice\u001b[0m\u001b[1;33m)\u001b[0m\u001b[1;33m\u001b[0m\u001b[1;33m\u001b[0m\u001b[0m\n\u001b[0m\u001b[0;32m     18\u001b[0m \u001b[1;33m\u001b[0m\u001b[0m\n\u001b[0;32m     19\u001b[0m         \u001b[1;31m# Generate and save progressive images\u001b[0m\u001b[1;33m\u001b[0m\u001b[1;33m\u001b[0m\u001b[1;33m\u001b[0m\u001b[0m\n",
      "\u001b[1;32m~\\AppData\\Local\\Continuum\\anaconda3\\lib\\site-packages\\tensorflow\\python\\eager\\def_function.py\u001b[0m in \u001b[0;36m__call__\u001b[1;34m(self, *args, **kwds)\u001b[0m\n\u001b[0;32m    402\u001b[0m       \u001b[1;31m# In this case we have created variables on the first call, so we run the\u001b[0m\u001b[1;33m\u001b[0m\u001b[1;33m\u001b[0m\u001b[1;33m\u001b[0m\u001b[0m\n\u001b[0;32m    403\u001b[0m       \u001b[1;31m# defunned version which is guaranteed to never create variables.\u001b[0m\u001b[1;33m\u001b[0m\u001b[1;33m\u001b[0m\u001b[1;33m\u001b[0m\u001b[0m\n\u001b[1;32m--> 404\u001b[1;33m       \u001b[1;32mreturn\u001b[0m \u001b[0mself\u001b[0m\u001b[1;33m.\u001b[0m\u001b[0m_stateless_fn\u001b[0m\u001b[1;33m(\u001b[0m\u001b[1;33m*\u001b[0m\u001b[0margs\u001b[0m\u001b[1;33m,\u001b[0m \u001b[1;33m**\u001b[0m\u001b[0mkwds\u001b[0m\u001b[1;33m)\u001b[0m  \u001b[1;31m# pylint: disable=not-callable\u001b[0m\u001b[1;33m\u001b[0m\u001b[1;33m\u001b[0m\u001b[0m\n\u001b[0m\u001b[0;32m    405\u001b[0m     \u001b[1;32melif\u001b[0m \u001b[0mself\u001b[0m\u001b[1;33m.\u001b[0m\u001b[0m_stateful_fn\u001b[0m \u001b[1;32mis\u001b[0m \u001b[1;32mnot\u001b[0m \u001b[1;32mNone\u001b[0m\u001b[1;33m:\u001b[0m\u001b[1;33m\u001b[0m\u001b[1;33m\u001b[0m\u001b[0m\n\u001b[0;32m    406\u001b[0m       \u001b[1;31m# In this case we have not created variables on the first call. So we can\u001b[0m\u001b[1;33m\u001b[0m\u001b[1;33m\u001b[0m\u001b[1;33m\u001b[0m\u001b[0m\n",
      "\u001b[1;32m~\\AppData\\Local\\Continuum\\anaconda3\\lib\\site-packages\\tensorflow\\python\\eager\\function.py\u001b[0m in \u001b[0;36m__call__\u001b[1;34m(self, *args, **kwargs)\u001b[0m\n\u001b[0;32m   1333\u001b[0m     \u001b[1;34m\"\"\"Calls a graph function specialized to the inputs.\"\"\"\u001b[0m\u001b[1;33m\u001b[0m\u001b[1;33m\u001b[0m\u001b[0m\n\u001b[0;32m   1334\u001b[0m     \u001b[0mgraph_function\u001b[0m\u001b[1;33m,\u001b[0m \u001b[0margs\u001b[0m\u001b[1;33m,\u001b[0m \u001b[0mkwargs\u001b[0m \u001b[1;33m=\u001b[0m \u001b[0mself\u001b[0m\u001b[1;33m.\u001b[0m\u001b[0m_maybe_define_function\u001b[0m\u001b[1;33m(\u001b[0m\u001b[0margs\u001b[0m\u001b[1;33m,\u001b[0m \u001b[0mkwargs\u001b[0m\u001b[1;33m)\u001b[0m\u001b[1;33m\u001b[0m\u001b[1;33m\u001b[0m\u001b[0m\n\u001b[1;32m-> 1335\u001b[1;33m     \u001b[1;32mreturn\u001b[0m \u001b[0mgraph_function\u001b[0m\u001b[1;33m.\u001b[0m\u001b[0m_filtered_call\u001b[0m\u001b[1;33m(\u001b[0m\u001b[0margs\u001b[0m\u001b[1;33m,\u001b[0m \u001b[0mkwargs\u001b[0m\u001b[1;33m)\u001b[0m  \u001b[1;31m# pylint: disable=protected-access\u001b[0m\u001b[1;33m\u001b[0m\u001b[1;33m\u001b[0m\u001b[0m\n\u001b[0m\u001b[0;32m   1336\u001b[0m \u001b[1;33m\u001b[0m\u001b[0m\n\u001b[0;32m   1337\u001b[0m   \u001b[1;33m@\u001b[0m\u001b[0mproperty\u001b[0m\u001b[1;33m\u001b[0m\u001b[1;33m\u001b[0m\u001b[0m\n",
      "\u001b[1;32m~\\AppData\\Local\\Continuum\\anaconda3\\lib\\site-packages\\tensorflow\\python\\eager\\function.py\u001b[0m in \u001b[0;36m_filtered_call\u001b[1;34m(self, args, kwargs)\u001b[0m\n\u001b[0;32m    587\u001b[0m     \"\"\"\n\u001b[0;32m    588\u001b[0m     return self._call_flat(\n\u001b[1;32m--> 589\u001b[1;33m         (t for t in nest.flatten((args, kwargs), expand_composites=True)\n\u001b[0m\u001b[0;32m    590\u001b[0m          if isinstance(t, (ops.Tensor,\n\u001b[0;32m    591\u001b[0m                            resource_variable_ops.ResourceVariable))))\n",
      "\u001b[1;32m~\\AppData\\Local\\Continuum\\anaconda3\\lib\\site-packages\\tensorflow\\python\\eager\\function.py\u001b[0m in \u001b[0;36m_call_flat\u001b[1;34m(self, args)\u001b[0m\n\u001b[0;32m    669\u001b[0m     \u001b[1;31m# Only need to override the gradient in graph mode and when we have outputs.\u001b[0m\u001b[1;33m\u001b[0m\u001b[1;33m\u001b[0m\u001b[1;33m\u001b[0m\u001b[0m\n\u001b[0;32m    670\u001b[0m     \u001b[1;32mif\u001b[0m \u001b[0mcontext\u001b[0m\u001b[1;33m.\u001b[0m\u001b[0mexecuting_eagerly\u001b[0m\u001b[1;33m(\u001b[0m\u001b[1;33m)\u001b[0m \u001b[1;32mor\u001b[0m \u001b[1;32mnot\u001b[0m \u001b[0mself\u001b[0m\u001b[1;33m.\u001b[0m\u001b[0moutputs\u001b[0m\u001b[1;33m:\u001b[0m\u001b[1;33m\u001b[0m\u001b[1;33m\u001b[0m\u001b[0m\n\u001b[1;32m--> 671\u001b[1;33m       \u001b[0moutputs\u001b[0m \u001b[1;33m=\u001b[0m \u001b[0mself\u001b[0m\u001b[1;33m.\u001b[0m\u001b[0m_inference_function\u001b[0m\u001b[1;33m.\u001b[0m\u001b[0mcall\u001b[0m\u001b[1;33m(\u001b[0m\u001b[0mctx\u001b[0m\u001b[1;33m,\u001b[0m \u001b[0margs\u001b[0m\u001b[1;33m)\u001b[0m\u001b[1;33m\u001b[0m\u001b[1;33m\u001b[0m\u001b[0m\n\u001b[0m\u001b[0;32m    672\u001b[0m     \u001b[1;32melse\u001b[0m\u001b[1;33m:\u001b[0m\u001b[1;33m\u001b[0m\u001b[1;33m\u001b[0m\u001b[0m\n\u001b[0;32m    673\u001b[0m       \u001b[0mself\u001b[0m\u001b[1;33m.\u001b[0m\u001b[0m_register_gradient\u001b[0m\u001b[1;33m(\u001b[0m\u001b[1;33m)\u001b[0m\u001b[1;33m\u001b[0m\u001b[1;33m\u001b[0m\u001b[0m\n",
      "\u001b[1;32m~\\AppData\\Local\\Continuum\\anaconda3\\lib\\site-packages\\tensorflow\\python\\eager\\function.py\u001b[0m in \u001b[0;36mcall\u001b[1;34m(self, ctx, args)\u001b[0m\n\u001b[0;32m    443\u001b[0m             attrs=(\"executor_type\", executor_type,\n\u001b[0;32m    444\u001b[0m                    \"config_proto\", config),\n\u001b[1;32m--> 445\u001b[1;33m             ctx=ctx)\n\u001b[0m\u001b[0;32m    446\u001b[0m       \u001b[1;31m# Replace empty list with None\u001b[0m\u001b[1;33m\u001b[0m\u001b[1;33m\u001b[0m\u001b[1;33m\u001b[0m\u001b[0m\n\u001b[0;32m    447\u001b[0m       \u001b[0moutputs\u001b[0m \u001b[1;33m=\u001b[0m \u001b[0moutputs\u001b[0m \u001b[1;32mor\u001b[0m \u001b[1;32mNone\u001b[0m\u001b[1;33m\u001b[0m\u001b[1;33m\u001b[0m\u001b[0m\n",
      "\u001b[1;32m~\\AppData\\Local\\Continuum\\anaconda3\\lib\\site-packages\\tensorflow\\python\\eager\\execute.py\u001b[0m in \u001b[0;36mquick_execute\u001b[1;34m(op_name, num_outputs, inputs, attrs, ctx, name)\u001b[0m\n\u001b[0;32m     59\u001b[0m     tensors = pywrap_tensorflow.TFE_Py_Execute(ctx._handle, device_name,\n\u001b[0;32m     60\u001b[0m                                                \u001b[0mop_name\u001b[0m\u001b[1;33m,\u001b[0m \u001b[0minputs\u001b[0m\u001b[1;33m,\u001b[0m \u001b[0mattrs\u001b[0m\u001b[1;33m,\u001b[0m\u001b[1;33m\u001b[0m\u001b[1;33m\u001b[0m\u001b[0m\n\u001b[1;32m---> 61\u001b[1;33m                                                num_outputs)\n\u001b[0m\u001b[0;32m     62\u001b[0m   \u001b[1;32mexcept\u001b[0m \u001b[0mcore\u001b[0m\u001b[1;33m.\u001b[0m\u001b[0m_NotOkStatusException\u001b[0m \u001b[1;32mas\u001b[0m \u001b[0me\u001b[0m\u001b[1;33m:\u001b[0m\u001b[1;33m\u001b[0m\u001b[1;33m\u001b[0m\u001b[0m\n\u001b[0;32m     63\u001b[0m     \u001b[1;32mif\u001b[0m \u001b[0mname\u001b[0m \u001b[1;32mis\u001b[0m \u001b[1;32mnot\u001b[0m \u001b[1;32mNone\u001b[0m\u001b[1;33m:\u001b[0m\u001b[1;33m\u001b[0m\u001b[1;33m\u001b[0m\u001b[0m\n",
      "\u001b[1;31mKeyboardInterrupt\u001b[0m: "
     ]
    }
   ],
   "source": [
    "train(EPOCHS)"
   ]
  },
  {
   "cell_type": "markdown",
   "metadata": {},
   "source": [
    "# Viewing Results"
   ]
  },
  {
   "cell_type": "code",
   "execution_count": 57,
   "metadata": {},
   "outputs": [],
   "source": [
    "def plot_loss(logpath):\n",
    "    \n",
    "    enc_logpath = logpath.replace(\"_loss_\", \"_enc_loss_cgan_\")\n",
    "    dec_logpath = logpath.replace(\"_loss_\", \"_dec_loss_cgan_\")\n",
    "    \n",
    "    with open(enc_logpath) as infile:\n",
    "        enc_loss_raw = infile.readlines()\n",
    "        \n",
    "    with open(dec_logpath) as infile:\n",
    "        dec_loss_raw = infile.readlines()\n",
    "\n",
    "    enc_loss_data = np.array(list(map(float, enc_loss_raw)))\n",
    "    dec_loss_data = np.array(list(map(float, dec_loss_raw)))\n",
    "\n",
    "    plt.plot(range(enc_loss_data.shape[0]), enc_loss_data, color='teal', label='Loss for encoder training')\n",
    "    plt.plot(range(dec_loss_data.shape[0]), dec_loss_data, color='tomato', label='Loss for decoder training')\n",
    "    plt.ylabel(\"Loss\")\n",
    "    plt.xlabel(\"Training Batch (each containing 250 images)\")\n",
    "    plt.title(\"Loss per Epoch\")\n",
    "    plt.legend()\n",
    "\n",
    "    plot_file = logpath.replace(\"losses\", \"graphs\").replace(\".log\", \".png\")\n",
    "    plt.savefig(plot_file)\n",
    "    print(\"./03-psychophysics/\" + plot_file)\n",
    "    return plot_file"
   ]
  },
  {
   "cell_type": "code",
   "execution_count": 58,
   "metadata": {},
   "outputs": [
    {
     "name": "stdout",
     "output_type": "stream",
     "text": [
      "./03-psychophysics/./data/training-hole-filling/training-graphs/2019-07-18_13-57_loss_48_48.png\n"
     ]
    },
    {
     "data": {
      "text/plain": [
       "'./data/training-hole-filling/training-graphs/2019-07-18_13-57_loss_48_48.png'"
      ]
     },
     "execution_count": 58,
     "metadata": {},
     "output_type": "execute_result"
    },
    {
     "data": {
      "image/png": "[encoded data removed]",
      "text/plain": [
       "<Figure size 432x288 with 1 Axes>"
      ]
     },
     "metadata": {
      "needs_background": "light"
     },
     "output_type": "display_data"
    }
   ],
   "source": [
    "plot_loss(loss_filepath)"
   ]
  },
  {
   "cell_type": "code",
   "execution_count": 61,
   "metadata": {},
   "outputs": [],
   "source": [
    "generated_images = glob.glob(image_directory + (\"*.png\"))\n",
    "images = [PIL.Image.open(image) for image in generated_images]\n",
    "\n",
    "# save the first image 10 times\n",
    "images[0].save(gif_filepath,\n",
    "               save_all=True,\n",
    "               append_images=[images[0]] * 10 + images + [images[-1]]*10,\n",
    "               duration=100,\n",
    "               loop=0)"
   ]
  },
  {
   "cell_type": "code",
   "execution_count": 62,
   "metadata": {},
   "outputs": [],
   "source": [
    "encoder.save(encoder_filepath)"
   ]
  },
  {
   "cell_type": "code",
   "execution_count": 63,
   "metadata": {},
   "outputs": [
    {
     "name": "stderr",
     "output_type": "stream",
     "text": [
      "W0719 12:35:02.284446  5344 hdf5_format.py:171] No training configuration found in save file: the model was *not* compiled. Compile it manually.\n"
     ]
    }
   ],
   "source": [
    "test = tf.keras.models.load_model(encoder_filepath)"
   ]
  },
  {
   "cell_type": "code",
   "execution_count": 64,
   "metadata": {},
   "outputs": [
    {
     "data": {
      "image/png": "[encoded data removed]",
      "text/plain": [
       "<Figure size 720x72 with 10 Axes>"
      ]
     },
     "metadata": {
      "needs_background": "light"
     },
     "output_type": "display_data"
    }
   ],
   "source": [
    "fig, ax = plt.subplots(1, 10, figsize=(10,1))\n",
    "\n",
    "for i in range(198, 208):\n",
    "    ax[i-198].imshow(train_images[i], cmap='gray')\n",
    "    ax[i-198].axis('off')"
   ]
  },
  {
   "cell_type": "code",
   "execution_count": 88,
   "metadata": {},
   "outputs": [
    {
     "data": {
      "image/png": "[encoded data removed]",
      "text/plain": [
       "<Figure size 720x72 with 10 Axes>"
      ]
     },
     "metadata": {
      "needs_background": "light"
     },
     "output_type": "display_data"
    }
   ],
   "source": [
    "# Add dropout to the real images\n",
    "grid = gridType(gridParam1, gridParam2, renderSize1, renderSize2)\n",
    "test_slice = [grid.render(Stimulus(original, grid).vector) for original in train_images[198:208]]\n",
    "test_slice = tf.cast(test_slice, tf.float32)\n",
    "\n",
    "fig, ax = plt.subplots(1, 10, figsize=(10,1))\n",
    "\n",
    "for i in range(10):\n",
    "    ax[i].imshow(test_slice[i], cmap='gray')\n",
    "    ax[i].axis('off')"
   ]
  },
  {
   "cell_type": "code",
   "execution_count": 89,
   "metadata": {},
   "outputs": [
    {
     "data": {
      "image/png": "[encoded data removed]",
      "text/plain": [
       "<Figure size 720x72 with 10 Axes>"
      ]
     },
     "metadata": {
      "needs_background": "light"
     },
     "output_type": "display_data"
    }
   ],
   "source": [
    "test_renders = test(test_slice)\n",
    "\n",
    "fig, ax = plt.subplots(1, 10, figsize=(10,1))\n",
    "\n",
    "for i in range(10):\n",
    "    ax[i].imshow(test_renders[i], cmap='gray')\n",
    "    ax[i].axis('off')"
   ]
  },
  {
   "cell_type": "code",
   "execution_count": null,
   "metadata": {},
   "outputs": [],
   "source": []
  }
 ],
 "metadata": {
  "kernelspec": {
   "display_name": "Python 3",
   "language": "python",
   "name": "python3"
  },
  "language_info": {
   "codemirror_mode": {
    "name": "ipython",
    "version": 3
   },
   "file_extension": ".py",
   "mimetype": "text/x-python",
   "name": "python",
   "nbconvert_exporter": "python",
   "pygments_lexer": "ipython3",
   "version": "3.7.3"
  },
  "toc": {
   "base_numbering": 1,
   "nav_menu": {},
   "number_sections": true,
   "sideBar": true,
   "skip_h1_title": false,
   "title_cell": "Table of Contents",
   "title_sidebar": "Contents",
   "toc_cell": false,
   "toc_position": {},
   "toc_section_display": true,
   "toc_window_display": false
  }
 },
 "nbformat": 4,
 "nbformat_minor": 2
}
