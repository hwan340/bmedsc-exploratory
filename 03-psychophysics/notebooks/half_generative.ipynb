{
 "cells": [
  {
   "cell_type": "markdown",
   "metadata": {
    "colab_type": "text",
    "id": "qCCvr0COxju8"
   },
   "source": [
    "# Setup"
   ]
  },
  {
   "cell_type": "code",
   "execution_count": 2,
   "metadata": {
    "colab": {},
    "colab_type": "code",
    "id": "C1w2sAlIxP4S"
   },
   "outputs": [],
   "source": [
    "# !pip install -q tensorflow-gpu==2.0.0-alpha0"
   ]
  },
  {
   "cell_type": "code",
   "execution_count": 3,
   "metadata": {
    "colab": {},
    "colab_type": "code",
    "id": "5V6TkOXwxeel"
   },
   "outputs": [],
   "source": [
    "import tensorflow as tf"
   ]
  },
  {
   "cell_type": "code",
   "execution_count": 4,
   "metadata": {
    "colab": {},
    "colab_type": "code",
    "id": "9GWfbOu-xhM3"
   },
   "outputs": [],
   "source": [
    "import glob\n",
    "import imageio\n",
    "import matplotlib.pyplot as plt\n",
    "from matplotlib.backends.backend_agg import FigureCanvasAgg as FigureCanvas\n",
    "import numpy as np\n",
    "import os\n",
    "import PIL\n",
    "from tensorflow.keras import layers, Sequential\n",
    "import time\n",
    "from IPython import display\n"
   ]
  },
  {
   "cell_type": "code",
   "execution_count": 5,
   "metadata": {
    "colab": {},
    "colab_type": "code",
    "id": "wMgWtmEdxg7b"
   },
   "outputs": [],
   "source": [
    "plt.rcParams[\"xtick.direction\"] = \"in\"\n",
    "plt.rcParams[\"ytick.direction\"] = \"in\""
   ]
  },
  {
   "cell_type": "markdown",
   "metadata": {
    "colab_type": "text",
    "id": "AtZtm_9vxjGm"
   },
   "source": [
    "# Digit to Image"
   ]
  },
  {
   "cell_type": "code",
   "execution_count": 6,
   "metadata": {
    "colab": {},
    "colab_type": "code",
    "id": "ZC4aC99sRjWV"
   },
   "outputs": [
    {
     "ename": "ModuleNotFoundError",
     "evalue": "No module named 'cv2'",
     "output_type": "error",
     "traceback": [
      "\u001b[1;31m---------------------------------------------------------------------------\u001b[0m",
      "\u001b[1;31mModuleNotFoundError\u001b[0m                       Traceback (most recent call last)",
      "\u001b[1;32m<ipython-input-6-c8ec22b3e787>\u001b[0m in \u001b[0;36m<module>\u001b[1;34m\u001b[0m\n\u001b[1;32m----> 1\u001b[1;33m \u001b[1;32mimport\u001b[0m \u001b[0mcv2\u001b[0m\u001b[1;33m\u001b[0m\u001b[1;33m\u001b[0m\u001b[0m\n\u001b[0m",
      "\u001b[1;31mModuleNotFoundError\u001b[0m: No module named 'cv2'"
     ]
    }
   ],
   "source": [
    "import cv2"
   ]
  },
  {
   "cell_type": "code",
   "execution_count": 0,
   "metadata": {
    "colab": {},
    "colab_type": "code",
    "id": "esKIal4txpOR"
   },
   "outputs": [],
   "source": [
    "def digit_to_image(digit : int):\n",
    "    fig = plt.figure(figsize=(1,1))\n",
    "    canvas = FigureCanvas(fig)\n",
    "    ax = plt.gca()\n",
    "    fig.patch.set_facecolor('black')\n",
    "    plt.axis('off')\n",
    "    ax.xaxis.set_major_locator(plt.NullLocator())\n",
    "    ax.yaxis.set_major_locator(plt.NullLocator())\n",
    "    ax.xaxis.set_visible(False)\n",
    "    ax.yaxis.set_visible(False)\n",
    "    plt.subplots_adjust(top = 1, bottom = 0, right = 1, left = 0, hspace = 0, wspace = 0)\n",
    "    plt.text(0.25 + random.random() / 2, 0.25 + random.random() / 2, str(int(digit)),\n",
    "             size=48,\n",
    "             color='white',\n",
    "             clip_box=ax.clipbox,\n",
    "             clip_on=True,\n",
    "             horizontalalignment = 'center',\n",
    "             verticalalignment = 'center',\n",
    "             linespacing = 0,\n",
    "             #bbox=dict(facecolor='red', alpha=0.5),\n",
    "             transform=ax.transAxes)\n",
    "    #plt.savefig(f'{digit}.png', pad_inches=0, facecolor='black')\n",
    "    canvas.draw()\n",
    "    width, height = fig.get_size_inches() * fig.get_dpi()\n",
    "    image = color.rgb2gray(np.frombuffer(canvas.tostring_rgb(), dtype='uint8').reshape(int(height), int(width), 3))\n",
    "    plt.close(fig)\n",
    "    return cv2.resize(image, dsize=(64,64)).astype(np.float32)"
   ]
  },
  {
   "cell_type": "code",
   "execution_count": 0,
   "metadata": {
    "colab": {
     "base_uri": "https://localhost:8080/",
     "height": 281
    },
    "colab_type": "code",
    "id": "pUDp2XGBxpcJ",
    "outputId": "0081a0e9-62a1-4b8e-adaf-41f8fb374369"
   },
   "outputs": [
    {
     "data": {
      "text/plain": [
       "<matplotlib.image.AxesImage at 0x7f8b3760a080>"
      ]
     },
     "execution_count": 259,
     "metadata": {
      "tags": []
     },
     "output_type": "execute_result"
    },
    {
     "data": {
      "image/png": "[encoded data removed]",
      "text/plain": [
       "<Figure size 432x288 with 1 Axes>"
      ]
     },
     "metadata": {
      "tags": []
     },
     "output_type": "display_data"
    }
   ],
   "source": [
    "plt.imshow(digit_to_image(2), cmap=\"gray\")"
   ]
  },
  {
   "cell_type": "markdown",
   "metadata": {
    "colab_type": "text",
    "id": "TUMlH56Lxqq7"
   },
   "source": [
    "# Training MNIST"
   ]
  },
  {
   "cell_type": "code",
   "execution_count": 0,
   "metadata": {
    "colab": {},
    "colab_type": "code",
    "id": "XMDmhcICxweH"
   },
   "outputs": [],
   "source": [
    "import cv2"
   ]
  },
  {
   "cell_type": "code",
   "execution_count": 0,
   "metadata": {
    "colab": {},
    "colab_type": "code",
    "id": "cUgqnPi1xthX"
   },
   "outputs": [],
   "source": [
    "(train_images, train_labels), (_, _) = tf.keras.datasets.mnist.load_data()"
   ]
  },
  {
   "cell_type": "code",
   "execution_count": 0,
   "metadata": {
    "colab": {},
    "colab_type": "code",
    "id": "ndK450xFxyRi"
   },
   "outputs": [],
   "source": [
    "train_images = np.stack([cv2.resize(image, dsize=(64, 64)).astype('float32') for image in train_images], 0)\n",
    "train_images = (train_images - 127.5) / 127.5 # Normalize the images to [-1, 1]"
   ]
  },
  {
   "cell_type": "code",
   "execution_count": 0,
   "metadata": {
    "colab": {},
    "colab_type": "code",
    "id": "VPtQxJtsxzE_"
   },
   "outputs": [],
   "source": [
    "BUFFER_SIZE = 60000\n",
    "BATCH_SIZE = 128"
   ]
  },
  {
   "cell_type": "code",
   "execution_count": 0,
   "metadata": {
    "colab": {},
    "colab_type": "code",
    "id": "ZbT-RpEzx2yR"
   },
   "outputs": [],
   "source": [
    "model = Sequential([\n",
    "    layers.Flatten(input_shape=(64, 64)),\n",
    "    layers.Dense(256, activation=tf.nn.relu),\n",
    "    layers.Dense(10, activation=tf.nn.softmax)\n",
    "])"
   ]
  },
  {
   "cell_type": "code",
   "execution_count": 0,
   "metadata": {
    "colab": {},
    "colab_type": "code",
    "id": "7g5ymrgTyCQD"
   },
   "outputs": [],
   "source": [
    "model.compile(optimizer='adam', \n",
    "              loss='sparse_categorical_crossentropy',\n",
    "              metrics=['accuracy'])"
   ]
  },
  {
   "cell_type": "code",
   "execution_count": 0,
   "metadata": {
    "colab": {
     "base_uri": "https://localhost:8080/",
     "height": 204
    },
    "colab_type": "code",
    "id": "abLw3sovyJvg",
    "outputId": "217649f8-6a80-46b8-e637-2138f2a82830"
   },
   "outputs": [
    {
     "name": "stdout",
     "output_type": "stream",
     "text": [
      "Epoch 1/5\n",
      "60000/60000 [==============================] - 21s 357us/sample - loss: 0.3405 - accuracy: 0.9009\n",
      "Epoch 2/5\n",
      "60000/60000 [==============================] - 22s 361us/sample - loss: 0.1902 - accuracy: 0.9424\n",
      "Epoch 3/5\n",
      "60000/60000 [==============================] - 21s 354us/sample - loss: 0.1617 - accuracy: 0.9513\n",
      "Epoch 4/5\n",
      "60000/60000 [==============================] - 22s 362us/sample - loss: 0.1429 - accuracy: 0.9572\n",
      "Epoch 5/5\n",
      "60000/60000 [==============================] - 22s 361us/sample - loss: 0.1341 - accuracy: 0.9599\n"
     ]
    },
    {
     "data": {
      "text/plain": [
       "<tensorflow.python.keras.callbacks.History at 0x7f8b6d7d8470>"
      ]
     },
     "execution_count": 78,
     "metadata": {
      "tags": []
     },
     "output_type": "execute_result"
    }
   ],
   "source": [
    "model.fit(train_images, train_labels, epochs=5)"
   ]
  },
  {
   "cell_type": "markdown",
   "metadata": {
    "colab_type": "text",
    "id": "UhLp612XyP2f"
   },
   "source": [
    "# Phosphenes"
   ]
  },
  {
   "cell_type": "code",
   "execution_count": 0,
   "metadata": {
    "colab": {},
    "colab_type": "code",
    "id": "dddZR367y1Co"
   },
   "outputs": [],
   "source": [
    "#!/usr/bin/env python\n",
    "\n",
    "import numpy as np\n",
    "from scipy.ndimage import gaussian_filter\n",
    "import random\n",
    "import math\n",
    "from skimage import color\n",
    "\n",
    "# from scipy.ndimages.filters import convolve\n",
    "\n",
    "# CONSTANTS\n",
    "\n",
    "XSIZE = 64\n",
    "YSIZE = 64\n",
    "PBASE = 1\n",
    "SCALE = 6\n",
    "EXSIZE = XSIZE // SCALE\n",
    "EYSIZE = YSIZE // SCALE\n",
    "\n",
    "\n",
    "def safebound(value: float, width: float, lower: float, upper: float):\n",
    "    \"\"\" \n",
    "    Returns the bounded min and max about value with width.\n",
    "    \"\"\"\n",
    "    vmin = int(max(lower, value - width))\n",
    "    vmax = int(min(upper, value + width))\n",
    "    return vmin, vmax\n",
    "\n",
    "def bound(value:float, lower: float, upper:float):\n",
    "    \"\"\"\n",
    "    Returns a bounded value.\n",
    "    \"\"\"\n",
    "    if value > lower:\n",
    "        if value < upper:\n",
    "            return value\n",
    "        else:\n",
    "            return upper\n",
    "    else:\n",
    "        return lower\n",
    "\n",
    "# Electrodes, which produce phosphenes.\n",
    "\n",
    "class Electrode:\n",
    "    def __init__(self, x: float, y: float, xsize : int = XSIZE, ysize : int = YSIZE, randomPos: float = 0):\n",
    "        \"\"\"\n",
    "        Produces a phosphene for a single electrode.\n",
    "        \n",
    "        Args:\n",
    "            x: float         - position in range [0, 1]. \n",
    "            y: float         - position in range [0, 1]\n",
    "            randomPos: float - a scaling factor for random positioning. \n",
    "        \"\"\"\n",
    "        self.randomPos = randomPos\n",
    "        self.x = bound(x + (random.random() - 0.5) * self.randomPos, 0, 1)\n",
    "        self.y = bound(y + (random.random() - 0.5) * self.randomPos, 0, 1)\n",
    "        self.xsize = xsize\n",
    "        self.ysize = ysize\n",
    "\n",
    "        self.size = PBASE * (0.5 + (4 * np.sqrt((self.x - 0.5) ** 2 + (self.y - 0.5) ** 2)) ** 2)\n",
    "\n",
    "        self.rendered = self.render()\n",
    "\n",
    "    def render(self):\n",
    "        xmin, xmax = safebound(self.xsize * self.x, self.size, 0, self.xsize)\n",
    "        ymin, ymax = safebound(self.ysize * self.y, self.size, 0, self.ysize)\n",
    "\n",
    "        base = np.zeros((self.ysize, self.xsize))\n",
    "        base[ymin:ymax, xmin:xmax] = 1\n",
    "\n",
    "        return gaussian_filter(base, self.size)\n",
    "\n",
    "class PolarRegularGrid:\n",
    "    def __init__(self, nrho, ntheta, xsize=XSIZE, ysize=YSIZE):\n",
    "        self.nrho   = nrho\n",
    "        self.ntheta = ntheta\n",
    "        self.grid = [\n",
    "            # Need to think of better way to scale.\n",
    "            Electrode(((math.exp(rho**0.6) / math.exp(nrho**0.6) * math.cos((math.pi * theta / ntheta) - math.pi/2)) + 1) / 2,\n",
    "                      ((math.exp(rho**0.6) / math.exp(nrho**0.6) * math.sin((math.pi * theta / ntheta) - math.pi/2)) + 1) / 2,\n",
    "                      xsize = xsize,\n",
    "                      ysize = ysize,\n",
    "                     )\n",
    "            # Ensure the central electrodes are actually visible by adding 1 to zero.\n",
    "            for rho in range(1, nrho+1)\n",
    "            for theta in range(ntheta)\n",
    "        ]\n",
    "        \n",
    "        self.renders = tf.convert_to_tensor(np.array([e.rendered for e in self.grid]), dtype=tf.float32)\n",
    "\n",
    "    def render(self, values):\n",
    "        product = [v * e.rendered for (v, e) in zip(values, self.grid)]\n",
    "        summed = sum(product)\n",
    "        summax = np.max(summed)\n",
    "        return np.clip(summed, 0, 1) * 2 - 1\n",
    "        # return (summed / summax) * 2 - 1\n",
    "        \n",
    "    def render_tensor(self, tensor):\n",
    "        reshaped = tf.transpose(tf.reshape(tf.tile(tensor, tf.constant([64])), (64, 144, 1)), perm=[1, 0, 2])\n",
    "        product = reshaped * self.renders\n",
    "        summed = tf.reduce_sum(product, axis=0)\n",
    "        return tf.clip_by_value(summed, 0, 1) * 2 - 1\n",
    "      \n",
    "class UniqueElectrode:\n",
    "    \"\"\"\n",
    "    This class implements electrodes with unique characteristics such as colour and shape.\n",
    "    \"\"\"\n",
    "    def __init__(self, x: float, y: float, xsize : int = XSIZE, ysize : int = YSIZE, randomPos: float = 0.001):\n",
    "        self.x = bound(x + (random.random() - 0.5) * randomPos, 0, 1)\n",
    "        self.y = bound(y + (random.random() - 0.5) * randomPos, 0, 1)\n",
    "        self.size = PBASE * (0.5 + (4 * np.sqrt((self.x - 0.5) ** 2 + (self.y - 0.5) ** 2)) ** 2)\n",
    "        self.brightness = random.random()\n",
    "        # xmod and ymod modify the shape of the phosphene\n",
    "        self.xmod = 1 + (random.random()-0.5) * 3\n",
    "        self.ymod = 1 + (random.random()-0.5) * 3\n",
    "        self.xsize = xsize\n",
    "        self.ysize = ysize\n",
    "\n",
    "        self.rendered = self.render()\n",
    "\n",
    "    def render(self):\n",
    "        xmin, xmax = safebound(self.xsize * self.x, self.size*self.xmod, 0, self.xsize)\n",
    "        ymin, ymax = safebound(self.ysize * self.y, self.size*self.ymod, 0, self.ysize)\n",
    "\n",
    "        base = np.zeros((self.ysize, self.xsize))\n",
    "        base[ymin:ymax, xmin:xmax] = self.brightness\n",
    "\n",
    "        return gaussian_filter(base, self.size * (random.random() ** 0.3))\n",
    "      \n",
    "class PolarRegularUniqueGrid:\n",
    "    def __init__(self, nrho, ntheta, xsize=XSIZE, ysize=YSIZE):\n",
    "        self.nrho   = nrho\n",
    "        self.ntheta = ntheta\n",
    "        self.grid = [\n",
    "            # Need to think of better way to scale.\n",
    "            UniqueElectrode(((math.exp(rho**0.6) / math.exp(nrho**0.6) * math.cos((math.pi * theta / ntheta) - math.pi/2)) + 1) / 2,\n",
    "                            ((math.exp(rho**0.6) / math.exp(nrho**0.6) * math.sin((math.pi * theta / ntheta) - math.pi/2)) + 1) / 2,\n",
    "                            xsize = xsize,\n",
    "                            ysize = ysize,\n",
    "                           )\n",
    "            # Ensure the central electrodes are actually visible by adding 1 to zero.\n",
    "            for rho in range(1, nrho+1)\n",
    "            for theta in range(ntheta)\n",
    "        ]\n",
    "        \n",
    "        self.renders = tf.convert_to_tensor(np.array([e.rendered for e in self.grid]), dtype=tf.float32)\n",
    "\n",
    "    def render(self, values):\n",
    "        product = [v * e.rendered for (v, e) in zip(values, self.grid)]\n",
    "        summed = sum(product)\n",
    "        summax = np.max(summed)\n",
    "        return np.clip(summed, 0, 1)\n",
    "        # return (summed / summax) * 2 - 1\n",
    "        \n",
    "    def render_tensor(self, tensor):\n",
    "        reshaped = tf.transpose(tf.reshape(tf.tile(tensor, tf.constant([64])), (64, 144, 1)), perm=[1, 0, 2])\n",
    "        product = reshaped * self.renders\n",
    "        summed = tf.reduce_sum(product, axis=0)\n",
    "        return tf.clip_by_value(summed, 0, 1) * 2 - 1\n",
    "      \n",
    "class Stimulus:\n",
    "    def __init__(self, image, grid, xpos=0, ypos=0):\n",
    "        self.original = image\n",
    "        self.shape = self.original.shape\n",
    "        \n",
    "        self.padder = np.zeros((3 * self.shape[0], 3 * self.shape[1]))\n",
    "        self.padder[self.shape[0]:2*self.shape[0], self.shape[1]:2*self.shape[1]] = self.original\n",
    "        \n",
    "        self.xpos = xpos\n",
    "        self.ypos = ypos\n",
    "        \n",
    "        self.image = self.getImage()\n",
    "        \n",
    "        self.grid = grid\n",
    "        self.sampleWidth = 6\n",
    "        \n",
    "        self.vector = self.process()\n",
    "            \n",
    "    def get_params(self, x : float, y : float):\n",
    "        \n",
    "        ymin = bound(int(self.shape[0] * y - self.sampleWidth // 2), 0, self.shape[0] - 1)\n",
    "        ymax = bound(int(self.shape[0] * y + self.sampleWidth // 2), 0, self.shape[0] - 1)\n",
    "        xmin = bound(int(self.shape[1] * x - self.sampleWidth // 2), 0, self.shape[1] - 1)            \n",
    "        xmax = bound(int(self.shape[1] * x + self.sampleWidth // 2), 0, self.shape[1] - 1)\n",
    "\n",
    "        vals  = self.image[ymin:ymax, xmin:xmax]\n",
    "        return np.mean(vals)\n",
    "    \n",
    "    def getImage(self):\n",
    "        \"\"\" Based on xpos and ypos, get the image view from the padder.\n",
    "        \"\"\"\n",
    "        \n",
    "        xstart = self.shape[0] - int(self.xpos * self.shape[0])\n",
    "        ystart = self.shape[1] - int(self.ypos * self.shape[1])\n",
    "        \n",
    "        return self.padder[ystart:ystart+self.shape[1], xstart:xstart+self.shape[0]]\n",
    "\n",
    "    def process(self):\n",
    "        \"\"\" Converts the stimulus into a brightness vector for the\n",
    "        \"\"\"\n",
    "\n",
    "        params = [self.get_params(e.x, e.y) for e in self.grid.grid]\n",
    "        return params\n",
    "        #flattened = self.image.flatten(order=\"C\")\n",
    "    \n",
    "    def setPos(self, xpos: float, ypos: float):\n",
    "        \"\"\"Translate the image. xpos and ypos lie in the range (-1, 1)\n",
    "        \"\"\"\n",
    "        self.xpos = xpos\n",
    "        self.ypos = ypos\n",
    "        self.image = self.getImage()\n",
    "        self.vector = self.process()\n",
    "        \n",
    "        "
   ]
  },
  {
   "cell_type": "code",
   "execution_count": 0,
   "metadata": {
    "colab": {},
    "colab_type": "code",
    "id": "daBHBFK6y1Oe"
   },
   "outputs": [],
   "source": [
    "grid = PolarRegularGrid(12, 12, 64, 64) # 144 phosphenes"
   ]
  },
  {
   "cell_type": "code",
   "execution_count": 0,
   "metadata": {
    "colab": {},
    "colab_type": "code",
    "id": "YTWay86cy4HV"
   },
   "outputs": [],
   "source": [
    "stimulus = Stimulus(digit_to_image(1), grid)"
   ]
  },
  {
   "cell_type": "code",
   "execution_count": 0,
   "metadata": {
    "colab": {},
    "colab_type": "code",
    "id": "oUN9-l6Py5V1"
   },
   "outputs": [],
   "source": [
    "render = grid.render(stimulus.vector)"
   ]
  },
  {
   "cell_type": "code",
   "execution_count": 0,
   "metadata": {
    "colab": {
     "base_uri": "https://localhost:8080/",
     "height": 281
    },
    "colab_type": "code",
    "id": "oB-67zwOy7UK",
    "outputId": "a050dccb-eaec-495f-aa09-173d2329501d"
   },
   "outputs": [
    {
     "data": {
      "text/plain": [
       "<matplotlib.image.AxesImage at 0x7f8aba638400>"
      ]
     },
     "execution_count": 421,
     "metadata": {
      "tags": []
     },
     "output_type": "execute_result"
    },
    {
     "data": {
      "image/png": "[encoded data removed]",
      "text/plain": [
       "<Figure size 432x288 with 1 Axes>"
      ]
     },
     "metadata": {
      "tags": []
     },
     "output_type": "display_data"
    }
   ],
   "source": [
    "plt.imshow(render, cmap=\"gray\")"
   ]
  },
  {
   "cell_type": "code",
   "execution_count": 0,
   "metadata": {
    "colab": {
     "base_uri": "https://localhost:8080/",
     "height": 34
    },
    "colab_type": "code",
    "id": "KwzPRNHhy8np",
    "outputId": "6ddb5618-1838-4635-f89c-cb70ad189484"
   },
   "outputs": [
    {
     "data": {
      "text/plain": [
       "<tf.Tensor: id=781000, shape=(1,), dtype=int64, numpy=array([9])>"
      ]
     },
     "execution_count": 422,
     "metadata": {
      "tags": []
     },
     "output_type": "execute_result"
    }
   ],
   "source": [
    "tf.argmax(model(np.array([render])), axis=1)"
   ]
  },
  {
   "cell_type": "code",
   "execution_count": 0,
   "metadata": {
    "colab": {
     "base_uri": "https://localhost:8080/",
     "height": 34
    },
    "colab_type": "code",
    "id": "XSpMZc1QSMs4",
    "outputId": "cfcd0e18-0311-45a2-84e3-cb9a9ad25e97"
   },
   "outputs": [
    {
     "data": {
      "text/plain": [
       "(1, 64, 64)"
      ]
     },
     "execution_count": 423,
     "metadata": {
      "tags": []
     },
     "output_type": "execute_result"
    }
   ],
   "source": [
    "np.array([render]).shape"
   ]
  },
  {
   "cell_type": "markdown",
   "metadata": {
    "colab_type": "text",
    "id": "ULX2Xl3Sy_7F"
   },
   "source": [
    "# Encoder"
   ]
  },
  {
   "cell_type": "code",
   "execution_count": 0,
   "metadata": {
    "colab": {},
    "colab_type": "code",
    "id": "U-eStD8yzMWP"
   },
   "outputs": [],
   "source": [
    "def make_encoder():\n",
    "    model = tf.keras.Sequential()\n",
    "    model.add(layers.Flatten(input_shape=(64,64)))\n",
    "    model.add(layers.Dense(3*3*256, use_bias=False))\n",
    "    model.add(layers.Dense(3*3*256, use_bias=False))\n",
    "    model.add(layers.BatchNormalization())\n",
    "    model.add(layers.LeakyReLU())\n",
    "\n",
    "    model.add(layers.Reshape((3, 3, 256)))\n",
    "    assert model.output_shape == (None, 3, 3, 256)\n",
    "\n",
    "    model.add(layers.Conv2DTranspose(128, (5, 5), strides=(1, 1), padding='same', use_bias=False))\n",
    "    assert model.output_shape == (None, 3, 3, 128)\n",
    "    model.add(layers.BatchNormalization())\n",
    "    model.add(layers.LeakyReLU())\n",
    "\n",
    "    model.add(layers.Conv2DTranspose(64, (5, 5), strides=(2, 2), padding='same', use_bias=False))\n",
    "    assert model.output_shape == (None, 6, 6, 64)\n",
    "    model.add(layers.BatchNormalization())\n",
    "    model.add(layers.LeakyReLU())\n",
    "\n",
    "    model.add(layers.Conv2DTranspose(1, (5, 5), strides=(2, 2), padding='same', use_bias=False, activation='tanh'))\n",
    "    model.add(layers.Reshape((144,)))\n",
    "    assert model.output_shape == (None, 144)\n",
    "\n",
    "    return model"
   ]
  },
  {
   "cell_type": "code",
   "execution_count": 0,
   "metadata": {
    "colab": {},
    "colab_type": "code",
    "id": "T1gFezd8zNdv"
   },
   "outputs": [],
   "source": [
    "encoder = make_encoder()"
   ]
  },
  {
   "cell_type": "code",
   "execution_count": 0,
   "metadata": {
    "colab": {},
    "colab_type": "code",
    "id": "J3JbgN2_Ge2_"
   },
   "outputs": [],
   "source": [
    "digits = [random.randint(0, 10) for i in range(5)]\n",
    "test_digits = [digit_to_image(i) for i in digits]"
   ]
  },
  {
   "cell_type": "code",
   "execution_count": 0,
   "metadata": {
    "colab": {},
    "colab_type": "code",
    "id": "YJlL5TZxzNsj"
   },
   "outputs": [],
   "source": [
    "test_encodings = encoder(np.array(test_digits), training=False)"
   ]
  },
  {
   "cell_type": "code",
   "execution_count": 0,
   "metadata": {
    "colab": {},
    "colab_type": "code",
    "id": "qOEmh9I2zRIR"
   },
   "outputs": [],
   "source": [
    "test_encoded_images = tf.map_fn(grid.render_tensor, test_encodings)"
   ]
  },
  {
   "cell_type": "code",
   "execution_count": 0,
   "metadata": {
    "colab": {
     "base_uri": "https://localhost:8080/",
     "height": 281
    },
    "colab_type": "code",
    "id": "jCvLJFt2zSMj",
    "outputId": "ec3dc0ec-d65c-4527-b15a-219cdfe75fd0"
   },
   "outputs": [
    {
     "data": {
      "text/plain": [
       "<matplotlib.image.AxesImage at 0x7f8ab8730898>"
      ]
     },
     "execution_count": 429,
     "metadata": {
      "tags": []
     },
     "output_type": "execute_result"
    },
    {
     "data": {
      "image/png": "[encoded data removed]",
      "text/plain": [
       "<Figure size 432x288 with 1 Axes>"
      ]
     },
     "metadata": {
      "tags": []
     },
     "output_type": "display_data"
    }
   ],
   "source": [
    "plt.imshow(test_encoded_images[0], cmap='gray')"
   ]
  },
  {
   "cell_type": "code",
   "execution_count": 0,
   "metadata": {
    "colab": {
     "base_uri": "https://localhost:8080/",
     "height": 289
    },
    "colab_type": "code",
    "id": "aYYxC7bOLzzN",
    "outputId": "cbf6598c-c61f-4a4a-ed6f-0339b6043cbd"
   },
   "outputs": [
    {
     "data": {
      "text/plain": [
       "<tf.Tensor: id=781812, shape=(5, 10), dtype=float32, numpy=\n",
       "array([[1.69338647e-03, 7.07752770e-03, 3.71685885e-02, 3.88449687e-03,\n",
       "        1.21258780e-01, 2.74673581e-01, 9.52269242e-04, 5.28794110e-01,\n",
       "        7.69114195e-05, 2.44204309e-02],\n",
       "       [1.64275384e-03, 6.57591131e-03, 3.41081545e-02, 3.83988209e-03,\n",
       "        1.06118821e-01, 2.86614627e-01, 8.71025841e-04, 5.36198139e-01,\n",
       "        7.58943352e-05, 2.39548236e-02],\n",
       "       [1.91507256e-03, 6.23675855e-03, 3.93285006e-02, 4.46504727e-03,\n",
       "        1.16366468e-01, 2.99052507e-01, 1.04238826e-03, 5.08514643e-01,\n",
       "        8.82378663e-05, 2.29903590e-02],\n",
       "       [1.80265214e-03, 7.32946955e-03, 3.79846282e-02, 4.29531606e-03,\n",
       "        1.23752415e-01, 2.80403286e-01, 1.02281442e-03, 5.17143011e-01,\n",
       "        8.72970559e-05, 2.61790715e-02],\n",
       "       [1.85515534e-03, 6.65680878e-03, 3.80637087e-02, 4.53819428e-03,\n",
       "        1.16856381e-01, 2.80813456e-01, 1.00249972e-03, 5.22901237e-01,\n",
       "        9.59522513e-05, 2.72165500e-02]], dtype=float32)>"
      ]
     },
     "execution_count": 430,
     "metadata": {
      "tags": []
     },
     "output_type": "execute_result"
    }
   ],
   "source": [
    "model(test_encoded_images)"
   ]
  },
  {
   "cell_type": "markdown",
   "metadata": {
    "colab_type": "text",
    "id": "pM0j9xjGzYFq"
   },
   "source": [
    "# Loss\n"
   ]
  },
  {
   "cell_type": "code",
   "execution_count": 0,
   "metadata": {
    "colab": {},
    "colab_type": "code",
    "id": "YZFYruvAzY7j"
   },
   "outputs": [],
   "source": [
    "cross_entropy = tf.keras.losses.CategoricalCrossentropy()"
   ]
  },
  {
   "cell_type": "code",
   "execution_count": 0,
   "metadata": {
    "colab": {},
    "colab_type": "code",
    "id": "T22Ye5NIzZW1"
   },
   "outputs": [],
   "source": [
    "def encoder_loss(input_digit, output_digit):\n",
    "    return cross_entropy(input_digit, output_digit)"
   ]
  },
  {
   "cell_type": "code",
   "execution_count": 0,
   "metadata": {
    "colab": {},
    "colab_type": "code",
    "id": "9jNILUZAzgKw"
   },
   "outputs": [],
   "source": [
    "encoder_optimizer = tf.keras.optimizers.Adam(1e-4)"
   ]
  },
  {
   "cell_type": "markdown",
   "metadata": {
    "colab_type": "text",
    "id": "P5YdQyZkzld6"
   },
   "source": [
    "\n",
    "# Checkpoints"
   ]
  },
  {
   "cell_type": "code",
   "execution_count": 0,
   "metadata": {
    "colab": {},
    "colab_type": "code",
    "id": "CUiXEhkXzm-O"
   },
   "outputs": [],
   "source": [
    "checkpoint_dir = './training_checkpoints'\n",
    "checkpoint_prefix = os.path.join(checkpoint_dir, \"ckpt\")\n",
    "checkpoint = tf.train.Checkpoint(encoder_optimizer=encoder_optimizer,\n",
    "                                 encoder=encoder)"
   ]
  },
  {
   "cell_type": "markdown",
   "metadata": {
    "colab_type": "text",
    "id": "L0MjvxSLznZd"
   },
   "source": [
    "# Training"
   ]
  },
  {
   "cell_type": "code",
   "execution_count": 0,
   "metadata": {
    "colab": {},
    "colab_type": "code",
    "id": "bINF65mIzsK8"
   },
   "outputs": [],
   "source": [
    "EPOCHS = 20\n",
    "noise_dim = 10\n",
    "num_examples_to_generate = 16\n",
    "\n",
    "display_digits = np.array([i for i in range(10)])\n",
    "display_digit_images = np.array(list(map(digit_to_image, display_digits)))"
   ]
  },
  {
   "cell_type": "code",
   "execution_count": 0,
   "metadata": {
    "colab": {},
    "colab_type": "code",
    "id": "TULNUaaRzsfF"
   },
   "outputs": [],
   "source": [
    "@tf.function\n",
    "def train_step(digit_images):\n",
    "    with tf.GradientTape() as enc_tape:\n",
    "      encodings = encoder(digit_images, training=True)\n",
    "      encoded_images = tf.map_fn(grid.render_tensor, encodings)\n",
    "      #print(encoded_images.shape)\n",
    "      \n",
    "      output_digits = model(encoded_images)\n",
    "      expected_digits = model(digit_images)\n",
    "      #output_digits = tf.argmax(model(encoded_images), axis=1)\n",
    "      #expected_digits = tf.argmax(model(digit_images), axis=1)\n",
    "      #print(expected_digits)\n",
    "      #print(output_digits)\n",
    "\n",
    "      enc_loss = encoder_loss(expected_digits, output_digits)\n",
    "      #print(enc_loss)\n",
    "\n",
    "    gradients_of_encoder = enc_tape.gradient(enc_loss, encoder.trainable_variables)\n",
    "    #print(gradients_of_encoder)\n",
    "\n",
    "    encoder_optimizer.apply_gradients(zip(gradients_of_encoder, encoder.trainable_variables))"
   ]
  },
  {
   "cell_type": "code",
   "execution_count": 0,
   "metadata": {
    "code_folding": [],
    "colab": {},
    "colab_type": "code",
    "id": "euV5yHOiztX9"
   },
   "outputs": [],
   "source": [
    "def generate_and_save_images(model, epoch, test_input):\n",
    "  predictions = model(test_input, training=False)\n",
    "\n",
    "  fig = plt.figure(figsize=(5,3))\n",
    "\n",
    "  for i in range(predictions.shape[0]):\n",
    "      plt.subplot(2, 5, i+1)\n",
    "      plt.imshow(grid.render(predictions[i, :]), cmap='gray')\n",
    "      plt.title(i)\n",
    "      plt.axis('off')\n",
    "\n",
    "  plt.savefig('image_at_epoch_{:04d}.png'.format(epoch))\n",
    "  plt.show()"
   ]
  },
  {
   "cell_type": "code",
   "execution_count": 0,
   "metadata": {
    "colab": {},
    "colab_type": "code",
    "id": "R47sk6ZY0YhS"
   },
   "outputs": [],
   "source": [
    "def train(dataset, epochs):\n",
    "  for epoch in range(epochs):\n",
    "    start = time.time()\n",
    "\n",
    "    for i in range(12):\n",
    "      digits = np.random.randint(0, 10, (256,))\n",
    "      digit_images = np.array(list(map(digit_to_image, digits)))\n",
    "      train_step(digit_images)\n",
    "      #print(\"BATCH DONE\")\n",
    "\n",
    "    # Produce images for the GIF as we go\n",
    "    display.clear_output(wait=True)\n",
    "    generate_and_save_images(encoder,\n",
    "                             epoch + 1,\n",
    "                             display_digit_images\n",
    "                             )\n",
    "\n",
    "    # Save the model every 15 epochs\n",
    "    if (epoch + 1) % 2 == 0:\n",
    "      checkpoint.save(file_prefix = checkpoint_prefix)\n",
    "\n",
    "    print ('Time for epoch {} is {} sec'.format(epoch + 1, time.time()-start))\n",
    "\n",
    "  # Generate after the final epoch\n",
    "  display.clear_output(wait=True)\n",
    "  generate_and_save_images(encoder,\n",
    "                           epochs,\n",
    "                           display_digit_images)"
   ]
  },
  {
   "cell_type": "markdown",
   "metadata": {
    "colab_type": "text",
    "id": "4PhdQSEm0miI"
   },
   "source": [
    "# Training"
   ]
  },
  {
   "cell_type": "code",
   "execution_count": 0,
   "metadata": {
    "colab": {
     "base_uri": "https://localhost:8080/",
     "height": 214
    },
    "colab_type": "code",
    "id": "aJcxBh120jBE",
    "outputId": "7ae6f555-6bbe-43d8-901d-7fc1ccdbdb9e"
   },
   "outputs": [
    {
     "data": {
      "image/png": "[encoded data removed]",
      "text/plain": [
       "<Figure size 360x216 with 10 Axes>"
      ]
     },
     "metadata": {
      "tags": []
     },
     "output_type": "display_data"
    },
    {
     "name": "stdout",
     "output_type": "stream",
     "text": [
      "Time for epoch 11 is 81.18383741378784 sec\n"
     ]
    }
   ],
   "source": [
    "#%%time\n",
    "train(train_dataset, EPOCHS)"
   ]
  },
  {
   "cell_type": "code",
   "execution_count": 0,
   "metadata": {
    "colab": {},
    "colab_type": "code",
    "id": "_NCIJvQrds0o"
   },
   "outputs": [],
   "source": []
  }
 ],
 "metadata": {
  "colab": {
   "collapsed_sections": [],
   "name": "half-generative.ipynb",
   "provenance": [],
   "toc_visible": true,
   "version": "0.3.2"
  },
  "kernelspec": {
   "display_name": "Python 3",
   "language": "python",
   "name": "python3"
  },
  "language_info": {
   "codemirror_mode": {
    "name": "ipython",
    "version": 3
   },
   "file_extension": ".py",
   "mimetype": "text/x-python",
   "name": "python",
   "nbconvert_exporter": "python",
   "pygments_lexer": "ipython3",
   "version": "3.7.3"
  },
  "toc": {
   "base_numbering": 1,
   "nav_menu": {},
   "number_sections": true,
   "sideBar": true,
   "skip_h1_title": false,
   "title_cell": "Table of Contents",
   "title_sidebar": "Contents",
   "toc_cell": false,
   "toc_position": {},
   "toc_section_display": true,
   "toc_window_display": true
  }
 },
 "nbformat": 4,
 "nbformat_minor": 1
}
