{
 "cells": [
  {
   "cell_type": "markdown",
   "metadata": {},
   "source": [
    "# Imports"
   ]
  },
  {
   "cell_type": "code",
   "execution_count": 14,
   "metadata": {},
   "outputs": [],
   "source": [
    "import numpy as np\n",
    "import pandas as pd\n",
    "import json\n",
    "import os\n",
    "from matplotlib import pyplot as plt\n",
    "from glob import glob\n",
    "\n",
    "%matplotlib inline"
   ]
  },
  {
   "cell_type": "markdown",
   "metadata": {},
   "source": [
    "# Data Reading"
   ]
  },
  {
   "cell_type": "markdown",
   "metadata": {},
   "source": [
    "Specifying the directory containing the participant data."
   ]
  },
  {
   "cell_type": "code",
   "execution_count": 4,
   "metadata": {
    "scrolled": true
   },
   "outputs": [],
   "source": [
    "DATA_DIR = '../data/sessions/participants/'"
   ]
  },
  {
   "cell_type": "markdown",
   "metadata": {},
   "source": [
    "Specifying the fileformat glob of the config files."
   ]
  },
  {
   "cell_type": "code",
   "execution_count": 5,
   "metadata": {},
   "outputs": [],
   "source": [
    "datafiles = glob(DATA_DIR+'*.json')"
   ]
  },
  {
   "cell_type": "markdown",
   "metadata": {},
   "source": [
    "Looping through each config file and reading the data into a variable."
   ]
  },
  {
   "cell_type": "code",
   "execution_count": 12,
   "metadata": {},
   "outputs": [],
   "source": [
    "configs = []\n",
    "for file in datafiles:\n",
    "    with open(file) as infile:\n",
    "        configs.append(json.load(infile))"
   ]
  },
  {
   "cell_type": "code",
   "execution_count": 29,
   "metadata": {
    "scrolled": false
   },
   "outputs": [
    {
     "data": {
      "text/plain": [
       "['TESTING',\n",
       " 'NTRIALS',\n",
       " 'NCUES',\n",
       " 'GRID_TYPE',\n",
       " 'NO_NUMPAD',\n",
       " 'XSIZE',\n",
       " 'YSIZE',\n",
       " 'SCALE',\n",
       " 'EXSIZE',\n",
       " 'EYSIZE',\n",
       " 'IMAGE_TEMPLATE',\n",
       " 'IMAGE_SIZE',\n",
       " 'IMAGE_SCALE',\n",
       " 'DATETIME_FORMAT',\n",
       " 'DIGIT_SOUND_TEMPLATE',\n",
       " 'CONFIG_FILE_TEMPLATE',\n",
       " 'SESSION_FILE_TEMPLATE',\n",
       " 'CORRECT_NOTE',\n",
       " 'INCORRECT_NOTE',\n",
       " 'NOTE_DURATION',\n",
       " 'NOTE_VOLUME',\n",
       " 'SESSION_VARS',\n",
       " 'SESSION_HEADER',\n",
       " 'SESSION_ROW_TEMPLATE',\n",
       " 'PROMPT_TEXT',\n",
       " 'END_TEXT',\n",
       " 'KEY_LIST',\n",
       " 'EXCLUDED',\n",
       " 'details',\n",
       " 'configFile',\n",
       " 'sessionFile']"
      ]
     },
     "execution_count": 29,
     "metadata": {},
     "output_type": "execute_result"
    }
   ],
   "source": [
    "list(configs[0].keys())"
   ]
  },
  {
   "cell_type": "markdown",
   "metadata": {},
   "source": [
    "Each config in `configs` contains the name of the session file, relative to root directory of `03-psychophysics`. First, we change the current directory."
   ]
  },
  {
   "cell_type": "code",
   "execution_count": 15,
   "metadata": {},
   "outputs": [],
   "source": [
    "os.chdir('../')"
   ]
  },
  {
   "cell_type": "markdown",
   "metadata": {},
   "source": [
    "Then read all the file data."
   ]
  },
  {
   "cell_type": "code",
   "execution_count": 17,
   "metadata": {},
   "outputs": [],
   "source": [
    "data = [pd.read_csv(config['sessionFile']) for config in configs]"
   ]
  },
  {
   "cell_type": "markdown",
   "metadata": {},
   "source": [
    "And examining the first ten rows of the first data file:"
   ]
  },
  {
   "cell_type": "code",
   "execution_count": 19,
   "metadata": {},
   "outputs": [
    {
     "data": {
      "text/html": [
       "<div>\n",
       "<style scoped>\n",
       "    .dataframe tbody tr th:only-of-type {\n",
       "        vertical-align: middle;\n",
       "    }\n",
       "\n",
       "    .dataframe tbody tr th {\n",
       "        vertical-align: top;\n",
       "    }\n",
       "\n",
       "    .dataframe thead th {\n",
       "        text-align: right;\n",
       "    }\n",
       "</style>\n",
       "<table border=\"1\" class=\"dataframe\">\n",
       "  <thead>\n",
       "    <tr style=\"text-align: right;\">\n",
       "      <th></th>\n",
       "      <th>trial</th>\n",
       "      <th>cue</th>\n",
       "      <th>digit</th>\n",
       "      <th>keypress</th>\n",
       "      <th>cuetime</th>\n",
       "      <th>trialtime</th>\n",
       "      <th>sessiontime</th>\n",
       "    </tr>\n",
       "  </thead>\n",
       "  <tbody>\n",
       "    <tr>\n",
       "      <th>0</th>\n",
       "      <td>0</td>\n",
       "      <td>0</td>\n",
       "      <td>1</td>\n",
       "      <td>1</td>\n",
       "      <td>1.827028</td>\n",
       "      <td>2.579587</td>\n",
       "      <td>3.309634</td>\n",
       "    </tr>\n",
       "    <tr>\n",
       "      <th>1</th>\n",
       "      <td>0</td>\n",
       "      <td>1</td>\n",
       "      <td>7</td>\n",
       "      <td>7</td>\n",
       "      <td>1.226297</td>\n",
       "      <td>3.805941</td>\n",
       "      <td>4.535988</td>\n",
       "    </tr>\n",
       "    <tr>\n",
       "      <th>2</th>\n",
       "      <td>0</td>\n",
       "      <td>2</td>\n",
       "      <td>9</td>\n",
       "      <td>9</td>\n",
       "      <td>2.117782</td>\n",
       "      <td>5.923782</td>\n",
       "      <td>6.653828</td>\n",
       "    </tr>\n",
       "    <tr>\n",
       "      <th>3</th>\n",
       "      <td>0</td>\n",
       "      <td>3</td>\n",
       "      <td>3</td>\n",
       "      <td>0</td>\n",
       "      <td>1.098034</td>\n",
       "      <td>7.021869</td>\n",
       "      <td>7.751917</td>\n",
       "    </tr>\n",
       "    <tr>\n",
       "      <th>4</th>\n",
       "      <td>0</td>\n",
       "      <td>4</td>\n",
       "      <td>8</td>\n",
       "      <td>8</td>\n",
       "      <td>1.255164</td>\n",
       "      <td>8.277109</td>\n",
       "      <td>9.007155</td>\n",
       "    </tr>\n",
       "    <tr>\n",
       "      <th>5</th>\n",
       "      <td>0</td>\n",
       "      <td>5</td>\n",
       "      <td>2</td>\n",
       "      <td>2</td>\n",
       "      <td>0.846393</td>\n",
       "      <td>9.123560</td>\n",
       "      <td>9.853607</td>\n",
       "    </tr>\n",
       "    <tr>\n",
       "      <th>6</th>\n",
       "      <td>0</td>\n",
       "      <td>6</td>\n",
       "      <td>4</td>\n",
       "      <td>4</td>\n",
       "      <td>1.088721</td>\n",
       "      <td>10.212334</td>\n",
       "      <td>10.942381</td>\n",
       "    </tr>\n",
       "    <tr>\n",
       "      <th>7</th>\n",
       "      <td>0</td>\n",
       "      <td>7</td>\n",
       "      <td>5</td>\n",
       "      <td>5</td>\n",
       "      <td>1.343659</td>\n",
       "      <td>11.556046</td>\n",
       "      <td>12.286093</td>\n",
       "    </tr>\n",
       "    <tr>\n",
       "      <th>8</th>\n",
       "      <td>0</td>\n",
       "      <td>8</td>\n",
       "      <td>0</td>\n",
       "      <td>0</td>\n",
       "      <td>1.031067</td>\n",
       "      <td>12.587172</td>\n",
       "      <td>13.317219</td>\n",
       "    </tr>\n",
       "    <tr>\n",
       "      <th>9</th>\n",
       "      <td>0</td>\n",
       "      <td>9</td>\n",
       "      <td>6</td>\n",
       "      <td>6</td>\n",
       "      <td>1.568590</td>\n",
       "      <td>14.155817</td>\n",
       "      <td>14.885864</td>\n",
       "    </tr>\n",
       "  </tbody>\n",
       "</table>\n",
       "</div>"
      ],
      "text/plain": [
       "   trial  cue  digit  keypress   cuetime  trialtime  sessiontime\n",
       "0      0    0      1         1  1.827028   2.579587     3.309634\n",
       "1      0    1      7         7  1.226297   3.805941     4.535988\n",
       "2      0    2      9         9  2.117782   5.923782     6.653828\n",
       "3      0    3      3         0  1.098034   7.021869     7.751917\n",
       "4      0    4      8         8  1.255164   8.277109     9.007155\n",
       "5      0    5      2         2  0.846393   9.123560     9.853607\n",
       "6      0    6      4         4  1.088721  10.212334    10.942381\n",
       "7      0    7      5         5  1.343659  11.556046    12.286093\n",
       "8      0    8      0         0  1.031067  12.587172    13.317219\n",
       "9      0    9      6         6  1.568590  14.155817    14.885864"
      ]
     },
     "execution_count": 19,
     "metadata": {},
     "output_type": "execute_result"
    }
   ],
   "source": [
    "data[0][:10]"
   ]
  },
  {
   "cell_type": "markdown",
   "metadata": {},
   "source": [
    "For convenience, I will zip the configs and data."
   ]
  },
  {
   "cell_type": "code",
   "execution_count": 21,
   "metadata": {},
   "outputs": [],
   "source": [
    "alldata = list(zip(configs, data))"
   ]
  },
  {
   "cell_type": "markdown",
   "metadata": {},
   "source": [
    "At the moment, I only have data to compare GRID (i.e. renderers), as I've only implemented one processor."
   ]
  },
  {
   "cell_type": "code",
   "execution_count": 44,
   "metadata": {},
   "outputs": [],
   "source": [
    "ngrids = len(data)"
   ]
  },
  {
   "cell_type": "markdown",
   "metadata": {},
   "source": [
    "# What was the mean accuracy of digit recognition?"
   ]
  },
  {
   "cell_type": "markdown",
   "metadata": {},
   "source": [
    "First, we find the mean accuracy of each method, overall."
   ]
  },
  {
   "cell_type": "code",
   "execution_count": 24,
   "metadata": {},
   "outputs": [],
   "source": [
    "meanAccuracies = [sum(d.digit == d.keypress) / len(d) for d in data]"
   ]
  },
  {
   "cell_type": "code",
   "execution_count": 30,
   "metadata": {},
   "outputs": [],
   "source": [
    "gridTypes = [c['GRID_TYPE'] for c in configs]"
   ]
  },
  {
   "cell_type": "code",
   "execution_count": 52,
   "metadata": {},
   "outputs": [
    {
     "data": {
      "text/plain": [
       "Text(0.5, 1.0, 'Mean Accuracy vs Grid Render Method')"
      ]
     },
     "execution_count": 52,
     "metadata": {},
     "output_type": "execute_result"
    },
    {
     "data": {
      "image/png": "[encoded data removed]",
      "text/plain": [
       "<Figure size 432x288 with 1 Axes>"
      ]
     },
     "metadata": {
      "needs_background": "light"
     },
     "output_type": "display_data"
    }
   ],
   "source": [
    "plt.bar(range(ngrids), meanAccuracies, tick_label=gridTypes)\n",
    "plt.axhline(1 / 10, linestyle=':', color='r')\n",
    "plt.title(\"Mean Accuracy vs Grid Render Method\")"
   ]
  },
  {
   "cell_type": "markdown",
   "metadata": {},
   "source": [
    "# What was the mean response time to a cue?"
   ]
  },
  {
   "cell_type": "code",
   "execution_count": 43,
   "metadata": {},
   "outputs": [],
   "source": [
    "meanResponseTime = [d.cuetime.mean() for d in data]\n",
    "stdResponseTime = [d.cuetime.std() for d in data]"
   ]
  },
  {
   "cell_type": "code",
   "execution_count": 54,
   "metadata": {},
   "outputs": [
    {
     "data": {
      "text/plain": [
       "Text(0.5, 1.0, 'Mean Response Time (ssec) vs Grid Render Method.')"
      ]
     },
     "execution_count": 54,
     "metadata": {},
     "output_type": "execute_result"
    },
    {
     "data": {
      "image/png": "[encoded data removed]",
      "text/plain": [
       "<Figure size 432x288 with 1 Axes>"
      ]
     },
     "metadata": {
      "needs_background": "light"
     },
     "output_type": "display_data"
    }
   ],
   "source": [
    "plt.bar(range(ngrids), meanResponseTime, tick_label=gridTypes, yerr=stdResponseTime)\n",
    "plt.title(\"Mean Response Time (ssec) vs Grid Render Method.\")"
   ]
  },
  {
   "cell_type": "markdown",
   "metadata": {},
   "source": [
    "# How did performance change over a session?"
   ]
  },
  {
   "cell_type": "code",
   "execution_count": 87,
   "metadata": {},
   "outputs": [
    {
     "data": {
      "text/plain": [
       "Text(0.5, 0.98, 'Cumulative performance during a Session')"
      ]
     },
     "execution_count": 87,
     "metadata": {},
     "output_type": "execute_result"
    },
    {
     "data": {
      "image/png": "[encoded data removed]",
      "text/plain": [
       "<Figure size 360x720 with 4 Axes>"
      ]
     },
     "metadata": {
      "needs_background": "light"
     },
     "output_type": "display_data"
    }
   ],
   "source": [
    "fig, ax = plt.subplots(4, sharex=True, sharey=True, figsize=(5,10))\n",
    "\n",
    "for i, d in enumerate(data):\n",
    "    ax[i].step(range(len(d)), np.cumsum((d['digit'] == d['keypress']).astype(int)))\n",
    "    ax[i].set_title(gridTypes[i])\n",
    "    \n",
    "fig.suptitle(\"Cumulative performance during a Session\")"
   ]
  },
  {
   "cell_type": "markdown",
   "metadata": {},
   "source": [
    "# What numbers were chosen the most?"
   ]
  },
  {
   "cell_type": "code",
   "execution_count": 214,
   "metadata": {},
   "outputs": [
    {
     "data": {
      "image/png": "[encoded data removed]",
      "text/plain": [
       "<Figure size 360x576 with 4 Axes>"
      ]
     },
     "metadata": {
      "needs_background": "light"
     },
     "output_type": "display_data"
    }
   ],
   "source": [
    "fig, ax = plt.subplots(4, sharex=True, sharey=True, figsize=(5,8))\n",
    "\n",
    "for i, d in enumerate(data):\n",
    "    ax[i].bar(range(10), [sum((d.keypress == digit).astype(int)) for digit in range(10)], tick_label=range(10))\n",
    "    ax[i].axhline(10, color='r', linestyle=':')\n",
    "    ax[i].set_title(gridTypes[i])"
   ]
  },
  {
   "cell_type": "markdown",
   "metadata": {},
   "source": [
    "# What numbers were most well recognised?"
   ]
  },
  {
   "cell_type": "code",
   "execution_count": 97,
   "metadata": {},
   "outputs": [],
   "source": [
    "for d in data:\n",
    "    d['correct'] = (d.digit == d.keypress).astype(int)"
   ]
  },
  {
   "cell_type": "code",
   "execution_count": 123,
   "metadata": {},
   "outputs": [],
   "source": [
    "ncues = 10"
   ]
  },
  {
   "cell_type": "code",
   "execution_count": 171,
   "metadata": {},
   "outputs": [],
   "source": [
    "proportions = [[sum(((d.digit == i) & (d.correct == 1)).astype(int)) / ncues for i in range(10)] for d in data]"
   ]
  },
  {
   "cell_type": "code",
   "execution_count": 181,
   "metadata": {
    "scrolled": false
   },
   "outputs": [
    {
     "data": {
      "text/plain": [
       "Text(0.5, 0.98, 'Accuracy per digit for each Grid')"
      ]
     },
     "execution_count": 181,
     "metadata": {},
     "output_type": "execute_result"
    },
    {
     "data": {
      "image/png": "[encoded data removed]",
      "text/plain": [
       "<Figure size 360x576 with 4 Axes>"
      ]
     },
     "metadata": {
      "needs_background": "light"
     },
     "output_type": "display_data"
    }
   ],
   "source": [
    "fig, ax = plt.subplots(ngrids, sharex=True, sharey=True, figsize=(5, 8))\n",
    "\n",
    "for i, props in enumerate(proportions):\n",
    "    ax[i].bar(range(10), props, tick_label=range(10))\n",
    "    ax[i].set_title(gridTypes[i])\n",
    "\n",
    "fig.suptitle('Accuracy per digit for each Grid')"
   ]
  },
  {
   "cell_type": "markdown",
   "metadata": {},
   "source": [
    "# What numbers were often confused?"
   ]
  },
  {
   "cell_type": "code",
   "execution_count": 193,
   "metadata": {},
   "outputs": [],
   "source": [
    "from collections import Counter"
   ]
  },
  {
   "cell_type": "code",
   "execution_count": 222,
   "metadata": {},
   "outputs": [
    {
     "data": {
      "image/png": "[encoded data removed]",
      "text/plain": [
       "<Figure size 576x576 with 4 Axes>"
      ]
     },
     "metadata": {
      "needs_background": "light"
     },
     "output_type": "display_data"
    }
   ],
   "source": [
    "fig, ax = plt.subplots(4, figsize=(8,8))\n",
    "\n",
    "for i, d in enumerate(data):\n",
    "    keypairs = []\n",
    "    for row in d.iterrows():\n",
    "        keypair = tuple(frozenset((int(row[1].digit), int(row[1].keypress))))\n",
    "        keypairs.append(keypair)\n",
    "    c = Counter(keypairs).most_common()\n",
    "    ax[i].bar(range(len(c)), [el[1] for el in c], tick_label=[str(el[0]) for el in c])\n",
    "    ax[i].set_title(gridTypes[i])\n",
    "    for tick in ax[i].get_xticklabels():\n",
    "        tick.set_rotation(90)\n",
    "fig.tight_layout()"
   ]
  },
  {
   "cell_type": "code",
   "execution_count": null,
   "metadata": {},
   "outputs": [],
   "source": []
  }
 ],
 "metadata": {
  "kernelspec": {
   "display_name": "Python 3",
   "language": "python",
   "name": "python3"
  },
  "language_info": {
   "codemirror_mode": {
    "name": "ipython",
    "version": 3
   },
   "file_extension": ".py",
   "mimetype": "text/x-python",
   "name": "python",
   "nbconvert_exporter": "python",
   "pygments_lexer": "ipython3",
   "version": "3.7.3"
  }
 },
 "nbformat": 4,
 "nbformat_minor": 2
}
