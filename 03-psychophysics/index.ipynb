{
 "cells": [
  {
   "cell_type": "markdown",
   "metadata": {},
   "source": [
    "# Preamble"
   ]
  },
  {
   "cell_type": "markdown",
   "metadata": {},
   "source": [
    "> This notebook contains the ground-truth copy of the code mixed with literate comments. All code in this directory is produced by running the cells in this notebook."
   ]
  },
  {
   "cell_type": "markdown",
   "metadata": {},
   "source": [
    "# Introduction"
   ]
  },
  {
   "cell_type": "markdown",
   "metadata": {},
   "source": [
    "**Cortical visual prostheses** (CVPs) are devices implanted on the brain which aim to restore vision to blind people by stimulating the visual cortex.\n",
    "\n",
    "Experiments have shown that stimulating the visual cortex produces visual percepts in both blind and sighted patients. These visual percepts are called **phosphenes** and are typically described as small round dots of colourless light like \"a star in the sky.\" The idea behind most CVPs is to build images out of phosphenes, like how graphical displays are made out of pixels. \n",
    "\n",
    "But phosphenes are very limited. At the moment, we can only control the intensity of phosphenes (and, to some extent, their size). The locations of phosphenes follow the retinotopic mapping of the visual fields on the cortex, but the complexity of this mapping makes precisely controlling the positions of phosphenes in the visual field very difficult; it is much easier to instead place a regular grid of electrodes on the brain and map the phosphene locations after implantation. Other properties of phosphenes, such as their shape, individual brightness or colour, are highly variable and uncontrollable.\n",
    "\n",
    "In addition, there are no empirical studies which describe what exactly is seen when we try to stimulate more than about five simultaneous phosphenes. The largest implant in a human used 64 electrodes, but there is inadequate description on what the implantee saw and how useful these percepts were (though the implantee purportedly was able to read large letterforms). New CVPs generally intend to stimulate on the order of hundreds of electrodes (such as 473 for the Monash Vision Group); it is not yet known what people will perceive when many electrodes are stimulate at once. Some studies have suggested that stimulating five electrodes, for example, does not produce five discrete phosphenes or a blended picture; rather, phosphenes which were stimulated by an electrode when only one electrode was stimulated completely disappear upon simultaneous stimulation as though they were not stimulated at all.\n",
    "\n",
    "This begs the question: **how can phosphenes be used to convey useful information, given their known and unknown perceptual limitations?**"
   ]
  },
  {
   "cell_type": "markdown",
   "metadata": {},
   "source": [
    "## Pattern-Based Approach\n",
    "\n",
    "Using a pattern-based approach, we focus on **object identification**. That is, we attempt to create recognisable patterns that are matchable against object identities, and discard any location-based information.\n",
    "\n",
    "The advantages of this approach are that:\n",
    "\n",
    "1. By focusing on identity rather than location, stable patterns can be presented using the same phosphenes each time an object occurs in a scene. As the exact same pattern is presented each time, it may be easier to learn.\n",
    "\n",
    "The disadvantages of this approach are that:\n",
    "\n",
    "1. Only one object at a time can be shown.\n",
    "2. If there is no location information, it may be hard to justify how this is useful in comparison to something less invasive; for example, an external camera linked to an earpiece could easily just speak out the identity of an object instead of presenting patterned vision. You could argue that presenting object identities through vision is beneficial because it doesn't take up another sensory modality, but this is a relatively small upside compared to the invasiveness of a brain implant."
   ]
  },
  {
   "cell_type": "markdown",
   "metadata": {},
   "source": [
    "## Location-Based Approach"
   ]
  },
  {
   "cell_type": "markdown",
   "metadata": {},
   "source": [
    "Using a location-based approach, we focus on **object localisation**. "
   ]
  },
  {
   "cell_type": "markdown",
   "metadata": {},
   "source": [
    "## Rationale"
   ]
  },
  {
   "cell_type": "markdown",
   "metadata": {},
   "source": [
    "# Phosphene Modelling"
   ]
  },
  {
   "cell_type": "markdown",
   "metadata": {},
   "source": [
    "## Phosphene Rendering"
   ]
  },
  {
   "cell_type": "code",
   "execution_count": 983,
   "metadata": {
    "code_folding": []
   },
   "outputs": [
    {
     "name": "stdout",
     "output_type": "stream",
     "text": [
      "Overwriting phosphenes.py\n"
     ]
    }
   ],
   "source": [
    "%%writefile phosphenes.py\n",
    "#!/usr/bin/env python\n",
    "\n",
    "import numpy as np\n",
    "import random\n",
    "import tensorflow as tf\n",
    "import keras\n",
    "from math import e\n",
    "from scipy.ndimage import gaussian_filter\n",
    "from skimage import color\n",
    "from abc import ABC, abstractmethod\n",
    "\n",
    "def safebound(value: float, width: float, lower: float, upper: float):\n",
    "    \"\"\" \n",
    "    Returns the bounded min and max about value with width.\n",
    "    \"\"\"\n",
    "    vmin = int(max(lower, value - width / 2))\n",
    "    vmax = int(min(upper, value + width / 2))\n",
    "    return vmin, vmax\n",
    "\n",
    "def bound(value:float, lower: float, upper:float):\n",
    "    \"\"\"\n",
    "    Returns a bounded value.\n",
    "    \"\"\"\n",
    "    if value > lower:\n",
    "        if value < upper:\n",
    "            return value\n",
    "        return upper\n",
    "    return lower\n",
    "\n",
    "# Electrodes, which produce phosphenes.\n",
    "\n",
    "class Electrode:\n",
    "    \"\"\"\n",
    "    Produces a phosphene for a single electrode.\n",
    "    \"\"\"\n",
    "    def __init__(self,\n",
    "                 x: float,\n",
    "                 y: float,\n",
    "                 xsize: float,\n",
    "                 ysize: float,\n",
    "                 strength: float,\n",
    "                 xdim: int,\n",
    "                 ydim: int):\n",
    "        \"\"\"\n",
    "        Args:\n",
    "            x: float         - position in range [0, 1]. \n",
    "            y: float         - position in range [0, 1]\n",
    "            xsize: int       - x size of the electrode (in units of output image)\n",
    "            ysize: int       - y size of the electrode (in units of output image)\n",
    "            strength: float  - relative brightness of the electrode in range [0, 1]\n",
    "            xdim: int        - x dim of the output image\n",
    "            ydim: int        - y dim of the output image \n",
    "        \"\"\"\n",
    "        self.x = x\n",
    "        self.y = y\n",
    "        self.xdim = xdim\n",
    "        self.ydim = ydim\n",
    "        self.xsize = xsize\n",
    "        self.ysize = ysize\n",
    "        self.strength = strength\n",
    "\n",
    "        self.rendered = self.render()\n",
    "\n",
    "    def render(self):\n",
    "        xmin, xmax = safebound(self.xdim * self.x, self.xsize, 0, self.xdim)\n",
    "        ymin, ymax = safebound(self.ydim * self.y, self.ysize, 0, self.ydim)\n",
    "\n",
    "        base = np.zeros((self.ydim, self.xdim))\n",
    "        base[ymin:ymax, xmin:xmax] = self.strength\n",
    "        \n",
    "        blurred = gaussian_filter(base, (self.xsize * self.ysize) ** 0.5, mode='constant')\n",
    "        blurred_max = blurred.max()\n",
    "        \n",
    "        if blurred_max > 0:\n",
    "            scaling = self.strength / blurred_max\n",
    "        else:\n",
    "            scaling = 1\n",
    "        \n",
    "        # Scale by offset back to previous ma\n",
    "        blurred = blurred * scaling\n",
    "        \n",
    "        # Clip\n",
    "        if blurred.max() > 1:\n",
    "            return blurred / blurred.max()\n",
    "        else: \n",
    "            return blurred\n",
    "\n",
    "class DistortedElectrode(Electrode):\n",
    "    \"\"\"\n",
    "    This class introduced random distortions to the rendered phosphene.\n",
    "    \"\"\"\n",
    "    def __init__(self,\n",
    "                 x: float,\n",
    "                 y: float,\n",
    "                 xsize: float,\n",
    "                 ysize: float,\n",
    "                 xdim: int,\n",
    "                 ydim: int):\n",
    "        \n",
    "        # x = bound(self.randomise(x), 0, 1)\n",
    "        x = (random.random() + 1) / 2 # for hemisphere\n",
    "        # y = bound(self.randomise(y), 0, 1)\n",
    "        y = random.random()\n",
    "        xsize = max(0, int(self.randomise(xsize)))\n",
    "        ysize = max(0, int(self.randomise(ysize)))\n",
    "        #strength = random.random() #** 10\n",
    "        strength = 1\n",
    "        \n",
    "        Electrode.__init__(self, x, y, xsize, ysize, strength, xdim, ydim)\n",
    "        \n",
    "    def randomise(self, value):\n",
    "        randomised = value * (random.random() * 2)\n",
    "        return randomised\n",
    "\n",
    "# Grids, which are composed of electrodes.\n",
    "\n",
    "class Grid(ABC): \n",
    "    def __init__(self,\n",
    "                 ndim1: int, \n",
    "                 ndim2: int, \n",
    "                 xdim: int, \n",
    "                 ydim: int):\n",
    "        \"\"\"\n",
    "        Base class for a rendering grid.\n",
    "        \n",
    "        Args:\n",
    "            ndim1: int - number of electrodes for dimension 1\n",
    "            ndim2: int - number of electrodes for dimension 2\n",
    "            xdim: int  - x dimension of output image\n",
    "            ydim: int  - y dimension of output image\n",
    "        \"\"\"\n",
    "        self.ndim1 = ndim1\n",
    "        self.ndim2 = ndim2\n",
    "        self.vector_size = ndim1 * ndim2\n",
    "        self.xdim = xdim\n",
    "        self.ydim = ydim\n",
    "        \n",
    "        self.grid = self.make_grid()\n",
    "        self.prerendered = np.array([electrode.rendered for electrode in self.grid])\n",
    "        self.prerendered_tensor = tf.convert_to_tensor(self.prerendered, dtype=tf.float32)\n",
    "        \n",
    "        super().__init__()\n",
    "        \n",
    "    @abstractmethod\n",
    "    def make_grid(self):\n",
    "        pass\n",
    "    \n",
    "    def render(self, values: np.ndarray):\n",
    "        \n",
    "        # Multiply the values with the renders and sum\n",
    "        product = values.reshape(self.vector_size, 1, 1) * self.prerendered\n",
    "        summed = sum(product)\n",
    "\n",
    "        # Clip, then scale between -1 and 1\n",
    "        clipped = np.clip(summed, 0, 1) * 2 - 1\n",
    "        \n",
    "        return clipped\n",
    "    \n",
    "    def render_tensor(self, tensor):\n",
    "        \n",
    "        # Preprocessing\n",
    "        tiled = tf.tile(tensor, tf.constant([self.xdim]))\n",
    "        reshaped = tf.reshape(tiled, (self.xdim, self.vector_size, 1))\n",
    "        transposed = tf.transpose(reshaped, perm=[1, 0, 2])\n",
    "        \n",
    "        # Multiply the values with the renders and sum\n",
    "        product = transposed * self.prerendered_tensor\n",
    "        summed = tf.reduce_sum(product, axis=0)\n",
    "        \n",
    "        # Clip, then scale by -1 and 1\n",
    "        clipped = tf.clip_by_value(summed, 0, 1) * 2 - 1\n",
    "        \n",
    "        return clipped\n",
    "        \n",
    "\n",
    "class CartesianGrid(Grid):\n",
    "    \"\"\"\n",
    "    A regular grid of electrodes with even spacing and even size. \n",
    "    \"\"\"\n",
    "    def __init__(self,\n",
    "                 nxelectrode: int,\n",
    "                 nyelectrode: int,\n",
    "                 xdim: int,\n",
    "                 ydim: int):\n",
    "        \"\"\"\n",
    "        Args:\n",
    "            nxelectrode: int - number of electrodes on x axis\n",
    "            nyelectrode: int - number of electrodes on y axis\n",
    "            xdim: int       - output x dimension of image\n",
    "            ydim: int       - output y dimension of image\n",
    "        \"\"\"\n",
    "        Grid.__init__(self, nxelectrode, nyelectrode, xdim, ydim)\n",
    "        \n",
    "    def make_grid(self):\n",
    "        \n",
    "        grid = [\n",
    "            Electrode(x = x / self.ndim1,\n",
    "                      y = y / self.ndim2,\n",
    "                      xsize = np.sqrt(self.xdim // self.ndim1),\n",
    "                      ysize = np.sqrt(self.ydim // self.ndim2),\n",
    "                      strength = 1,\n",
    "                      xdim = self.xdim,\n",
    "                      ydim = self.ydim)\n",
    "            for x in range(self.ndim1)\n",
    "            for y in range(self.ndim2)\n",
    "        ]\n",
    "        \n",
    "        return grid\n",
    "\n",
    "class PolarGrid(Grid):\n",
    "    \"\"\"\n",
    "    A polar regular grid of electrodes with even spacing \n",
    "    and size increasing with eccentricity. \n",
    "    \"\"\"\n",
    "    def __init__(self,\n",
    "                 nradius: int,\n",
    "                 ntheta: int,\n",
    "                 xdim: int,\n",
    "                 ydim: int):\n",
    "        \"\"\"\n",
    "        Args:\n",
    "            nradius: int - number of radii to place electrodes on\n",
    "            ntheta: int  - number of angles to place electrodes on\n",
    "            xdim: int    - output x dimension of image\n",
    "            ydim: int    - output y dimension of image\n",
    "        \"\"\"\n",
    "        Grid.__init__(self, nradius, ntheta, xdim, ydim)\n",
    "        \n",
    "    def iangle(self, i):\n",
    "        \"\"\"\n",
    "        Calculates the angle for angle of index i in range(self.ndim2)\n",
    "        \"\"\"\n",
    "        angle = (np.pi / (self.ndim2 - 1) * i) - (np.pi / 2)\n",
    "        return angle\n",
    "        \n",
    "    def make_grid(self):\n",
    "        \n",
    "        k = self.xdim / 2 + self.ydim / 2\n",
    "        a = e * (self.xdim + self.ydim) / 64\n",
    "        \n",
    "        xys = [\n",
    "            (0.5 + (ir / self.ndim1 * np.cos(self.iangle(itheta))) / 2,\n",
    "             0.5 + (ir / self.ndim1 * np.sin(self.iangle(itheta))) / 2,)\n",
    "            for ir in range(1, self.ndim1 + 1)\n",
    "            for itheta in range(self.ndim2)\n",
    "        ]\n",
    "        \n",
    "        grid = [\n",
    "            Electrode(x = x,\n",
    "                      y = y,\n",
    "                      xsize = np.log(k * ((x-0.5)**2 + (y-0.5)**2) + a),\n",
    "                      ysize = np.log(k * ((x-0.5)**2 + (y-0.5)**2) + a),\n",
    "                      strength = 1,\n",
    "                      xdim = self.xdim,\n",
    "                      ydim = self.ydim)\n",
    "            for (x, y) in xys\n",
    "        ]\n",
    "        \n",
    "        return grid\n",
    "    \n",
    "class DistortedPolarGrid(PolarGrid):\n",
    "    \"\"\"\n",
    "    A polar grid with distorted electrodes.\n",
    "    \"\"\"\n",
    "        \n",
    "    def make_grid(self):\n",
    "        \n",
    "        k = self.xdim / 2 + self.ydim / 2\n",
    "        a = e * (self.xdim + self.ydim) / 64\n",
    "        \n",
    "        xys = [\n",
    "            (0.5 + (ir / self.ndim1 * np.cos(self.iangle(itheta))) / 2,\n",
    "             0.5 + (ir / self.ndim1 * np.sin(self.iangle(itheta))) / 2,)\n",
    "            for ir in range(1, self.ndim1 + 1)\n",
    "            for itheta in range(self.ndim2)\n",
    "        ]\n",
    "        \n",
    "        grid = [\n",
    "            DistortedElectrode(x = x,\n",
    "                               y = y,\n",
    "                               xsize = np.log(k * ((x-0.5)**2 + (y-0.5)**2) + a),\n",
    "                               ysize = np.log(k * ((x-0.5)**2 + (y-0.5)**2) + a),\n",
    "                               xdim = self.xdim,\n",
    "                               ydim = self.ydim)\n",
    "            for (x, y) in xys\n",
    "        ]\n",
    "        \n",
    "        return grid\n",
    "    \n",
    "class RescalingDistortedPolarGrid(DistortedPolarGrid):\n",
    "    \"\"\"\n",
    "    A polar grid with distorted electrodes and non-summative rendering\n",
    "    (rendering rescales the brightness to max). \n",
    "    \"\"\"\n",
    "    \n",
    "    def render(self, values):\n",
    "        \n",
    "        # Multiply the values with the renders and sum\n",
    "        product = values.reshape(self.vector_size, 1, 1) * self.prerendered\n",
    "        summed = sum(product)\n",
    "        summax = np.max(summed)\n",
    "\n",
    "        # Rescale\n",
    "        scaled = (summed / summax )\n",
    "        \n",
    "        # Clip below 0.5, then scale between -1 and 1\n",
    "        clipped = np.clip(scaled, 0.5, 1) * 4 - 3 \n",
    "        \n",
    "        return clipped\n",
    "    \n",
    "    def render_tensor(self, tensor):\n",
    "        \n",
    "        # Preprocessing\n",
    "        tiled = tf.tile(tensor, tf.constant([self.xdim]))\n",
    "        reshaped = tf.reshape(tiled, (self.xdim, self.vector_size, 1))\n",
    "        transposed = tf.transpose(reshaped, perm=[1, 0, 2])\n",
    "        \n",
    "        # Multiply the values with the renders and sum\n",
    "        product = transposed * self.prerendered_tensor\n",
    "        summed = tf.reduce_sum(product, axis=0)\n",
    "        summax = tf.reduce_max(summed)\n",
    "        \n",
    "        # Rescale\n",
    "        scaled = tf.divide(summed, summax ) \n",
    "        \n",
    "        # Clip below 0.5, then scale between -1 and 1\n",
    "        clipped = tf.clip_by_value(scaled, 0.5, 1) * 4 - 3\n",
    "        \n",
    "        return clipped\n",
    "    \n",
    "class RescalingPolarGrid(PolarGrid):\n",
    "    \"\"\" A polar grid with non-summative rendering.\"\"\"\n",
    "    \n",
    "    def make_grid(self):\n",
    "        \n",
    "        k = self.xdim / 2 + self.ydim / 2\n",
    "        a = e * (self.xdim + self.ydim) / 64\n",
    "        \n",
    "        xys = [\n",
    "            (0.5 + (ir / self.ndim1 * np.cos(self.iangle(itheta))) / 2,\n",
    "             0.5 + (ir / self.ndim1 * np.sin(self.iangle(itheta))) / 2,)\n",
    "            for ir in range(1, self.ndim1 + 1)\n",
    "            for itheta in range(self.ndim2)\n",
    "        ]\n",
    "        \n",
    "        grid = [\n",
    "            Electrode(x = x,\n",
    "                      y = y,\n",
    "                      xsize = np.log(k * ((x-0.5)**2 + (y-0.5)**2) + a),\n",
    "                      ysize = np.log(k * ((x-0.5)**2 + (y-0.5)**2) + a),\n",
    "                      strength = random.random(),\n",
    "                      xdim = self.xdim,\n",
    "                      ydim = self.ydim)\n",
    "            for (x, y) in xys\n",
    "        ]\n",
    "        \n",
    "        return grid    \n",
    "    def render(self, values):\n",
    "        \n",
    "        # Multiply the values with the renders and sum\n",
    "        product = values.reshape(self.vector_size, 1, 1) * self.prerendered\n",
    "        summed = sum(product)\n",
    "        summax = np.max(summed)\n",
    "\n",
    "        # Rescale\n",
    "        scaled = (summed / summax )\n",
    "        \n",
    "        # Clip below 0.5, then scale between -1 and 1\n",
    "        clipped = np.clip(scaled, 0.5, 1) * 4 - 3 \n",
    "        \n",
    "        return clipped\n",
    "    \n",
    "    def render_tensor(self, tensor):\n",
    "        \n",
    "        # Preprocessing\n",
    "        tiled = tf.tile(tensor, tf.constant([self.xdim]))\n",
    "        reshaped = tf.reshape(tiled, (self.xdim, self.vector_size, 1))\n",
    "        transposed = tf.transpose(reshaped, perm=[1, 0, 2])\n",
    "        \n",
    "        # Multiply the values with the renders and sum\n",
    "        product = transposed * self.prerendered_tensor\n",
    "        summed = tf.reduce_sum(product, axis=0)\n",
    "        summax = tf.reduce_max(summed)\n",
    "        \n",
    "        # Rescale\n",
    "        scaled = tf.divide(summed, summax ) \n",
    "        \n",
    "        # Clip below 0.5, then scale between -1 and 1\n",
    "        clipped = tf.clip_by_value(scaled, 0.5, 1) * 4 - 3\n",
    "        \n",
    "        return clipped\n",
    "        \n",
    "# STIMULUS\n",
    "\n",
    "class Stimulus:\n",
    "    def __init__(self, image, grid, xpos=0, ypos=0):\n",
    "        self.shape = image.shape\n",
    "        \n",
    "        if len(self.shape) == 2:\n",
    "            self.original = image.reshape(*self.shape, 1)\n",
    "            self.shape = self.original.shape\n",
    "        else:\n",
    "            self.original = image\n",
    "            \n",
    "        # Normalise between -1 and 1 for an RGB255 image\n",
    "        self.original = (self.original / 127.5) - 1\n",
    "        \n",
    "        self.padder = np.zeros((3 * self.shape[0], 3 * self.shape[1], self.shape[2])) - 1\n",
    "        self.padder[self.shape[0]:2*self.shape[0], self.shape[1]:2*self.shape[1], :] = self.original\n",
    "        \n",
    "        self.xpos = xpos\n",
    "        self.ypos = ypos\n",
    "        \n",
    "        self.image = self.getImage()\n",
    "        \n",
    "        self.grid = grid\n",
    "        self.sampleWidth = 6\n",
    "        \n",
    "        self.vector = self.process()\n",
    "            \n",
    "    def get_params(self, x : float, y : float):\n",
    "        \n",
    "        ymin = bound(int(self.shape[0] * y - self.sampleWidth // 2), 0, self.shape[0] - 1)\n",
    "        ymax = bound(int(self.shape[0] * y + self.sampleWidth // 2), 0, self.shape[0] - 1)\n",
    "        xmin = bound(int(self.shape[1] * x - self.sampleWidth // 2), 0, self.shape[1] - 1)            \n",
    "        xmax = bound(int(self.shape[1] * x + self.sampleWidth // 2), 0, self.shape[1] - 1)\n",
    "\n",
    "        vals  = self.image[ymin:ymax, xmin:xmax, :]\n",
    "        return np.mean(vals)\n",
    "    \n",
    "    def getImage(self):\n",
    "        \"\"\" Based on xpos and ypos, get the image view from the padder.\n",
    "        \"\"\"\n",
    "        \n",
    "        xstart = self.shape[0] - int(self.xpos * self.shape[0])\n",
    "        ystart = self.shape[1] - int(self.ypos * self.shape[1])\n",
    "        \n",
    "        return self.padder[ystart:ystart+self.shape[1], xstart:xstart+self.shape[0], :]\n",
    "\n",
    "    def process(self):\n",
    "        \"\"\" Converts the stimulus into a brightness vector for the\n",
    "        \"\"\"\n",
    "\n",
    "        params = np.array([self.get_params(e.x, e.y) for e in self.grid.grid])\n",
    "        # Normalise to between 0 and 1\n",
    "        params = params - (np.min(params))\n",
    "        if np.max(params) > 0:\n",
    "            params /= np.max(params)\n",
    "        return params\n",
    "    \n",
    "    def setPos(self, xpos: float, ypos: float):\n",
    "        \"\"\"Translate the image. xpos and ypos lie in the range (-1, 1)\n",
    "        \"\"\"\n",
    "        self.xpos = xpos\n",
    "        self.ypos = ypos\n",
    "        self.image = self.getImage()\n",
    "        self.vector = self.process()\n",
    "\n",
    "class StimulusNet(Stimulus):\n",
    "\n",
    "    def __init__(self, image, grid, encoder_path):\n",
    "        self.encoder = tf.keras.models.load_model(encoder_path)      \n",
    "        Stimulus.__init__(self, image, grid)\n",
    "    \n",
    "    def process(self):\n",
    "        image_tensor = tf.convert_to_tensor(np.array([self.image]), dtype=tf.float32)\n",
    "        return self.encoder(image_tensor).numpy()[0]"
   ]
  },
  {
   "cell_type": "code",
   "execution_count": 984,
   "metadata": {},
   "outputs": [],
   "source": [
    "%run phosphenes.py"
   ]
  },
  {
   "cell_type": "markdown",
   "metadata": {},
   "source": [
    "## Digit Experiment"
   ]
  },
  {
   "cell_type": "code",
   "execution_count": 554,
   "metadata": {
    "code_folding": [
     0
    ]
   },
   "outputs": [
    {
     "name": "stdout",
     "output_type": "stream",
     "text": [
      "Overwriting digits.py\n"
     ]
    }
   ],
   "source": [
    "%%writefile digits.py\n",
    "#!/usr/bin/env python\n",
    "\"\"\"\n",
    "This script runs a digit recognition psychophysics session.\n",
    "\"\"\"\n",
    "\n",
    "# # Setup\n",
    "\n",
    "import numpy as np\n",
    "import json\n",
    "import cv2\n",
    "import pickle\n",
    "from phosphenes import *\n",
    "from datetime import datetime\n",
    "from argparse import ArgumentParser\n",
    "from psychopy import visual, core, gui, event\n",
    "from box import Box\n",
    "from psychopy.sound.backend_pygame import SoundPygame\n",
    "from psychopy.tools.filetools import fromFile, toFile\n",
    "from skimage import color\n",
    "from imageio import imread\n",
    "from random import randint\n",
    "from PIL import Image\n",
    "\n",
    "\n",
    "# I'm setting up a config dictionary with dot-syntax so it can be serialised \n",
    "# and saved with the session. I prefer explicitly keeping track of state.\n",
    "\n",
    "config = Box({})\n",
    "\n",
    "# Parsing the command line arguments, especially for testing.\n",
    "parser = ArgumentParser(description='Digit recognition task.')\n",
    "\n",
    "# Define command line arguments.\n",
    "argspec = {\n",
    "    'testing': {\n",
    "        'action': 'store_const',\n",
    "        'const': True,\n",
    "        'default': False,\n",
    "        'dest': 'testing',\n",
    "        'help': 'Test the experiment and save the data.'\n",
    "    },\n",
    "    'ntrials': {\n",
    "        'type': int,\n",
    "        'nargs': '?',\n",
    "        'default': 5,\n",
    "        'help': 'Number of trials for the experiment.'\n",
    "    },\n",
    "    'ncues': {\n",
    "        'type': int,\n",
    "        'nargs': '?',\n",
    "        'default': 10,\n",
    "        'help': 'Number of cues per trial. Should be a multiple of 10 (for now) for digit stream.'\n",
    "    },\n",
    "    'grid': {\n",
    "        'type': str,\n",
    "        'nargs': '?',\n",
    "        'default': 'polar',\n",
    "        'help': 'The grid type for rendering. One of cartesian, polar, distortedPolar, or rescalingDistortedPolar, or a filepath to the grid to load.'\n",
    "    },\n",
    "    'processor': {\n",
    "        'type': str,\n",
    "        'nargs': '?',\n",
    "        'default': 'direct',\n",
    "        'help': 'The processor for the session. One of direct or net.'\n",
    "    },\n",
    "    'encoder': {\n",
    "        'type': str,\n",
    "        'nargs': '?',\n",
    "        'default': None,\n",
    "        'help': 'If the processor is a net, specify the filepath of the encoder to be used. '\n",
    "    },\n",
    "    'no-numpad': {\n",
    "        'action': 'store_const',\n",
    "        'const': True,\n",
    "        'default': False,\n",
    "        'dest': 'noNumpad',\n",
    "        'help': 'Flags that normal number keys instead of numpad should be used.'\n",
    "    },\n",
    "    'with-scanning': {\n",
    "        'action': 'store_const',\n",
    "        'const': True,\n",
    "        'default': False,\n",
    "        'dest': 'withScanning',\n",
    "        'help': 'Flags that scanning with the mouse should be enabled.'\n",
    "    }\n",
    "}\n",
    "\n",
    "# Add arguments to the parser.\n",
    "[parser.add_argument(f'--{k}', **v) for k, v in argspec.items()]\n",
    "\n",
    "# Parse the arguments and save into config.\n",
    "args = parser.parse_args()\n",
    "config.TESTING        = args.testing\n",
    "config.NTRIALS        = args.ntrials\n",
    "config.NCUES          = args.ncues\n",
    "config.GRID_TYPE      = args.grid\n",
    "config.PROCESSOR_TYPE = args.processor\n",
    "config.NO_NUMPAD      = args.noNumpad\n",
    "config.ENCODER        = args.encoder\n",
    "config.WITH_SCANNING  = args.withScanning\n",
    "\n",
    "\n",
    "# First, we define the constants for the window size of the experiment.\n",
    "# `XSIZE` and `YSIZE` refer to the size of the window on the screen.\n",
    "# `EXSIZE` and `EYSIZE` refer to the size of the image data (i.e. how many \n",
    "# electrodes there are). \n",
    "# `SCALE` links the two. \n",
    "\n",
    "config.XSIZE  = 100\n",
    "config.YSIZE  = 100\n",
    "config.SCALE  = 10\n",
    "config.EXSIZE = config.XSIZE // config.SCALE\n",
    "config.EYSIZE = config.YSIZE // config.SCALE\n",
    "config.INPUT_XSIZE = 64\n",
    "config.INPUT_YSIZE = 64\n",
    "\n",
    "# Next, we load the stimulus. Opening the image files can be expensive\n",
    "# so we're doing at this at the very start and loading them into a \n",
    "# variable. \n",
    "\n",
    "# `IMAGE_TEMPLATE` is a string of the filepath of the stimulus digit images.\n",
    "config.IMAGE_TEMPLATE = './data/digit-images-aliased/{}.png'\n",
    "\n",
    "# `IMAGE_SIZE` is an (int, int) tuple of the image size of the first image.\n",
    "# We assume that each image is of the same size as the image labelled \"0\"\n",
    "config.IMAGE_SIZE = np.shape(imread(config.IMAGE_TEMPLATE.format(0)))  \n",
    "\n",
    "# `IMAGE_SCALE` is an int describing the ratio of electrode size to image size.\n",
    "# It assumes that EXSIZE == EYSIZE and the input images are square.\n",
    "# This may need changing later. \n",
    "config.IMAGE_SCALE = config.EXSIZE / config.IMAGE_SIZE[0]  \n",
    "\n",
    "# `IMAGES` holds the original digit images.\n",
    "config.IMAGES = [cv2.cvtColor(cv2.resize(imread(config.IMAGE_TEMPLATE.format(digit)),\n",
    "                                         dsize=(config.INPUT_XSIZE, config.INPUT_YSIZE)),\n",
    "                              cv2.COLOR_RGBA2RGB)\n",
    "                            for digit in range(10)]\n",
    "\n",
    "# `STIMULI` contains a list of numpy arrays.\n",
    "# Each element in the list holds the image data \n",
    "# for the digit equal to its index. Normalised to \n",
    "# between -1 and 1\n",
    "config.STIMULI = [\n",
    "    np.array(Image.fromarray(image).resize((config.EXSIZE, config.EYSIZE)))\n",
    "    for image in config.IMAGES\n",
    "]\n",
    "\n",
    "# We initiate a grid of electrodes.\n",
    "grids = {\n",
    "    'cartesian': lambda: CartesianGrid(\n",
    "        config.EXSIZE,\n",
    "        config.EYSIZE, \n",
    "        config.XSIZE, \n",
    "        config.YSIZE\n",
    "    ),\n",
    "    'polar': lambda: PolarGrid(\n",
    "        config.EXSIZE, \n",
    "        config.EYSIZE, \n",
    "        config.XSIZE, \n",
    "        config.YSIZE\n",
    "    ),\n",
    "    'distortedPolar': lambda: DistortedPolarGrid(\n",
    "        config.EXSIZE,\n",
    "        config.EYSIZE, \n",
    "        config.XSIZE, \n",
    "        config.YSIZE\n",
    "    ),\n",
    "    'rescalingDistortedPolar': lambda: RescalingDistortedPolarGrid(\n",
    "        config.EXSIZE, \n",
    "        config.EYSIZE, \n",
    "        config.XSIZE, \n",
    "        config.YSIZE\n",
    "    ),\n",
    "}\n",
    "\n",
    "try:\n",
    "    grid = grids[config.GRID_TYPE]()\n",
    "except KeyError:\n",
    "    with open(config.GRID_TYPE, 'rb') as infile:\n",
    "        grid = pickle.load(infile)\n",
    "\n",
    "config.GRID = grid\n",
    "\n",
    "# We initiate the stimulus processor type.\n",
    "\n",
    "processors = {\n",
    "    'direct': Stimulus,\n",
    "    'net': lambda image, grid: StimulusNet(image, grid, config.ENCODER),\n",
    "}\n",
    "\n",
    "config.PROCESSOR = processors[config.PROCESSOR_TYPE]\n",
    "\n",
    "# Templates for data paths.\n",
    "config.DATETIME_FORMAT       = '%Y-%m-%d_%H-%M-%S'\n",
    "config.DIGIT_SOUND_TEMPLATE  = './data/digit-voice/{}-alt.wav'\n",
    "\n",
    "base_dir = './data/psychophysics-sessions/'\n",
    "\n",
    "if config.TESTING:\n",
    "    config.CONFIG_FILE_TEMPLATE  = base_dir + 'tests/{}_{}_config.json'\n",
    "    config.SESSION_FILE_TEMPLATE = base_dir + 'tests/{}_{}_session.csv'\n",
    "    config.MOUSE_FILE_TEMPLATE   = base_dir + 'tests/{}_{}_mouse.csv'\n",
    "else:\n",
    "    config.CONFIG_FILE_TEMPLATE  = base_dir + 'participants/{}_{}_config.json'\n",
    "    config.SESSION_FILE_TEMPLATE = base_dir + 'participants/{}_{}_session.csv'\n",
    "    config.MOUSE_FILE_TEMPLATE   = base_dir + 'participants/{}_{}_mouse.csv'\n",
    "\n",
    "# Parameters for sound.\n",
    "config.CORRECT_NOTE   = 'G'\n",
    "config.INCORRECT_NOTE = 'Csh'\n",
    "config.NOTE_DURATION  = 0.1\n",
    "config.NOTE_VOLUME    = 0.5\n",
    "\n",
    "# Session data.\n",
    "config.SESSION_VARS = ['trial', 'cue', 'digit', 'keypress', 'cuetime', 'trialtime', 'sessiontime']\n",
    "config.MOUSE_VARS   = ['trial', 'cue', 'digit', 'xmouse', 'ymouse', 'cuetime', 'trialtime', 'sessiontime']\n",
    "\n",
    "# Output templates based on session data.\n",
    "config.SESSION_HEADER       = ','.join(config.SESSION_VARS) + '\\n'\n",
    "config.SESSION_ROW_TEMPLATE = ','.join(['{' + word + '}' for word in config.SESSION_VARS]) + '\\n'\n",
    "config.MOUSE_HEADER         = ','.join(config.MOUSE_VARS) + '\\n'\n",
    "config.MOUSE_ROW_TEMPLATE   = ','.join(['{' + word + '}' for word in config.MOUSE_VARS]) + '\\n'\n",
    "\n",
    "# Mouse recording interval in seconds.\n",
    "config.MOUSE_RECORD_INTERVAL = 0.2\n",
    "\n",
    "# Text.\n",
    "config.PROMPT_TEXT = \"{}% complete.\\n\\nPress any key when ready.\"\n",
    "config.END_TEXT    = \"Thank you. \\n\\nPress any key to exit.\"\n",
    "\n",
    "# If testing, the blank image.\n",
    "if config.TESTING:\n",
    "    config.BLANK_FILE = config.IMAGE_TEMPLATE.format('blank')\n",
    "    config.BLANK_IMAGE = cv2.resize(np.flipud(imread(config.BLANK_FILE)), dsize=(config.INPUT_XSIZE, config.INPUT_YSIZE))\n",
    "    config.TEST_WINDOW_XSIZE = 480\n",
    "    config.TEST_WINDOW_YSIZE = 480\n",
    "\n",
    "# Keypress during a trial.\n",
    "if config.NO_NUMPAD:\n",
    "    config.KEY_LIST=[str(x) for x in range(10)]\n",
    "else:\n",
    "    config.KEY_LIST = [\"num_\" + str(x) for x in range(10)]\n",
    "\n",
    "# When saving the config, excluding some variables due to size.\n",
    "config.EXCLUDED = ['STIMULI', 'GRID', 'IMAGES', 'BLANK_IMAGE', 'PROCESSOR']\n",
    "\n",
    "\n",
    "# Here, we make our main experiment, only if called from the command line.\n",
    "if __name__ == \"__main__\":\n",
    "    \n",
    "    # We initiate the user details and present a dialog to the user to get those details.\n",
    "    config.details = {\"datetime\": datetime.strftime(datetime.now(), config.DATETIME_FORMAT), \"participant\": \"\"}\n",
    "    dialog         = gui.DlgFromDict(config.details, title=\"PROTOTYPE\", fixed=[\"datetime\"])\n",
    "    \n",
    "    # We interpret the dialog actions and initiate data files if proceeding.\n",
    "    if dialog.OK:\n",
    "        config.configFile  = config.CONFIG_FILE_TEMPLATE.format(config.details[\"participant\"], config.details[\"datetime\"])\n",
    "        config.sessionFile = config.SESSION_FILE_TEMPLATE.format(config.details[\"participant\"], config.details[\"datetime\"])\n",
    "        config.mouseFile = config.MOUSE_FILE_TEMPLATE.format(config.details[\"participant\"], config.details[\"datetime\"])\n",
    "    else:\n",
    "        core.quit()\n",
    "\n",
    "    # Clocks that keep track of the experiment.\n",
    "    clockSession = core.Clock()\n",
    "    clockTrial   = core.Clock()\n",
    "    clockCue     = core.Clock()\n",
    "    mouseRecord  = core.Clock()\n",
    "\n",
    "    # We initiate some generic sounds for correct and incorrect.\n",
    "    correctSound   = SoundPygame(value=config.CORRECT_NOTE, secs=config.NOTE_DURATION)\n",
    "    incorrectSound = SoundPygame(value=config.INCORRECT_NOTE, secs=config.NOTE_DURATION)\n",
    "    \n",
    "    correctSound.setVolume(config.NOTE_VOLUME)\n",
    "    incorrectSound.setVolume(config.NOTE_VOLUME)\n",
    "    \n",
    "    # And we initiate the sounds for each digit.\n",
    "    digitSounds = [SoundPygame(value=config.DIGIT_SOUND_TEMPLATE.format(digit)) for digit in range(10)]\n",
    "    \n",
    "    # Now we save the config for this session.\n",
    "    with open(config.configFile, 'w+') as configFile:\n",
    "        json.dump({k:v for k, v in config.items() if k not in config.EXCLUDED}, configFile)\n",
    "\n",
    "    # We initiate a testing window if this is a testing run.\n",
    "    if config.TESTING:\n",
    "        testWin = visual.Window([config.TEST_WINDOW_XSIZE, config.TEST_WINDOW_YSIZE],\n",
    "                                pos=(200,200), allowGUI=False, winType='pyglet')\n",
    "        win = visual.Window([config.TEST_WINDOW_XSIZE, config.TEST_WINDOW_YSIZE],\n",
    "                            pos=(200+config.TEST_WINDOW_XSIZE, 200), allowGUI=False, winType='pyglet', color=-1)\n",
    "    else:\n",
    "        # We make a window for the experiment.\n",
    "        win = visual.Window(fullscr=True, allowGUI=False, winType='pyglet', color=-1)\n",
    "\n",
    "    # Start the mouse event\n",
    "    mouse = event.Mouse(visible=False, win=win)\n",
    "        \n",
    "    # We now start the experiment loop.\n",
    "    with open(config.sessionFile, 'w+') as outfile, open(config.mouseFile, 'w+') as mousefile:\n",
    "\n",
    "        # We first write the header of the csv file.\n",
    "        outfile.write(config.SESSION_HEADER)\n",
    "        mousefile.write(config.MOUSE_HEADER)\n",
    "\n",
    "        # Start the trial loop.\n",
    "        for trial in range(config.NTRIALS):\n",
    "\n",
    "            # Set the trial clock to 0.\n",
    "            # This clock will start counting from the wait screen, so includes that time..\n",
    "            clockTrial.reset()\n",
    "            \n",
    "            # If testing, show the blank.\n",
    "            if config.TESTING:\n",
    "                blankStimulus = config.PROCESSOR(config.BLANK_IMAGE, config.GRID)\n",
    "                rendered = config.GRID.render(blankStimulus.vector)\n",
    "                imageStimulus = visual.ImageStim(testWin, image=rendered, size=(2,2))\n",
    "                imageStimulus.draw(); testWin.flip()\n",
    "\n",
    "            # Show a prompt on grey background at the beginning of the trial and wait for a keypress.\n",
    "            bg     = visual.GratingStim(win, tex=None, mask=None, size=2, units='norm', color=0)\n",
    "            prompt = visual.TextStim(win, text=config.PROMPT_TEXT.format(trial * 100 // config.NTRIALS))\n",
    "            bg.draw(); prompt.draw(); win.flip(); event.waitKeys(clearEvents=True)\n",
    "            \n",
    "            previousDigit = False\n",
    "\n",
    "            # Start the cue loop.\n",
    "            for cue in range(config.NCUES):\n",
    "                \n",
    "                # Create a random digit\n",
    "                digit = randint(0, 9)\n",
    "                \n",
    "                # Ensure it is not the same as the previous digit\n",
    "                while digit == previousDigit:\n",
    "                    digit = randint(0, 9)\n",
    "                \n",
    "                # Set the new previous digit\n",
    "                previousDigit = digit\n",
    "                \n",
    "                # Initialise the stimulus    \n",
    "                image    = config.IMAGES[digit]\n",
    "                stimulus = config.PROCESSOR(image, config.GRID)\n",
    "                \n",
    "                # If this is a testing run, also draw the original image.\n",
    "                if config.TESTING:\n",
    "                    originalImage = visual.ImageStim(testWin, image=np.flipud(color.rgb2gray(image)), size=(2,2))\n",
    "                    originalImage.draw(); testWin.flip()\n",
    "                    \n",
    "                # Clear the event buffer\n",
    "                event.clearEvents()      \n",
    "                \n",
    "                # Set the mouse to the center. Might turn off, not sure which is better.\n",
    "                mouse.setPos((0,0))    \n",
    " \n",
    "                # Initialise a False keypress\n",
    "                keypressRaw = False\n",
    "        \n",
    "                # Set the cue clock to 0.\n",
    "                clockCue.reset()\n",
    "\n",
    "                # Set the mouse recording clock to 0\n",
    "                mouseRecord.reset()\n",
    "                \n",
    "                if not config.WITH_SCANNING:\n",
    "                    while not keypressRaw:\n",
    "                        # Set the stimulus in the right half of the grid\n",
    "                        stimulus.setPos(0.20, 0)\n",
    "                        rendered = np.flipud(config.GRID.render(stimulus.vector))\n",
    "                        imstim = visual.ImageStim(win, image=rendered, size =  ( win.size[1] / (1.5 * win.size[0]), 1 / 1.5))\n",
    "                        imstim.draw(); win.flip()\n",
    "\n",
    "                        keypresses = event.waitKeys(keyList=config.KEY_LIST, clearEvents=True)\n",
    "                        if keypresses:\n",
    "                            keypressRaw = keypresses[0]                    \n",
    "                else:\n",
    "                    # Loop until the keypress\n",
    "                    while not keypressRaw:\n",
    "\n",
    "                        # Get the mouse position and set the stimulus to the position.\n",
    "                        newPos = mouse.getPos()\n",
    "                        newPos = [newPos[0], -newPos[1]]\n",
    "                        stimulus.setPos(*newPos)\n",
    "\n",
    "                        if mouseRecord.getTime() > config.MOUSE_RECORD_INTERVAL:\n",
    "\n",
    "                            mouseRow = config.MOUSE_ROW_TEMPLATE.format(\n",
    "                                trial=trial,\n",
    "                                cue=cue,\n",
    "                                digit=digit,\n",
    "                                xmouse=newPos[0],\n",
    "                                ymouse=newPos[1],\n",
    "                                cuetime=clockCue.getTime(),\n",
    "                                trialtime=clockTrial.getTime(),\n",
    "                                sessiontime=clockSession.getTime(),\n",
    "                            )\n",
    "                            mousefile.write(mouseRow)\n",
    "\n",
    "                            mouseRecord.reset()\n",
    "\n",
    "                        # Render the stimulus\n",
    "                        rendered = np.flipud(config.GRID.render(stimulus.vector))\n",
    "\n",
    "                        # Create an image stimulus out of the rendered image.\n",
    "                        # Then show the stimulus.\n",
    "                        # Ensure stimulus is square on full screen window, assuming window has greater x dim than y dim.\n",
    "                        imstim = visual.ImageStim(win, image=rendered, size =  ( win.size[1] / win.size[0], 1))\n",
    "                        imstim.draw(); win.flip()\n",
    "\n",
    "                        # Wait for a keypress. \n",
    "                        # We only need the first keypress, and want the key input from the numpage.\n",
    "                        keypresses = event.getKeys(keyList = config.KEY_LIST)\n",
    "                        if keypresses:\n",
    "                            keypressRaw = keypresses[0]\n",
    "                        #keypressRaw, *_ = event.waitKeys(clearEvents=True, keyList=config.KEY_LIST)\n",
    "                \n",
    "                # Check if their input was correct. \n",
    "                # Numpad keys are prepended with 'num_', so we strip it out.\n",
    "                keypress = keypressRaw.strip('num_')\n",
    "                correct  = (digit == int(keypress))\n",
    "                \n",
    "                # Create the data line.\n",
    "                row = config.SESSION_ROW_TEMPLATE.format(\n",
    "                    trial=trial,\n",
    "                    cue=cue,\n",
    "                    digit=digit,\n",
    "                    keypress=keypress, \n",
    "                    cuetime=clockCue.getTime(),\n",
    "                    trialtime=clockTrial.getTime(),\n",
    "                    sessiontime=clockSession.getTime(),\n",
    "                )\n",
    "                \n",
    "                # Write the data line to the session file.\n",
    "                outfile.write(row)\n",
    "\n",
    "                # Play the feedback sound.\n",
    "                correctSound.play() if correct else incorrectSound.play()\n",
    "                \n",
    "                # Play the digit sound.\n",
    "                digitSounds[digit].play()\n",
    "                \n",
    "        # At the end of all the trials, show an end screen and wait for key press\n",
    "        # to exit.\n",
    "        bg  = visual.GratingStim(win, tex=None, mask=None, size=2, units='norm', color=0)\n",
    "        end = visual.TextStim(win, text=config.END_TEXT)\n",
    "        bg.draw(); end.draw(); win.flip(); event.waitKeys(clearEvents=True)\n"
   ]
  },
  {
   "cell_type": "code",
   "execution_count": 555,
   "metadata": {},
   "outputs": [],
   "source": [
    "# %run digits.py"
   ]
  },
  {
   "cell_type": "markdown",
   "metadata": {},
   "source": [
    "# Generating Patterns"
   ]
  },
  {
   "cell_type": "markdown",
   "metadata": {},
   "source": [
    "## Exploratory Digits"
   ]
  },
  {
   "cell_type": "markdown",
   "metadata": {},
   "source": [
    "### Setup"
   ]
  },
  {
   "cell_type": "code",
   "execution_count": 985,
   "metadata": {},
   "outputs": [],
   "source": [
    "import glob\n",
    "import imageio\n",
    "import numpy as np\n",
    "import os\n",
    "import PIL\n",
    "import tensorflow as tf\n",
    "import time\n",
    "import matplotlib.pyplot as plt\n",
    "import cv2\n",
    "import random\n",
    "import pickle\n",
    "\n",
    "from skimage import color\n",
    "from matplotlib.backends.backend_agg import FigureCanvasAgg as FigureCanvas\n",
    "from tensorflow.keras import layers, Sequential\n",
    "from IPython import display\n",
    "from datetime import datetime"
   ]
  },
  {
   "cell_type": "code",
   "execution_count": 986,
   "metadata": {},
   "outputs": [],
   "source": [
    "plt.rcParams[\"xtick.direction\"] = \"in\"\n",
    "plt.rcParams[\"ytick.direction\"] = \"in\""
   ]
  },
  {
   "cell_type": "code",
   "execution_count": 987,
   "metadata": {},
   "outputs": [],
   "source": [
    "gridType= DistortedPolarGrid\n",
    "gridParam1 = 12\n",
    "gridParam2 = 12\n",
    "gridVectorLength = gridParam1 * gridParam2\n",
    "gridSize1 = 64\n",
    "gridSize2 = 64"
   ]
  },
  {
   "cell_type": "code",
   "execution_count": 988,
   "metadata": {},
   "outputs": [],
   "source": [
    "grid = gridType(gridParam1, gridParam2, gridSize1, gridSize2)"
   ]
  },
  {
   "cell_type": "code",
   "execution_count": 989,
   "metadata": {},
   "outputs": [
    {
     "data": {
      "text/plain": [
       "<matplotlib.image.AxesImage at 0x1bba99c84a8>"
      ]
     },
     "execution_count": 989,
     "metadata": {},
     "output_type": "execute_result"
    },
    {
     "data": {
      "image/png": "[encoded data removed]",
      "text/plain": [
       "<Figure size 432x288 with 1 Axes>"
      ]
     },
     "metadata": {
      "needs_background": "light"
     },
     "output_type": "display_data"
    }
   ],
   "source": [
    "plt.imshow(grid.render(np.array([1 for i in range(144)])), cmap='gray', vmin=-1, vmax=1)"
   ]
  },
  {
   "cell_type": "code",
   "execution_count": 990,
   "metadata": {},
   "outputs": [],
   "source": [
    "save_dir = \"./data/training-intermediate-data/\"\n",
    "base = \"{dir}/{time}_{type}_{gridType}_{gridParam1}-{gridParam2}_{gridSize1}-{gridSize2}.{ext}\"\n",
    "\n",
    "now = datetime.now().strftime('%Y-%m-%d_%H-%M')\n",
    "\n",
    "common_format = {\n",
    "    'time': now,\n",
    "    'gridType': gridType.__name__,\n",
    "    'gridParam1': gridParam1,\n",
    "    'gridParam2': gridParam2,\n",
    "    'gridSize1': gridSize1,\n",
    "    'gridSize2': gridSize2,\n",
    "}\n",
    "\n",
    "mnist_filepath = save_dir + base.format(\n",
    "    dir=\"training-decoders\",\n",
    "    type=\"mnist_decoder\",\n",
    "    ext=\"h5\",\n",
    "    **common_format\n",
    ")\n",
    "\n",
    "loss_filepath = save_dir + base.format(\n",
    "    dir=\"training-losses\",\n",
    "    type='loss',\n",
    "    ext='log',\n",
    "    **common_format\n",
    ")\n",
    "\n",
    "gif_filepath = save_dir + base.format(\n",
    "    dir=\"training-gifs\",\n",
    "    type='evolution',\n",
    "    ext='gif',\n",
    "    **common_format\n",
    ")\n",
    "\n",
    "grid_filepath = save_dir + base.format(\n",
    "    dir='training-grids',\n",
    "    type='grid',\n",
    "    ext='pkl',\n",
    "    **common_format\n",
    ")\n",
    "\n",
    "encoder_filepath = save_dir + base.format(\n",
    "    dir='training-encoders',\n",
    "    type='encoder',\n",
    "    ext='h5',\n",
    "    **common_format\n",
    ")"
   ]
  },
  {
   "cell_type": "markdown",
   "metadata": {},
   "source": [
    "### Creating Digits"
   ]
  },
  {
   "cell_type": "code",
   "execution_count": 339,
   "metadata": {},
   "outputs": [],
   "source": [
    "def digit_to_image(digit : int, xpos=None, ypos=None):\n",
    "    fig = plt.figure(figsize=(1,1))\n",
    "    canvas = FigureCanvas(fig)\n",
    "    ax = plt.gca()\n",
    "    fig.patch.set_facecolor('black')\n",
    "    plt.axis('off')\n",
    "    ax.xaxis.set_major_locator(plt.NullLocator())\n",
    "    ax.yaxis.set_major_locator(plt.NullLocator())\n",
    "    ax.xaxis.set_visible(False)\n",
    "    ax.yaxis.set_visible(False)\n",
    "    plt.subplots_adjust(top = 1, bottom = 0, right = 1, left = 0, hspace = 0, wspace = 0)\n",
    "    \n",
    "    if xpos is None:\n",
    "        xpos = 0.25 + random.random() / 2\n",
    "    if ypos is None:\n",
    "        ypos = 0.25 + random.random() / 2\n",
    "        \n",
    "    plt.text(xpos, ypos, str(int(digit)),\n",
    "             size=48,\n",
    "             color='white',\n",
    "             clip_box=ax.clipbox,\n",
    "             clip_on=True,\n",
    "             horizontalalignment = 'center',\n",
    "             verticalalignment = 'center',\n",
    "             linespacing = 0,\n",
    "             #bbox=dict(facecolor='red', alpha=0.5),\n",
    "             transform=ax.transAxes)\n",
    "    #plt.savefig(f'{digit}.png', pad_inches=0, facecolor='black')\n",
    "    canvas.draw()\n",
    "    width, height = fig.get_size_inches() * fig.get_dpi()\n",
    "    image = np.frombuffer(canvas.tostring_rgb(), dtype='uint8').reshape(int(height), int(width), 3)\n",
    "    image = (image - 127.5) / 127.5\n",
    "    plt.close(fig)\n",
    "    return cv2.resize(image, dsize=(gridSize1,gridSize2)).astype(np.float32)"
   ]
  },
  {
   "cell_type": "markdown",
   "metadata": {},
   "source": [
    "### Making a Digit Dataset"
   ]
  },
  {
   "cell_type": "code",
   "execution_count": 683,
   "metadata": {},
   "outputs": [],
   "source": [
    "BUFFER_SIZE = 30000"
   ]
  },
  {
   "cell_type": "code",
   "execution_count": 86,
   "metadata": {},
   "outputs": [],
   "source": [
    "# # %%time\n",
    "# digits = np.random.randint(0, 10, (BUFFER_SIZE,))\n",
    "# digit_images = np.array([digit_to_image(d) for d in digits])"
   ]
  },
  {
   "cell_type": "code",
   "execution_count": 87,
   "metadata": {},
   "outputs": [],
   "source": [
    "digits_path = \"./data/training-input-data/digits.npy\"\n",
    "digit_images_path = \"./data/training-input-data/digit_images.npy\"\n",
    "\n",
    "# # np.save(digits_path, digits)\n",
    "# # np.save(digit_images_path, digit_images)\n",
    "\n",
    "digits = np.load(digits_path)\n",
    "digit_images = np.load(digit_images_path)\n",
    "#digit_images_gray = np.array([color.rgb2gray(i) for i in digit_images])"
   ]
  },
  {
   "cell_type": "code",
   "execution_count": 88,
   "metadata": {},
   "outputs": [],
   "source": [
    "num_digit_inputs = len(digits)"
   ]
  },
  {
   "cell_type": "markdown",
   "metadata": {},
   "source": [
    "### Training a Digit Recogniser"
   ]
  },
  {
   "cell_type": "code",
   "execution_count": null,
   "metadata": {},
   "outputs": [],
   "source": [
    "# train_labels = np.random.randint(0, 10, (10000))\n",
    "# train_images = np.array([digit_to_image(d) for d in train_labels])"
   ]
  },
  {
   "cell_type": "code",
   "execution_count": 15,
   "metadata": {},
   "outputs": [],
   "source": [
    "# BUFFER_SIZE = 10000\n",
    "# BATCH_SIZE = 128\n",
    "\n",
    "# model = Sequential([\n",
    "#     layers.Conv2D(32, (16,16), padding='same', strides=(2,2), activation=tf.nn.relu, input_shape=(gridSize1, gridSize2, 3)),\n",
    "#     layers.Conv2D(16, (4,4), padding='same', strides=(1,1), activation=tf.nn.relu),\n",
    "#     layers.MaxPooling2D(2),\n",
    "#     layers.Dropout(0.1),\n",
    "#     layers.Flatten(),\n",
    "#     layers.Dense(10, activation=tf.nn.softmax)\n",
    "# ])\n",
    "\n",
    "# model.compile(optimizer='adam', \n",
    "#               loss='sparse_categorical_crossentropy',\n",
    "#               metrics=['accuracy'])\n",
    "\n",
    "# model.fit(train_images, train_labels, epochs=5)"
   ]
  },
  {
   "cell_type": "code",
   "execution_count": 16,
   "metadata": {},
   "outputs": [],
   "source": [
    "# test_labels = np.random.randint(0, 10, (500))\n",
    "# test_images = np.array([digit_to_image(d) for d in test_labels])"
   ]
  },
  {
   "cell_type": "code",
   "execution_count": 233,
   "metadata": {
    "scrolled": true
   },
   "outputs": [],
   "source": [
    "# model.evaluate(test_images, test_labels)"
   ]
  },
  {
   "cell_type": "code",
   "execution_count": 11,
   "metadata": {},
   "outputs": [
    {
     "name": "stderr",
     "output_type": "stream",
     "text": [
      "WARNING: Logging before flag parsing goes to stderr.\n",
      "W0626 12:06:37.275552  6936 deprecation.py:323] From C:\\Users\\jwu202\\AppData\\Local\\Continuum\\anaconda3\\lib\\site-packages\\tensorflow\\python\\ops\\math_grad.py:1250: add_dispatch_support.<locals>.wrapper (from tensorflow.python.ops.array_ops) is deprecated and will be removed in a future version.\n",
      "Instructions for updating:\n",
      "Use tf.where in 2.0, which has the same broadcast rule as np.where\n"
     ]
    }
   ],
   "source": [
    "digit_aliased_model_path = \"./data/digit-models/digit-aliased.h5\"\n",
    "# model.save(digit_aliased_model_path)\n",
    "digit_aliased_model = tf.keras.models.load_model(digit_aliased_model_path)"
   ]
  },
  {
   "cell_type": "markdown",
   "metadata": {},
   "source": [
    "### Training on MNIST Digits"
   ]
  },
  {
   "cell_type": "code",
   "execution_count": 40,
   "metadata": {},
   "outputs": [],
   "source": [
    "(train_images, train_labels), (test_images, test_labels) = tf.keras.datasets.mnist.load_data()\n",
    "\n",
    "_, original_y, original_x = train_images.shape\n",
    "\n",
    "def process_images(images):\n",
    "    \n",
    "    # FOR CARTESIAN\n",
    "    #processed = np.stack([cv2.resize(image, dsize=(64, 64)).astype('float32') for image in images], 0)\n",
    "    \n",
    "    # FOR POLAR\n",
    "    up_x, up_y = 48, 48\n",
    "    pad_y = (gridSize1 - up_y) // 2\n",
    "    pad_x = (gridSize2 - up_x) // 2\n",
    "    pad_widths = ((pad_y, pad_y), (pad_x, pad_x))\n",
    "\n",
    "    processed = np.array([\n",
    "        np.roll(\n",
    "            np.pad(cv2.resize(image, dsize=(up_y,up_x)), \n",
    "                   pad_widths,\n",
    "                   'constant',\n",
    "                   constant_values=0\n",
    "                  ),\n",
    "            shift=(gridSize2 // 5),\n",
    "            axis=1,\n",
    "        )\n",
    "        for image in train_images])\n",
    "    \n",
    "    processed = (processed - 127.5) / 127.5\n",
    "    \n",
    "    return processed\n",
    "\n",
    "train_images, test_images = process_images(train_images), process_images(test_images)"
   ]
  },
  {
   "cell_type": "code",
   "execution_count": 250,
   "metadata": {},
   "outputs": [
    {
     "data": {
      "text/plain": [
       "<matplotlib.colorbar.Colorbar at 0x20eac93f470>"
      ]
     },
     "execution_count": 250,
     "metadata": {},
     "output_type": "execute_result"
    },
    {
     "data": {
      "image/png": "[encoded data removed]",
      "text/plain": [
       "<Figure size 432x288 with 2 Axes>"
      ]
     },
     "metadata": {
      "needs_background": "light"
     },
     "output_type": "display_data"
    }
   ],
   "source": [
    "plt.imshow(train_images[0], cmap='gray')\n",
    "plt.colorbar()"
   ]
  },
  {
   "cell_type": "code",
   "execution_count": 55,
   "metadata": {},
   "outputs": [],
   "source": [
    "# def make_garbage(images):\n",
    "#     global grid\n",
    "#     num_images, ydim, xdim = images.shape\n",
    "\n",
    "#     num_garbage = num_images // 10\n",
    "#     garbage_class = 10\n",
    "\n",
    "#     garbage = np.array([grid.render(np.random.random(gridVectorLength)) \n",
    "#                         for j in range(num_garbage)])\n",
    "#     garbage_labels = np.full((num_garbage,), garbage_class)\n",
    "    \n",
    "#     return garbage, garbage_labels\n",
    "\n",
    "# def shuffle(images, labels):\n",
    "#     perm = np.random.permutation(len(labels))\n",
    "#     new_images = images[perm]\n",
    "#     new_labels = labels[perm]\n",
    "#     return (images, labels)\n",
    "\n",
    "# # Calculate the number of training images and test images for the font digit images\n",
    "# train_fraction = len(train_labels) / (len(test_labels) + len(train_labels))\n",
    "# train_num_font = int(len(digits) * train_fraction)\n",
    "\n",
    "# # Combine MNIST, garbage and font digits\n",
    "# train_garbage, train_garbage_labels = make_garbage(train_images)\n",
    "# train_images = np.concatenate([train_images, train_garbage], axis=0)\n",
    "# train_labels = np.concatenate([train_labels, train_garbage_labels], axis=0)\n",
    "# train_images, train_labels = shuffle(train_images, train_labels)\n",
    "\n",
    "# test_garbage, test_garbage_labels = make_garbage(test_images)\n",
    "# test_images = np.concatenate([test_images, test_garbage], axis=0)\n",
    "# test_labels = np.concatenate([test_labels, test_garbage_labels], axis=0)\n",
    "# test_images, test_labels = shuffle(test_images, test_labels)"
   ]
  },
  {
   "cell_type": "code",
   "execution_count": 57,
   "metadata": {},
   "outputs": [
    {
     "name": "stdout",
     "output_type": "stream",
     "text": [
      "Train on 66000 samples\n",
      "Epoch 1/5\n",
      "66000/66000 [==============================] - 41s 619us/sample - loss: 0.1602 - accuracy: 0.9512\n",
      "Epoch 2/5\n",
      "66000/66000 [==============================] - 41s 614us/sample - loss: 0.0864 - accuracy: 0.9737\n",
      "Epoch 3/5\n",
      "66000/66000 [==============================] - 41s 619us/sample - loss: 0.0754 - accuracy: 0.9779\n",
      "Epoch 4/5\n",
      "66000/66000 [==============================] - 41s 614us/sample - loss: 0.0726 - accuracy: 0.9789\n",
      "Epoch 5/5\n",
      "66000/66000 [==============================] - 41s 629us/sample - loss: 0.0713 - accuracy: 0.9793\n"
     ]
    },
    {
     "data": {
      "text/plain": [
       "<tensorflow.python.keras.callbacks.History at 0x1f49c1c66d8>"
      ]
     },
     "execution_count": 57,
     "metadata": {},
     "output_type": "execute_result"
    }
   ],
   "source": [
    "# BUFFER_SIZE = 60000\n",
    "# BATCH_SIZE = 128\n",
    "\n",
    "# model = Sequential([\n",
    "#     layers.Reshape((gridSize1, gridSize2, 1), input_shape=(gridSize1, gridSize2)),\n",
    "    \n",
    "#     layers.Conv2D(48, (8, 8), padding='same', strides=(4,4)),\n",
    "#     layers.LeakyReLU(),\n",
    "#     layers.Dropout(0.1),\n",
    "    \n",
    "#     layers.Conv2D(64, (4, 4), padding='same', strides=(2,2)),\n",
    "#     layers.LeakyReLU(),\n",
    "#     layers.Dropout(0.1),    \n",
    "    \n",
    "#     layers.Conv2D(72, (2, 2), padding='same', strides=(1,1)),\n",
    "#     layers.LeakyReLU(),\n",
    "#     layers.Dropout(0.1),\n",
    "    \n",
    "#     layers.Flatten(),\n",
    "#     layers.Dense(11, activation=tf.nn.softmax)\n",
    "# ])\n",
    "\n",
    "# model.compile(optimizer='adam', \n",
    "#               loss='sparse_categorical_crossentropy',\n",
    "#               metrics=['accuracy'])\n",
    "\n",
    "# model.fit(train_images, train_labels, epochs=5)"
   ]
  },
  {
   "cell_type": "code",
   "execution_count": 58,
   "metadata": {
    "scrolled": false
   },
   "outputs": [
    {
     "name": "stdout",
     "output_type": "stream",
     "text": [
      "11000/11000 [==============================] - 2s 157us/sample - loss: 0.0386 - accuracy: 0.9868\n"
     ]
    },
    {
     "data": {
      "text/plain": [
       "[0.038573449015510956, 0.9868182]"
      ]
     },
     "execution_count": 58,
     "metadata": {},
     "output_type": "execute_result"
    }
   ],
   "source": [
    "# model.evaluate(test_images, test_labels)"
   ]
  },
  {
   "cell_type": "code",
   "execution_count": 80,
   "metadata": {},
   "outputs": [],
   "source": [
    "# # model.save(mnist_filepath)\n",
    "\n",
    "# # Reusing a trained MNIST model\n",
    "# mnist_dir = \"./data/training-intermediate-data/training-decoders/\"\n",
    "# mnist_file = \"2019-06-21_10-42_mnist_decoder_CartesianGrid_12-12_64-64.h5\"\n",
    "# mnist_filepath = mnist_dir + mnist_file"
   ]
  },
  {
   "cell_type": "code",
   "execution_count": 100,
   "metadata": {},
   "outputs": [],
   "source": [
    "# mnist_model = tf.keras.models.load_model(mnist_filepath)"
   ]
  },
  {
   "cell_type": "code",
   "execution_count": 82,
   "metadata": {},
   "outputs": [
    {
     "data": {
      "text/plain": [
       "(8, 8, 1, 64)"
      ]
     },
     "execution_count": 82,
     "metadata": {},
     "output_type": "execute_result"
    }
   ],
   "source": [
    "# mnist_model.layers[1].get_weights()[0].shape"
   ]
  },
  {
   "cell_type": "code",
   "execution_count": 83,
   "metadata": {},
   "outputs": [],
   "source": [
    "# def plot_layer_kernels(layer):\n",
    "    \n",
    "#     weights, biases = layer.get_weights()\n",
    "    \n",
    "#     dim1, dim2, depth, n = weights.shape\n",
    "#     #print(dim1, dim2, n)\n",
    "    \n",
    "#     #n = depth * nkernels\n",
    "    \n",
    "#     subplotx = int(np.sqrt(n))\n",
    "#     subploty = n // subplotx # will not show all the kernels, but will show most.\n",
    "#     n_plot = subplotx * subploty\n",
    "    \n",
    "#     fig, ax = plt.subplots(subplotx, subploty, figsize=(6,6), sharex=True, sharey=True)\n",
    "    \n",
    "#     for i in range(n_plot):\n",
    "#         x = i % subplotx\n",
    "#         y = i // subplotx\n",
    "#         ax[x, y].imshow(weights[:, :, 0, i], cmap='gray') # only plot a few kernels\n",
    "#         ax[x, y].axis('off')\n",
    "#         #ax[x, y].set_title('bias={:.2f}'.format(biases[i]))\n",
    "    \n",
    "#     fig.tight_layout()"
   ]
  },
  {
   "cell_type": "code",
   "execution_count": null,
   "metadata": {},
   "outputs": [],
   "source": [
    "# plot_layer_kernels(mnist_model.layers[1])"
   ]
  },
  {
   "cell_type": "markdown",
   "metadata": {},
   "source": [
    "### Putting in a Generative Network"
   ]
  },
  {
   "cell_type": "code",
   "execution_count": 508,
   "metadata": {},
   "outputs": [],
   "source": [
    "# decoder = mnist_model\n",
    "# decoder.trainable = False"
   ]
  },
  {
   "cell_type": "code",
   "execution_count": 561,
   "metadata": {},
   "outputs": [],
   "source": [
    "decoder = Sequential([\n",
    "    layers.Reshape((gridSize1, gridSize2, 1), input_shape=(gridSize1, gridSize2)),\n",
    "    \n",
    "    layers.Conv2D(64, (8, 8), padding='same', strides=(2,2)),\n",
    "    layers.LeakyReLU(),\n",
    "    layers.Dropout(0.25),\n",
    "    \n",
    "    layers.Conv2D(128, (4, 4), padding='same', strides=(2,2)),\n",
    "    layers.LeakyReLU(),\n",
    "    layers.Dropout(0.25),    \n",
    "    \n",
    "    layers.Flatten(),\n",
    "    layers.Dense(11, activation=tf.nn.softmax)\n",
    "])\n"
   ]
  },
  {
   "cell_type": "code",
   "execution_count": 562,
   "metadata": {},
   "outputs": [
    {
     "name": "stdout",
     "output_type": "stream",
     "text": [
      "Model: \"sequential_30\"\n",
      "_________________________________________________________________\n",
      "Layer (type)                 Output Shape              Param #   \n",
      "=================================================================\n",
      "reshape_16 (Reshape)         (None, 64, 64, 1)         0         \n",
      "_________________________________________________________________\n",
      "conv2d_32 (Conv2D)           (None, 32, 32, 64)        4160      \n",
      "_________________________________________________________________\n",
      "leaky_re_lu_32 (LeakyReLU)   (None, 32, 32, 64)        0         \n",
      "_________________________________________________________________\n",
      "dropout_32 (Dropout)         (None, 32, 32, 64)        0         \n",
      "_________________________________________________________________\n",
      "conv2d_33 (Conv2D)           (None, 16, 16, 128)       131200    \n",
      "_________________________________________________________________\n",
      "leaky_re_lu_33 (LeakyReLU)   (None, 16, 16, 128)       0         \n",
      "_________________________________________________________________\n",
      "dropout_33 (Dropout)         (None, 16, 16, 128)       0         \n",
      "_________________________________________________________________\n",
      "flatten_16 (Flatten)         (None, 32768)             0         \n",
      "_________________________________________________________________\n",
      "dense_30 (Dense)             (None, 11)                360459    \n",
      "=================================================================\n",
      "Total params: 495,819\n",
      "Trainable params: 495,819\n",
      "Non-trainable params: 0\n",
      "_________________________________________________________________\n"
     ]
    }
   ],
   "source": [
    "decoder.summary()"
   ]
  },
  {
   "cell_type": "code",
   "execution_count": 563,
   "metadata": {},
   "outputs": [],
   "source": [
    "digit_aliased_model.trainable = False"
   ]
  },
  {
   "cell_type": "code",
   "execution_count": 564,
   "metadata": {
    "scrolled": true
   },
   "outputs": [
    {
     "name": "stdout",
     "output_type": "stream",
     "text": [
      "Model: \"sequential_3\"\n",
      "_________________________________________________________________\n",
      "Layer (type)                 Output Shape              Param #   \n",
      "=================================================================\n",
      "conv2d_2 (Conv2D)            (None, 32, 32, 32)        24608     \n",
      "_________________________________________________________________\n",
      "conv2d_3 (Conv2D)            (None, 32, 32, 16)        8208      \n",
      "_________________________________________________________________\n",
      "max_pooling2d_1 (MaxPooling2 (None, 16, 16, 16)        0         \n",
      "_________________________________________________________________\n",
      "dropout_1 (Dropout)          (None, 16, 16, 16)        0         \n",
      "_________________________________________________________________\n",
      "flatten_1 (Flatten)          (None, 4096)              0         \n",
      "_________________________________________________________________\n",
      "dense_3 (Dense)              (None, 10)                40970     \n",
      "=================================================================\n",
      "Total params: 147,572\n",
      "Trainable params: 73,786\n",
      "Non-trainable params: 73,786\n",
      "_________________________________________________________________\n"
     ]
    }
   ],
   "source": [
    "digit_aliased_model.summary()"
   ]
  },
  {
   "cell_type": "code",
   "execution_count": 565,
   "metadata": {},
   "outputs": [],
   "source": [
    "encoder = Sequential([\n",
    "    digit_aliased_model,\n",
    "    #layers.Dense(12, use_bias=False),\n",
    "    #layers.LeakyReLU(),\n",
    "    #layers.Dropout(0.1),\n",
    "    #layers.Dense(gridParam1),\n",
    "    #layers.Dense(gridParam1*gridParam2, activation=tf.nn.relu),\n",
    "    layers.Dense(gridParam1*gridParam2, activation=tf.nn.sigmoid)\n",
    "])"
   ]
  },
  {
   "cell_type": "code",
   "execution_count": 566,
   "metadata": {
    "scrolled": true
   },
   "outputs": [
    {
     "name": "stdout",
     "output_type": "stream",
     "text": [
      "Model: \"sequential_31\"\n",
      "_________________________________________________________________\n",
      "Layer (type)                 Output Shape              Param #   \n",
      "=================================================================\n",
      "sequential_3 (Sequential)    (None, 10)                73786     \n",
      "_________________________________________________________________\n",
      "dense_31 (Dense)             (None, 64)                704       \n",
      "=================================================================\n",
      "Total params: 74,490\n",
      "Trainable params: 704\n",
      "Non-trainable params: 73,786\n",
      "_________________________________________________________________\n"
     ]
    }
   ],
   "source": [
    "encoder.summary()"
   ]
  },
  {
   "cell_type": "markdown",
   "metadata": {},
   "source": [
    "#### Training the Generative Network (Polar Regular Grid)"
   ]
  },
  {
   "cell_type": "code",
   "execution_count": 567,
   "metadata": {},
   "outputs": [],
   "source": [
    "BATCH_SIZE = 250\n",
    "BATCHES = BUFFER_SIZE // BATCH_SIZE"
   ]
  },
  {
   "cell_type": "code",
   "execution_count": 568,
   "metadata": {
    "code_folding": [
     2
    ]
   },
   "outputs": [],
   "source": [
    "cross_entropy = tf.keras.losses.CategoricalCrossentropy()\n",
    "\n",
    "def encoder_loss(input_digit, output_digit):\n",
    "    loss = cross_entropy(input_digit, output_digit)\n",
    "    return loss\n",
    "\n",
    "encoder_optimizer = tf.keras.optimizers.Adam(learning_rate=5e-3)"
   ]
  },
  {
   "cell_type": "code",
   "execution_count": 569,
   "metadata": {},
   "outputs": [],
   "source": [
    "def decoder_loss(train_labels, real_output_digits, encoded_output_digits):\n",
    "        \n",
    "    one_hot_labels = tf.one_hot(train_labels, 11)\n",
    "        \n",
    "    num_digits = tf.shape(encoded_output_digits)[0]\n",
    "    all_garbage = tf.one_hot(tf.fill((num_digits,), 10), 11)\n",
    "\n",
    "    real_loss = cross_entropy(one_hot_labels, real_output_digits)\n",
    "    encoded_loss = cross_entropy(all_garbage, encoded_output_digits)\n",
    "    \n",
    "    loss = real_loss + encoded_loss\n",
    "    \n",
    "    return loss\n",
    "\n",
    "decoder_optimizer = tf.keras.optimizers.Adam(learning_rate=5e-4)"
   ]
  },
  {
   "cell_type": "code",
   "execution_count": 570,
   "metadata": {},
   "outputs": [],
   "source": [
    "display_digits = np.array([i for i in range(10)])\n",
    "display_digit_images = np.array(list(map(digit_to_image, display_digits)))"
   ]
  },
  {
   "cell_type": "code",
   "execution_count": 571,
   "metadata": {},
   "outputs": [],
   "source": [
    "image_directory = \"./data/training-intermediate-data/training-images/\""
   ]
  },
  {
   "cell_type": "code",
   "execution_count": 572,
   "metadata": {},
   "outputs": [],
   "source": [
    "def generate_and_save_images(model, epoch, test_input):\n",
    "    predictions = model(test_input, training=False)\n",
    "\n",
    "    fig = plt.figure(figsize=(5,3))\n",
    "\n",
    "    for i in range(predictions.shape[0]):\n",
    "        plt.subplot(2, 5, i+1)\n",
    "        plt.imshow(grid.render(np.array(predictions[i, :])), cmap='gray', vmin=-1, vmax=1)\n",
    "        plt.title(i)\n",
    "        plt.axis('off')\n",
    "        \n",
    "    plt.suptitle(f\"Epoch {epoch}\")\n",
    "\n",
    "    plt.savefig(image_directory + 'generated-epoch-{0:02d}.png'.format(epoch))\n",
    "    plt.show()"
   ]
  },
  {
   "cell_type": "code",
   "execution_count": 573,
   "metadata": {},
   "outputs": [],
   "source": [
    "@tf.function\n",
    "def train_step(digits,\n",
    "               digit_images,\n",
    "               real_labels,\n",
    "               real_images,\n",
    "               enc_logfile,\n",
    "               dec_logfile):\n",
    "    \n",
    "    with tf.GradientTape() as enc_tape, tf.GradientTape() as dec_tape:\n",
    "        encodings = encoder(digit_images, training=True)\n",
    "        \n",
    "        encoded_images = tf.map_fn(grid.render_tensor, encodings)\n",
    "        encoded_output_digits = decoder(encoded_images)\n",
    "        \n",
    "        expected_digits = tf.one_hot(digits, 11) # 11 with garbage\n",
    "        real_output_digits = decoder(real_images)\n",
    "\n",
    "        enc_loss = encoder_loss(expected_digits, encoded_output_digits)\n",
    "        dec_loss = decoder_loss(real_labels, real_output_digits, encoded_output_digits)\n",
    "\n",
    "    tf.print(enc_loss, output_stream=enc_logfile)\n",
    "    tf.print(dec_loss, output_stream=dec_logfile)\n",
    "    \n",
    "    gradients_of_encoder = enc_tape.gradient(enc_loss, encoder.trainable_variables)\n",
    "    gradients_of_decoder = dec_tape.gradient(dec_loss, decoder.trainable_variables)\n",
    "\n",
    "    encoder_optimizer.apply_gradients(zip(gradients_of_encoder, encoder.trainable_variables))\n",
    "    decoder_optimizer.apply_gradients(zip(gradients_of_decoder, decoder.trainable_variables))"
   ]
  },
  {
   "cell_type": "code",
   "execution_count": 574,
   "metadata": {},
   "outputs": [],
   "source": [
    "def train(epochs, logpath):\n",
    "    \n",
    "    enc_logpath = logpath.replace(\"_loss_\", \"_enc_loss_\")\n",
    "    dec_logpath = logpath.replace(\"_loss_\", \"_dec_loss_\")\n",
    "    \n",
    "    enc_logfile = \"file://\" + enc_logpath\n",
    "    dec_logfile = \"file://\" + dec_logpath\n",
    "    \n",
    "    # Fresh log\n",
    "    open(enc_logpath, 'w').close()\n",
    "    open(dec_logpath, 'w').close()\n",
    "        \n",
    "    \n",
    "    for epoch in range(epochs):\n",
    "        start = time.time()\n",
    "\n",
    "        for i in range(BATCHES):\n",
    "            imin = i * BATCH_SIZE\n",
    "            imax = (i+1) * BATCH_SIZE\n",
    "  \n",
    "            # Reuse the 10000 digit inputs to fill the number of MNIST inputs\n",
    "            if imin >= num_digit_inputs:\n",
    "                imin_digits = imin % num_digit_inputs\n",
    "                imax_digits = imin_digits + BATCH_SIZE\n",
    "            elif imax > num_digit_inputs:\n",
    "                imin_digits = imax % num_digit_inputs\n",
    "                imax_digits = imin_digits + BATCH_SIZE\n",
    "            else:\n",
    "                imin_digits = imin\n",
    "                imax_digits = imax\n",
    "            \n",
    "            digits_slice = digits[imin_digits:imax_digits]\n",
    "            digit_images_slice = digit_images[imin_digits:imax_digits]\n",
    "            \n",
    "            real_labels_slice = train_labels[imin:imax]\n",
    "            real_labels_slice = tf.convert_to_tensor(real_labels_slice)\n",
    "            real_images_slice = train_images[imin:imax]\n",
    "            real_images_slice = tf.convert_to_tensor(real_images_slice, dtype=tf.float32)\n",
    "            \n",
    "            if len(digits_slice) > 0 and len(real_labels_slice) > 0:\n",
    "                train_step(digits_slice,\n",
    "                           digit_images_slice,\n",
    "                           real_labels_slice,\n",
    "                           real_images_slice,\n",
    "                           enc_logfile,\n",
    "                           dec_logfile)\n",
    "            \n",
    "            #print(f\"BATCH {i} DONE\")\n",
    "\n",
    "        # Produce images for the GIF as we go\n",
    "        display.clear_output(wait=True)\n",
    "        generate_and_save_images(encoder,\n",
    "                                 epoch + 1,\n",
    "                                 display_digit_images\n",
    "                                 )\n",
    "        \n",
    "    #     if (epoch + 1) % 2 == 0:\n",
    "    #         checkpoint.save(file_prefix = checkpoint_prefix)\n",
    "\n",
    "\n",
    "        #accuracy = find_accuracy()\n",
    "        print(f'Time for epoch {epoch+1} is {time.time()-start} sec.')\n",
    "\n",
    "    # Generate after the final epoch\n",
    "    display.clear_output(wait=True)\n",
    "    generate_and_save_images(encoder,\n",
    "                           epochs,\n",
    "                           display_digit_images)"
   ]
  },
  {
   "cell_type": "code",
   "execution_count": 575,
   "metadata": {
    "scrolled": true
   },
   "outputs": [
    {
     "data": {
      "image/png": "[encoded data removed]",
      "text/plain": [
       "<Figure size 360x216 with 10 Axes>"
      ]
     },
     "metadata": {
      "needs_background": "light"
     },
     "output_type": "display_data"
    }
   ],
   "source": [
    "generate_and_save_images(encoder,\n",
    "                         0,\n",
    "                         display_digit_images\n",
    "                         )"
   ]
  },
  {
   "cell_type": "code",
   "execution_count": 991,
   "metadata": {},
   "outputs": [
    {
     "data": {
      "image/png": "[encoded data removed]",
      "text/plain": [
       "<Figure size 360x216 with 10 Axes>"
      ]
     },
     "metadata": {
      "needs_background": "light"
     },
     "output_type": "display_data"
    }
   ],
   "source": [
    "# COMPARISON\n",
    "fig = plt.figure(figsize=(5,3))\n",
    "\n",
    "for i in range(10):\n",
    "    plt.subplot(2, 5, i+1)\n",
    "    stimulus = Stimulus(digit_to_image(i, 0.7, 0.45), grid)\n",
    "    plt.imshow(grid.render(stimulus.vector), cmap='gray', vmin=-1, vmax=1)\n",
    "    plt.title(i)\n",
    "    plt.axis('off')\n",
    "\n",
    "plt.suptitle(f\"Comparison (Direct, Brightness-Based)\")\n",
    "\n",
    "plt.show()"
   ]
  },
  {
   "cell_type": "code",
   "execution_count": 577,
   "metadata": {
    "scrolled": false
   },
   "outputs": [
    {
     "data": {
      "image/png": "[encoded data removed]",
      "text/plain": [
       "<Figure size 360x216 with 10 Axes>"
      ]
     },
     "metadata": {
      "needs_background": "light"
     },
     "output_type": "display_data"
    }
   ],
   "source": [
    "#%%time\n",
    "EPOCHS = 50\n",
    "train(EPOCHS, loss_filepath)"
   ]
  },
  {
   "cell_type": "code",
   "execution_count": 578,
   "metadata": {},
   "outputs": [],
   "source": [
    "def plot_loss(logpath):\n",
    "    \n",
    "    enc_logpath = logpath.replace(\"_loss_\", \"_enc_loss_\")\n",
    "    dec_logpath = logpath.replace(\"_loss_\", \"_dec_loss_\")\n",
    "    \n",
    "    with open(enc_logpath) as infile:\n",
    "        enc_loss_raw = infile.readlines()\n",
    "        \n",
    "    with open(dec_logpath) as infile:\n",
    "        dec_loss_raw = infile.readlines()\n",
    "\n",
    "    enc_loss_data = np.array(list(map(float, enc_loss_raw)))\n",
    "    dec_loss_data = np.array(list(map(float, dec_loss_raw)))\n",
    "\n",
    "    plt.plot(range(enc_loss_data.shape[0]), enc_loss_data, color='teal', label='Loss for encoder training')\n",
    "    plt.plot(range(dec_loss_data.shape[0]), dec_loss_data, color='tomato', label='Loss for decoder training')\n",
    "    plt.ylabel(\"Categorical Cross Entropy Loss\")\n",
    "    plt.xlabel(\"Training Batch (each containing 500 images)\")\n",
    "    plt.title(\"Loss per Epoch\")\n",
    "    plt.legend()\n",
    "\n",
    "    plot_file = logpath.replace(\"losses\", \"graphs\").replace(\".log\", \".png\")\n",
    "    plt.savefig(plot_file)\n",
    "    print(\"./03-psychophysics/\" + plot_file)\n",
    "    return plot_file"
   ]
  },
  {
   "cell_type": "code",
   "execution_count": 579,
   "metadata": {
    "scrolled": false
   },
   "outputs": [
    {
     "name": "stdout",
     "output_type": "stream",
     "text": [
      "./03-psychophysics/./data/training-intermediate-data/training-graphs/2019-06-27_15-07_loss_DistortedPolarGrid_8-8_64-64.png\n"
     ]
    },
    {
     "data": {
      "text/plain": [
       "'./data/training-intermediate-data/training-graphs/2019-06-27_15-07_loss_DistortedPolarGrid_8-8_64-64.png'"
      ]
     },
     "execution_count": 579,
     "metadata": {},
     "output_type": "execute_result"
    },
    {
     "data": {
      "image/png": "[encoded data removed]",
      "text/plain": [
       "<Figure size 432x288 with 1 Axes>"
      ]
     },
     "metadata": {
      "needs_background": "light"
     },
     "output_type": "display_data"
    }
   ],
   "source": [
    "plot_loss(loss_filepath)"
   ]
  },
  {
   "cell_type": "code",
   "execution_count": null,
   "metadata": {},
   "outputs": [],
   "source": [
    "generated_images = glob.glob(image_directory + (\"*.png\"))\n",
    "images = [PIL.Image.open(image) for image in generated_images]\n",
    "\n",
    "# save the first image 10 times\n",
    "images[0].save(gif_filepath,\n",
    "               save_all=True,\n",
    "               append_images=[images[0]] * 10 + images + [images[-1]]*10,\n",
    "               duration=100,\n",
    "               loop=0)"
   ]
  },
  {
   "cell_type": "code",
   "execution_count": 396,
   "metadata": {},
   "outputs": [],
   "source": [
    "with open(grid_filepath, 'wb') as outfile:\n",
    "    pickle.dump(grid, outfile)\n",
    "encoder.save(encoder_filepath)\n",
    "# encoder = tf.keras.models.load_model(encoder_filepath)"
   ]
  },
  {
   "cell_type": "markdown",
   "metadata": {},
   "source": [
    "## Generative Network with Random Noise Seed"
   ]
  },
  {
   "cell_type": "code",
   "execution_count": 933,
   "metadata": {},
   "outputs": [],
   "source": [
    "BUFFER_SIZE = 30000"
   ]
  },
  {
   "cell_type": "code",
   "execution_count": 948,
   "metadata": {},
   "outputs": [],
   "source": [
    "BATCH_SIZE = 250\n",
    "BATCHES = BUFFER_SIZE // BATCH_SIZE"
   ]
  },
  {
   "cell_type": "code",
   "execution_count": 949,
   "metadata": {
    "code_folding": []
   },
   "outputs": [],
   "source": [
    "cross_entropy = tf.keras.losses.CategoricalCrossentropy()\n",
    "\n",
    "def encoder_loss(input_digit, output_digit, encodings):\n",
    "    loss = cross_entropy(input_digit, output_digit)\n",
    "    product = tf.matmul(encodings, encodings, transpose_b=True)\n",
    "    rows = len(input_digit)\n",
    "    squared = tf.broadcast_to(tf.reduce_sum(tf.square(encodings), axis=1, keepdims=True), (rows, rows))\n",
    "    diff = tf.reduce_sum(tf.square(product) - tf.square(squared))\n",
    "    return loss - (diff / 1e6)\n",
    "\n",
    "encoder_optimizer = tf.keras.optimizers.Adam(learning_rate=1e-3)"
   ]
  },
  {
   "cell_type": "code",
   "execution_count": 950,
   "metadata": {},
   "outputs": [],
   "source": [
    "def decoder_loss(train_labels, real_output_digits, encoded_output_digits):\n",
    "        \n",
    "    one_hot_labels = tf.one_hot(train_labels, 11)\n",
    "        \n",
    "    num_digits = tf.shape(encoded_output_digits)[0]\n",
    "    all_garbage = tf.one_hot(tf.fill((num_digits,), 10), 11)\n",
    "\n",
    "    real_loss = cross_entropy(one_hot_labels, real_output_digits)\n",
    "    encoded_loss = cross_entropy(all_garbage, encoded_output_digits)\n",
    "    \n",
    "    loss = real_loss + encoded_loss\n",
    "    \n",
    "    return loss\n",
    "\n",
    "decoder_optimizer = tf.keras.optimizers.Adam(learning_rate=1e-4)"
   ]
  },
  {
   "cell_type": "code",
   "execution_count": 951,
   "metadata": {},
   "outputs": [],
   "source": [
    "display_labels = np.array([i for i in range(10)])\n",
    "display_labels_one_hot = tf.one_hot(display_labels, depth=10)\n",
    "display_seeds = tf.random.uniform((10, 32))\n",
    "display_inputs = tf.concat((display_seeds, display_labels_one_hot), axis=1)"
   ]
  },
  {
   "cell_type": "code",
   "execution_count": 952,
   "metadata": {},
   "outputs": [],
   "source": [
    "image_directory = \"./data/training-intermediate-data/training-images/\""
   ]
  },
  {
   "cell_type": "code",
   "execution_count": 953,
   "metadata": {},
   "outputs": [],
   "source": [
    "def generate_and_save_images(model, epoch, test_input):\n",
    "    predictions = model(test_input, training=False)\n",
    "\n",
    "    fig = plt.figure(figsize=(5,3))\n",
    "\n",
    "    for i in range(predictions.shape[0]):\n",
    "        plt.subplot(2, 5, i+1)\n",
    "        plt.imshow(grid.render(np.array(predictions[i, :])), cmap='gray', vmin=-1, vmax=1)\n",
    "        plt.title(i)\n",
    "        plt.axis('off')\n",
    "        \n",
    "    plt.suptitle(f\"Epoch {epoch}\")\n",
    "\n",
    "    plt.savefig(image_directory + 'generated-epoch-{0:02d}.png'.format(epoch))\n",
    "    plt.show()"
   ]
  },
  {
   "cell_type": "code",
   "execution_count": 954,
   "metadata": {},
   "outputs": [],
   "source": [
    "encoder = Sequential([\n",
    "    \n",
    "    layers.Dense(gridParam1 * gridParam2 / 2, use_bias=False, input_shape=(42,)),\n",
    "    layers.BatchNormalization(),\n",
    "    layers.LeakyReLU(),\n",
    "    \n",
    "    layers.Dense(gridParam1*gridParam2, use_bias=False, activation=tf.nn.sigmoid),\n",
    "    \n",
    "])"
   ]
  },
  {
   "cell_type": "code",
   "execution_count": 955,
   "metadata": {},
   "outputs": [],
   "source": [
    "decoder = Sequential([\n",
    "    layers.Reshape((gridSize1, gridSize2, 1), input_shape=(gridSize1, gridSize2)),\n",
    "    \n",
    "    layers.Conv2D(64, (8, 8), padding='same', strides=(2,2)),\n",
    "    layers.LeakyReLU(),\n",
    "    layers.Dropout(0.25),\n",
    "    \n",
    "    layers.Conv2D(128, (4, 4), padding='same', strides=(2,2)),\n",
    "    layers.LeakyReLU(),\n",
    "    layers.Dropout(0.25),    \n",
    "    \n",
    "    layers.Flatten(),\n",
    "    layers.Dense(11, activation=tf.nn.softmax)\n",
    "])"
   ]
  },
  {
   "cell_type": "code",
   "execution_count": 956,
   "metadata": {},
   "outputs": [],
   "source": [
    "labels = np.random.randint(0, 10, (BUFFER_SIZE,))\n",
    "labels_one_hot = tf.one_hot(labels, depth=10)\n",
    "seeds = tf.random.uniform((BUFFER_SIZE, 32))\n",
    "inputs = tf.concat((seeds, labels_one_hot), axis=1)"
   ]
  },
  {
   "cell_type": "code",
   "execution_count": 957,
   "metadata": {},
   "outputs": [],
   "source": [
    "@tf.function\n",
    "def train_step(labels,\n",
    "               seeds,\n",
    "               real_labels,\n",
    "               real_images,\n",
    "               enc_logfile,\n",
    "               dec_logfile):\n",
    "    \n",
    "    with tf.GradientTape() as enc_tape, tf.GradientTape() as dec_tape:\n",
    "        encodings = encoder(seeds, training=True)\n",
    "        \n",
    "        encoded_images = tf.map_fn(grid.render_tensor, encodings)\n",
    "        encoded_output_digits = decoder(encoded_images)\n",
    "        \n",
    "        expected_digits = tf.one_hot(labels, 11) # 11 with garbage\n",
    "        real_output_digits = decoder(real_images)\n",
    "\n",
    "        enc_loss = encoder_loss(expected_digits, encoded_output_digits, encodings)\n",
    "        dec_loss = decoder_loss(real_labels, real_output_digits, encoded_output_digits)\n",
    "\n",
    "    tf.print(enc_loss, output_stream=enc_logfile)\n",
    "    tf.print(dec_loss, output_stream=dec_logfile)\n",
    "    \n",
    "    gradients_of_encoder = enc_tape.gradient(enc_loss, encoder.trainable_variables)\n",
    "    gradients_of_decoder = dec_tape.gradient(dec_loss, decoder.trainable_variables)\n",
    "\n",
    "    encoder_optimizer.apply_gradients(zip(gradients_of_encoder, encoder.trainable_variables))\n",
    "    decoder_optimizer.apply_gradients(zip(gradients_of_decoder, decoder.trainable_variables))"
   ]
  },
  {
   "cell_type": "code",
   "execution_count": 958,
   "metadata": {},
   "outputs": [],
   "source": [
    "def train(epochs, logpath):\n",
    "    \n",
    "    enc_logpath = logpath.replace(\"_loss_\", \"_enc_loss_seeded_\")\n",
    "    dec_logpath = logpath.replace(\"_loss_\", \"_dec_loss_seeded_\")\n",
    "    \n",
    "    enc_logfile = \"file://\" + enc_logpath\n",
    "    dec_logfile = \"file://\" + dec_logpath\n",
    "    \n",
    "    # Fresh log\n",
    "    open(enc_logpath, 'w').close()\n",
    "    open(dec_logpath, 'w').close()\n",
    "    \n",
    "    for epoch in range(epochs):\n",
    "        start = time.time()\n",
    "\n",
    "        for i in range(BATCHES):\n",
    "            imin = i * BATCH_SIZE\n",
    "            imax = (i+1) * BATCH_SIZE\n",
    "            \n",
    "            input_labels_slice = labels[imin:imax]\n",
    "            input_slice = inputs[imin:imax]\n",
    "           \n",
    "            real_labels_slice = train_labels[imin:imax]\n",
    "            real_labels_slice = tf.convert_to_tensor(real_labels_slice)\n",
    "            real_images_slice = train_images[imin:imax]\n",
    "            real_images_slice = tf.convert_to_tensor(real_images_slice, dtype=tf.float32)\n",
    "            \n",
    "            if len(input_labels_slice) > 0 and len(real_labels_slice) > 0:\n",
    "                train_step(input_labels_slice,\n",
    "                           input_slice,\n",
    "                           real_labels_slice,\n",
    "                           real_images_slice,\n",
    "                           enc_logfile,\n",
    "                           dec_logfile)\n",
    "\n",
    "        # Produce images for the GIF as we go\n",
    "        display.clear_output(wait=True)\n",
    "        generate_and_save_images(encoder,\n",
    "                                 epoch + 1,\n",
    "                                 display_inputs\n",
    "                                 )\n",
    "\n",
    "        print(f'Time for epoch {epoch+1} is {time.time()-start} sec.')\n",
    "\n",
    "    # Generate after the final epoch\n",
    "    display.clear_output(wait=True)\n",
    "    generate_and_save_images(encoder,\n",
    "                           epochs,\n",
    "                           display_digit_images)"
   ]
  },
  {
   "cell_type": "code",
   "execution_count": 959,
   "metadata": {
    "scrolled": true
   },
   "outputs": [
    {
     "data": {
      "image/png": "[encoded data removed]",
      "text/plain": [
       "<Figure size 360x216 with 10 Axes>"
      ]
     },
     "metadata": {
      "needs_background": "light"
     },
     "output_type": "display_data"
    }
   ],
   "source": [
    "generate_and_save_images(encoder,\n",
    "                         0,\n",
    "                         display_inputs\n",
    "                         )"
   ]
  },
  {
   "cell_type": "code",
   "execution_count": 960,
   "metadata": {},
   "outputs": [
    {
     "data": {
      "image/png": "[encoded data removed]",
      "text/plain": [
       "<Figure size 360x216 with 10 Axes>"
      ]
     },
     "metadata": {
      "needs_background": "light"
     },
     "output_type": "display_data"
    }
   ],
   "source": [
    "# COMPARISON\n",
    "fig = plt.figure(figsize=(5,3))\n",
    "\n",
    "for i in range(10):\n",
    "    plt.subplot(2, 5, i+1)\n",
    "    stimulus = Stimulus(digit_to_image(i, 0.7, 0.45), grid)\n",
    "    plt.imshow(grid.render(stimulus.vector), cmap='gray', vmin=-1, vmax=1)\n",
    "    plt.title(i)\n",
    "    plt.axis('off')\n",
    "\n",
    "plt.suptitle(f\"Comparison (Direct, Brightness-Based)\")\n",
    "\n",
    "plt.show()"
   ]
  },
  {
   "cell_type": "code",
   "execution_count": 961,
   "metadata": {
    "scrolled": true
   },
   "outputs": [
    {
     "data": {
      "image/png": "[encoded data removed]",
      "text/plain": [
       "<Figure size 360x216 with 10 Axes>"
      ]
     },
     "metadata": {
      "needs_background": "light"
     },
     "output_type": "display_data"
    },
    {
     "name": "stdout",
     "output_type": "stream",
     "text": [
      "Time for epoch 3 is 270.91778898239136 sec.\n"
     ]
    },
    {
     "ename": "KeyboardInterrupt",
     "evalue": "",
     "output_type": "error",
     "traceback": [
      "\u001b[1;31m---------------------------------------------------------------------------\u001b[0m",
      "\u001b[1;31mKeyboardInterrupt\u001b[0m                         Traceback (most recent call last)",
      "\u001b[1;32m<ipython-input-961-38f1cc971052>\u001b[0m in \u001b[0;36m<module>\u001b[1;34m\u001b[0m\n\u001b[0;32m      1\u001b[0m \u001b[0mEPOCHS\u001b[0m \u001b[1;33m=\u001b[0m \u001b[1;36m50\u001b[0m\u001b[1;33m\u001b[0m\u001b[1;33m\u001b[0m\u001b[0m\n\u001b[1;32m----> 2\u001b[1;33m \u001b[0mtrain\u001b[0m\u001b[1;33m(\u001b[0m\u001b[0mEPOCHS\u001b[0m\u001b[1;33m,\u001b[0m \u001b[0mloss_filepath\u001b[0m\u001b[1;33m)\u001b[0m\u001b[1;33m\u001b[0m\u001b[1;33m\u001b[0m\u001b[0m\n\u001b[0m",
      "\u001b[1;32m<ipython-input-958-d4c93325a7ea>\u001b[0m in \u001b[0;36mtrain\u001b[1;34m(epochs, logpath)\u001b[0m\n\u001b[0;32m     32\u001b[0m                            \u001b[0mreal_images_slice\u001b[0m\u001b[1;33m,\u001b[0m\u001b[1;33m\u001b[0m\u001b[1;33m\u001b[0m\u001b[0m\n\u001b[0;32m     33\u001b[0m                            \u001b[0menc_logfile\u001b[0m\u001b[1;33m,\u001b[0m\u001b[1;33m\u001b[0m\u001b[1;33m\u001b[0m\u001b[0m\n\u001b[1;32m---> 34\u001b[1;33m                            dec_logfile)\n\u001b[0m\u001b[0;32m     35\u001b[0m \u001b[1;33m\u001b[0m\u001b[0m\n\u001b[0;32m     36\u001b[0m         \u001b[1;31m# Produce images for the GIF as we go\u001b[0m\u001b[1;33m\u001b[0m\u001b[1;33m\u001b[0m\u001b[1;33m\u001b[0m\u001b[0m\n",
      "\u001b[1;32m~\\AppData\\Local\\Continuum\\anaconda3\\lib\\site-packages\\tensorflow\\python\\eager\\def_function.py\u001b[0m in \u001b[0;36m__call__\u001b[1;34m(self, *args, **kwds)\u001b[0m\n\u001b[0;32m    402\u001b[0m       \u001b[1;31m# In this case we have created variables on the first call, so we run the\u001b[0m\u001b[1;33m\u001b[0m\u001b[1;33m\u001b[0m\u001b[1;33m\u001b[0m\u001b[0m\n\u001b[0;32m    403\u001b[0m       \u001b[1;31m# defunned version which is guaranteed to never create variables.\u001b[0m\u001b[1;33m\u001b[0m\u001b[1;33m\u001b[0m\u001b[1;33m\u001b[0m\u001b[0m\n\u001b[1;32m--> 404\u001b[1;33m       \u001b[1;32mreturn\u001b[0m \u001b[0mself\u001b[0m\u001b[1;33m.\u001b[0m\u001b[0m_stateless_fn\u001b[0m\u001b[1;33m(\u001b[0m\u001b[1;33m*\u001b[0m\u001b[0margs\u001b[0m\u001b[1;33m,\u001b[0m \u001b[1;33m**\u001b[0m\u001b[0mkwds\u001b[0m\u001b[1;33m)\u001b[0m  \u001b[1;31m# pylint: disable=not-callable\u001b[0m\u001b[1;33m\u001b[0m\u001b[1;33m\u001b[0m\u001b[0m\n\u001b[0m\u001b[0;32m    405\u001b[0m     \u001b[1;32melif\u001b[0m \u001b[0mself\u001b[0m\u001b[1;33m.\u001b[0m\u001b[0m_stateful_fn\u001b[0m \u001b[1;32mis\u001b[0m \u001b[1;32mnot\u001b[0m \u001b[1;32mNone\u001b[0m\u001b[1;33m:\u001b[0m\u001b[1;33m\u001b[0m\u001b[1;33m\u001b[0m\u001b[0m\n\u001b[0;32m    406\u001b[0m       \u001b[1;31m# In this case we have not created variables on the first call. So we can\u001b[0m\u001b[1;33m\u001b[0m\u001b[1;33m\u001b[0m\u001b[1;33m\u001b[0m\u001b[0m\n",
      "\u001b[1;32m~\\AppData\\Local\\Continuum\\anaconda3\\lib\\site-packages\\tensorflow\\python\\eager\\function.py\u001b[0m in \u001b[0;36m__call__\u001b[1;34m(self, *args, **kwargs)\u001b[0m\n\u001b[0;32m   1333\u001b[0m     \u001b[1;34m\"\"\"Calls a graph function specialized to the inputs.\"\"\"\u001b[0m\u001b[1;33m\u001b[0m\u001b[1;33m\u001b[0m\u001b[0m\n\u001b[0;32m   1334\u001b[0m     \u001b[0mgraph_function\u001b[0m\u001b[1;33m,\u001b[0m \u001b[0margs\u001b[0m\u001b[1;33m,\u001b[0m \u001b[0mkwargs\u001b[0m \u001b[1;33m=\u001b[0m \u001b[0mself\u001b[0m\u001b[1;33m.\u001b[0m\u001b[0m_maybe_define_function\u001b[0m\u001b[1;33m(\u001b[0m\u001b[0margs\u001b[0m\u001b[1;33m,\u001b[0m \u001b[0mkwargs\u001b[0m\u001b[1;33m)\u001b[0m\u001b[1;33m\u001b[0m\u001b[1;33m\u001b[0m\u001b[0m\n\u001b[1;32m-> 1335\u001b[1;33m     \u001b[1;32mreturn\u001b[0m \u001b[0mgraph_function\u001b[0m\u001b[1;33m.\u001b[0m\u001b[0m_filtered_call\u001b[0m\u001b[1;33m(\u001b[0m\u001b[0margs\u001b[0m\u001b[1;33m,\u001b[0m \u001b[0mkwargs\u001b[0m\u001b[1;33m)\u001b[0m  \u001b[1;31m# pylint: disable=protected-access\u001b[0m\u001b[1;33m\u001b[0m\u001b[1;33m\u001b[0m\u001b[0m\n\u001b[0m\u001b[0;32m   1336\u001b[0m \u001b[1;33m\u001b[0m\u001b[0m\n\u001b[0;32m   1337\u001b[0m   \u001b[1;33m@\u001b[0m\u001b[0mproperty\u001b[0m\u001b[1;33m\u001b[0m\u001b[1;33m\u001b[0m\u001b[0m\n",
      "\u001b[1;32m~\\AppData\\Local\\Continuum\\anaconda3\\lib\\site-packages\\tensorflow\\python\\eager\\function.py\u001b[0m in \u001b[0;36m_filtered_call\u001b[1;34m(self, args, kwargs)\u001b[0m\n\u001b[0;32m    587\u001b[0m     \"\"\"\n\u001b[0;32m    588\u001b[0m     return self._call_flat(\n\u001b[1;32m--> 589\u001b[1;33m         (t for t in nest.flatten((args, kwargs), expand_composites=True)\n\u001b[0m\u001b[0;32m    590\u001b[0m          if isinstance(t, (ops.Tensor,\n\u001b[0;32m    591\u001b[0m                            resource_variable_ops.ResourceVariable))))\n",
      "\u001b[1;32m~\\AppData\\Local\\Continuum\\anaconda3\\lib\\site-packages\\tensorflow\\python\\eager\\function.py\u001b[0m in \u001b[0;36m_call_flat\u001b[1;34m(self, args)\u001b[0m\n\u001b[0;32m    669\u001b[0m     \u001b[1;31m# Only need to override the gradient in graph mode and when we have outputs.\u001b[0m\u001b[1;33m\u001b[0m\u001b[1;33m\u001b[0m\u001b[1;33m\u001b[0m\u001b[0m\n\u001b[0;32m    670\u001b[0m     \u001b[1;32mif\u001b[0m \u001b[0mcontext\u001b[0m\u001b[1;33m.\u001b[0m\u001b[0mexecuting_eagerly\u001b[0m\u001b[1;33m(\u001b[0m\u001b[1;33m)\u001b[0m \u001b[1;32mor\u001b[0m \u001b[1;32mnot\u001b[0m \u001b[0mself\u001b[0m\u001b[1;33m.\u001b[0m\u001b[0moutputs\u001b[0m\u001b[1;33m:\u001b[0m\u001b[1;33m\u001b[0m\u001b[1;33m\u001b[0m\u001b[0m\n\u001b[1;32m--> 671\u001b[1;33m       \u001b[0moutputs\u001b[0m \u001b[1;33m=\u001b[0m \u001b[0mself\u001b[0m\u001b[1;33m.\u001b[0m\u001b[0m_inference_function\u001b[0m\u001b[1;33m.\u001b[0m\u001b[0mcall\u001b[0m\u001b[1;33m(\u001b[0m\u001b[0mctx\u001b[0m\u001b[1;33m,\u001b[0m \u001b[0margs\u001b[0m\u001b[1;33m)\u001b[0m\u001b[1;33m\u001b[0m\u001b[1;33m\u001b[0m\u001b[0m\n\u001b[0m\u001b[0;32m    672\u001b[0m     \u001b[1;32melse\u001b[0m\u001b[1;33m:\u001b[0m\u001b[1;33m\u001b[0m\u001b[1;33m\u001b[0m\u001b[0m\n\u001b[0;32m    673\u001b[0m       \u001b[0mself\u001b[0m\u001b[1;33m.\u001b[0m\u001b[0m_register_gradient\u001b[0m\u001b[1;33m(\u001b[0m\u001b[1;33m)\u001b[0m\u001b[1;33m\u001b[0m\u001b[1;33m\u001b[0m\u001b[0m\n",
      "\u001b[1;32m~\\AppData\\Local\\Continuum\\anaconda3\\lib\\site-packages\\tensorflow\\python\\eager\\function.py\u001b[0m in \u001b[0;36mcall\u001b[1;34m(self, ctx, args)\u001b[0m\n\u001b[0;32m    443\u001b[0m             attrs=(\"executor_type\", executor_type,\n\u001b[0;32m    444\u001b[0m                    \"config_proto\", config),\n\u001b[1;32m--> 445\u001b[1;33m             ctx=ctx)\n\u001b[0m\u001b[0;32m    446\u001b[0m       \u001b[1;31m# Replace empty list with None\u001b[0m\u001b[1;33m\u001b[0m\u001b[1;33m\u001b[0m\u001b[1;33m\u001b[0m\u001b[0m\n\u001b[0;32m    447\u001b[0m       \u001b[0moutputs\u001b[0m \u001b[1;33m=\u001b[0m \u001b[0moutputs\u001b[0m \u001b[1;32mor\u001b[0m \u001b[1;32mNone\u001b[0m\u001b[1;33m\u001b[0m\u001b[1;33m\u001b[0m\u001b[0m\n",
      "\u001b[1;32m~\\AppData\\Local\\Continuum\\anaconda3\\lib\\site-packages\\tensorflow\\python\\eager\\execute.py\u001b[0m in \u001b[0;36mquick_execute\u001b[1;34m(op_name, num_outputs, inputs, attrs, ctx, name)\u001b[0m\n\u001b[0;32m     59\u001b[0m     tensors = pywrap_tensorflow.TFE_Py_Execute(ctx._handle, device_name,\n\u001b[0;32m     60\u001b[0m                                                \u001b[0mop_name\u001b[0m\u001b[1;33m,\u001b[0m \u001b[0minputs\u001b[0m\u001b[1;33m,\u001b[0m \u001b[0mattrs\u001b[0m\u001b[1;33m,\u001b[0m\u001b[1;33m\u001b[0m\u001b[1;33m\u001b[0m\u001b[0m\n\u001b[1;32m---> 61\u001b[1;33m                                                num_outputs)\n\u001b[0m\u001b[0;32m     62\u001b[0m   \u001b[1;32mexcept\u001b[0m \u001b[0mcore\u001b[0m\u001b[1;33m.\u001b[0m\u001b[0m_NotOkStatusException\u001b[0m \u001b[1;32mas\u001b[0m \u001b[0me\u001b[0m\u001b[1;33m:\u001b[0m\u001b[1;33m\u001b[0m\u001b[1;33m\u001b[0m\u001b[0m\n\u001b[0;32m     63\u001b[0m     \u001b[1;32mif\u001b[0m \u001b[0mname\u001b[0m \u001b[1;32mis\u001b[0m \u001b[1;32mnot\u001b[0m \u001b[1;32mNone\u001b[0m\u001b[1;33m:\u001b[0m\u001b[1;33m\u001b[0m\u001b[1;33m\u001b[0m\u001b[0m\n",
      "\u001b[1;31mKeyboardInterrupt\u001b[0m: "
     ]
    }
   ],
   "source": [
    "EPOCHS = 50\n",
    "train(EPOCHS, loss_filepath)"
   ]
  },
  {
   "cell_type": "code",
   "execution_count": 981,
   "metadata": {},
   "outputs": [],
   "source": [
    "test_labels = np.array([3] * 16)\n",
    "test_labels_one_hot = tf.one_hot(test_labels, depth=10)\n",
    "test_seeds = tf.random.uniform((16, 32))\n",
    "test_inputs = tf.concat((test_seeds, test_labels_one_hot), axis=1)"
   ]
  },
  {
   "cell_type": "code",
   "execution_count": 982,
   "metadata": {},
   "outputs": [
    {
     "data": {
      "image/png": "[encoded data removed]",
      "text/plain": [
       "<Figure size 360x360 with 16 Axes>"
      ]
     },
     "metadata": {
      "needs_background": "light"
     },
     "output_type": "display_data"
    }
   ],
   "source": [
    "fig, ax = plt.subplots(4, 4, figsize=(5,5))\n",
    "\n",
    "encodings = encoder(test_inputs).numpy()\n",
    "\n",
    "for i in range(16):\n",
    "    axx = i % 4\n",
    "    axy = i // 4 \n",
    "    ax[axx, axy].imshow(grid.render(encodings[i]), cmap='gray', vmin=-1, vmax=1)\n",
    "    ax[axx, axy].axis('off')"
   ]
  },
  {
   "cell_type": "markdown",
   "metadata": {},
   "source": [
    "# Appendix"
   ]
  },
  {
   "cell_type": "markdown",
   "metadata": {},
   "source": [
    "## Generating Static Digit Images"
   ]
  },
  {
   "cell_type": "markdown",
   "metadata": {},
   "source": [
    "This script generates static images of centered digits as PNG files."
   ]
  },
  {
   "cell_type": "code",
   "execution_count": null,
   "metadata": {},
   "outputs": [],
   "source": [
    "from PIL import Image, ImageDraw, ImageFont\n",
    "\n",
    "baseColour = (0, 0, 0)\n",
    "baseSizeX, baseSizeY = (16, 16)\n",
    "textColour = (255, 255, 255)\n",
    "\n",
    "saveExtension = \"png\"\n",
    "\n",
    "for digit in range(10):\n",
    "    baseImage = Image.new(\"RGB\", (baseSizeY, baseSizeX), baseColour)\n",
    "    base = ImageDraw.Draw(baseImage)\n",
    "\n",
    "    text = str(digit)\n",
    "    textSizeX, textSizeY = base.textsize(text)\n",
    "    textPosition = (baseSizeX / 2 - textSizeX / 2, baseSizeY / 2 - textSizeY / 2)\n",
    "    base.text(textPosition, text, textColour)\n",
    "\n",
    "    saveName = str(digit)\n",
    "    baseImage.save(f\"./data/digit-images/{saveName}.{saveExtension}\")\n",
    "\n",
    "# Blank white\n",
    "baseImage = Image.new(\"RGB\", (baseSizeY, baseSizeX), (255,255,255))\n",
    "base = ImageDraw.Draw(baseImage)\n",
    "baseImage.save(f'./data/digit-images/blank.{saveExtension}')\n"
   ]
  },
  {
   "cell_type": "code",
   "execution_count": 40,
   "metadata": {},
   "outputs": [],
   "source": []
  },
  {
   "cell_type": "code",
   "execution_count": null,
   "metadata": {},
   "outputs": [],
   "source": []
  }
 ],
 "metadata": {
  "kernelspec": {
   "display_name": "Python 3",
   "language": "python",
   "name": "python3"
  },
  "language_info": {
   "codemirror_mode": {
    "name": "ipython",
    "version": 3
   },
   "file_extension": ".py",
   "mimetype": "text/x-python",
   "name": "python",
   "nbconvert_exporter": "python",
   "pygments_lexer": "ipython3",
   "version": "3.7.3"
  },
  "toc": {
   "base_numbering": 1,
   "nav_menu": {
    "height": "155px",
    "width": "209.983px"
   },
   "number_sections": true,
   "sideBar": true,
   "skip_h1_title": false,
   "title_cell": "Table of Contents",
   "title_sidebar": "Contents",
   "toc_cell": false,
   "toc_position": {
    "height": "calc(100% - 180px)",
    "left": "10px",
    "top": "150px",
    "width": "165px"
   },
   "toc_section_display": true,
   "toc_window_display": true
  }
 },
 "nbformat": 4,
 "nbformat_minor": 2
}
