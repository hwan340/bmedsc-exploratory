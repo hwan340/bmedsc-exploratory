{
 "cells": [
  {
   "cell_type": "markdown",
   "metadata": {},
   "source": [
    "# Preamble"
   ]
  },
  {
   "cell_type": "markdown",
   "metadata": {},
   "source": [
    "> This notebook contains the ground-truth copy of the code mixed with literate comments. All code in this directory is produced by running the cells in this notebook."
   ]
  },
  {
   "cell_type": "markdown",
   "metadata": {},
   "source": [
    "# Introduction"
   ]
  },
  {
   "cell_type": "markdown",
   "metadata": {},
   "source": [
    "**Cortical visual prostheses** (CVPs) are devices implanted on the brain which aim to restore vision to blind people by stimulating the visual cortex.\n",
    "\n",
    "Experiments have shown that stimulating the visual cortex produces visual percepts in both blind and sighted patients. These visual percepts are called **phosphenes** and are typically described as small round dots of colourless light like \"a star in the sky.\" The idea behind most CVPs is to build images out of phosphenes, like how graphical displays are made out of pixels. \n",
    "\n",
    "But phosphenes are very limited. At the moment, we can only control the intensity of phosphenes (and, to some extent, their size). The locations of phosphenes follow the retinotopic mapping of the visual fields on the cortex, but the complexity of this mapping makes precisely controlling the positions of phosphenes in the visual field very difficult; it is much easier to instead place a regular grid of electrodes on the brain and map the phosphene locations after implantation. Other properties of phosphenes, such as their shape, individual brightness or colour, are highly variable and uncontrollable.\n",
    "\n",
    "In addition, there are no empirical studies which describe what exactly is seen when we try to stimulate more than about five simultaneous phosphenes. The largest implant in a human used 64 electrodes, but there is inadequate description on what the implantee saw and how useful these percepts were (though the implantee purportedly was able to read large letterforms). New CVPs generally intend to stimulate on the order of hundreds of electrodes (such as 473 for the Monash Vision Group); it is not yet known what people will perceive when many electrodes are stimulate at once. Some studies have suggested that stimulating five electrodes, for example, does not produce five discrete phosphenes or a blended picture; rather, phosphenes which were stimulated by an electrode when only one electrode was stimulated completely disappear upon simultaneous stimulation as though they were not stimulated at all.\n",
    "\n",
    "This begs the question: **how can phosphenes be used to convey useful information, given their known and unknown perceptual limitations?**"
   ]
  },
  {
   "cell_type": "markdown",
   "metadata": {},
   "source": [
    "## Pattern-Based Approach\n",
    "\n",
    "Using a pattern-based approach, we focus on **object identification**. That is, we attempt to create recognisable patterns that are matchable against object identities, and discard any location-based information.\n",
    "\n",
    "The advantages of this approach are that:\n",
    "\n",
    "1. By focusing on identity rather than location, stable patterns can be presented using the same phosphenes each time an object occurs in a scene. As the exact same pattern is presented each time, it may be easier to learn.\n",
    "\n",
    "The disadvantages of this approach are that:\n",
    "\n",
    "1. Only one object at a time can be shown.\n",
    "2. If there is no location information, it may be hard to justify how this is useful in comparison to something less invasive; for example, an external camera linked to an earpiece could easily just speak out the identity of an object instead of presenting patterned vision. You could argue that presenting object identities through vision is beneficial because it doesn't take up another sensory modality, but this is a relatively small upside compared to the invasiveness of a brain implant."
   ]
  },
  {
   "cell_type": "markdown",
   "metadata": {},
   "source": [
    "## Location-Based Approach"
   ]
  },
  {
   "cell_type": "markdown",
   "metadata": {},
   "source": [
    "Using a location-based approach, we focus on **object localisation**. "
   ]
  },
  {
   "cell_type": "markdown",
   "metadata": {},
   "source": [
    "## Rationale"
   ]
  },
  {
   "cell_type": "markdown",
   "metadata": {},
   "source": [
    "# Phosphene Modelling"
   ]
  },
  {
   "cell_type": "markdown",
   "metadata": {},
   "source": [
    "## Phosphene Rendering"
   ]
  },
  {
   "cell_type": "code",
   "execution_count": 220,
   "metadata": {
    "code_folding": []
   },
   "outputs": [
    {
     "name": "stdout",
     "output_type": "stream",
     "text": [
      "Overwriting phosphenes.py\n"
     ]
    }
   ],
   "source": [
    "%%writefile phosphenes.py\n",
    "#!/usr/bin/env python\n",
    "\n",
    "import numpy as np\n",
    "from scipy.ndimage import gaussian_filter\n",
    "import random\n",
    "import math\n",
    "from skimage import color\n",
    "\n",
    "# CONSTANTS\n",
    "\n",
    "XSIZE = 64\n",
    "YSIZE = 64\n",
    "PBASE = 1\n",
    "SCALE = 6\n",
    "EXSIZE = XSIZE // SCALE\n",
    "EYSIZE = YSIZE // SCALE\n",
    "\n",
    "\n",
    "def safebound(value: float, width: float, lower: float, upper: float):\n",
    "    \"\"\" \n",
    "    Returns the bounded min and max about value with width.\n",
    "    \"\"\"\n",
    "    vmin = int(max(lower, value - width))\n",
    "    vmax = int(min(upper, value + width))\n",
    "    return vmin, vmax\n",
    "\n",
    "def bound(value:float, lower: float, upper:float):\n",
    "    \"\"\"\n",
    "    Returns a bounded value.\n",
    "    \"\"\"\n",
    "    if value > lower:\n",
    "        if value < upper:\n",
    "            return value\n",
    "        else:\n",
    "            return upper\n",
    "    else:\n",
    "        return lower\n",
    "\n",
    "# Electrodes, which produce phosphenes.\n",
    "\n",
    "class Electrode:\n",
    "    def __init__(self, x: float, y: float, xsize : int = XSIZE, ysize : int = YSIZE, randomPos: float = 0):\n",
    "        \"\"\"\n",
    "        Produces a phosphene for a single electrode.\n",
    "        \n",
    "        Args:\n",
    "            x: float         - position in range [0, 1]. \n",
    "            y: float         - position in range [0, 1]\n",
    "            randomPos: float - a scaling factor for random positioning. \n",
    "        \"\"\"\n",
    "        self.randomPos = randomPos\n",
    "        self.x = bound(x + (random.random() - 0.5) * self.randomPos, 0, 1)\n",
    "        self.y = bound(y + (random.random() - 0.5) * self.randomPos, 0, 1)\n",
    "        self.xsize = xsize\n",
    "        self.ysize = ysize\n",
    "\n",
    "        self.size = PBASE * (0.5 + (4 * np.sqrt((self.x - 0.5) ** 2 + (self.y - 0.5) ** 2)) ** 2)\n",
    "\n",
    "        self.rendered = self.render()\n",
    "\n",
    "    def render(self):\n",
    "        xmin, xmax = safebound(self.xsize * self.x, self.size, 0, self.xsize)\n",
    "        ymin, ymax = safebound(self.ysize * self.y, self.size, 0, self.ysize)\n",
    "\n",
    "        base = np.zeros((self.ysize, self.xsize))\n",
    "        base[ymin:ymax, xmin:xmax] = 1\n",
    "\n",
    "        return gaussian_filter(base, self.size)\n",
    "\n",
    "class UniqueElectrode:\n",
    "    \"\"\"\n",
    "    This class implements electrodes with unique characteristics such as colour and shape.\n",
    "    \"\"\"\n",
    "    def __init__(self, x: float, y: float, xsize : int = XSIZE, ysize : int = YSIZE, randomPos: float = 0.001):\n",
    "        self.x = bound(x + (random.random() - 0.5) * randomPos, 0, 1)\n",
    "        self.y = bound(y + (random.random() - 0.5) * randomPos, 0, 1)\n",
    "        self.size = PBASE * (0.5 + (4 * np.sqrt((self.x - 0.5) ** 2 + (self.y - 0.5) ** 2)) ** 2)\n",
    "        #self.colour = np.random.random(3)\n",
    "        self.brightness = np.random.random()\n",
    "        # xmod and ymod modify the shape of the phosphene\n",
    "        self.xmod = 1 + (random.random()-0.5) * 3\n",
    "        self.ymod = 1 + (random.random()-0.5) * 3\n",
    "        self.xsize = xsize\n",
    "        self.ysize = ysize\n",
    "\n",
    "        self.rendered = self.render()\n",
    "\n",
    "    def render(self):\n",
    "        xmin, xmax = safebound(self.xsize * self.x, self.size*self.xmod, 0, self.xsize)\n",
    "        ymin, ymax = safebound(self.ysize * self.y, self.size*self.ymod, 0, self.ysize)\n",
    "\n",
    "        # base = np.zeros((self.ysize, self.xsize, 3))\n",
    "        # base[ymin:ymax, xmin:xmax, :] = self.colour\n",
    "        base = np.zeros((self.ysize, self.xsize))\n",
    "        base[ymin:ymax, xmin:xmax] = self.brightness\n",
    "        # base = base.reshape((self.ysize, self.xsize))\n",
    "\n",
    "        return gaussian_filter(base, self.size * (random.random() ** 0.3))\n",
    "\n",
    "# Grids, which are composed of electrodes.\n",
    "\n",
    "class RegularGrid:\n",
    "    def __init__(self, exsize: int = EXSIZE, eysize: int = EYSIZE, xsize=XSIZE, ysize=YSIZE):\n",
    "        \"\"\"\n",
    "        \n",
    "        Args:\n",
    "            exsize: int - x size of electrode grid \n",
    "            eysize: int - y size of electrode grid\n",
    "        \"\"\"\n",
    "        self.exsize = exsize\n",
    "        self.eysize = eysize\n",
    "        self.grid = [\n",
    "            Electrode(x / exsize, y / eysize, xsize=xsize, ysize=ysize)\n",
    "            for x in range(exsize)\n",
    "            for y in range(eysize)\n",
    "        ]\n",
    "        self.renders = tf.convert_to_tensor(np.array([e.rendered for e in self.grid]), dtype=tf.float32)\n",
    "\n",
    "    def render(self, values):\n",
    "        product = [v * e.rendered for (v, e) in zip(values, self.grid)]\n",
    "        summed = sum(product)\n",
    "        summax = np.max(summed)\n",
    "        return np.clip(summed, 0, 1) * 2 - 1\n",
    "        # return (summed / summax) * 2 - 1\n",
    "        \n",
    "    def render_tensor(self, tensor):\n",
    "        reshaped = tf.transpose(tf.reshape(tf.tile(tensor, tf.constant([64])),\n",
    "                                           (64, self.exsize*self.eysize, 1)), perm=[1, 0, 2])\n",
    "        product = reshaped * self.renders\n",
    "        summed = tf.reduce_sum(product, axis=0)\n",
    "        return tf.clip_by_value(summed, 0, 1) * 2 - 1\n",
    "\n",
    "class IrregularGrid:\n",
    "    def __init__(self, randomPos=2, exsize=EXSIZE, eysize=EYSIZE, xsize=XSIZE, ysize=YSIZE):\n",
    "        self.exsize = EXSIZE\n",
    "        self.eysize = EYSIZE\n",
    "        self.grid = [\n",
    "            Electrode(0.5 + (x / exsize) / 2, y / eysize, xsize=xsize, ysize=ysize, randomPos=randomPos )\n",
    "            for x in range(exsize)\n",
    "            for y in range(eysize)\n",
    "        ]\n",
    "\n",
    "    def render(self, values):\n",
    "        product = [v * e.rendered for (v, e) in zip(values, self.grid)]\n",
    "        summed = sum(product)\n",
    "        summax = np.max(summed)\n",
    "        return np.clip(summed, 0, 1) * 2 - 1\n",
    "        # return (summed / summax) * 2 - 1\n",
    "\n",
    "class PolarRegularGrid:\n",
    "    def __init__(self, nrho, ntheta, xsize=XSIZE, ysize=YSIZE):\n",
    "        self.nrho   = nrho\n",
    "        self.ntheta = ntheta\n",
    "        self.grid = [\n",
    "            # Need to think of better way to scale.\n",
    "            Electrode(((math.exp(rho**0.6) / math.exp(nrho**0.6) * math.cos((math.pi * theta / ntheta) - math.pi/2)) + 1) / 2,\n",
    "                      ((math.exp(rho**0.6) / math.exp(nrho**0.6) * math.sin((math.pi * theta / ntheta) - math.pi/2)) + 1) / 2,\n",
    "                      xsize = xsize,\n",
    "                      ysize = ysize,\n",
    "                     )\n",
    "            # Ensure the central electrodes are actually visible by adding 1 to zero.\n",
    "            for rho in range(1, nrho+1)\n",
    "            for theta in range(ntheta)\n",
    "        ]\n",
    "        \n",
    "        self.renders = tf.convert_to_tensor(np.array([e.rendered for e in self.grid]), dtype=tf.float32)\n",
    "\n",
    "    def render(self, values):\n",
    "        product = [v * e.rendered for (v, e) in zip(values, self.grid)]\n",
    "        summed = sum(product)\n",
    "        summax = np.max(summed)\n",
    "        return np.clip(summed, 0, 1) * 2 - 1\n",
    "        # return (summed / summax) * 2 - 1\n",
    "        \n",
    "    def render_tensor(self, tensor):\n",
    "        reshaped = tf.transpose(tf.reshape(tf.tile(tensor, tf.constant([64])), (64, self.nrho * self.ntheta, 1)), perm=[1, 0, 2])\n",
    "        product = reshaped * self.renders\n",
    "        summed = tf.reduce_sum(product, axis=0)\n",
    "        return tf.clip_by_value(summed, 0, 1) * 2 - 1\n",
    "\n",
    "class PolarRegularUniqueGrid:\n",
    "    def __init__(self, nrho, ntheta, xsize=XSIZE, ysize=YSIZE):\n",
    "        self.nrho   = nrho\n",
    "        self.ntheta = ntheta\n",
    "        self.grid = [\n",
    "            # Need to think of better way to scale.\n",
    "            UniqueElectrode(((math.exp(rho**0.6) / math.exp(nrho**0.6) * math.cos((math.pi * theta / ntheta) - math.pi/2)) + 1) / 2,\n",
    "                            ((math.exp(rho**0.6) / math.exp(nrho**0.6) * math.sin((math.pi * theta / ntheta) - math.pi/2)) + 1) / 2,\n",
    "                            xsize = xsize,\n",
    "                            ysize = ysize,\n",
    "                           )\n",
    "            # Ensure the central electrodes are actually visible by adding 1 to zero.\n",
    "            for rho in range(1, nrho+1)\n",
    "            for theta in range(ntheta)\n",
    "        ]\n",
    "        \n",
    "        self.renders = tf.convert_to_tensor(np.array([e.rendered for e in self.grid]), dtype=tf.float32)\n",
    "\n",
    "    def render(self, values):\n",
    "        product = [v * e.rendered for (v, e) in zip(values, self.grid)]\n",
    "        summed = sum(product)\n",
    "        summax = np.max(summed)\n",
    "        return np.clip(summed, 0, 1)\n",
    "        # return (summed / summax) * 2 - 1\n",
    "        \n",
    "    def render_tensor(self, tensor):\n",
    "        reshaped = tf.transpose(tf.reshape(tf.tile(tensor, tf.constant([64])), (64, self.nrho * self.ntheta, 1)), perm=[1, 0, 2])\n",
    "        product = reshaped * self.renders\n",
    "        summed = tf.reduce_sum(product, axis=0)\n",
    "        return tf.clip_by_value(summed, 0, 1) * 2 - 1\n",
    "\n",
    "class NonLinearInteractionGrid:\n",
    "    def __init__(self, nrho, ntheta, xsize=XSIZE, ysize=YSIZE):\n",
    "        self.nrho   = nrho\n",
    "        self.ntheta = ntheta\n",
    "        self.grid = [\n",
    "            # Need to think of better way to scale.\n",
    "            UniqueElectrode(((math.exp(rho**0.6) / math.exp(nrho**0.6) * math.cos((math.pi * theta / ntheta) - math.pi/2)) + 1) / 2,\n",
    "                            ((math.exp(rho**0.6) / math.exp(nrho**0.6) * math.sin((math.pi * theta / ntheta) - math.pi/2)) + 1) / 2,\n",
    "                            xsize = xsize,\n",
    "                            ysize = ysize,\n",
    "                           )\n",
    "            # Ensure the central electrodes are actually visible by adding 1 to zero.\n",
    "            for rho in range(1, nrho+1)\n",
    "            for theta in range(ntheta)\n",
    "        ]\n",
    "        \n",
    "        self.renders = tf.convert_to_tensor(np.array([e.rendered for e in self.grid]), dtype=tf.float32)\n",
    "\n",
    "    def render(self, values):\n",
    "        # Assume all inputs are in the range 0 and 1\n",
    "        product = [v * e.rendered for (v, e) in zip(values, self.grid)]\n",
    "        summed = sum(product)\n",
    "        summax = np.max(summed)\n",
    "        return (summed / summax) * 2 - 1\n",
    "    \n",
    "    def render_tensor(self, tensor):\n",
    "        # Assume all inputs are in the range 0 and 1\n",
    "        reshaped = tf.transpose(tf.reshape(tf.tile(tensor, tf.constant([64])), (64, self.nrho * self.ntheta, 1)), perm=[1, 0, 2])\n",
    "        product = reshaped * self.renders\n",
    "        summed = tf.reduce_sum(product, axis=0)\n",
    "        summax = tf.reduce_max(summed)\n",
    "        return tf.divide(summed, summax) * 2 - 1\n",
    "        \n",
    "        \n",
    "# STIMULUS\n",
    "\n",
    "class Stimulus:\n",
    "    def __init__(self, image, grid, xpos=0, ypos=0):\n",
    "        self.shape = image.shape\n",
    "        \n",
    "        if len(self.shape) == 2:\n",
    "            self.original = image.reshape(*self.shape, 1)\n",
    "            self.shape = self.original.shape\n",
    "        else:\n",
    "            self.original = image\n",
    "            \n",
    "        # Normalise between -1 and 1\n",
    "        self.original = 2 * (self.original / np.max(self.original)) - 1\n",
    "        \n",
    "        self.padder = np.zeros((3 * self.shape[0], 3 * self.shape[1], self.shape[2]))\n",
    "        self.padder[self.shape[0]:2*self.shape[0], self.shape[1]:2*self.shape[1], :] = self.original\n",
    "        \n",
    "        self.xpos = xpos\n",
    "        self.ypos = ypos\n",
    "        \n",
    "        self.image = self.getImage()\n",
    "        \n",
    "        self.grid = grid\n",
    "        self.sampleWidth = 6\n",
    "        \n",
    "        self.vector = self.process()\n",
    "            \n",
    "    def get_params(self, x : float, y : float):\n",
    "        \n",
    "        ymin = bound(int(self.shape[0] * y - self.sampleWidth // 2), 0, self.shape[0] - 1)\n",
    "        ymax = bound(int(self.shape[0] * y + self.sampleWidth // 2), 0, self.shape[0] - 1)\n",
    "        xmin = bound(int(self.shape[1] * x - self.sampleWidth // 2), 0, self.shape[1] - 1)            \n",
    "        xmax = bound(int(self.shape[1] * x + self.sampleWidth // 2), 0, self.shape[1] - 1)\n",
    "\n",
    "        vals  = self.image[ymin:ymax, xmin:xmax, :]\n",
    "        return np.mean(vals)\n",
    "    \n",
    "    def getImage(self):\n",
    "        \"\"\" Based on xpos and ypos, get the image view from the padder.\n",
    "        \"\"\"\n",
    "        \n",
    "        xstart = self.shape[0] - int(self.xpos * self.shape[0])\n",
    "        ystart = self.shape[1] - int(self.ypos * self.shape[1])\n",
    "        \n",
    "        return self.padder[ystart:ystart+self.shape[1], xstart:xstart+self.shape[0], :]\n",
    "\n",
    "    def process(self):\n",
    "        \"\"\" Converts the stimulus into a brightness vector for the\n",
    "        \"\"\"\n",
    "\n",
    "        params = np.array([self.get_params(e.x, e.y) for e in self.grid.grid])\n",
    "        # Normalise to between 0 and 1\n",
    "        params = params - (np.min(params))\n",
    "        params /= np.max(params)\n",
    "        return params\n",
    "        #flattened = self.image.flatten(order=\"C\")\n",
    "    \n",
    "    def setPos(self, xpos: float, ypos: float):\n",
    "        \"\"\"Translate the image. xpos and ypos lie in the range (-1, 1)\n",
    "        \"\"\"\n",
    "        self.xpos = xpos\n",
    "        self.ypos = ypos\n",
    "        self.image = self.getImage()\n",
    "        self.vector = self.process()\n",
    "        \n",
    "        \n",
    "# TESTING ONLY \n",
    "\n",
    "import tensorflow as tf\n",
    "tf.executing_eagerly()\n",
    "import keras\n",
    "\n",
    "# input_shape = (72, 72)\n",
    "\n",
    "# encoder_path = \"./data/models/encoder_model.h5\"\n",
    "# encoder = tf.keras.models.load_model(encoder_path)\n",
    "\n",
    "# encoder = make_encoder_model()\n",
    "\n",
    "class StimulusNet(Stimulus):\n",
    "\n",
    "    def __init__(self, image, grid, encoder_path):\n",
    "        self.encoder = tf.keras.models.load_model(encoder_path)        \n",
    "        Stimulus.__init__(self, image, grid)\n",
    "    \n",
    "    def process(self):\n",
    "        image_tensor = tf.convert_to_tensor(np.array([self.image]), dtype=tf.float32)\n",
    "        return self.encoder(image_tensor).numpy()[0]"
   ]
  },
  {
   "cell_type": "code",
   "execution_count": 221,
   "metadata": {},
   "outputs": [],
   "source": [
    "%run phosphenes.py"
   ]
  },
  {
   "cell_type": "markdown",
   "metadata": {
    "heading_collapsed": true
   },
   "source": [
    "## Digit Experiment"
   ]
  },
  {
   "cell_type": "code",
   "execution_count": 169,
   "metadata": {
    "code_folding": [],
    "hidden": true
   },
   "outputs": [
    {
     "name": "stdout",
     "output_type": "stream",
     "text": [
      "Overwriting digits.py\n"
     ]
    }
   ],
   "source": [
    "%%writefile digits.py\n",
    "#!/usr/bin/env python\n",
    "\"\"\"\n",
    "This script runs a digit recognition psychophysics session.\n",
    "\"\"\"\n",
    "\n",
    "# # Setup\n",
    "\n",
    "import numpy as np\n",
    "import json\n",
    "import phosphenes\n",
    "import cv2\n",
    "import pickle\n",
    "from phosphenes import *\n",
    "from datetime import datetime\n",
    "from argparse import ArgumentParser\n",
    "from psychopy import visual, core, gui, event\n",
    "from box import Box\n",
    "from psychopy.sound.backend_pygame import SoundPygame\n",
    "from psychopy.tools.filetools import fromFile, toFile\n",
    "from skimage import color\n",
    "from imageio import imread\n",
    "from random import random, choices\n",
    "from PIL import Image\n",
    "\n",
    "# I'm setting up a config dictionary with dot-syntax so it can be serialised \n",
    "# and saved with the session. I prefer explicitly keeping track of state.\n",
    "\n",
    "config = Box({})\n",
    "\n",
    "# Parsing the command line arguments, especially for testing.\n",
    "parser = ArgumentParser(description='Digit recognition task.')\n",
    "\n",
    "# Define command line arguments.\n",
    "argspec = {\n",
    "    'testing': {\n",
    "        'action': 'store_const',\n",
    "        'const': True,\n",
    "        'default': False,\n",
    "        'dest': 'testing',\n",
    "        'help': 'Test the experiment and save the data.'\n",
    "    },\n",
    "    'ntrials': {\n",
    "        'type': int,\n",
    "        'nargs': '?',\n",
    "        'default': 5,\n",
    "        'help': 'Number of trials for the experiment.'\n",
    "    },\n",
    "    'ncues': {\n",
    "        'type': int,\n",
    "        'nargs': '?',\n",
    "        'default': 10,\n",
    "        'help': 'Number of cues per trial. Should be a multiple of 10 (for now) for digit stream.'\n",
    "    },\n",
    "    'grid': {\n",
    "        'type': str,\n",
    "        'nargs': '?',\n",
    "        'default': 'polarRegular',\n",
    "        'help': 'The grid type for rendering. One of regular, irregular, polarRegular, polarRegularUnique, or nonLinear, or a filepath to the grid to load.'\n",
    "    },\n",
    "    'processor': {\n",
    "        'type': str,\n",
    "        'nargs': '?',\n",
    "        'default': 'direct',\n",
    "        'help': 'The processor for the session. One of direct or net.'\n",
    "    },\n",
    "    'encoder': {\n",
    "        'type': str,\n",
    "        'nargs': '?',\n",
    "        'default': None,\n",
    "        'help': 'If the processor is a net, specify the filepath of the encoder to be used. '\n",
    "    },\n",
    "    'no-numpad': {\n",
    "        'action': 'store_const',\n",
    "        'const': True,\n",
    "        'default': False,\n",
    "        'dest': 'noNumpad',\n",
    "        'help': 'Flags that normal number keys instead of numpad should be used.'\n",
    "    },\n",
    "    'with-scanning': {\n",
    "        'action': 'store_const',\n",
    "        'const': True,\n",
    "        'default': False,\n",
    "        'dest': 'withScanning',\n",
    "        'help': 'Flags that scanning with the mouse should be enabled.'\n",
    "    }\n",
    "}\n",
    "\n",
    "# Add arguments to the parser.\n",
    "[parser.add_argument(f'--{k}', **v) for k, v in argspec.items()]\n",
    "\n",
    "# Parse the arguments and save into config.\n",
    "args = parser.parse_args()\n",
    "config.TESTING        = args.testing\n",
    "config.NTRIALS        = args.ntrials\n",
    "config.NCUES          = args.ncues\n",
    "config.GRID_TYPE      = args.grid\n",
    "config.PROCESSOR_TYPE = args.processor\n",
    "config.NO_NUMPAD      = args.noNumpad\n",
    "config.ENCODER        = args.encoder\n",
    "config.WITH_SCANNING  = args.withScanning\n",
    "\n",
    "\n",
    "# First, we define the constants for the window size of the experiment.\n",
    "# `XSIZE` and `YSIZE` refer to the size of the window on the screen.\n",
    "# `EXSIZE` and `EYSIZE` refer to the size of the image data (i.e. how many \n",
    "# electrodes there are). \n",
    "# `SCALE` links the two. \n",
    "\n",
    "config.XSIZE  = 144\n",
    "config.YSIZE  = 144\n",
    "config.SCALE  = 12\n",
    "config.EXSIZE = config.XSIZE // config.SCALE\n",
    "config.EYSIZE = config.YSIZE // config.SCALE\n",
    "config.INPUT_XSIZE = 64\n",
    "config.INPUT_YSIZE = 64\n",
    "\n",
    "# Next, we load the stimulus. Opening the image files can be expensive\n",
    "# so we're doing at this at the very start and loading them into a \n",
    "# variable. \n",
    "\n",
    "# `IMAGE_TEMPLATE` is a string of the filepath of the stimulus digit images.\n",
    "config.IMAGE_TEMPLATE = './data/digit-images-aliased/{}.png'\n",
    "\n",
    "# `IMAGE_SIZE` is an (int, int) tuple of the image size of the first image.\n",
    "# We assume that each image is of the same size as the image labelled \"0\"\n",
    "config.IMAGE_SIZE = np.shape(imread(config.IMAGE_TEMPLATE.format(0)))  \n",
    "\n",
    "# `IMAGE_SCALE` is an int describing the ratio of electrode size to image size.\n",
    "# It assumes that EXSIZE == EYSIZE and the input images are square.\n",
    "# This may need changing later. \n",
    "config.IMAGE_SCALE = config.EXSIZE / config.IMAGE_SIZE[0]  \n",
    "\n",
    "# `IMAGES` holds the original digit images.\n",
    "config.IMAGES = [cv2.cvtColor(cv2.resize(imread(config.IMAGE_TEMPLATE.format(digit)),\n",
    "                                         dsize=(config.INPUT_XSIZE, config.INPUT_YSIZE)),\n",
    "                              cv2.COLOR_RGBA2RGB)\n",
    "                            for digit in range(10)]\n",
    "\n",
    "# `STIMULI` contains a list of numpy arrays.\n",
    "# Each element in the list holds the image data \n",
    "# for the digit equal to its index. Normalised to \n",
    "# between -1 and 1\n",
    "config.STIMULI = [\n",
    "    np.array(Image.fromarray(image).resize((config.EXSIZE, config.EYSIZE)))\n",
    "    for image in config.IMAGES\n",
    "]\n",
    "\n",
    "# We initiate a grid of electrodes.\n",
    "grids = {\n",
    "    'regular':   lambda: phosphenes.RegularGrid(exsize=config.EXSIZE, eysize=config.EYSIZE, xsize=config.XSIZE, ysize=config.YSIZE),\n",
    "    'irregular': lambda: phosphenes.IrregularGrid(exsize=config.EXSIZE, eysize=config.EYSIZE, randomPos=0.1, xsize=config.XSIZE, ysize=config.YSIZE),\n",
    "    'polarRegular': lambda: phosphenes.PolarRegularGrid(nrho=config.EXSIZE, ntheta=config.EYSIZE, xsize=config.XSIZE, ysize=config.YSIZE),\n",
    "    'polarRegularUnique': lambda: phosphenes.PolarRegularUniqueGrid(nrho=config.EXSIZE, ntheta=config.EYSIZE, xsize=config.XSIZE, ysize=config.YSIZE),\n",
    "    'nonLinear': lambda: phosphenes.NonLinearInteractionGrid(nrho=config.EXSIZE, ntheta=config.EYSIZE, xsize=config.XSIZE, ysize=config.YSIZE),    \n",
    "}\n",
    "\n",
    "try:\n",
    "    grid = grids[config.GRID_TYPE]()\n",
    "except KeyError:\n",
    "    with open(config.GRID_TYPE, 'rb') as infile:\n",
    "        grid = pickle.load(infile)\n",
    "\n",
    "config.GRID = grid\n",
    "\n",
    "# We initiate the stimulus processor type.\n",
    "\n",
    "processors = {\n",
    "    'direct': phosphenes.Stimulus,\n",
    "    'net': lambda image, grid: phosphenes.StimulusNet(image, grid, config.ENCODER),\n",
    "}\n",
    "\n",
    "config.PROCESSOR = processors[config.PROCESSOR_TYPE]\n",
    "\n",
    "# Templates for data paths.\n",
    "config.DATETIME_FORMAT       = '%Y-%m-%d_%H-%M-%S'\n",
    "config.DIGIT_SOUND_TEMPLATE  = './data/digit-voice/{}-alt.wav'\n",
    "\n",
    "base_dir = './data/psychophysics-sessions/'\n",
    "\n",
    "if config.TESTING:\n",
    "    config.CONFIG_FILE_TEMPLATE  = base_dir + 'tests/{}_{}_config.json'\n",
    "    config.SESSION_FILE_TEMPLATE = base_dir + 'tests/{}_{}_session.csv'\n",
    "    config.MOUSE_FILE_TEMPLATE   = base_dir + 'tests/{}_{}_mouse.csv'\n",
    "else:\n",
    "    config.CONFIG_FILE_TEMPLATE  = base_dir + 'participants/{}_{}_config.json'\n",
    "    config.SESSION_FILE_TEMPLATE = base_dir + 'participants/{}_{}_session.csv'\n",
    "    config.MOUSE_FILE_TEMPLATE   = base_dir + 'participants/{}_{}_mouse.csv'\n",
    "\n",
    "# Parameters for sound.\n",
    "config.CORRECT_NOTE   = 'G'\n",
    "config.INCORRECT_NOTE = 'Csh'\n",
    "config.NOTE_DURATION  = 0.1\n",
    "config.NOTE_VOLUME    = 0.5\n",
    "\n",
    "# Session data.\n",
    "config.SESSION_VARS = ['trial', 'cue', 'digit', 'keypress', 'cuetime', 'trialtime', 'sessiontime']\n",
    "config.MOUSE_VARS   = ['trial', 'cue', 'digit', 'xmouse', 'ymouse', 'cuetime', 'trialtime', 'sessiontime']\n",
    "\n",
    "# Output templates based on session data.\n",
    "config.SESSION_HEADER       = ','.join(config.SESSION_VARS) + '\\n'\n",
    "config.SESSION_ROW_TEMPLATE = ','.join(['{' + word + '}' for word in config.SESSION_VARS]) + '\\n'\n",
    "config.MOUSE_HEADER         = ','.join(config.MOUSE_VARS) + '\\n'\n",
    "config.MOUSE_ROW_TEMPLATE   = ','.join(['{' + word + '}' for word in config.MOUSE_VARS]) + '\\n'\n",
    "\n",
    "# Mouse recording interval in seconds.\n",
    "config.MOUSE_RECORD_INTERVAL = 0.2\n",
    "\n",
    "# Text.\n",
    "config.PROMPT_TEXT = \"{}% complete.\\n\\nPress any key when ready.\"\n",
    "config.END_TEXT    = \"Thank you. \\n\\nPress any key to exit.\"\n",
    "\n",
    "# If testing, the blank image.\n",
    "if config.TESTING:\n",
    "    config.BLANK_FILE = config.IMAGE_TEMPLATE.format('blank')\n",
    "    config.BLANK_IMAGE = cv2.resize(np.flipud(imread(config.BLANK_FILE)), dsize=(config.INPUT_XSIZE, config.INPUT_YSIZE))\n",
    "    config.TEST_WINDOW_XSIZE = 480\n",
    "    config.TEST_WINDOW_YSIZE = 480\n",
    "\n",
    "# Keypress during a trial.\n",
    "if config.NO_NUMPAD:\n",
    "    config.KEY_LIST=[str(x) for x in range(10)]\n",
    "else:\n",
    "    config.KEY_LIST = [\"num_\" + str(x) for x in range(10)]\n",
    "\n",
    "# When saving the config, excluding some variables due to size.\n",
    "config.EXCLUDED = ['STIMULI', 'GRID', 'IMAGES', 'BLANK_IMAGE', 'PROCESSOR']\n",
    "\n",
    "\n",
    "# Here, we make our main experiment, only if called from the command line.\n",
    "if __name__ == \"__main__\":\n",
    "    \n",
    "    # We initiate the user details and present a dialog to the user to get those details.\n",
    "    config.details = {\"datetime\": datetime.strftime(datetime.now(), config.DATETIME_FORMAT), \"participant\": \"\"}\n",
    "    dialog         = gui.DlgFromDict(config.details, title=\"PROTOTYPE\", fixed=[\"datetime\"])\n",
    "    \n",
    "    # We interpret the dialog actions and initiate data files if proceeding.\n",
    "    if dialog.OK:\n",
    "        config.configFile  = config.CONFIG_FILE_TEMPLATE.format(config.details[\"participant\"], config.details[\"datetime\"])\n",
    "        config.sessionFile = config.SESSION_FILE_TEMPLATE.format(config.details[\"participant\"], config.details[\"datetime\"])\n",
    "        config.mouseFile = config.MOUSE_FILE_TEMPLATE.format(config.details[\"participant\"], config.details[\"datetime\"])\n",
    "    else:\n",
    "        core.quit()\n",
    "\n",
    "    # Clocks that keep track of the experiment.\n",
    "    clockSession = core.Clock()\n",
    "    clockTrial   = core.Clock()\n",
    "    clockCue     = core.Clock()\n",
    "    mouseRecord  = core.Clock()\n",
    "\n",
    "    # We initiate some generic sounds for correct and incorrect.\n",
    "    correctSound   = SoundPygame(value=config.CORRECT_NOTE, secs=config.NOTE_DURATION)\n",
    "    incorrectSound = SoundPygame(value=config.INCORRECT_NOTE, secs=config.NOTE_DURATION)\n",
    "    \n",
    "    correctSound.setVolume(config.NOTE_VOLUME)\n",
    "    incorrectSound.setVolume(config.NOTE_VOLUME)\n",
    "    \n",
    "    # And we initiate the sounds for each digit.\n",
    "    digitSounds = [SoundPygame(value=config.DIGIT_SOUND_TEMPLATE.format(digit)) for digit in range(10)]\n",
    "    \n",
    "    # Now we save the config for this session.\n",
    "    with open(config.configFile, 'w+') as configFile:\n",
    "        json.dump({k:v for k, v in config.items() if k not in config.EXCLUDED}, configFile)\n",
    "\n",
    "    # We initiate a testing window if this is a testing run.\n",
    "    if config.TESTING:\n",
    "        testWin = visual.Window([config.TEST_WINDOW_XSIZE, config.TEST_WINDOW_YSIZE],\n",
    "                                pos=(200,200), allowGUI=False, winType='pyglet')\n",
    "        win = visual.Window([config.TEST_WINDOW_XSIZE, config.TEST_WINDOW_YSIZE],\n",
    "                            pos=(200+config.TEST_WINDOW_XSIZE, 200), allowGUI=False, winType='pyglet', color=-1)\n",
    "    else:\n",
    "        # We make a window for the experiment.\n",
    "        win = visual.Window(fullscr=True, allowGUI=False, winType='pyglet', color=-1)\n",
    "\n",
    "    # Start the mouse event\n",
    "    mouse = event.Mouse(visible=False, win=win)\n",
    "        \n",
    "    # We now start the experiment loop.\n",
    "    with open(config.sessionFile, 'w+') as outfile, open(config.mouseFile, 'w+') as mousefile:\n",
    "\n",
    "        # We first write the header of the csv file.\n",
    "        outfile.write(config.SESSION_HEADER)\n",
    "        mousefile.write(config.MOUSE_HEADER)\n",
    "\n",
    "        # Start the trial loop.\n",
    "        for trial in range(config.NTRIALS):\n",
    "\n",
    "            # Set the trial clock to 0.\n",
    "            # This clock will start counting from the wait screen, so includes that time..\n",
    "            clockTrial.reset()\n",
    "            \n",
    "            # If testing, show the blank.\n",
    "            if config.TESTING:\n",
    "                blankStimulus = config.PROCESSOR(config.BLANK_IMAGE, config.GRID)\n",
    "                rendered = config.GRID.render(blankStimulus.vector)\n",
    "                imageStimulus = visual.ImageStim(testWin, image=rendered, size=(2,2))\n",
    "                imageStimulus.draw(); testWin.flip()\n",
    "\n",
    "            # Show a prompt on grey background at the beginning of the trial and wait for a keypress.\n",
    "            bg     = visual.GratingStim(win, tex=None, mask=None, size=2, units='norm', color=0)\n",
    "            prompt = visual.TextStim(win, text=config.PROMPT_TEXT.format(trial * 100 // config.NTRIALS))\n",
    "            bg.draw(); prompt.draw(); win.flip(); event.waitKeys(clearEvents=True)\n",
    "\n",
    "            # Create a stream of digits of length NCUES for the trial.\n",
    "            stream = choices(range(10), k=config.NCUES)\n",
    "\n",
    "            # Start the cue loop.\n",
    "            for cue in range(config.NCUES):\n",
    "                \n",
    "                # Get a digit from the stream and initialise the stimulus.\n",
    "                digit    = stream.pop()\n",
    "                image    = config.IMAGES[digit]\n",
    "                stimulus = config.PROCESSOR(image, config.GRID)\n",
    "                \n",
    "                # If this is a testing run, also draw the original image.\n",
    "                if config.TESTING:\n",
    "                    originalImage = visual.ImageStim(testWin, image=np.flipud(color.rgb2gray(image)), size=(2,2))\n",
    "                    originalImage.draw(); testWin.flip()\n",
    "                    \n",
    "                # Clear the event buffer\n",
    "                event.clearEvents()      \n",
    "                \n",
    "                # Set the mouse to the center. Might turn off, not sure which is better.\n",
    "                mouse.setPos((0,0))    \n",
    " \n",
    "                # Initialise a False keypress\n",
    "                keypressRaw = False\n",
    "        \n",
    "                # Set the cue clock to 0.\n",
    "                clockCue.reset()\n",
    "\n",
    "                # Set the mouse recording clock to 0\n",
    "                mouseRecord.reset()\n",
    "                \n",
    "                if not config.WITH_SCANNING:\n",
    "                    while not keypressRaw:\n",
    "                        # Set the stimulus in the right half of the grid\n",
    "                        stimulus.setPos(0.20, 0)\n",
    "                        print(stimulus.vector)\n",
    "                        rendered = np.flipud(config.GRID.render(stimulus.vector))\n",
    "                        print(np.min(rendered))\n",
    "                        print(np.max(rendered))\n",
    "                        imstim = visual.ImageStim(win, image=rendered, size = (2 * win.size[1] / win.size[0], 2))\n",
    "                        imstim.draw(); win.flip()\n",
    "\n",
    "                        keypresses = event.waitKeys(keyList=config.KEY_LIST, clearEvents=True)\n",
    "                        if keypresses:\n",
    "                            keypressRaw = keypresses[0]                    \n",
    "                else:\n",
    "                    # Loop until the keypress\n",
    "                    while not keypressRaw:\n",
    "\n",
    "                        # Get the mouse position and set the stimulus to the position.\n",
    "                        newPos = mouse.getPos()\n",
    "                        stimulus.setPos(*newPos)\n",
    "\n",
    "                        if mouseRecord.getTime() > config.MOUSE_RECORD_INTERVAL:\n",
    "\n",
    "                            mouseRow = config.MOUSE_ROW_TEMPLATE.format(\n",
    "                                trial=trial,\n",
    "                                cue=cue,\n",
    "                                digit=digit,\n",
    "                                xmouse=newPos[0],\n",
    "                                ymouse=newPos[1],\n",
    "                                cuetime=clockCue.getTime(),\n",
    "                                trialtime=clockTrial.getTime(),\n",
    "                                sessiontime=clockSession.getTime(),\n",
    "                            )\n",
    "                            mousefile.write(mouseRow)\n",
    "\n",
    "                            mouseRecord.reset()\n",
    "\n",
    "                        # Render the stimulus\n",
    "                        rendered = np.flipud(config.GRID.render(stimulus.vector))\n",
    "\n",
    "                        # Create an image stimulus out of the rendered image.\n",
    "                        # Then show the stimulus.\n",
    "                        # Ensure stimulus is square on full screen window, assuming window has greater x dim than y dim.\n",
    "                        imstim = visual.ImageStim(win, image=rendered, size = (2 * win.size[1] / win.size[0], 2))\n",
    "                        imstim.draw(); win.flip()\n",
    "\n",
    "                        # Wait for a keypress. \n",
    "                        # We only need the first keypress, and want the key input from the numpage.\n",
    "                        keypresses = event.getKeys(keyList = config.KEY_LIST)\n",
    "                        if keypresses:\n",
    "                            keypressRaw = keypresses[0]\n",
    "                        #keypressRaw, *_ = event.waitKeys(clearEvents=True, keyList=config.KEY_LIST)\n",
    "                \n",
    "                # Check if their input was correct. \n",
    "                # Numpad keys are prepended with 'num_', so we strip it out.\n",
    "                keypress = keypressRaw.strip('num_')\n",
    "                correct  = (digit == int(keypress))\n",
    "                \n",
    "                # Create the data line.\n",
    "                row = config.SESSION_ROW_TEMPLATE.format(\n",
    "                    trial=trial,\n",
    "                    cue=cue,\n",
    "                    digit=digit,\n",
    "                    keypress=keypress, \n",
    "                    cuetime=clockCue.getTime(),\n",
    "                    trialtime=clockTrial.getTime(),\n",
    "                    sessiontime=clockSession.getTime(),\n",
    "                )\n",
    "                \n",
    "                # Write the data line to the session file.\n",
    "                outfile.write(row)\n",
    "\n",
    "                # Play the feedback sound.\n",
    "                correctSound.play() if correct else incorrectSound.play()\n",
    "                \n",
    "                # Play the digit sound.\n",
    "                digitSounds[digit].play()\n",
    "                \n",
    "        # At the end of all the trials, show an end screen and wait for key press\n",
    "        # to exit.\n",
    "        bg  = visual.GratingStim(win, tex=None, mask=None, size=2, units='norm', color=0)\n",
    "        end = visual.TextStim(win, text=config.END_TEXT)\n",
    "        bg.draw(); end.draw(); win.flip(); event.waitKeys(clearEvents=True)\n"
   ]
  },
  {
   "cell_type": "code",
   "execution_count": 170,
   "metadata": {
    "hidden": true
   },
   "outputs": [],
   "source": [
    "# %run digits.py"
   ]
  },
  {
   "cell_type": "markdown",
   "metadata": {},
   "source": [
    "# Generating Patterns"
   ]
  },
  {
   "cell_type": "markdown",
   "metadata": {},
   "source": [
    "## Digits"
   ]
  },
  {
   "cell_type": "markdown",
   "metadata": {},
   "source": [
    "### Setup"
   ]
  },
  {
   "cell_type": "code",
   "execution_count": 222,
   "metadata": {},
   "outputs": [],
   "source": [
    "import glob\n",
    "import imageio\n",
    "import numpy as np\n",
    "import os\n",
    "import PIL\n",
    "import tensorflow as tf\n",
    "import time\n",
    "import matplotlib.pyplot as plt\n",
    "import cv2\n",
    "import random\n",
    "import pickle\n",
    "\n",
    "from skimage import color\n",
    "from matplotlib.backends.backend_agg import FigureCanvasAgg as FigureCanvas\n",
    "from tensorflow.keras import layers, Sequential\n",
    "from IPython import display\n",
    "from datetime import datetime"
   ]
  },
  {
   "cell_type": "code",
   "execution_count": 223,
   "metadata": {},
   "outputs": [],
   "source": [
    "plt.rcParams[\"xtick.direction\"] = \"in\"\n",
    "plt.rcParams[\"ytick.direction\"] = \"in\""
   ]
  },
  {
   "cell_type": "code",
   "execution_count": 224,
   "metadata": {},
   "outputs": [],
   "source": [
    "gridType= PolarRegularGrid\n",
    "gridParam1 = 12\n",
    "gridParam2 = 12\n",
    "gridVectorLength = gridParam1 * gridParam2\n",
    "gridSize1 = 64\n",
    "gridSize2 = 64"
   ]
  },
  {
   "cell_type": "code",
   "execution_count": 225,
   "metadata": {},
   "outputs": [],
   "source": [
    "grid = gridType(gridParam1, gridParam2, gridSize1, gridSize2)"
   ]
  },
  {
   "cell_type": "code",
   "execution_count": 226,
   "metadata": {},
   "outputs": [],
   "source": [
    "save_dir = \"./data/training-intermediate-data/\"\n",
    "base = \"{dir}/{time}_{type}_{gridType}_{gridParam1}-{gridParam2}_{gridSize1}-{gridSize2}.{ext}\"\n",
    "\n",
    "now = datetime.now().strftime('%Y-%m-%d_%H-%M')\n",
    "\n",
    "common_format = {\n",
    "    'time': now,\n",
    "    'gridType': gridType.__name__,\n",
    "    'gridParam1': gridParam1,\n",
    "    'gridParam2': gridParam2,\n",
    "    'gridSize1': gridSize1,\n",
    "    'gridSize2': gridSize2,\n",
    "}\n",
    "\n",
    "mnist_filepath = save_dir + base.format(\n",
    "    dir=\"training-decoders\",\n",
    "    type=\"mnist_decoder\",\n",
    "    ext=\"h5\",\n",
    "    **common_format\n",
    ")\n",
    "\n",
    "loss_filepath = save_dir + base.format(\n",
    "    dir=\"training-losses\",\n",
    "    type='loss',\n",
    "    ext='log',\n",
    "    **common_format\n",
    ")\n",
    "\n",
    "gif_filepath = save_dir + base.format(\n",
    "    dir=\"training-gifs\",\n",
    "    type='evolution',\n",
    "    ext='gif',\n",
    "    **common_format\n",
    ")\n",
    "\n",
    "grid_filepath = save_dir + base.format(\n",
    "    dir='training-grids',\n",
    "    type='grid',\n",
    "    ext='pkl',\n",
    "    **common_format\n",
    ")\n",
    "\n",
    "encoder_filepath = save_dir + base.format(\n",
    "    dir='training-encoders',\n",
    "    type='encoder',\n",
    "    ext='h5',\n",
    "    **common_format\n",
    ")"
   ]
  },
  {
   "cell_type": "markdown",
   "metadata": {},
   "source": [
    "### Creating Digits"
   ]
  },
  {
   "cell_type": "code",
   "execution_count": 227,
   "metadata": {},
   "outputs": [],
   "source": [
    "def digit_to_image(digit : int):\n",
    "    fig = plt.figure(figsize=(1,1))\n",
    "    canvas = FigureCanvas(fig)\n",
    "    ax = plt.gca()\n",
    "    fig.patch.set_facecolor('black')\n",
    "    plt.axis('off')\n",
    "    ax.xaxis.set_major_locator(plt.NullLocator())\n",
    "    ax.yaxis.set_major_locator(plt.NullLocator())\n",
    "    ax.xaxis.set_visible(False)\n",
    "    ax.yaxis.set_visible(False)\n",
    "    plt.subplots_adjust(top = 1, bottom = 0, right = 1, left = 0, hspace = 0, wspace = 0)\n",
    "    plt.text(0.25 + random.random() / 2, 0.25 + random.random() / 2, str(int(digit)),\n",
    "             size=48,\n",
    "             color='white',\n",
    "             clip_box=ax.clipbox,\n",
    "             clip_on=True,\n",
    "             horizontalalignment = 'center',\n",
    "             verticalalignment = 'center',\n",
    "             linespacing = 0,\n",
    "             #bbox=dict(facecolor='red', alpha=0.5),\n",
    "             transform=ax.transAxes)\n",
    "    #plt.savefig(f'{digit}.png', pad_inches=0, facecolor='black')\n",
    "    canvas.draw()\n",
    "    width, height = fig.get_size_inches() * fig.get_dpi()\n",
    "    image = np.frombuffer(canvas.tostring_rgb(), dtype='uint8').reshape(int(height), int(width), 3)\n",
    "    image = (image - 127.5) / 127.5\n",
    "    plt.close(fig)\n",
    "    return cv2.resize(image, dsize=(gridSize1,gridSize2)).astype(np.float32)"
   ]
  },
  {
   "cell_type": "markdown",
   "metadata": {},
   "source": [
    "### Making a Digit Dataset"
   ]
  },
  {
   "cell_type": "code",
   "execution_count": 228,
   "metadata": {},
   "outputs": [],
   "source": [
    "BUFFER_SIZE = 10000"
   ]
  },
  {
   "cell_type": "code",
   "execution_count": 229,
   "metadata": {},
   "outputs": [],
   "source": [
    "# # %%time\n",
    "# digits = np.random.randint(0, 10, (BUFFER_SIZE,))\n",
    "# digit_images = np.array([digit_to_image(d) for d in digits])"
   ]
  },
  {
   "cell_type": "code",
   "execution_count": 134,
   "metadata": {},
   "outputs": [],
   "source": [
    "digits_path = \"./data/training-input-data/digits.npy\"\n",
    "digit_images_path = \"./data/training-input-data/digit_images.npy\"\n",
    "\n",
    "# np.save(digits_path, digits)\n",
    "# np.save(digit_images_path, digit_images)\n",
    "\n",
    "digits = np.load(digits_path)\n",
    "digit_images = np.load(digit_images_path)"
   ]
  },
  {
   "cell_type": "markdown",
   "metadata": {},
   "source": [
    "### Training a Digit Recogniser"
   ]
  },
  {
   "cell_type": "code",
   "execution_count": 10,
   "metadata": {},
   "outputs": [],
   "source": [
    "# train_labels = np.random.randint(0, 10, (10000))\n",
    "# train_images = np.array([digit_to_image(d) for d in train_labels])"
   ]
  },
  {
   "cell_type": "code",
   "execution_count": 90,
   "metadata": {},
   "outputs": [
    {
     "name": "stdout",
     "output_type": "stream",
     "text": [
      "Epoch 1/5\n",
      "10000/10000 [==============================] - 43s 4ms/sample - loss: 0.6205 - accuracy: 0.7777\n",
      "Epoch 2/5\n",
      "10000/10000 [==============================] - 44s 4ms/sample - loss: 0.0015 - accuracy: 0.9999\n",
      "Epoch 3/5\n",
      "10000/10000 [==============================] - 43s 4ms/sample - loss: 0.0071 - accuracy: 0.9986\n",
      "Epoch 4/5\n",
      "10000/10000 [==============================] - 42s 4ms/sample - loss: 3.3057e-04 - accuracy: 1.0000\n",
      "Epoch 5/5\n",
      "10000/10000 [==============================] - 42s 4ms/sample - loss: 5.8929e-05 - accuracy: 1.0000\n"
     ]
    },
    {
     "data": {
      "text/plain": [
       "<tensorflow.python.keras.callbacks.History at 0x1bb0f691d68>"
      ]
     },
     "execution_count": 90,
     "metadata": {},
     "output_type": "execute_result"
    }
   ],
   "source": [
    "# BUFFER_SIZE = 10000\n",
    "# BATCH_SIZE = 128\n",
    "\n",
    "# model = Sequential([\n",
    "#     layers.Conv2D(32, (16,16), padding='same', strides=(2,2), activation=tf.nn.relu, input_shape=(gridSize1, gridSize2, 3)),\n",
    "#     layers.Conv2D(16, (4,4), padding='same', strides=(1,1), activation=tf.nn.relu),\n",
    "#     layers.MaxPooling2D(2),\n",
    "#     layers.Dropout(0.1),\n",
    "#     layers.Flatten(),\n",
    "#     layers.Dense(10, activation=tf.nn.softmax)\n",
    "# ])\n",
    "\n",
    "# model.compile(optimizer='adam', \n",
    "#               loss='sparse_categorical_crossentropy',\n",
    "#               metrics=['accuracy'])\n",
    "\n",
    "# model.fit(train_images, train_labels, epochs=5)"
   ]
  },
  {
   "cell_type": "code",
   "execution_count": 91,
   "metadata": {},
   "outputs": [],
   "source": [
    "# test_labels = np.random.randint(0, 10, (500))\n",
    "# test_images = np.array([digit_to_image(d) for d in test_labels])"
   ]
  },
  {
   "cell_type": "code",
   "execution_count": 93,
   "metadata": {
    "scrolled": true
   },
   "outputs": [
    {
     "name": "stdout",
     "output_type": "stream",
     "text": [
      "500/500 [==============================] - 0s 889us/sample - loss: 1.5473e-05 - accuracy: 1.0000\n"
     ]
    },
    {
     "data": {
      "text/plain": [
       "[1.5472710139874836e-05, 1.0]"
      ]
     },
     "execution_count": 93,
     "metadata": {},
     "output_type": "execute_result"
    }
   ],
   "source": [
    "# model.evaluate(test_images, test_labels)"
   ]
  },
  {
   "cell_type": "code",
   "execution_count": 162,
   "metadata": {},
   "outputs": [],
   "source": [
    "digit_aliased_model_path = \"./data/digit-models/digit-aliased.h5\"\n",
    "# model.save(digit_aliased_model_path)\n",
    "digit_aliased_model = tf.keras.models.load_model(digit_aliased_model_path)"
   ]
  },
  {
   "cell_type": "markdown",
   "metadata": {},
   "source": [
    "### Training on MNIST Digits"
   ]
  },
  {
   "cell_type": "code",
   "execution_count": 230,
   "metadata": {},
   "outputs": [],
   "source": [
    "#%%time\n",
    "(train_images, train_labels), (test_images, test_labels) = tf.keras.datasets.mnist.load_data()\n",
    "\n",
    "def process_images(images):\n",
    "    processed = np.stack([cv2.resize(image, dsize=(64, 64)).astype('float32') for image in images], 0)\n",
    "    processed = (processed - 127.5) / 127.5\n",
    "    return processed\n",
    "\n",
    "train_images, test_images = process_images(train_images), process_images(test_images)\n",
    "\n",
    "def make_garbage(images):\n",
    "    global grid\n",
    "    num_images, ydim, xdim = images.shape\n",
    "\n",
    "    num_garbage = num_images // 5\n",
    "    garbage_class = 10\n",
    "\n",
    "    garbage = np.array([grid.render([random.random()\n",
    "                                     for i in range(gridVectorLength)]) \n",
    "                        for j in range(num_garbage)])\n",
    "    garbage_labels = np.full((num_garbage,), garbage_class)\n",
    "    \n",
    "    return garbage, garbage_labels\n",
    "\n",
    "train_garbage, train_garbage_labels = make_garbage(train_images)\n",
    "train_images = np.concatenate([train_images, train_garbage], axis=0)\n",
    "train_labels = np.concatenate([train_labels, train_garbage_labels], axis=0)\n",
    "\n",
    "test_garbage, test_garbage_labels = make_garbage(test_images)\n",
    "test_images = np.concatenate([test_images, test_garbage], axis=0)\n",
    "test_labels = np.concatenate([test_labels, test_garbage_labels], axis=0)"
   ]
  },
  {
   "cell_type": "code",
   "execution_count": 231,
   "metadata": {},
   "outputs": [
    {
     "name": "stdout",
     "output_type": "stream",
     "text": [
      "Epoch 1/5\n",
      "72000/72000 [==============================] - 484s 7ms/sample - loss: 0.1736 - accuracy: 0.9465\n",
      "Epoch 2/5\n",
      "72000/72000 [==============================] - 488s 7ms/sample - loss: 0.0837 - accuracy: 0.9756\n",
      "Epoch 3/5\n",
      "72000/72000 [==============================] - 497s 7ms/sample - loss: 0.0738 - accuracy: 0.9790\n",
      "Epoch 4/5\n",
      "72000/72000 [==============================] - 508s 7ms/sample - loss: 0.0666 - accuracy: 0.9810\n",
      "Epoch 5/5\n",
      "72000/72000 [==============================] - 490s 7ms/sample - loss: 0.0646 - accuracy: 0.9817\n"
     ]
    },
    {
     "data": {
      "text/plain": [
       "<tensorflow.python.keras.callbacks.History at 0x1da6c978d30>"
      ]
     },
     "execution_count": 231,
     "metadata": {},
     "output_type": "execute_result"
    }
   ],
   "source": [
    "BUFFER_SIZE = 60000\n",
    "BATCH_SIZE = 128\n",
    "\n",
    "model = Sequential([\n",
    "    layers.Reshape((gridSize1, gridSize2, 1), input_shape=(gridSize1, gridSize2)),\n",
    "    layers.Conv2D(16, (32, 32), padding='same', strides=(2,2), activation=tf.nn.relu),\n",
    "    layers.Conv2D(16, (16, 16), padding='same', strides=(2,2), activation=tf.nn.relu),\n",
    "    layers.Conv2D(16, (4, 4), padding='same', strides=(1,1), activation=tf.nn.relu),\n",
    "    #layers.Conv2D(32, (4, 4), padding='same', strides=(1,1), activation=tf.nn.relu),\n",
    "    #layers.Conv1D(32, (32,), padding='same', strides=(2,), activation=tf.nn.relu, input_shape=(gridSize1, gridSize2)),\n",
    "    #layers.Conv1D(16, (8,), padding='same', strides=(2,), activation=tf.nn.relu),\n",
    "    #layers.Conv1D(16, (4,), padding='same', strides=(2,), activation=tf.nn.relu),\n",
    "    #layers.Conv1D(8, (2,), padding='same', strides=(1,), activation=tf.nn.relu),\n",
    "    layers.MaxPooling2D(2),\n",
    "    layers.Dropout(0.25),\n",
    "    layers.Flatten(),\n",
    "    #layers.Dense(128, activation=tf.nn.relu),\n",
    "    layers.Dense(11, activation=tf.nn.softmax)\n",
    "])\n",
    "\n",
    "model.compile(optimizer='adam', \n",
    "              loss='sparse_categorical_crossentropy',\n",
    "              metrics=['accuracy'])\n",
    "\n",
    "model.fit(train_images, train_labels, epochs=5)"
   ]
  },
  {
   "cell_type": "code",
   "execution_count": 232,
   "metadata": {
    "scrolled": false
   },
   "outputs": [
    {
     "name": "stdout",
     "output_type": "stream",
     "text": [
      "12000/12000 [==============================] - 20s 2ms/sample - loss: 0.0574 - accuracy: 0.9823\n"
     ]
    },
    {
     "data": {
      "text/plain": [
       "[0.05738713549432699, 0.98233336]"
      ]
     },
     "execution_count": 232,
     "metadata": {},
     "output_type": "execute_result"
    }
   ],
   "source": [
    "model.evaluate(test_images, test_labels)"
   ]
  },
  {
   "cell_type": "code",
   "execution_count": 234,
   "metadata": {},
   "outputs": [],
   "source": [
    "# model.save(mnist_filepath)\n",
    "# Reusing a trained MNIST model\n",
    "# mnist_filepath =\n",
    "mnist_model = tf.keras.models.load_model(mnist_filepath)"
   ]
  },
  {
   "cell_type": "code",
   "execution_count": 235,
   "metadata": {},
   "outputs": [
    {
     "data": {
      "text/plain": [
       "(32, 32, 1, 16)"
      ]
     },
     "execution_count": 235,
     "metadata": {},
     "output_type": "execute_result"
    }
   ],
   "source": [
    "mnist_model.layers[1].get_weights()[0].shape"
   ]
  },
  {
   "cell_type": "code",
   "execution_count": 236,
   "metadata": {},
   "outputs": [],
   "source": [
    "def plot_layer_kernels(layer):\n",
    "    \n",
    "    weights, biases = layer.get_weights()\n",
    "    \n",
    "    dim1, dim2, depth, n = weights.shape\n",
    "    #print(dim1, dim2, n)\n",
    "    \n",
    "    #n = depth * nkernels\n",
    "    \n",
    "    subplotx = int(np.sqrt(n))\n",
    "    subploty = n // subplotx # will not show all the kernels, but will show most.\n",
    "    n_plot = subplotx * subploty\n",
    "    \n",
    "    fig, ax = plt.subplots(subplotx, subploty, figsize=(7,7), sharex=True, sharey=True)\n",
    "    \n",
    "    for i in range(n_plot):\n",
    "        x = i % subplotx\n",
    "        y = i // subplotx\n",
    "        ax[x, y].imshow(weights[:, :, 0, i], cmap='gray') # only plot a few kernels\n",
    "        ax[x, y].axis('off')\n",
    "        ax[x, y].set_title('bias={:.2f}'.format(biases[i]))\n",
    "    \n",
    "    fig.tight_layout()"
   ]
  },
  {
   "cell_type": "code",
   "execution_count": 237,
   "metadata": {},
   "outputs": [
    {
     "data": {
      "image/png": "[encoded data removed]",
      "text/plain": [
       "<Figure size 504x504 with 16 Axes>"
      ]
     },
     "metadata": {
      "needs_background": "light"
     },
     "output_type": "display_data"
    }
   ],
   "source": [
    "plot_layer_kernels(mnist_model.layers[1])"
   ]
  },
  {
   "cell_type": "code",
   "execution_count": 238,
   "metadata": {},
   "outputs": [
    {
     "data": {
      "image/png": "[encoded data removed]",
      "text/plain": [
       "<Figure size 504x504 with 16 Axes>"
      ]
     },
     "metadata": {
      "needs_background": "light"
     },
     "output_type": "display_data"
    }
   ],
   "source": [
    "plot_layer_kernels(mnist_model.layers[2])"
   ]
  },
  {
   "cell_type": "markdown",
   "metadata": {},
   "source": [
    "### Putting in a Generative Network"
   ]
  },
  {
   "cell_type": "code",
   "execution_count": 239,
   "metadata": {},
   "outputs": [],
   "source": [
    "mnist_model.trainable = False"
   ]
  },
  {
   "cell_type": "code",
   "execution_count": 240,
   "metadata": {},
   "outputs": [
    {
     "name": "stdout",
     "output_type": "stream",
     "text": [
      "Model: \"sequential_11\"\n",
      "_________________________________________________________________\n",
      "Layer (type)                 Output Shape              Param #   \n",
      "=================================================================\n",
      "reshape_2 (Reshape)          (None, 64, 64, 1)         0         \n",
      "_________________________________________________________________\n",
      "conv2d_6 (Conv2D)            (None, 32, 32, 16)        16400     \n",
      "_________________________________________________________________\n",
      "conv2d_7 (Conv2D)            (None, 16, 16, 16)        65552     \n",
      "_________________________________________________________________\n",
      "conv2d_8 (Conv2D)            (None, 16, 16, 16)        4112      \n",
      "_________________________________________________________________\n",
      "max_pooling2d_2 (MaxPooling2 (None, 8, 8, 16)          0         \n",
      "_________________________________________________________________\n",
      "dropout_2 (Dropout)          (None, 8, 8, 16)          0         \n",
      "_________________________________________________________________\n",
      "flatten_2 (Flatten)          (None, 1024)              0         \n",
      "_________________________________________________________________\n",
      "dense_11 (Dense)             (None, 11)                11275     \n",
      "=================================================================\n",
      "Total params: 194,678\n",
      "Trainable params: 97,339\n",
      "Non-trainable params: 97,339\n",
      "_________________________________________________________________\n"
     ]
    }
   ],
   "source": [
    "mnist_model.summary()"
   ]
  },
  {
   "cell_type": "code",
   "execution_count": 241,
   "metadata": {},
   "outputs": [],
   "source": [
    "digit_aliased_model.trainable = False"
   ]
  },
  {
   "cell_type": "code",
   "execution_count": 242,
   "metadata": {
    "scrolled": true
   },
   "outputs": [
    {
     "name": "stdout",
     "output_type": "stream",
     "text": [
      "Model: \"sequential_3\"\n",
      "_________________________________________________________________\n",
      "Layer (type)                 Output Shape              Param #   \n",
      "=================================================================\n",
      "conv2d_2 (Conv2D)            (None, 32, 32, 32)        24608     \n",
      "_________________________________________________________________\n",
      "conv2d_3 (Conv2D)            (None, 32, 32, 16)        8208      \n",
      "_________________________________________________________________\n",
      "max_pooling2d_1 (MaxPooling2 (None, 16, 16, 16)        0         \n",
      "_________________________________________________________________\n",
      "dropout_1 (Dropout)          (None, 16, 16, 16)        0         \n",
      "_________________________________________________________________\n",
      "flatten_1 (Flatten)          (None, 4096)              0         \n",
      "_________________________________________________________________\n",
      "dense_3 (Dense)              (None, 10)                40970     \n",
      "=================================================================\n",
      "Total params: 147,572\n",
      "Trainable params: 73,786\n",
      "Non-trainable params: 73,786\n",
      "_________________________________________________________________\n"
     ]
    }
   ],
   "source": [
    "digit_aliased_model.summary()"
   ]
  },
  {
   "cell_type": "code",
   "execution_count": 264,
   "metadata": {},
   "outputs": [],
   "source": [
    "encoder = Sequential([\n",
    "    digit_aliased_model,\n",
    "    #layers.Dense(12, use_bias=False),\n",
    "    #layers.LeakyReLU(),\n",
    "    #layers.Dropout(0.1),\n",
    "    #layers.Dense(gridParam1),\n",
    "    #layers.Dense(gridParam2),\n",
    "    layers.Dense(gridParam1*gridParam2, activation=tf.nn.sigmoid)\n",
    "])"
   ]
  },
  {
   "cell_type": "code",
   "execution_count": 265,
   "metadata": {},
   "outputs": [
    {
     "name": "stdout",
     "output_type": "stream",
     "text": [
      "Model: \"sequential_14\"\n",
      "_________________________________________________________________\n",
      "Layer (type)                 Output Shape              Param #   \n",
      "=================================================================\n",
      "sequential_3 (Sequential)    (None, 10)                73786     \n",
      "_________________________________________________________________\n",
      "dense_14 (Dense)             (None, 144)               1584      \n",
      "=================================================================\n",
      "Total params: 75,370\n",
      "Trainable params: 1,584\n",
      "Non-trainable params: 73,786\n",
      "_________________________________________________________________\n"
     ]
    }
   ],
   "source": [
    "encoder.summary()"
   ]
  },
  {
   "cell_type": "markdown",
   "metadata": {},
   "source": [
    "#### Training the Generative Network (Polar Regular Grid)"
   ]
  },
  {
   "cell_type": "code",
   "execution_count": 266,
   "metadata": {},
   "outputs": [],
   "source": [
    "cross_entropy = tf.keras.losses.CategoricalCrossentropy()\n",
    "\n",
    "def encoder_loss(input_digit, output_digit):\n",
    "    return cross_entropy(input_digit, output_digit)\n",
    "\n",
    "encoder_optimizer = tf.keras.optimizers.Adam(learning_rate=5e-2)"
   ]
  },
  {
   "cell_type": "code",
   "execution_count": 267,
   "metadata": {},
   "outputs": [],
   "source": [
    "display_digits = np.array([i for i in range(10)])\n",
    "display_digit_images = np.array(list(map(digit_to_image, display_digits)))"
   ]
  },
  {
   "cell_type": "code",
   "execution_count": 268,
   "metadata": {},
   "outputs": [],
   "source": [
    "image_directory = \"./data/training-intermediate-data/training-images/\""
   ]
  },
  {
   "cell_type": "code",
   "execution_count": 269,
   "metadata": {},
   "outputs": [],
   "source": [
    "def generate_and_save_images(model, epoch, test_input):\n",
    "    predictions = model(test_input, training=False)\n",
    "\n",
    "    fig = plt.figure(figsize=(5,3))\n",
    "\n",
    "    for i in range(predictions.shape[0]):\n",
    "        plt.subplot(2, 5, i+1)\n",
    "        plt.imshow(grid.render(predictions[i, :]), cmap='gray', vmin=-1, vmax=1)\n",
    "        plt.title(i)\n",
    "        plt.axis('off')\n",
    "        \n",
    "    plt.suptitle(f\"Epoch {epoch}\")\n",
    "\n",
    "    plt.savefig(image_directory + 'generated-epoch-{0:02d}.png'.format(epoch))\n",
    "    plt.show()"
   ]
  },
  {
   "cell_type": "code",
   "execution_count": 270,
   "metadata": {},
   "outputs": [],
   "source": [
    "@tf.function\n",
    "def train_step(digits, digit_images, logfile):\n",
    "    with tf.GradientTape() as enc_tape:\n",
    "        encodings = encoder(digit_images, training=True)\n",
    "        encoded_images = tf.map_fn(grid.render_tensor, encodings)\n",
    "        #print(encoded_images.shape)\n",
    "\n",
    "        output_digits = mnist_model(encoded_images)\n",
    "        # expected_digits = digit_aliased_model(digit_images)\n",
    "        expected_digits = tf.one_hot(digits, 11) # 11 with garbage\n",
    "\n",
    "        enc_loss = encoder_loss(expected_digits, output_digits)\n",
    "        #print(enc_loss)\n",
    "\n",
    "    tf.print(enc_loss, output_stream=logfile)\n",
    "    \n",
    "    gradients_of_encoder = enc_tape.gradient(enc_loss, encoder.trainable_variables)\n",
    "    #print(gradients_of_encoder)\n",
    "\n",
    "    encoder_optimizer.apply_gradients(zip(gradients_of_encoder, encoder.trainable_variables))"
   ]
  },
  {
   "cell_type": "code",
   "execution_count": 271,
   "metadata": {},
   "outputs": [],
   "source": [
    "# checkpoint_dir = './data/training-intermediate-data/training-checkpoints'\n",
    "# checkpoint_prefix = os.path.join(checkpoint_dir, \"ckpt\")\n",
    "# checkpoint = tf.train.Checkpoint(encoder_optimizer=encoder_optimizer,\n",
    "#                                  encoder=encoder)"
   ]
  },
  {
   "cell_type": "code",
   "execution_count": 272,
   "metadata": {},
   "outputs": [],
   "source": [
    "BATCH_SIZE = 500\n",
    "BATCHES = BUFFER_SIZE // BATCH_SIZE"
   ]
  },
  {
   "cell_type": "code",
   "execution_count": 273,
   "metadata": {},
   "outputs": [],
   "source": [
    "# def find_accuracy(nsamples=1000):\n",
    "#     global digit_images, digits, mnist_model, encoder, grid\n",
    "#     correct = sum(np.equal(digits[:nsamples], tf.argmax(mnist_model(tf.map_fn(grid.render_tensor, \n",
    "#                                                         encoder(digit_images[:nsamples]))), axis=1)))\n",
    "#     accuracy = correct / nsamples\n",
    "#     return accuracy"
   ]
  },
  {
   "cell_type": "code",
   "execution_count": 274,
   "metadata": {},
   "outputs": [],
   "source": [
    "def train(epochs, logpath):\n",
    "    \n",
    "    logfile = \"file://\" + logpath \n",
    "    \n",
    "    # Fresh log\n",
    "    open(logpath, 'w').close()\n",
    "        \n",
    "    \n",
    "    for epoch in range(epochs):\n",
    "        start = time.time()\n",
    "\n",
    "        for i in range(BATCHES):\n",
    "            imin = i * BATCH_SIZE\n",
    "            imax = (i+1) * BATCH_SIZE\n",
    "            \n",
    "            digits_slice = digits[imin:imax]\n",
    "            digit_images_slice = digit_images[imin:imax]\n",
    "            \n",
    "            if len(digits_slice) > 0:\n",
    "                train_step(digits_slice, digit_images_slice, logfile)\n",
    "            \n",
    "            #print(f\"BATCH {i} DONE\")\n",
    "\n",
    "        # Produce images for the GIF as we go\n",
    "        display.clear_output(wait=True)\n",
    "        generate_and_save_images(encoder,\n",
    "                                 epoch + 1,\n",
    "                                 display_digit_images\n",
    "                                 )\n",
    "        \n",
    "    #     if (epoch + 1) % 2 == 0:\n",
    "    #         checkpoint.save(file_prefix = checkpoint_prefix)\n",
    "\n",
    "\n",
    "        #accuracy = find_accuracy()\n",
    "        print(f'Time for epoch {epoch+1} is {time.time()-start} sec.')\n",
    "\n",
    "    # Generate after the final epoch\n",
    "    display.clear_output(wait=True)\n",
    "    generate_and_save_images(encoder,\n",
    "                           epochs,\n",
    "                           display_digit_images)"
   ]
  },
  {
   "cell_type": "code",
   "execution_count": 275,
   "metadata": {
    "scrolled": false
   },
   "outputs": [
    {
     "data": {
      "image/png": "[encoded data removed]",
      "text/plain": [
       "<Figure size 360x216 with 10 Axes>"
      ]
     },
     "metadata": {
      "needs_background": "light"
     },
     "output_type": "display_data"
    },
    {
     "name": "stdout",
     "output_type": "stream",
     "text": [
      "At initialisation, loss = 16.118101119995117\n"
     ]
    }
   ],
   "source": [
    "generate_and_save_images(encoder,\n",
    "                         0,\n",
    "                         display_digit_images\n",
    "                         )\n",
    "\n",
    "loss = encoder_loss(tf.one_hot(digits[:BATCH_SIZE], 11), \n",
    "                    mnist_model(tf.map_fn(grid.render_tensor, encoder(digit_images[:BATCH_SIZE])))).numpy()\n",
    "\n",
    "print(f\"At initialisation, loss = {loss}\")"
   ]
  },
  {
   "cell_type": "code",
   "execution_count": 283,
   "metadata": {},
   "outputs": [
    {
     "data": {
      "text/plain": [
       "<matplotlib.image.AxesImage at 0x1da7d6d3a58>"
      ]
     },
     "execution_count": 283,
     "metadata": {},
     "output_type": "execute_result"
    },
    {
     "data": {
      "image/png": "[encoded data removed]",
      "text/plain": [
       "<Figure size 432x288 with 1 Axes>"
      ]
     },
     "metadata": {
      "needs_background": "light"
     },
     "output_type": "display_data"
    }
   ],
   "source": [
    "plt.imshow(grid.render([1 for i in range(144)]), cmap='gray')"
   ]
  },
  {
   "cell_type": "code",
   "execution_count": 276,
   "metadata": {
    "scrolled": false
   },
   "outputs": [
    {
     "data": {
      "image/png": "[encoded data removed]",
      "text/plain": [
       "<Figure size 360x216 with 10 Axes>"
      ]
     },
     "metadata": {
      "needs_background": "light"
     },
     "output_type": "display_data"
    },
    {
     "name": "stdout",
     "output_type": "stream",
     "text": [
      "Time for epoch 50 is 102.42537069320679 sec.\n"
     ]
    },
    {
     "ename": "KeyboardInterrupt",
     "evalue": "",
     "output_type": "error",
     "traceback": [
      "\u001b[1;31m---------------------------------------------------------------------------\u001b[0m",
      "\u001b[1;31mKeyboardInterrupt\u001b[0m                         Traceback (most recent call last)",
      "\u001b[1;32m<ipython-input-276-4e3ac8c31650>\u001b[0m in \u001b[0;36m<module>\u001b[1;34m\u001b[0m\n\u001b[0;32m      1\u001b[0m \u001b[1;31m#%%time\u001b[0m\u001b[1;33m\u001b[0m\u001b[1;33m\u001b[0m\u001b[1;33m\u001b[0m\u001b[0m\n\u001b[0;32m      2\u001b[0m \u001b[0mEPOCHS\u001b[0m \u001b[1;33m=\u001b[0m \u001b[1;36m100\u001b[0m\u001b[1;33m\u001b[0m\u001b[1;33m\u001b[0m\u001b[0m\n\u001b[1;32m----> 3\u001b[1;33m \u001b[0mtrain\u001b[0m\u001b[1;33m(\u001b[0m\u001b[0mEPOCHS\u001b[0m\u001b[1;33m,\u001b[0m \u001b[0mloss_filepath\u001b[0m\u001b[1;33m)\u001b[0m\u001b[1;33m\u001b[0m\u001b[1;33m\u001b[0m\u001b[0m\n\u001b[0m",
      "\u001b[1;32m<ipython-input-274-e53deb490007>\u001b[0m in \u001b[0;36mtrain\u001b[1;34m(epochs, logpath)\u001b[0m\n\u001b[0;32m     18\u001b[0m \u001b[1;33m\u001b[0m\u001b[0m\n\u001b[0;32m     19\u001b[0m             \u001b[1;32mif\u001b[0m \u001b[0mlen\u001b[0m\u001b[1;33m(\u001b[0m\u001b[0mdigits_slice\u001b[0m\u001b[1;33m)\u001b[0m \u001b[1;33m>\u001b[0m \u001b[1;36m0\u001b[0m\u001b[1;33m:\u001b[0m\u001b[1;33m\u001b[0m\u001b[1;33m\u001b[0m\u001b[0m\n\u001b[1;32m---> 20\u001b[1;33m                 \u001b[0mtrain_step\u001b[0m\u001b[1;33m(\u001b[0m\u001b[0mdigits_slice\u001b[0m\u001b[1;33m,\u001b[0m \u001b[0mdigit_images_slice\u001b[0m\u001b[1;33m,\u001b[0m \u001b[0mlogfile\u001b[0m\u001b[1;33m)\u001b[0m\u001b[1;33m\u001b[0m\u001b[1;33m\u001b[0m\u001b[0m\n\u001b[0m\u001b[0;32m     21\u001b[0m \u001b[1;33m\u001b[0m\u001b[0m\n\u001b[0;32m     22\u001b[0m             \u001b[1;31m#print(f\"BATCH {i} DONE\")\u001b[0m\u001b[1;33m\u001b[0m\u001b[1;33m\u001b[0m\u001b[1;33m\u001b[0m\u001b[0m\n",
      "\u001b[1;32m~\\AppData\\Local\\Continuum\\anaconda3\\lib\\site-packages\\tensorflow\\python\\eager\\def_function.py\u001b[0m in \u001b[0;36m__call__\u001b[1;34m(self, *args, **kwds)\u001b[0m\n\u001b[0;32m    412\u001b[0m       \u001b[1;31m# In this case we have created variables on the first call, so we run the\u001b[0m\u001b[1;33m\u001b[0m\u001b[1;33m\u001b[0m\u001b[1;33m\u001b[0m\u001b[0m\n\u001b[0;32m    413\u001b[0m       \u001b[1;31m# defunned version which is guaranteed to never create variables.\u001b[0m\u001b[1;33m\u001b[0m\u001b[1;33m\u001b[0m\u001b[1;33m\u001b[0m\u001b[0m\n\u001b[1;32m--> 414\u001b[1;33m       \u001b[1;32mreturn\u001b[0m \u001b[0mself\u001b[0m\u001b[1;33m.\u001b[0m\u001b[0m_stateless_fn\u001b[0m\u001b[1;33m(\u001b[0m\u001b[1;33m*\u001b[0m\u001b[0margs\u001b[0m\u001b[1;33m,\u001b[0m \u001b[1;33m**\u001b[0m\u001b[0mkwds\u001b[0m\u001b[1;33m)\u001b[0m  \u001b[1;31m# pylint: disable=not-callable\u001b[0m\u001b[1;33m\u001b[0m\u001b[1;33m\u001b[0m\u001b[0m\n\u001b[0m\u001b[0;32m    415\u001b[0m     \u001b[1;32melif\u001b[0m \u001b[0mself\u001b[0m\u001b[1;33m.\u001b[0m\u001b[0m_stateful_fn\u001b[0m \u001b[1;32mis\u001b[0m \u001b[1;32mnot\u001b[0m \u001b[1;32mNone\u001b[0m\u001b[1;33m:\u001b[0m\u001b[1;33m\u001b[0m\u001b[1;33m\u001b[0m\u001b[0m\n\u001b[0;32m    416\u001b[0m       \u001b[1;31m# In this case we have not created variables on the first call. So we can\u001b[0m\u001b[1;33m\u001b[0m\u001b[1;33m\u001b[0m\u001b[1;33m\u001b[0m\u001b[0m\n",
      "\u001b[1;32m~\\AppData\\Local\\Continuum\\anaconda3\\lib\\site-packages\\tensorflow\\python\\eager\\function.py\u001b[0m in \u001b[0;36m__call__\u001b[1;34m(self, *args, **kwargs)\u001b[0m\n\u001b[0;32m   1286\u001b[0m     \u001b[1;34m\"\"\"Calls a graph function specialized to the inputs.\"\"\"\u001b[0m\u001b[1;33m\u001b[0m\u001b[1;33m\u001b[0m\u001b[0m\n\u001b[0;32m   1287\u001b[0m     \u001b[0mgraph_function\u001b[0m\u001b[1;33m,\u001b[0m \u001b[0margs\u001b[0m\u001b[1;33m,\u001b[0m \u001b[0mkwargs\u001b[0m \u001b[1;33m=\u001b[0m \u001b[0mself\u001b[0m\u001b[1;33m.\u001b[0m\u001b[0m_maybe_define_function\u001b[0m\u001b[1;33m(\u001b[0m\u001b[0margs\u001b[0m\u001b[1;33m,\u001b[0m \u001b[0mkwargs\u001b[0m\u001b[1;33m)\u001b[0m\u001b[1;33m\u001b[0m\u001b[1;33m\u001b[0m\u001b[0m\n\u001b[1;32m-> 1288\u001b[1;33m     \u001b[1;32mreturn\u001b[0m \u001b[0mgraph_function\u001b[0m\u001b[1;33m.\u001b[0m\u001b[0m_filtered_call\u001b[0m\u001b[1;33m(\u001b[0m\u001b[0margs\u001b[0m\u001b[1;33m,\u001b[0m \u001b[0mkwargs\u001b[0m\u001b[1;33m)\u001b[0m  \u001b[1;31m# pylint: disable=protected-access\u001b[0m\u001b[1;33m\u001b[0m\u001b[1;33m\u001b[0m\u001b[0m\n\u001b[0m\u001b[0;32m   1289\u001b[0m \u001b[1;33m\u001b[0m\u001b[0m\n\u001b[0;32m   1290\u001b[0m   \u001b[1;33m@\u001b[0m\u001b[0mproperty\u001b[0m\u001b[1;33m\u001b[0m\u001b[1;33m\u001b[0m\u001b[0m\n",
      "\u001b[1;32m~\\AppData\\Local\\Continuum\\anaconda3\\lib\\site-packages\\tensorflow\\python\\eager\\function.py\u001b[0m in \u001b[0;36m_filtered_call\u001b[1;34m(self, args, kwargs)\u001b[0m\n\u001b[0;32m    572\u001b[0m     \"\"\"\n\u001b[0;32m    573\u001b[0m     return self._call_flat(\n\u001b[1;32m--> 574\u001b[1;33m         (t for t in nest.flatten((args, kwargs))\n\u001b[0m\u001b[0;32m    575\u001b[0m          if isinstance(t, (ops.Tensor,\n\u001b[0;32m    576\u001b[0m                            resource_variable_ops.ResourceVariable))))\n",
      "\u001b[1;32m~\\AppData\\Local\\Continuum\\anaconda3\\lib\\site-packages\\tensorflow\\python\\eager\\function.py\u001b[0m in \u001b[0;36m_call_flat\u001b[1;34m(self, args)\u001b[0m\n\u001b[0;32m    625\u001b[0m     \u001b[1;31m# Only need to override the gradient in graph mode and when we have outputs.\u001b[0m\u001b[1;33m\u001b[0m\u001b[1;33m\u001b[0m\u001b[1;33m\u001b[0m\u001b[0m\n\u001b[0;32m    626\u001b[0m     \u001b[1;32mif\u001b[0m \u001b[0mcontext\u001b[0m\u001b[1;33m.\u001b[0m\u001b[0mexecuting_eagerly\u001b[0m\u001b[1;33m(\u001b[0m\u001b[1;33m)\u001b[0m \u001b[1;32mor\u001b[0m \u001b[1;32mnot\u001b[0m \u001b[0mself\u001b[0m\u001b[1;33m.\u001b[0m\u001b[0moutputs\u001b[0m\u001b[1;33m:\u001b[0m\u001b[1;33m\u001b[0m\u001b[1;33m\u001b[0m\u001b[0m\n\u001b[1;32m--> 627\u001b[1;33m       \u001b[0moutputs\u001b[0m \u001b[1;33m=\u001b[0m \u001b[0mself\u001b[0m\u001b[1;33m.\u001b[0m\u001b[0m_inference_function\u001b[0m\u001b[1;33m.\u001b[0m\u001b[0mcall\u001b[0m\u001b[1;33m(\u001b[0m\u001b[0mctx\u001b[0m\u001b[1;33m,\u001b[0m \u001b[0margs\u001b[0m\u001b[1;33m)\u001b[0m\u001b[1;33m\u001b[0m\u001b[1;33m\u001b[0m\u001b[0m\n\u001b[0m\u001b[0;32m    628\u001b[0m     \u001b[1;32melse\u001b[0m\u001b[1;33m:\u001b[0m\u001b[1;33m\u001b[0m\u001b[1;33m\u001b[0m\u001b[0m\n\u001b[0;32m    629\u001b[0m       \u001b[0mself\u001b[0m\u001b[1;33m.\u001b[0m\u001b[0m_register_gradient\u001b[0m\u001b[1;33m(\u001b[0m\u001b[1;33m)\u001b[0m\u001b[1;33m\u001b[0m\u001b[1;33m\u001b[0m\u001b[0m\n",
      "\u001b[1;32m~\\AppData\\Local\\Continuum\\anaconda3\\lib\\site-packages\\tensorflow\\python\\eager\\function.py\u001b[0m in \u001b[0;36mcall\u001b[1;34m(self, ctx, args)\u001b[0m\n\u001b[0;32m    413\u001b[0m             attrs=(\"executor_type\", executor_type,\n\u001b[0;32m    414\u001b[0m                    \"config_proto\", config),\n\u001b[1;32m--> 415\u001b[1;33m             ctx=ctx)\n\u001b[0m\u001b[0;32m    416\u001b[0m       \u001b[1;31m# Replace empty list with None\u001b[0m\u001b[1;33m\u001b[0m\u001b[1;33m\u001b[0m\u001b[1;33m\u001b[0m\u001b[0m\n\u001b[0;32m    417\u001b[0m       \u001b[0moutputs\u001b[0m \u001b[1;33m=\u001b[0m \u001b[0moutputs\u001b[0m \u001b[1;32mor\u001b[0m \u001b[1;32mNone\u001b[0m\u001b[1;33m\u001b[0m\u001b[1;33m\u001b[0m\u001b[0m\n",
      "\u001b[1;32m~\\AppData\\Local\\Continuum\\anaconda3\\lib\\site-packages\\tensorflow\\python\\eager\\execute.py\u001b[0m in \u001b[0;36mquick_execute\u001b[1;34m(op_name, num_outputs, inputs, attrs, ctx, name)\u001b[0m\n\u001b[0;32m     58\u001b[0m     tensors = pywrap_tensorflow.TFE_Py_Execute(ctx._handle, device_name,\n\u001b[0;32m     59\u001b[0m                                                \u001b[0mop_name\u001b[0m\u001b[1;33m,\u001b[0m \u001b[0minputs\u001b[0m\u001b[1;33m,\u001b[0m \u001b[0mattrs\u001b[0m\u001b[1;33m,\u001b[0m\u001b[1;33m\u001b[0m\u001b[1;33m\u001b[0m\u001b[0m\n\u001b[1;32m---> 60\u001b[1;33m                                                num_outputs)\n\u001b[0m\u001b[0;32m     61\u001b[0m   \u001b[1;32mexcept\u001b[0m \u001b[0mcore\u001b[0m\u001b[1;33m.\u001b[0m\u001b[0m_NotOkStatusException\u001b[0m \u001b[1;32mas\u001b[0m \u001b[0me\u001b[0m\u001b[1;33m:\u001b[0m\u001b[1;33m\u001b[0m\u001b[1;33m\u001b[0m\u001b[0m\n\u001b[0;32m     62\u001b[0m     \u001b[1;32mif\u001b[0m \u001b[0mname\u001b[0m \u001b[1;32mis\u001b[0m \u001b[1;32mnot\u001b[0m \u001b[1;32mNone\u001b[0m\u001b[1;33m:\u001b[0m\u001b[1;33m\u001b[0m\u001b[1;33m\u001b[0m\u001b[0m\n",
      "\u001b[1;31mKeyboardInterrupt\u001b[0m: "
     ]
    }
   ],
   "source": [
    "#%%time\n",
    "EPOCHS = 25\n",
    "train(EPOCHS, loss_filepath)"
   ]
  },
  {
   "cell_type": "code",
   "execution_count": 277,
   "metadata": {},
   "outputs": [],
   "source": [
    "def plot_loss(logpath):\n",
    "    with open(logpath) as infile:\n",
    "        loss_raw = infile.readlines()\n",
    "\n",
    "    loss_data = np.array(list(map(float, loss_raw)))\n",
    "\n",
    " \n",
    "    plt.plot(range(loss_data.shape[0]), loss_data)\n",
    "    plt.ylabel(\"Categorical Cross Entropy between\\nPrediction and One-Hot Class\")\n",
    "    plt.xlabel(\"Training Batch (each containing 500 images)\")\n",
    "    plt.title(\"Decoder Loss per Epoch\")\n",
    "\n",
    "    plot_file = logpath.replace(\"losses\", \"graphs\").replace(\".log\", \".png\")\n",
    "    plt.savefig(plot_file)\n",
    "    print(\"./03-psychophysics/\" + plot_file)\n",
    "    return plot_file"
   ]
  },
  {
   "cell_type": "code",
   "execution_count": 278,
   "metadata": {},
   "outputs": [
    {
     "name": "stdout",
     "output_type": "stream",
     "text": [
      "./03-psychophysics/./data/training-intermediate-data/training-graphs/2019-06-18_09-01_loss_PolarRegularGrid_12-12_64-64.png\n"
     ]
    },
    {
     "data": {
      "text/plain": [
       "'./data/training-intermediate-data/training-graphs/2019-06-18_09-01_loss_PolarRegularGrid_12-12_64-64.png'"
      ]
     },
     "execution_count": 278,
     "metadata": {},
     "output_type": "execute_result"
    },
    {
     "data": {
      "image/png": "[encoded data removed]",
      "text/plain": [
       "<Figure size 432x288 with 1 Axes>"
      ]
     },
     "metadata": {
      "needs_background": "light"
     },
     "output_type": "display_data"
    }
   ],
   "source": [
    "plot_loss(loss_filepath)"
   ]
  },
  {
   "cell_type": "code",
   "execution_count": 279,
   "metadata": {},
   "outputs": [],
   "source": [
    "generated_images = glob.glob(image_directory + (\"*.png\"))\n",
    "images = [PIL.Image.open(image) for image in generated_images]\n",
    "\n",
    "# save the first image 10 times\n",
    "images[0].save(gif_filepath,\n",
    "               save_all=True,\n",
    "               append_images=[images[0]] * 10 + images + [images[-1]]*10,\n",
    "               duration=100,\n",
    "               loop=0)"
   ]
  },
  {
   "cell_type": "code",
   "execution_count": 280,
   "metadata": {},
   "outputs": [],
   "source": [
    "with open(grid_filepath, 'wb') as outfile:\n",
    "    pickle.dump(grid, outfile)\n",
    "encoder.save(encoder_filepath)\n",
    "# encoder = tf.keras.models.load_model(encoder_filepath)"
   ]
  },
  {
   "cell_type": "markdown",
   "metadata": {},
   "source": [
    "# Appendix"
   ]
  },
  {
   "cell_type": "markdown",
   "metadata": {},
   "source": [
    "## Generating Static Digit Images"
   ]
  },
  {
   "cell_type": "markdown",
   "metadata": {},
   "source": [
    "This script generates static images of centered digits as PNG files."
   ]
  },
  {
   "cell_type": "code",
   "execution_count": null,
   "metadata": {},
   "outputs": [],
   "source": [
    "from PIL import Image, ImageDraw, ImageFont\n",
    "\n",
    "baseColour = (0, 0, 0)\n",
    "baseSizeX, baseSizeY = (16, 16)\n",
    "textColour = (255, 255, 255)\n",
    "\n",
    "saveExtension = \"png\"\n",
    "\n",
    "for digit in range(10):\n",
    "    baseImage = Image.new(\"RGB\", (baseSizeY, baseSizeX), baseColour)\n",
    "    base = ImageDraw.Draw(baseImage)\n",
    "\n",
    "    text = str(digit)\n",
    "    textSizeX, textSizeY = base.textsize(text)\n",
    "    textPosition = (baseSizeX / 2 - textSizeX / 2, baseSizeY / 2 - textSizeY / 2)\n",
    "    base.text(textPosition, text, textColour)\n",
    "\n",
    "    saveName = str(digit)\n",
    "    baseImage.save(f\"./data/digit-images/{saveName}.{saveExtension}\")\n",
    "\n",
    "# Blank white\n",
    "baseImage = Image.new(\"RGB\", (baseSizeY, baseSizeX), (255,255,255))\n",
    "base = ImageDraw.Draw(baseImage)\n",
    "baseImage.save(f'./data/digit-images/blank.{saveExtension}')\n"
   ]
  },
  {
   "cell_type": "code",
   "execution_count": 40,
   "metadata": {},
   "outputs": [],
   "source": []
  },
  {
   "cell_type": "code",
   "execution_count": null,
   "metadata": {},
   "outputs": [],
   "source": []
  }
 ],
 "metadata": {
  "kernelspec": {
   "display_name": "Python 3",
   "language": "python",
   "name": "python3"
  },
  "language_info": {
   "codemirror_mode": {
    "name": "ipython",
    "version": 3
   },
   "file_extension": ".py",
   "mimetype": "text/x-python",
   "name": "python",
   "nbconvert_exporter": "python",
   "pygments_lexer": "ipython3",
   "version": "3.7.3"
  },
  "toc": {
   "base_numbering": 1,
   "nav_menu": {
    "height": "155px",
    "width": "209.983px"
   },
   "number_sections": true,
   "sideBar": true,
   "skip_h1_title": false,
   "title_cell": "Table of Contents",
   "title_sidebar": "Contents",
   "toc_cell": false,
   "toc_position": {
    "height": "calc(100% - 180px)",
    "left": "10px",
    "top": "150px",
    "width": "165px"
   },
   "toc_section_display": true,
   "toc_window_display": true
  }
 },
 "nbformat": 4,
 "nbformat_minor": 2
}
