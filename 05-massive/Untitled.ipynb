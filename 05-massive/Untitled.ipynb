{
 "cells": [
  {
   "cell_type": "code",
   "execution_count": 1,
   "metadata": {},
   "outputs": [
    {
     "name": "stderr",
     "output_type": "stream",
     "text": [
      "C:\\Users\\wjmn\\Anaconda3\\envs\\bmedsc\\lib\\site-packages\\tensorflow\\python\\framework\\dtypes.py:516: FutureWarning: Passing (type, 1) or '1type' as a synonym of type is deprecated; in a future version of numpy, it will be understood as (type, (1,)) / '(1,)type'.\n",
      "  _np_qint8 = np.dtype([(\"qint8\", np.int8, 1)])\n",
      "C:\\Users\\wjmn\\Anaconda3\\envs\\bmedsc\\lib\\site-packages\\tensorflow\\python\\framework\\dtypes.py:517: FutureWarning: Passing (type, 1) or '1type' as a synonym of type is deprecated; in a future version of numpy, it will be understood as (type, (1,)) / '(1,)type'.\n",
      "  _np_quint8 = np.dtype([(\"quint8\", np.uint8, 1)])\n",
      "C:\\Users\\wjmn\\Anaconda3\\envs\\bmedsc\\lib\\site-packages\\tensorflow\\python\\framework\\dtypes.py:518: FutureWarning: Passing (type, 1) or '1type' as a synonym of type is deprecated; in a future version of numpy, it will be understood as (type, (1,)) / '(1,)type'.\n",
      "  _np_qint16 = np.dtype([(\"qint16\", np.int16, 1)])\n",
      "C:\\Users\\wjmn\\Anaconda3\\envs\\bmedsc\\lib\\site-packages\\tensorflow\\python\\framework\\dtypes.py:519: FutureWarning: Passing (type, 1) or '1type' as a synonym of type is deprecated; in a future version of numpy, it will be understood as (type, (1,)) / '(1,)type'.\n",
      "  _np_quint16 = np.dtype([(\"quint16\", np.uint16, 1)])\n",
      "C:\\Users\\wjmn\\Anaconda3\\envs\\bmedsc\\lib\\site-packages\\tensorflow\\python\\framework\\dtypes.py:520: FutureWarning: Passing (type, 1) or '1type' as a synonym of type is deprecated; in a future version of numpy, it will be understood as (type, (1,)) / '(1,)type'.\n",
      "  _np_qint32 = np.dtype([(\"qint32\", np.int32, 1)])\n",
      "C:\\Users\\wjmn\\Anaconda3\\envs\\bmedsc\\lib\\site-packages\\tensorflow\\python\\framework\\dtypes.py:525: FutureWarning: Passing (type, 1) or '1type' as a synonym of type is deprecated; in a future version of numpy, it will be understood as (type, (1,)) / '(1,)type'.\n",
      "  np_resource = np.dtype([(\"resource\", np.ubyte, 1)])\n",
      "C:\\Users\\wjmn\\Anaconda3\\envs\\bmedsc\\lib\\site-packages\\tensorboard\\compat\\tensorflow_stub\\dtypes.py:541: FutureWarning: Passing (type, 1) or '1type' as a synonym of type is deprecated; in a future version of numpy, it will be understood as (type, (1,)) / '(1,)type'.\n",
      "  _np_qint8 = np.dtype([(\"qint8\", np.int8, 1)])\n",
      "C:\\Users\\wjmn\\Anaconda3\\envs\\bmedsc\\lib\\site-packages\\tensorboard\\compat\\tensorflow_stub\\dtypes.py:542: FutureWarning: Passing (type, 1) or '1type' as a synonym of type is deprecated; in a future version of numpy, it will be understood as (type, (1,)) / '(1,)type'.\n",
      "  _np_quint8 = np.dtype([(\"quint8\", np.uint8, 1)])\n",
      "C:\\Users\\wjmn\\Anaconda3\\envs\\bmedsc\\lib\\site-packages\\tensorboard\\compat\\tensorflow_stub\\dtypes.py:543: FutureWarning: Passing (type, 1) or '1type' as a synonym of type is deprecated; in a future version of numpy, it will be understood as (type, (1,)) / '(1,)type'.\n",
      "  _np_qint16 = np.dtype([(\"qint16\", np.int16, 1)])\n",
      "C:\\Users\\wjmn\\Anaconda3\\envs\\bmedsc\\lib\\site-packages\\tensorboard\\compat\\tensorflow_stub\\dtypes.py:544: FutureWarning: Passing (type, 1) or '1type' as a synonym of type is deprecated; in a future version of numpy, it will be understood as (type, (1,)) / '(1,)type'.\n",
      "  _np_quint16 = np.dtype([(\"quint16\", np.uint16, 1)])\n",
      "C:\\Users\\wjmn\\Anaconda3\\envs\\bmedsc\\lib\\site-packages\\tensorboard\\compat\\tensorflow_stub\\dtypes.py:545: FutureWarning: Passing (type, 1) or '1type' as a synonym of type is deprecated; in a future version of numpy, it will be understood as (type, (1,)) / '(1,)type'.\n",
      "  _np_qint32 = np.dtype([(\"qint32\", np.int32, 1)])\n",
      "C:\\Users\\wjmn\\Anaconda3\\envs\\bmedsc\\lib\\site-packages\\tensorboard\\compat\\tensorflow_stub\\dtypes.py:550: FutureWarning: Passing (type, 1) or '1type' as a synonym of type is deprecated; in a future version of numpy, it will be understood as (type, (1,)) / '(1,)type'.\n",
      "  np_resource = np.dtype([(\"resource\", np.ubyte, 1)])\n"
     ]
    }
   ],
   "source": [
    "from modules import grid"
   ]
  },
  {
   "cell_type": "code",
   "execution_count": 6,
   "metadata": {},
   "outputs": [],
   "source": [
    "testgrid = grid.PolarGrid(12, 12, 48, 48, False, False)"
   ]
  },
  {
   "cell_type": "code",
   "execution_count": 7,
   "metadata": {},
   "outputs": [],
   "source": [
    "import numpy as np\n",
    "from matplotlib import pyplot as plt"
   ]
  },
  {
   "cell_type": "code",
   "execution_count": 8,
   "metadata": {},
   "outputs": [
    {
     "data": {
      "text/plain": [
       "<matplotlib.image.AxesImage at 0x1b4964ebe48>"
      ]
     },
     "execution_count": 8,
     "metadata": {},
     "output_type": "execute_result"
    },
    {
     "data": {
      "image/png": "[encoded data removed]",
      "text/plain": [
       "<Figure size 432x288 with 1 Axes>"
      ]
     },
     "metadata": {
      "needs_background": "light"
     },
     "output_type": "display_data"
    }
   ],
   "source": [
    "plt.imshow(testgrid.render_values_array(np.array([0.8 for _ in range(144)])), cmap='gray')"
   ]
  },
  {
   "cell_type": "code",
   "execution_count": 9,
   "metadata": {},
   "outputs": [
    {
     "data": {
      "text/plain": [
       "array([[1.42272963, 1.42272963],\n",
       "       [1.42272963, 1.42272963],\n",
       "       [1.42272963, 1.42272963],\n",
       "       [1.42272963, 1.42272963],\n",
       "       [1.42272963, 1.42272963],\n",
       "       [1.42272963, 1.42272963],\n",
       "       [1.42272963, 1.42272963],\n",
       "       [1.42272963, 1.42272963],\n",
       "       [1.42272963, 1.42272963],\n",
       "       [1.42272963, 1.42272963],\n",
       "       [1.42272963, 1.42272963],\n",
       "       [1.42272963, 1.42272963],\n",
       "       [1.47280375, 1.47280375],\n",
       "       [1.47280375, 1.47280375],\n",
       "       [1.47280375, 1.47280375],\n",
       "       [1.47280375, 1.47280375],\n",
       "       [1.47280375, 1.47280375],\n",
       "       [1.47280375, 1.47280375],\n",
       "       [1.47280375, 1.47280375],\n",
       "       [1.47280375, 1.47280375],\n",
       "       [1.47280375, 1.47280375],\n",
       "       [1.47280375, 1.47280375],\n",
       "       [1.47280375, 1.47280375],\n",
       "       [1.47280375, 1.47280375],\n",
       "       [1.55106191, 1.55106191],\n",
       "       [1.55106191, 1.55106191],\n",
       "       [1.55106191, 1.55106191],\n",
       "       [1.55106191, 1.55106191],\n",
       "       [1.55106191, 1.55106191],\n",
       "       [1.55106191, 1.55106191],\n",
       "       [1.55106191, 1.55106191],\n",
       "       [1.55106191, 1.55106191],\n",
       "       [1.55106191, 1.55106191],\n",
       "       [1.55106191, 1.55106191],\n",
       "       [1.55106191, 1.55106191],\n",
       "       [1.55106191, 1.55106191],\n",
       "       [1.65125476, 1.65125476],\n",
       "       [1.65125476, 1.65125476],\n",
       "       [1.65125476, 1.65125476],\n",
       "       [1.65125476, 1.65125476],\n",
       "       [1.65125476, 1.65125476],\n",
       "       [1.65125476, 1.65125476],\n",
       "       [1.65125476, 1.65125476],\n",
       "       [1.65125476, 1.65125476],\n",
       "       [1.65125476, 1.65125476],\n",
       "       [1.65125476, 1.65125476],\n",
       "       [1.65125476, 1.65125476],\n",
       "       [1.65125476, 1.65125476],\n",
       "       [1.766881  , 1.766881  ],\n",
       "       [1.766881  , 1.766881  ],\n",
       "       [1.766881  , 1.766881  ],\n",
       "       [1.766881  , 1.766881  ],\n",
       "       [1.766881  , 1.766881  ],\n",
       "       [1.766881  , 1.766881  ],\n",
       "       [1.766881  , 1.766881  ],\n",
       "       [1.766881  , 1.766881  ],\n",
       "       [1.766881  , 1.766881  ],\n",
       "       [1.766881  , 1.766881  ],\n",
       "       [1.766881  , 1.766881  ],\n",
       "       [1.766881  , 1.766881  ],\n",
       "       [1.89215303, 1.89215303],\n",
       "       [1.89215303, 1.89215303],\n",
       "       [1.89215303, 1.89215303],\n",
       "       [1.89215303, 1.89215303],\n",
       "       [1.89215303, 1.89215303],\n",
       "       [1.89215303, 1.89215303],\n",
       "       [1.89215303, 1.89215303],\n",
       "       [1.89215303, 1.89215303],\n",
       "       [1.89215303, 1.89215303],\n",
       "       [1.89215303, 1.89215303],\n",
       "       [1.89215303, 1.89215303],\n",
       "       [1.89215303, 1.89215303],\n",
       "       [2.02243627, 2.02243627],\n",
       "       [2.02243627, 2.02243627],\n",
       "       [2.02243627, 2.02243627],\n",
       "       [2.02243627, 2.02243627],\n",
       "       [2.02243627, 2.02243627],\n",
       "       [2.02243627, 2.02243627],\n",
       "       [2.02243627, 2.02243627],\n",
       "       [2.02243627, 2.02243627],\n",
       "       [2.02243627, 2.02243627],\n",
       "       [2.02243627, 2.02243627],\n",
       "       [2.02243627, 2.02243627],\n",
       "       [2.02243627, 2.02243627],\n",
       "       [2.15429405, 2.15429405],\n",
       "       [2.15429405, 2.15429405],\n",
       "       [2.15429405, 2.15429405],\n",
       "       [2.15429405, 2.15429405],\n",
       "       [2.15429405, 2.15429405],\n",
       "       [2.15429405, 2.15429405],\n",
       "       [2.15429405, 2.15429405],\n",
       "       [2.15429405, 2.15429405],\n",
       "       [2.15429405, 2.15429405],\n",
       "       [2.15429405, 2.15429405],\n",
       "       [2.15429405, 2.15429405],\n",
       "       [2.15429405, 2.15429405],\n",
       "       [2.28532723, 2.28532723],\n",
       "       [2.28532723, 2.28532723],\n",
       "       [2.28532723, 2.28532723],\n",
       "       [2.28532723, 2.28532723],\n",
       "       [2.28532723, 2.28532723],\n",
       "       [2.28532723, 2.28532723],\n",
       "       [2.28532723, 2.28532723],\n",
       "       [2.28532723, 2.28532723],\n",
       "       [2.28532723, 2.28532723],\n",
       "       [2.28532723, 2.28532723],\n",
       "       [2.28532723, 2.28532723],\n",
       "       [2.28532723, 2.28532723],\n",
       "       [2.41394885, 2.41394885],\n",
       "       [2.41394885, 2.41394885],\n",
       "       [2.41394885, 2.41394885],\n",
       "       [2.41394885, 2.41394885],\n",
       "       [2.41394885, 2.41394885],\n",
       "       [2.41394885, 2.41394885],\n",
       "       [2.41394885, 2.41394885],\n",
       "       [2.41394885, 2.41394885],\n",
       "       [2.41394885, 2.41394885],\n",
       "       [2.41394885, 2.41394885],\n",
       "       [2.41394885, 2.41394885],\n",
       "       [2.41394885, 2.41394885],\n",
       "       [2.53916901, 2.53916901],\n",
       "       [2.53916901, 2.53916901],\n",
       "       [2.53916901, 2.53916901],\n",
       "       [2.53916901, 2.53916901],\n",
       "       [2.53916901, 2.53916901],\n",
       "       [2.53916901, 2.53916901],\n",
       "       [2.53916901, 2.53916901],\n",
       "       [2.53916901, 2.53916901],\n",
       "       [2.53916901, 2.53916901],\n",
       "       [2.53916901, 2.53916901],\n",
       "       [2.53916901, 2.53916901],\n",
       "       [2.53916901, 2.53916901],\n",
       "       [2.6604186 , 2.6604186 ],\n",
       "       [2.6604186 , 2.6604186 ],\n",
       "       [2.6604186 , 2.6604186 ],\n",
       "       [2.6604186 , 2.6604186 ],\n",
       "       [2.6604186 , 2.6604186 ],\n",
       "       [2.6604186 , 2.6604186 ],\n",
       "       [2.6604186 , 2.6604186 ],\n",
       "       [2.6604186 , 2.6604186 ],\n",
       "       [2.6604186 , 2.6604186 ],\n",
       "       [2.6604186 , 2.6604186 ],\n",
       "       [2.6604186 , 2.6604186 ],\n",
       "       [2.6604186 , 2.6604186 ]])"
      ]
     },
     "execution_count": 9,
     "metadata": {},
     "output_type": "execute_result"
    }
   ],
   "source": [
    "testgrid.sizes"
   ]
  },
  {
   "cell_type": "code",
   "execution_count": null,
   "metadata": {},
   "outputs": [],
   "source": []
  }
 ],
 "metadata": {
  "kernelspec": {
   "display_name": "bmedsc",
   "language": "python",
   "name": "bmedsc"
  },
  "language_info": {
   "codemirror_mode": {
    "name": "ipython",
    "version": 3
   },
   "file_extension": ".py",
   "mimetype": "text/x-python",
   "name": "python",
   "nbconvert_exporter": "python",
   "pygments_lexer": "ipython3",
   "version": "3.7.3"
  }
 },
 "nbformat": 4,
 "nbformat_minor": 4
}
