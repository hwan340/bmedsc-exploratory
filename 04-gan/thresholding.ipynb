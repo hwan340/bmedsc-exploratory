{
 "cells": [
  {
   "cell_type": "markdown",
   "metadata": {},
   "source": [
    "# Thresholding"
   ]
  },
  {
   "cell_type": "code",
   "execution_count": 1,
   "metadata": {},
   "outputs": [
    {
     "name": "stderr",
     "output_type": "stream",
     "text": [
      "C:\\Users\\wjmn\\Anaconda3\\envs\\bmedsc\\lib\\site-packages\\tensorflow\\python\\framework\\dtypes.py:516: FutureWarning: Passing (type, 1) or '1type' as a synonym of type is deprecated; in a future version of numpy, it will be understood as (type, (1,)) / '(1,)type'.\n",
      "  _np_qint8 = np.dtype([(\"qint8\", np.int8, 1)])\n",
      "C:\\Users\\wjmn\\Anaconda3\\envs\\bmedsc\\lib\\site-packages\\tensorflow\\python\\framework\\dtypes.py:517: FutureWarning: Passing (type, 1) or '1type' as a synonym of type is deprecated; in a future version of numpy, it will be understood as (type, (1,)) / '(1,)type'.\n",
      "  _np_quint8 = np.dtype([(\"quint8\", np.uint8, 1)])\n",
      "C:\\Users\\wjmn\\Anaconda3\\envs\\bmedsc\\lib\\site-packages\\tensorflow\\python\\framework\\dtypes.py:518: FutureWarning: Passing (type, 1) or '1type' as a synonym of type is deprecated; in a future version of numpy, it will be understood as (type, (1,)) / '(1,)type'.\n",
      "  _np_qint16 = np.dtype([(\"qint16\", np.int16, 1)])\n",
      "C:\\Users\\wjmn\\Anaconda3\\envs\\bmedsc\\lib\\site-packages\\tensorflow\\python\\framework\\dtypes.py:519: FutureWarning: Passing (type, 1) or '1type' as a synonym of type is deprecated; in a future version of numpy, it will be understood as (type, (1,)) / '(1,)type'.\n",
      "  _np_quint16 = np.dtype([(\"quint16\", np.uint16, 1)])\n",
      "C:\\Users\\wjmn\\Anaconda3\\envs\\bmedsc\\lib\\site-packages\\tensorflow\\python\\framework\\dtypes.py:520: FutureWarning: Passing (type, 1) or '1type' as a synonym of type is deprecated; in a future version of numpy, it will be understood as (type, (1,)) / '(1,)type'.\n",
      "  _np_qint32 = np.dtype([(\"qint32\", np.int32, 1)])\n",
      "C:\\Users\\wjmn\\Anaconda3\\envs\\bmedsc\\lib\\site-packages\\tensorflow\\python\\framework\\dtypes.py:525: FutureWarning: Passing (type, 1) or '1type' as a synonym of type is deprecated; in a future version of numpy, it will be understood as (type, (1,)) / '(1,)type'.\n",
      "  np_resource = np.dtype([(\"resource\", np.ubyte, 1)])\n",
      "C:\\Users\\wjmn\\Anaconda3\\envs\\bmedsc\\lib\\site-packages\\tensorboard\\compat\\tensorflow_stub\\dtypes.py:541: FutureWarning: Passing (type, 1) or '1type' as a synonym of type is deprecated; in a future version of numpy, it will be understood as (type, (1,)) / '(1,)type'.\n",
      "  _np_qint8 = np.dtype([(\"qint8\", np.int8, 1)])\n",
      "C:\\Users\\wjmn\\Anaconda3\\envs\\bmedsc\\lib\\site-packages\\tensorboard\\compat\\tensorflow_stub\\dtypes.py:542: FutureWarning: Passing (type, 1) or '1type' as a synonym of type is deprecated; in a future version of numpy, it will be understood as (type, (1,)) / '(1,)type'.\n",
      "  _np_quint8 = np.dtype([(\"quint8\", np.uint8, 1)])\n",
      "C:\\Users\\wjmn\\Anaconda3\\envs\\bmedsc\\lib\\site-packages\\tensorboard\\compat\\tensorflow_stub\\dtypes.py:543: FutureWarning: Passing (type, 1) or '1type' as a synonym of type is deprecated; in a future version of numpy, it will be understood as (type, (1,)) / '(1,)type'.\n",
      "  _np_qint16 = np.dtype([(\"qint16\", np.int16, 1)])\n",
      "C:\\Users\\wjmn\\Anaconda3\\envs\\bmedsc\\lib\\site-packages\\tensorboard\\compat\\tensorflow_stub\\dtypes.py:544: FutureWarning: Passing (type, 1) or '1type' as a synonym of type is deprecated; in a future version of numpy, it will be understood as (type, (1,)) / '(1,)type'.\n",
      "  _np_quint16 = np.dtype([(\"quint16\", np.uint16, 1)])\n",
      "C:\\Users\\wjmn\\Anaconda3\\envs\\bmedsc\\lib\\site-packages\\tensorboard\\compat\\tensorflow_stub\\dtypes.py:545: FutureWarning: Passing (type, 1) or '1type' as a synonym of type is deprecated; in a future version of numpy, it will be understood as (type, (1,)) / '(1,)type'.\n",
      "  _np_qint32 = np.dtype([(\"qint32\", np.int32, 1)])\n",
      "C:\\Users\\wjmn\\Anaconda3\\envs\\bmedsc\\lib\\site-packages\\tensorboard\\compat\\tensorflow_stub\\dtypes.py:550: FutureWarning: Passing (type, 1) or '1type' as a synonym of type is deprecated; in a future version of numpy, it will be understood as (type, (1,)) / '(1,)type'.\n",
      "  np_resource = np.dtype([(\"resource\", np.ubyte, 1)])\n"
     ]
    }
   ],
   "source": [
    "import tensorflow as tf\n",
    "import numpy as np\n",
    "from typing import List\n",
    "import pickle"
   ]
  },
  {
   "cell_type": "code",
   "execution_count": 2,
   "metadata": {},
   "outputs": [],
   "source": [
    "from grid import *"
   ]
  },
  {
   "cell_type": "code",
   "execution_count": 3,
   "metadata": {},
   "outputs": [
    {
     "name": "stderr",
     "output_type": "stream",
     "text": [
      "WARNING: Logging before flag parsing goes to stderr.\n",
      "W0801 14:43:56.942563  4536 hdf5_format.py:171] No training configuration found in save file: the model was *not* compiled. Compile it manually.\n"
     ]
    }
   ],
   "source": [
    "filler_filepath = \"../03-psychophysics/data/training-hole-filling/training-encoders/2019-07-18_13-57_encoder_48_48.h5\"\n",
    "filler = tf.keras.models.load_model(filler_filepath)"
   ]
  },
  {
   "cell_type": "code",
   "execution_count": 4,
   "metadata": {},
   "outputs": [
    {
     "name": "stderr",
     "output_type": "stream",
     "text": [
      "W0801 14:43:57.130024  4536 hdf5_format.py:171] No training configuration found in save file: the model was *not* compiled. Compile it manually.\n"
     ]
    }
   ],
   "source": [
    "encoder_filepath = \"./data/training-intermediate-data/training-encoders/2019-08-01_11-20_encoder_PolarGrid_10-10_48-48-half-random.h5\"\n",
    "encoder = tf.keras.models.load_model(encoder_filepath)"
   ]
  },
  {
   "cell_type": "code",
   "execution_count": 5,
   "metadata": {},
   "outputs": [],
   "source": [
    "grid_filepath = \"./data/training-intermediate-data/training-grids/2019-08-01_11-20_grid_PolarGrid_10-10_48-48-half-random.pkl\"\n",
    "\n",
    "with open(grid_filepath, 'rb') as infile:\n",
    "    grid = pickle.load(infile)"
   ]
  },
  {
   "cell_type": "code",
   "execution_count": 6,
   "metadata": {},
   "outputs": [],
   "source": [
    "def difference(rendered: np.ndarray, filled: np.ndarray) -> float:\n",
    "    \"\"\"\n",
    "    Given the rendered and filled image, return the sum of squared pixel-wise difference.\n",
    "    \"\"\"\n",
    "    \n",
    "    return np.sum((rendered - filled) ** 2) "
   ]
  },
  {
   "cell_type": "code",
   "execution_count": 7,
   "metadata": {},
   "outputs": [],
   "source": [
    "def binarise(encoding: np.ndarray, threshold: float) -> np.ndarray:\n",
    "    \"\"\"\n",
    "    Binarises an encoding at a given threshold. \n",
    "    \"\"\"\n",
    "    return np.where(encoding > threshold, 1.0, 0.0).astype(np.float32)"
   ]
  },
  {
   "cell_type": "code",
   "execution_count": 8,
   "metadata": {},
   "outputs": [],
   "source": [
    "def iterate_diffs(encoding: np.ndarray, grid: AbstractGrid) -> List[float]:\n",
    "    \"\"\"\n",
    "    Given an encoding and grid, iterates through 100 thresholds between 0 and 1 at 0.01 intervals. \n",
    "    \"\"\"\n",
    "    \n",
    "    original = render_tensor(grid, encoding)\n",
    "    filled = filler(tf.expand_dims(original, 0))\n",
    "    \n",
    "    diffs = []\n",
    "    \n",
    "    for threshold in np.linspace(0, 0.99, 100):\n",
    "        binarised = binarise(encoding, threshold)\n",
    "        rendered = render_tensor(grid, binarised)\n",
    "        diff = difference(rendered, filled)\n",
    "        diffs.append(diff)\n",
    "        \n",
    "    return diffs"
   ]
  },
  {
   "cell_type": "code",
   "execution_count": 9,
   "metadata": {},
   "outputs": [],
   "source": [
    "def find_best_thresholds(encoder: tf.keras.Model, grid: AbstractGrid, seed: tf.Tensor) -> List[float]:\n",
    "    \"\"\"\n",
    "    Given an encoder and a grid, find the best threshold for each digit for a given seed.\n",
    "    \"\"\"\n",
    "    \n",
    "    best_thresholds = []\n",
    "    best_threshold_diffs = []\n",
    "    \n",
    "    digits = np.array(list(range(10)))\n",
    "    seeds = tf.squeeze(np.array([seed for i in range(10)]))\n",
    "    \n",
    "    encodings = encoder((seeds, digits), training=False)\n",
    "    \n",
    "    for encoding in encodings:\n",
    "        diffs = iterate_diffs(encoding, grid)\n",
    "        lowest_diff = np.argmin(diffs)\n",
    "        best_threshold = 0.01 * lowest_diff\n",
    "        \n",
    "        best_threshold_diffs.append(lowest_diff)\n",
    "        best_thresholds.append(best_threshold)\n",
    "        \n",
    "    return best_thresholds, best_threshold_diffs"
   ]
  },
  {
   "cell_type": "code",
   "execution_count": 20,
   "metadata": {},
   "outputs": [],
   "source": [
    "def render_and_process(encoder: tf.keras.Model, seed: tf.Tensor, best_thresholds: List[float]) -> np.ndarray:\n",
    "    \"\"\"\n",
    "    Renders and post-processes all 10 digits and returns them. \n",
    "    \"\"\"\n",
    "    \n",
    "    digits = np.array(list(range(10)))\n",
    "    seeds = tf.squeeze(np.array([seed for i in range(10)]))\n",
    "    \n",
    "    encodings = encoder((seeds, digits))\n",
    "    \n",
    "    binarised = [binarise(encodings[digit], best_thresholds[digit]) for digit in range(10)]\n",
    "    rendered = list(map(lambda x: render_tensor(grid, x), binarised))\n",
    "    \n",
    "    return rendered"
   ]
  },
  {
   "cell_type": "code",
   "execution_count": 47,
   "metadata": {},
   "outputs": [],
   "source": [
    "SEED_SIZE = 32\n",
    "seed = tf.random.uniform((1, SEED_SIZE))"
   ]
  },
  {
   "cell_type": "code",
   "execution_count": 54,
   "metadata": {},
   "outputs": [],
   "source": [
    "best_thresholds, best_threshold_diffs = find_best_thresholds(encoder, grid, seed)"
   ]
  },
  {
   "cell_type": "code",
   "execution_count": 55,
   "metadata": {},
   "outputs": [
    {
     "data": {
      "text/plain": [
       "[0.25, 0.18, 0.16, 0.18, 0.17, 0.23, 0.15, 0.17, 0.4, 0.31]"
      ]
     },
     "execution_count": 55,
     "metadata": {},
     "output_type": "execute_result"
    }
   ],
   "source": [
    "best_thresholds"
   ]
  },
  {
   "cell_type": "code",
   "execution_count": 56,
   "metadata": {},
   "outputs": [
    {
     "data": {
      "text/plain": [
       "[25, 18, 16, 18, 17, 23, 15, 17, 40, 31]"
      ]
     },
     "execution_count": 56,
     "metadata": {},
     "output_type": "execute_result"
    }
   ],
   "source": [
    "best_threshold_diffs"
   ]
  },
  {
   "cell_type": "code",
   "execution_count": 57,
   "metadata": {},
   "outputs": [],
   "source": [
    "from matplotlib import pyplot as plt"
   ]
  },
  {
   "cell_type": "code",
   "execution_count": 58,
   "metadata": {},
   "outputs": [],
   "source": [
    "digit_renders = render_and_process(encoder, seed, best_thresholds)"
   ]
  },
  {
   "cell_type": "code",
   "execution_count": 59,
   "metadata": {},
   "outputs": [
    {
     "data": {
      "image/png": "[encoded data removed]",
      "text/plain": [
       "<Figure size 720x72 with 10 Axes>"
      ]
     },
     "metadata": {
      "needs_background": "light"
     },
     "output_type": "display_data"
    }
   ],
   "source": [
    "fig, axes = plt.subplots(1, 10, figsize=(10, 1))\n",
    "\n",
    "for digit in range(10):\n",
    "    axes[digit].imshow(digit_renders[digit], cmap='gray')\n",
    "    axes[digit].set_title(\"{}\".format(digit))\n",
    "    axes[digit].axis('off')\n",
    "    \n",
    "plt.suptitle(\"Rendered and Thresholded Digits\", y=1.3)\n",
    "plt.tight_layout()"
   ]
  },
  {
   "cell_type": "code",
   "execution_count": 36,
   "metadata": {},
   "outputs": [],
   "source": [
    "no_postprocess_encodings = encoder((tf.random.uniform((10, SEED_SIZE)), np.array([i for i in range(10)])))\n",
    "no_postprocess_renders = tf.map_fn(lambda x: render(grid, x.numpy()), no_postprocess_encodings)"
   ]
  },
  {
   "cell_type": "code",
   "execution_count": 46,
   "metadata": {},
   "outputs": [
    {
     "data": {
      "text/plain": [
       "<matplotlib.image.AxesImage at 0x19bc19ac400>"
      ]
     },
     "execution_count": 46,
     "metadata": {},
     "output_type": "execute_result"
    },
    {
     "data": {
      "image/png": "[encoded data removed]",
      "text/plain": [
       "<Figure size 432x288 with 1 Axes>"
      ]
     },
     "metadata": {
      "needs_background": "light"
     },
     "output_type": "display_data"
    }
   ],
   "source": [
    "plt.imshow(no_postprocess_renders[9], cmap='gray')"
   ]
  },
  {
   "cell_type": "code",
   "execution_count": null,
   "metadata": {},
   "outputs": [],
   "source": []
  }
 ],
 "metadata": {
  "kernelspec": {
   "display_name": "bmedsc",
   "language": "python",
   "name": "bmedsc"
  },
  "language_info": {
   "codemirror_mode": {
    "name": "ipython",
    "version": 3
   },
   "file_extension": ".py",
   "mimetype": "text/x-python",
   "name": "python",
   "nbconvert_exporter": "python",
   "pygments_lexer": "ipython3",
   "version": "3.7.3"
  }
 },
 "nbformat": 4,
 "nbformat_minor": 4
}
