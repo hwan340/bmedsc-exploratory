{
 "cells": [
  {
   "cell_type": "markdown",
   "metadata": {},
   "source": [
    "# Thresholding"
   ]
  },
  {
   "cell_type": "code",
   "execution_count": 32,
   "metadata": {},
   "outputs": [],
   "source": [
    "import tensorflow as tf\n",
    "import numpy as np\n",
    "from typing import List"
   ]
  },
  {
   "cell_type": "code",
   "execution_count": 3,
   "metadata": {},
   "outputs": [],
   "source": [
    "%run ../grid.py"
   ]
  },
  {
   "cell_type": "code",
   "execution_count": 8,
   "metadata": {},
   "outputs": [
    {
     "name": "stderr",
     "output_type": "stream",
     "text": [
      "W0801 11:43:03.353553  4004 hdf5_format.py:171] No training configuration found in save file: the model was *not* compiled. Compile it manually.\n"
     ]
    }
   ],
   "source": [
    "filler_filepath = \"../../03-psychophysics/data/training-hole-filling/training-encoders/2019-07-18_13-57_encoder_48_48.h5\"\n",
    "filler = tf.keras.models.load_model(filler_filepath)"
   ]
  },
  {
   "cell_type": "code",
   "execution_count": 9,
   "metadata": {},
   "outputs": [
    {
     "data": {
      "text/plain": [
       "<tensorflow.python.keras.engine.training.Model at 0x23ac3d187f0>"
      ]
     },
     "execution_count": 9,
     "metadata": {},
     "output_type": "execute_result"
    }
   ],
   "source": [
    "encoder_filepath = \"../\""
   ]
  },
  {
   "cell_type": "code",
   "execution_count": 15,
   "metadata": {},
   "outputs": [],
   "source": [
    "def difference(rendered: np.ndarray, filled: np.ndarray) -> float:\n",
    "    \"\"\"\n",
    "    Given the rendered and filled image, return the sum of squared pixel-wise difference.\n",
    "    \"\"\"\n",
    "    \n",
    "    return np.sum((rendered - filled) ** 2) "
   ]
  },
  {
   "cell_type": "code",
   "execution_count": 24,
   "metadata": {},
   "outputs": [],
   "source": [
    "def binarise(encoding: np.ndarray, threshold: float) -> np.ndarray:\n",
    "    \"\"\"\n",
    "    Binarises an encoding at a given threshold. \n",
    "    \"\"\"\n",
    "    return np.where(encoding > threshold, 1.0, 0.0).astype(np.float32)"
   ]
  },
  {
   "cell_type": "code",
   "execution_count": 33,
   "metadata": {},
   "outputs": [],
   "source": [
    "def iterate_diffs(encoding: np.ndarray, grid: AbstractGrid) -> List[float]:\n",
    "    \"\"\"\n",
    "    Given an encoding and grid, iterates through 100 thresholds between 0 and 1 at 0.01 intervals. \n",
    "    \"\"\"\n",
    "    \n",
    "    original = render(grid, encoding)\n",
    "    filled = filler(original)\n",
    "    \n",
    "    diffs = []\n",
    "    \n",
    "    for threshold in np.linspace(0, 0.99, 100):\n",
    "        binarised = binarise(encoding, threshold)\n",
    "        rendered = render(grid, binarised)\n",
    "        diff = difference(rendered, filled)\n",
    "        diffs.append(diff)\n",
    "        \n",
    "    return diffs"
   ]
  },
  {
   "cell_type": "code",
   "execution_count": 34,
   "metadata": {},
   "outputs": [
    {
     "data": {
      "text/plain": [
       "3"
      ]
     },
     "execution_count": 34,
     "metadata": {},
     "output_type": "execute_result"
    }
   ],
   "source": [
    "np.argmin([1, 2, 3, 0.5, 4])"
   ]
  },
  {
   "cell_type": "code",
   "execution_count": 35,
   "metadata": {},
   "outputs": [],
   "source": [
    "def find_best_threshold(encoder: tf.keras.Model, grid: AbstractGrid, seed: tf.Tensor) -> List[float]:\n",
    "    \"\"\"\n",
    "    Given an encoder and a grid, find the best threshold for each digit for a given seed.\n",
    "    \"\"\"\n",
    "    \n",
    "    best_thresholds = []\n",
    "    best_threshold_diffs = []\n",
    "    \n",
    "    for digit in range(10):\n",
    "        one_hot_digit = tf.one_hot(digit, depth=11)\n",
    "        encoding = encoder((seed, one_hot_digit))\n",
    "        diffs = iterate_diffs(encoding, grid)\n",
    "        lowest_diff = np.argmin(diffs)\n",
    "        best_threshold = 0.01 * lowest_diff\n",
    "        \n",
    "        best_threshold_diffs.append(lowest_diff)\n",
    "        best_thresholds.append(best_threshold)\n",
    "        \n",
    "    return best_thresholds"
   ]
  },
  {
   "cell_type": "code",
   "execution_count": 38,
   "metadata": {},
   "outputs": [],
   "source": [
    "def render_and_process(encoder: tf.keras.Model, digit: int, seed: tf.Tensor, best_thresholds: List[float]) -> np.ndarray:\n",
    "    \n",
    "    one_hot_digit = tf.one_hot(digit, depth=11)\n",
    "    encoding = encoder((seed, one_hot_digit))\n",
    "    binarised = binarise(encoding, best_thresholds[digit])\n",
    "    rendered = render(grid, encoding)\n",
    "    \n",
    "    return rendered"
   ]
  },
  {
   "cell_type": "code",
   "execution_count": null,
   "metadata": {},
   "outputs": [],
   "source": []
  }
 ],
 "metadata": {
  "kernelspec": {
   "display_name": "bmedsc",
   "language": "python",
   "name": "bmedsc"
  },
  "language_info": {
   "codemirror_mode": {
    "name": "ipython",
    "version": 3
   },
   "file_extension": ".py",
   "mimetype": "text/x-python",
   "name": "python",
   "nbconvert_exporter": "python",
   "pygments_lexer": "ipython3",
   "version": "3.7.3"
  }
 },
 "nbformat": 4,
 "nbformat_minor": 4
}
